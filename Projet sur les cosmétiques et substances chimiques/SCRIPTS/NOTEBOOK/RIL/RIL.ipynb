{
 "cells": [
  {
   "cell_type": "markdown",
   "id": "76c32a34-0314-4f47-ab22-5ea327a46595",
   "metadata": {},
   "source": [
    "# Reportable Ingredients List CLEAN"
   ]
  },
  {
   "cell_type": "code",
   "execution_count": 1,
   "id": "ed1c23c8-e069-4156-86b9-4d581d9518b1",
   "metadata": {
    "tags": []
   },
   "outputs": [],
   "source": [
    "# Importation des modules\n",
    "import pandas as pd\n",
    "import numpy as np"
   ]
  },
  {
   "cell_type": "code",
   "execution_count": 17,
   "id": "f974e416-3220-4f95-b32c-74340c60772e",
   "metadata": {
    "tags": []
   },
   "outputs": [],
   "source": [
    "# Importation de la donnée\n",
    "data = pd.read_excel(\"/Users/alelia/Desktop/Data/DATA SUITS/Soutenance/Skincare/DATA/CLEAN/1. Chemicals in cosmetics/Reportable_Ingredients_List.xlsx\", 'Reportable Ingredients List')"
   ]
  },
  {
   "cell_type": "code",
   "execution_count": 18,
   "id": "4b170be5-c847-4966-99ef-e9b0b5ff918d",
   "metadata": {
    "tags": []
   },
   "outputs": [
    {
     "data": {
      "text/html": [
       "<div>\n",
       "<style scoped>\n",
       "    .dataframe tbody tr th:only-of-type {\n",
       "        vertical-align: middle;\n",
       "    }\n",
       "\n",
       "    .dataframe tbody tr th {\n",
       "        vertical-align: top;\n",
       "    }\n",
       "\n",
       "    .dataframe thead th {\n",
       "        text-align: right;\n",
       "    }\n",
       "</style>\n",
       "<table border=\"1\" class=\"dataframe\">\n",
       "  <thead>\n",
       "    <tr style=\"text-align: right;\">\n",
       "      <th></th>\n",
       "      <th>Chemical Name</th>\n",
       "      <th>CAS RN</th>\n",
       "      <th>Synonyms</th>\n",
       "      <th>Hazard Traits</th>\n",
       "      <th>When to Report (Any, FF, FA)</th>\n",
       "    </tr>\n",
       "  </thead>\n",
       "  <tbody>\n",
       "    <tr>\n",
       "      <th>0</th>\n",
       "      <td>Diquat dibromide</td>\n",
       "      <td>85-00-7</td>\n",
       "      <td>NaN</td>\n",
       "      <td>Toxicity Undefined</td>\n",
       "      <td>FF</td>\n",
       "    </tr>\n",
       "    <tr>\n",
       "      <th>1</th>\n",
       "      <td>1-Chloro-4-nitrobenzene</td>\n",
       "      <td>100-00-5</td>\n",
       "      <td>4-Chloronitrobenzene</td>\n",
       "      <td>Carcinogenicity</td>\n",
       "      <td>Any</td>\n",
       "    </tr>\n",
       "    <tr>\n",
       "      <th>2</th>\n",
       "      <td>4-Nitrophenol</td>\n",
       "      <td>100-02-7</td>\n",
       "      <td>NaN</td>\n",
       "      <td>Dermatotoxicity; Environmental tox; Hazard Tra...</td>\n",
       "      <td>FF</td>\n",
       "    </tr>\n",
       "    <tr>\n",
       "      <th>3</th>\n",
       "      <td>para-Nitroanisole</td>\n",
       "      <td>100-17-4</td>\n",
       "      <td>NaN</td>\n",
       "      <td>Carcinogenicity</td>\n",
       "      <td>Any</td>\n",
       "    </tr>\n",
       "    <tr>\n",
       "      <th>4</th>\n",
       "      <td>p-Dinitrobenzene</td>\n",
       "      <td>100-25-4</td>\n",
       "      <td>NaN</td>\n",
       "      <td>Reproductive Toxicity</td>\n",
       "      <td>Any</td>\n",
       "    </tr>\n",
       "  </tbody>\n",
       "</table>\n",
       "</div>"
      ],
      "text/plain": [
       "             Chemical Name    CAS RN              Synonyms  \\\n",
       "0         Diquat dibromide   85-00-7                   NaN   \n",
       "1  1-Chloro-4-nitrobenzene  100-00-5  4-Chloronitrobenzene   \n",
       "2            4-Nitrophenol  100-02-7                   NaN   \n",
       "3        para-Nitroanisole  100-17-4                   NaN   \n",
       "4         p-Dinitrobenzene  100-25-4                   NaN   \n",
       "\n",
       "                                       Hazard Traits  \\\n",
       "0                                 Toxicity Undefined   \n",
       "1                                    Carcinogenicity   \n",
       "2  Dermatotoxicity; Environmental tox; Hazard Tra...   \n",
       "3                                    Carcinogenicity   \n",
       "4                              Reproductive Toxicity   \n",
       "\n",
       "  When to Report (Any, FF, FA)  \n",
       "0                           FF  \n",
       "1                          Any  \n",
       "2                           FF  \n",
       "3                          Any  \n",
       "4                          Any  "
      ]
     },
     "execution_count": 18,
     "metadata": {},
     "output_type": "execute_result"
    }
   ],
   "source": [
    "data.head()"
   ]
  },
  {
   "cell_type": "markdown",
   "id": "d9004ef8-5396-4372-8ce6-8013ec8abdba",
   "metadata": {},
   "source": [
    "Sur certaines lignes, plusieurs CAS sont présents. Le but est de faire une ligne un CAS afin de faciliter le merge des 3 fichiers : AGRITOX, substances préoccupantes et celui là Reportable Ingredients List (ril)."
   ]
  },
  {
   "cell_type": "code",
   "execution_count": 19,
   "id": "cbbcc633-6365-4c41-8de4-67b683374298",
   "metadata": {
    "tags": []
   },
   "outputs": [],
   "source": [
    "# Assurer que new_rows est une liste vide pour collecter les nouvelles lignes\n",
    "new_rows = []\n",
    "\n",
    "for index, row in data.iterrows():\n",
    "    if \"; \" in row[\"CAS RN\"]:\n",
    "        # Séparer le contenu de la colonne \"CAS #\" en deux parties\n",
    "        cas = row[\"CAS RN\"].split('; ')\n",
    "        \n",
    "        # Mettre à jour la première partie dans la ligne actuelle\n",
    "        data.at[index, \"CAS RN\"] = cas[0]\n",
    "        \n",
    "        # Créer une nouvelle ligne avec la ou les autres partie(s) du CAS\n",
    "        for i in range(len(cas)-1):\n",
    "            new_row = row.copy()  # Crée une copie de la ligne actuelle\n",
    "            new_row[\"CAS RN\"] = cas[i+1]  # Remplacer \"CAS #\" par la deuxième partie\n",
    "\n",
    "            # Ajouter cette nouvelle ligne à la liste new_rows\n",
    "            new_rows.append(new_row)\n",
    "\n",
    "# Si des nouvelles lignes ont été collectées, les ajouter au DataFrame\n",
    "if new_rows:\n",
    "    # Créer un DataFrame à partir des nouvelles lignes et les concaténer\n",
    "    data = pd.concat([data, pd.DataFrame(new_rows)], ignore_index=True)"
   ]
  },
  {
   "cell_type": "code",
   "execution_count": 20,
   "id": "2749e3da-aad2-45ca-9d7f-ddbb49797412",
   "metadata": {
    "tags": []
   },
   "outputs": [
    {
     "data": {
      "text/html": [
       "<div>\n",
       "<style scoped>\n",
       "    .dataframe tbody tr th:only-of-type {\n",
       "        vertical-align: middle;\n",
       "    }\n",
       "\n",
       "    .dataframe tbody tr th {\n",
       "        vertical-align: top;\n",
       "    }\n",
       "\n",
       "    .dataframe thead th {\n",
       "        text-align: right;\n",
       "    }\n",
       "</style>\n",
       "<table border=\"1\" class=\"dataframe\">\n",
       "  <thead>\n",
       "    <tr style=\"text-align: right;\">\n",
       "      <th></th>\n",
       "      <th>Chemical Name</th>\n",
       "      <th>CAS RN</th>\n",
       "      <th>Synonyms</th>\n",
       "      <th>Hazard Traits</th>\n",
       "      <th>When to Report (Any, FF, FA)</th>\n",
       "    </tr>\n",
       "  </thead>\n",
       "  <tbody>\n",
       "    <tr>\n",
       "      <th>0</th>\n",
       "      <td>Diquat dibromide</td>\n",
       "      <td>85-00-7</td>\n",
       "      <td>NaN</td>\n",
       "      <td>Toxicity Undefined</td>\n",
       "      <td>FF</td>\n",
       "    </tr>\n",
       "    <tr>\n",
       "      <th>1</th>\n",
       "      <td>1-Chloro-4-nitrobenzene</td>\n",
       "      <td>100-00-5</td>\n",
       "      <td>4-Chloronitrobenzene</td>\n",
       "      <td>Carcinogenicity</td>\n",
       "      <td>Any</td>\n",
       "    </tr>\n",
       "    <tr>\n",
       "      <th>2</th>\n",
       "      <td>4-Nitrophenol</td>\n",
       "      <td>100-02-7</td>\n",
       "      <td>NaN</td>\n",
       "      <td>Dermatotoxicity; Environmental tox; Hazard Tra...</td>\n",
       "      <td>FF</td>\n",
       "    </tr>\n",
       "    <tr>\n",
       "      <th>3</th>\n",
       "      <td>para-Nitroanisole</td>\n",
       "      <td>100-17-4</td>\n",
       "      <td>NaN</td>\n",
       "      <td>Carcinogenicity</td>\n",
       "      <td>Any</td>\n",
       "    </tr>\n",
       "    <tr>\n",
       "      <th>4</th>\n",
       "      <td>p-Dinitrobenzene</td>\n",
       "      <td>100-25-4</td>\n",
       "      <td>NaN</td>\n",
       "      <td>Reproductive Toxicity</td>\n",
       "      <td>Any</td>\n",
       "    </tr>\n",
       "  </tbody>\n",
       "</table>\n",
       "</div>"
      ],
      "text/plain": [
       "             Chemical Name    CAS RN              Synonyms  \\\n",
       "0         Diquat dibromide   85-00-7                   NaN   \n",
       "1  1-Chloro-4-nitrobenzene  100-00-5  4-Chloronitrobenzene   \n",
       "2            4-Nitrophenol  100-02-7                   NaN   \n",
       "3        para-Nitroanisole  100-17-4                   NaN   \n",
       "4         p-Dinitrobenzene  100-25-4                   NaN   \n",
       "\n",
       "                                       Hazard Traits  \\\n",
       "0                                 Toxicity Undefined   \n",
       "1                                    Carcinogenicity   \n",
       "2  Dermatotoxicity; Environmental tox; Hazard Tra...   \n",
       "3                                    Carcinogenicity   \n",
       "4                              Reproductive Toxicity   \n",
       "\n",
       "  When to Report (Any, FF, FA)  \n",
       "0                           FF  \n",
       "1                          Any  \n",
       "2                           FF  \n",
       "3                          Any  \n",
       "4                          Any  "
      ]
     },
     "execution_count": 20,
     "metadata": {},
     "output_type": "execute_result"
    }
   ],
   "source": [
    "data.head()"
   ]
  },
  {
   "cell_type": "code",
   "execution_count": 21,
   "id": "bb56fc90-1a43-4967-8858-98d1a483ec09",
   "metadata": {
    "tags": []
   },
   "outputs": [],
   "source": [
    "# Importation de la donnée\n",
    "data.to_excel(\"/Users/alelia/Desktop/Data/DATA SUITS/Soutenance/Skincare/DATA/CLEAN/1. Chemicals in cosmetics/Reportable Ingredients List/RIL.xlsx\")"
   ]
  },
  {
   "cell_type": "code",
   "execution_count": null,
   "id": "5d21c4ed-f37c-409c-b189-53f6d55c9a1a",
   "metadata": {},
   "outputs": [],
   "source": []
  }
 ],
 "metadata": {
  "kernelspec": {
   "display_name": "Python 3 (ipykernel)",
   "language": "python",
   "name": "python3"
  },
  "language_info": {
   "codemirror_mode": {
    "name": "ipython",
    "version": 3
   },
   "file_extension": ".py",
   "mimetype": "text/x-python",
   "name": "python",
   "nbconvert_exporter": "python",
   "pygments_lexer": "ipython3",
   "version": "3.11.3"
  }
 },
 "nbformat": 4,
 "nbformat_minor": 5
}
