{
 "cells": [
  {
   "cell_type": "markdown",
   "id": "14333657-6e00-43b7-8945-1ed9c2472a94",
   "metadata": {},
   "source": [
    "# WATCH-OUT BASE CLEANING"
   ]
  },
  {
   "cell_type": "markdown",
   "id": "713f2676-a7f2-43b8-ac9f-5643feb0a34f",
   "metadata": {
    "tags": []
   },
   "source": [
    "<div class=\"alert alert-success\">\n",
    "    <b>Premiers pas</b>\n",
    "</div>"
   ]
  },
  {
   "cell_type": "code",
   "execution_count": 14,
   "id": "268d641e-bbb3-4461-a7f9-ac022219fd12",
   "metadata": {
    "tags": []
   },
   "outputs": [],
   "source": [
    "# Importation des modules\n",
    "import pandas as pd\n",
    "import numpy as np"
   ]
  },
  {
   "cell_type": "code",
   "execution_count": 15,
   "id": "161002c8-8541-4559-acd1-fcacedbad11b",
   "metadata": {
    "tags": []
   },
   "outputs": [
    {
     "name": "stdout",
     "output_type": "stream",
     "text": [
      "/Users/alelia/Desktop/Data/DATA SUITS/Soutenance/Skincare/SCRIPTS/NOTEBOOK\n"
     ]
    }
   ],
   "source": [
    "# Trouver le chemin\n",
    "import os\n",
    "print(os.getcwd())"
   ]
  },
  {
   "cell_type": "code",
   "execution_count": 88,
   "id": "d7ba957d-7805-4d27-8d7c-303b08659265",
   "metadata": {
    "tags": []
   },
   "outputs": [],
   "source": [
    "# Importation de la donnée\n",
    "data = pd.read_excel(\"/Users/alelia/Desktop/Data/DATA SUITS/Soutenance/Skincare/DATA/CLEAN/1. Chemicals in cosmetics/Watch out base/Watch-out-2022.xlsx\")"
   ]
  },
  {
   "cell_type": "code",
   "execution_count": 89,
   "id": "acb9eaab-98c9-4fd0-8a6e-ed405a622a51",
   "metadata": {
    "tags": []
   },
   "outputs": [
    {
     "data": {
      "text/html": [
       "<div>\n",
       "<style scoped>\n",
       "    .dataframe tbody tr th:only-of-type {\n",
       "        vertical-align: middle;\n",
       "    }\n",
       "\n",
       "    .dataframe tbody tr th {\n",
       "        vertical-align: top;\n",
       "    }\n",
       "\n",
       "    .dataframe thead th {\n",
       "        text-align: right;\n",
       "    }\n",
       "</style>\n",
       "<table border=\"1\" class=\"dataframe\">\n",
       "  <thead>\n",
       "    <tr style=\"text-align: right;\">\n",
       "      <th></th>\n",
       "      <th>INCI Name of substance / Theme</th>\n",
       "      <th>CAS #</th>\n",
       "      <th>Action needed</th>\n",
       "      <th>Application date</th>\n",
       "      <th>More information</th>\n",
       "      <th>Categories</th>\n",
       "    </tr>\n",
       "  </thead>\n",
       "  <tbody>\n",
       "    <tr>\n",
       "      <th>0</th>\n",
       "      <td>Fumed silica (nano)</td>\n",
       "      <td>112945-52-5</td>\n",
       "      <td>The EU Commission is considering a potential O...</td>\n",
       "      <td>NaN</td>\n",
       "      <td>NaN</td>\n",
       "      <td>NaN</td>\n",
       "    </tr>\n",
       "    <tr>\n",
       "      <th>1</th>\n",
       "      <td>⚡ 2-Methoxymethyl-p-Phenylenedia­mine 2-Methox...</td>\n",
       "      <td>337906-36-2 337906-37-3</td>\n",
       "      <td>Permitted as (a) Hair dye sub­stance in oxida­...</td>\n",
       "      <td>NaN</td>\n",
       "      <td>NaN</td>\n",
       "      <td>NaN</td>\n",
       "    </tr>\n",
       "    <tr>\n",
       "      <th>2</th>\n",
       "      <td>‼️Melanotan 2</td>\n",
       "      <td>121062-08-6</td>\n",
       "      <td>Melanotan 2 (MT2) is not a cosmetic ingredient...</td>\n",
       "      <td>NaN</td>\n",
       "      <td>HPRA alert on dangerous Melanotan 2 in self-ta...</td>\n",
       "      <td>NaN</td>\n",
       "    </tr>\n",
       "    <tr>\n",
       "      <th>3</th>\n",
       "      <td>⚡ Salicylaldehyde</td>\n",
       "      <td>90-02-8</td>\n",
       "      <td>The presence of the substance shall be indicat...</td>\n",
       "      <td>NaN</td>\n",
       "      <td>NaN</td>\n",
       "      <td>fragrance allergens</td>\n",
       "    </tr>\n",
       "    <tr>\n",
       "      <th>4</th>\n",
       "      <td>⚡ Santalol</td>\n",
       "      <td>11031-45-1 / 115-71-9 / 77-42-9</td>\n",
       "      <td>The presence of the substance shall be indicat...</td>\n",
       "      <td>NaN</td>\n",
       "      <td>NaN</td>\n",
       "      <td>fragrance allergens</td>\n",
       "    </tr>\n",
       "  </tbody>\n",
       "</table>\n",
       "</div>"
      ],
      "text/plain": [
       "                      INCI Name of substance / Theme  \\\n",
       "0                                Fumed silica (nano)   \n",
       "1  ⚡ 2-Methoxymethyl-p-Phenylenedia­mine 2-Methox...   \n",
       "2                                      ‼️Melanotan 2   \n",
       "3                                  ⚡ Salicylaldehyde   \n",
       "4                                         ⚡ Santalol   \n",
       "\n",
       "                             CAS #  \\\n",
       "0                      112945-52-5   \n",
       "1          337906-36-2 337906-37-3   \n",
       "2                      121062-08-6   \n",
       "3                          90-02-8   \n",
       "4  11031-45-1 / 115-71-9 / 77-42-9   \n",
       "\n",
       "                                       Action needed Application date  \\\n",
       "0  The EU Commission is considering a potential O...              NaN   \n",
       "1  Permitted as (a) Hair dye sub­stance in oxida­...              NaN   \n",
       "2  Melanotan 2 (MT2) is not a cosmetic ingredient...              NaN   \n",
       "3  The presence of the substance shall be indicat...              NaN   \n",
       "4  The presence of the substance shall be indicat...              NaN   \n",
       "\n",
       "                                    More information           Categories  \n",
       "0                                                NaN                  NaN  \n",
       "1                                                NaN                  NaN  \n",
       "2  HPRA alert on dangerous Melanotan 2 in self-ta...                  NaN  \n",
       "3                                                NaN  fragrance allergens  \n",
       "4                                                NaN  fragrance allergens  "
      ]
     },
     "execution_count": 89,
     "metadata": {},
     "output_type": "execute_result"
    }
   ],
   "source": [
    "# Visualisation de la donnée\n",
    "data.head()"
   ]
  },
  {
   "cell_type": "markdown",
   "id": "a97ce235-f36b-44d2-9bfc-04fc3705d147",
   "metadata": {},
   "source": [
    "### La base de données indique :\n",
    "\n",
    "- INCI (International Nomenclature of Cosmetic Ingredients), le nom de la substance\n",
    "- CAS, un code numérique qui permet d'identifier la substance\n",
    "- Action nécessaire, où vous pouvez lire plus d'informations sur la restriction ou l'interdiction ainsi que sur ce que vous devez faire en tant que fabricant.\n",
    "- Date d'application de l'interdiction ou de la restriction\n",
    "- Informations complémentaires\n",
    "- Catégorie de la substance, qui peut être une substance CMR, un perturbateur endocrinien potentiel, un ingrédient de parfum, un filtre UV..."
   ]
  },
  {
   "cell_type": "markdown",
   "id": "cfe2965c-8802-4dbe-9ba4-2b12ff0b6baf",
   "metadata": {},
   "source": [
    "Dans la première colonne, on peut donc apercevoir le nom INCI, ainsi qu'un signe pour indiquer si la substance est bannie ou restreinte. Pour plus de clareté, il faut donc rajouter une colonne Statut pour simplifier nos analyses."
   ]
  },
  {
   "cell_type": "code",
   "execution_count": 90,
   "id": "e817adba-8254-4521-a855-bb4fe8de5312",
   "metadata": {
    "tags": []
   },
   "outputs": [],
   "source": [
    "data[\"Status\"] = data[\"INCI Name of substance / Theme\"].apply(lambda x: \"Restricted\" if \"⚡\" in x \n",
    "                                                              else \"Banned\" if \"‼️\" in x \n",
    "                                                              else \"On hold\")"
   ]
  },
  {
   "cell_type": "code",
   "execution_count": 91,
   "id": "1c9b624d-3bee-461a-b347-db90047d4a16",
   "metadata": {
    "tags": []
   },
   "outputs": [
    {
     "data": {
      "text/html": [
       "<div>\n",
       "<style scoped>\n",
       "    .dataframe tbody tr th:only-of-type {\n",
       "        vertical-align: middle;\n",
       "    }\n",
       "\n",
       "    .dataframe tbody tr th {\n",
       "        vertical-align: top;\n",
       "    }\n",
       "\n",
       "    .dataframe thead th {\n",
       "        text-align: right;\n",
       "    }\n",
       "</style>\n",
       "<table border=\"1\" class=\"dataframe\">\n",
       "  <thead>\n",
       "    <tr style=\"text-align: right;\">\n",
       "      <th></th>\n",
       "      <th>INCI Name of substance / Theme</th>\n",
       "      <th>CAS #</th>\n",
       "      <th>Action needed</th>\n",
       "      <th>Application date</th>\n",
       "      <th>More information</th>\n",
       "      <th>Categories</th>\n",
       "      <th>Status</th>\n",
       "    </tr>\n",
       "  </thead>\n",
       "  <tbody>\n",
       "    <tr>\n",
       "      <th>0</th>\n",
       "      <td>Fumed silica (nano)</td>\n",
       "      <td>112945-52-5</td>\n",
       "      <td>The EU Commission is considering a potential O...</td>\n",
       "      <td>NaN</td>\n",
       "      <td>NaN</td>\n",
       "      <td>NaN</td>\n",
       "      <td>On hold</td>\n",
       "    </tr>\n",
       "    <tr>\n",
       "      <th>1</th>\n",
       "      <td>⚡ 2-Methoxymethyl-p-Phenylenedia­mine 2-Methox...</td>\n",
       "      <td>337906-36-2 337906-37-3</td>\n",
       "      <td>Permitted as (a) Hair dye sub­stance in oxida­...</td>\n",
       "      <td>NaN</td>\n",
       "      <td>NaN</td>\n",
       "      <td>NaN</td>\n",
       "      <td>Restricted</td>\n",
       "    </tr>\n",
       "    <tr>\n",
       "      <th>2</th>\n",
       "      <td>‼️Melanotan 2</td>\n",
       "      <td>121062-08-6</td>\n",
       "      <td>Melanotan 2 (MT2) is not a cosmetic ingredient...</td>\n",
       "      <td>NaN</td>\n",
       "      <td>HPRA alert on dangerous Melanotan 2 in self-ta...</td>\n",
       "      <td>NaN</td>\n",
       "      <td>Banned</td>\n",
       "    </tr>\n",
       "    <tr>\n",
       "      <th>3</th>\n",
       "      <td>⚡ Salicylaldehyde</td>\n",
       "      <td>90-02-8</td>\n",
       "      <td>The presence of the substance shall be indicat...</td>\n",
       "      <td>NaN</td>\n",
       "      <td>NaN</td>\n",
       "      <td>fragrance allergens</td>\n",
       "      <td>Restricted</td>\n",
       "    </tr>\n",
       "    <tr>\n",
       "      <th>4</th>\n",
       "      <td>⚡ Santalol</td>\n",
       "      <td>11031-45-1 / 115-71-9 / 77-42-9</td>\n",
       "      <td>The presence of the substance shall be indicat...</td>\n",
       "      <td>NaN</td>\n",
       "      <td>NaN</td>\n",
       "      <td>fragrance allergens</td>\n",
       "      <td>Restricted</td>\n",
       "    </tr>\n",
       "  </tbody>\n",
       "</table>\n",
       "</div>"
      ],
      "text/plain": [
       "                      INCI Name of substance / Theme  \\\n",
       "0                                Fumed silica (nano)   \n",
       "1  ⚡ 2-Methoxymethyl-p-Phenylenedia­mine 2-Methox...   \n",
       "2                                      ‼️Melanotan 2   \n",
       "3                                  ⚡ Salicylaldehyde   \n",
       "4                                         ⚡ Santalol   \n",
       "\n",
       "                             CAS #  \\\n",
       "0                      112945-52-5   \n",
       "1          337906-36-2 337906-37-3   \n",
       "2                      121062-08-6   \n",
       "3                          90-02-8   \n",
       "4  11031-45-1 / 115-71-9 / 77-42-9   \n",
       "\n",
       "                                       Action needed Application date  \\\n",
       "0  The EU Commission is considering a potential O...              NaN   \n",
       "1  Permitted as (a) Hair dye sub­stance in oxida­...              NaN   \n",
       "2  Melanotan 2 (MT2) is not a cosmetic ingredient...              NaN   \n",
       "3  The presence of the substance shall be indicat...              NaN   \n",
       "4  The presence of the substance shall be indicat...              NaN   \n",
       "\n",
       "                                    More information           Categories  \\\n",
       "0                                                NaN                  NaN   \n",
       "1                                                NaN                  NaN   \n",
       "2  HPRA alert on dangerous Melanotan 2 in self-ta...                  NaN   \n",
       "3                                                NaN  fragrance allergens   \n",
       "4                                                NaN  fragrance allergens   \n",
       "\n",
       "       Status  \n",
       "0     On hold  \n",
       "1  Restricted  \n",
       "2      Banned  \n",
       "3  Restricted  \n",
       "4  Restricted  "
      ]
     },
     "execution_count": 91,
     "metadata": {},
     "output_type": "execute_result"
    }
   ],
   "source": [
    "data.head()"
   ]
  },
  {
   "cell_type": "markdown",
   "id": "fdf19907-b8a8-43e1-bea1-ef99dcb344e8",
   "metadata": {},
   "source": [
    "Il n'est dorénavant plus nécessaire de garder ces signes \"⚡\" / \"!!\". Enlevons-les."
   ]
  },
  {
   "cell_type": "code",
   "execution_count": 92,
   "id": "30243d43-4113-47f3-9b81-6a6d2ac5ddf2",
   "metadata": {
    "tags": []
   },
   "outputs": [],
   "source": [
    "data[\"INCI Name of substance / Theme\"] = [i.replace(\"⚡ \", \"\").replace(\"‼️\", \"\") for i in data[\"INCI Name of substance / Theme\"]]"
   ]
  },
  {
   "cell_type": "code",
   "execution_count": 93,
   "id": "5d457000-f1b8-4be9-a860-031f5a66f9b1",
   "metadata": {
    "tags": []
   },
   "outputs": [
    {
     "data": {
      "text/html": [
       "<div>\n",
       "<style scoped>\n",
       "    .dataframe tbody tr th:only-of-type {\n",
       "        vertical-align: middle;\n",
       "    }\n",
       "\n",
       "    .dataframe tbody tr th {\n",
       "        vertical-align: top;\n",
       "    }\n",
       "\n",
       "    .dataframe thead th {\n",
       "        text-align: right;\n",
       "    }\n",
       "</style>\n",
       "<table border=\"1\" class=\"dataframe\">\n",
       "  <thead>\n",
       "    <tr style=\"text-align: right;\">\n",
       "      <th></th>\n",
       "      <th>INCI Name of substance / Theme</th>\n",
       "      <th>CAS #</th>\n",
       "      <th>Action needed</th>\n",
       "      <th>Application date</th>\n",
       "      <th>More information</th>\n",
       "      <th>Categories</th>\n",
       "      <th>Status</th>\n",
       "    </tr>\n",
       "  </thead>\n",
       "  <tbody>\n",
       "    <tr>\n",
       "      <th>0</th>\n",
       "      <td>Fumed silica (nano)</td>\n",
       "      <td>112945-52-5</td>\n",
       "      <td>The EU Commission is considering a potential O...</td>\n",
       "      <td>NaN</td>\n",
       "      <td>NaN</td>\n",
       "      <td>NaN</td>\n",
       "      <td>On hold</td>\n",
       "    </tr>\n",
       "    <tr>\n",
       "      <th>1</th>\n",
       "      <td>2-Methoxymethyl-p-Phenylenedia­mine 2-Methoxym...</td>\n",
       "      <td>337906-36-2 337906-37-3</td>\n",
       "      <td>Permitted as (a) Hair dye sub­stance in oxida­...</td>\n",
       "      <td>NaN</td>\n",
       "      <td>NaN</td>\n",
       "      <td>NaN</td>\n",
       "      <td>Restricted</td>\n",
       "    </tr>\n",
       "    <tr>\n",
       "      <th>2</th>\n",
       "      <td>Melanotan 2</td>\n",
       "      <td>121062-08-6</td>\n",
       "      <td>Melanotan 2 (MT2) is not a cosmetic ingredient...</td>\n",
       "      <td>NaN</td>\n",
       "      <td>HPRA alert on dangerous Melanotan 2 in self-ta...</td>\n",
       "      <td>NaN</td>\n",
       "      <td>Banned</td>\n",
       "    </tr>\n",
       "    <tr>\n",
       "      <th>3</th>\n",
       "      <td>Salicylaldehyde</td>\n",
       "      <td>90-02-8</td>\n",
       "      <td>The presence of the substance shall be indicat...</td>\n",
       "      <td>NaN</td>\n",
       "      <td>NaN</td>\n",
       "      <td>fragrance allergens</td>\n",
       "      <td>Restricted</td>\n",
       "    </tr>\n",
       "    <tr>\n",
       "      <th>4</th>\n",
       "      <td>Santalol</td>\n",
       "      <td>11031-45-1 / 115-71-9 / 77-42-9</td>\n",
       "      <td>The presence of the substance shall be indicat...</td>\n",
       "      <td>NaN</td>\n",
       "      <td>NaN</td>\n",
       "      <td>fragrance allergens</td>\n",
       "      <td>Restricted</td>\n",
       "    </tr>\n",
       "  </tbody>\n",
       "</table>\n",
       "</div>"
      ],
      "text/plain": [
       "                      INCI Name of substance / Theme  \\\n",
       "0                                Fumed silica (nano)   \n",
       "1  2-Methoxymethyl-p-Phenylenedia­mine 2-Methoxym...   \n",
       "2                                        Melanotan 2   \n",
       "3                                    Salicylaldehyde   \n",
       "4                                           Santalol   \n",
       "\n",
       "                             CAS #  \\\n",
       "0                      112945-52-5   \n",
       "1          337906-36-2 337906-37-3   \n",
       "2                      121062-08-6   \n",
       "3                          90-02-8   \n",
       "4  11031-45-1 / 115-71-9 / 77-42-9   \n",
       "\n",
       "                                       Action needed Application date  \\\n",
       "0  The EU Commission is considering a potential O...              NaN   \n",
       "1  Permitted as (a) Hair dye sub­stance in oxida­...              NaN   \n",
       "2  Melanotan 2 (MT2) is not a cosmetic ingredient...              NaN   \n",
       "3  The presence of the substance shall be indicat...              NaN   \n",
       "4  The presence of the substance shall be indicat...              NaN   \n",
       "\n",
       "                                    More information           Categories  \\\n",
       "0                                                NaN                  NaN   \n",
       "1                                                NaN                  NaN   \n",
       "2  HPRA alert on dangerous Melanotan 2 in self-ta...                  NaN   \n",
       "3                                                NaN  fragrance allergens   \n",
       "4                                                NaN  fragrance allergens   \n",
       "\n",
       "       Status  \n",
       "0     On hold  \n",
       "1  Restricted  \n",
       "2      Banned  \n",
       "3  Restricted  \n",
       "4  Restricted  "
      ]
     },
     "execution_count": 93,
     "metadata": {},
     "output_type": "execute_result"
    }
   ],
   "source": [
    "data.head()"
   ]
  },
  {
   "cell_type": "code",
   "execution_count": 94,
   "id": "b0f68a05-014b-4a30-9c49-846bd056ee34",
   "metadata": {
    "tags": []
   },
   "outputs": [],
   "source": [
    "# Je change l'odre des colonnes.\n",
    "data = data[['Status', 'INCI Name of substance / Theme', 'CAS #', 'Action needed',\n",
    "       'Application date', 'More information', 'Categories']]"
   ]
  },
  {
   "cell_type": "markdown",
   "id": "5ef96d16-1fdc-41cf-ade0-c57a58734a0b",
   "metadata": {
    "tags": []
   },
   "source": [
    "<div class=\"alert alert-success\">\n",
    "    <b>Description des données</b>\n",
    "</div>"
   ]
  },
  {
   "cell_type": "code",
   "execution_count": 95,
   "id": "b68073be-3e03-451e-87e4-b7258364efeb",
   "metadata": {
    "tags": []
   },
   "outputs": [
    {
     "data": {
      "text/plain": [
       "(331, 7)"
      ]
     },
     "execution_count": 95,
     "metadata": {},
     "output_type": "execute_result"
    }
   ],
   "source": [
    "data.shape"
   ]
  },
  {
   "cell_type": "code",
   "execution_count": 96,
   "id": "c6fbc922-4784-4030-8f30-954a6fcc4644",
   "metadata": {
    "tags": []
   },
   "outputs": [
    {
     "name": "stdout",
     "output_type": "stream",
     "text": [
      "<class 'pandas.core.frame.DataFrame'>\n",
      "RangeIndex: 331 entries, 0 to 330\n",
      "Data columns (total 7 columns):\n",
      " #   Column                          Non-Null Count  Dtype \n",
      "---  ------                          --------------  ----- \n",
      " 0   Status                          331 non-null    object\n",
      " 1   INCI Name of substance / Theme  331 non-null    object\n",
      " 2   CAS #                           309 non-null    object\n",
      " 3   Action needed                   331 non-null    object\n",
      " 4   Application date                281 non-null    object\n",
      " 5   More information                174 non-null    object\n",
      " 6   Categories                      126 non-null    object\n",
      "dtypes: object(7)\n",
      "memory usage: 18.2+ KB\n"
     ]
    }
   ],
   "source": [
    "data.info()"
   ]
  },
  {
   "cell_type": "code",
   "execution_count": 97,
   "id": "176c7e53-9cb6-4b6c-a51b-dc1eeee48903",
   "metadata": {
    "tags": []
   },
   "outputs": [
    {
     "data": {
      "text/plain": [
       "Status                              0\n",
       "INCI Name of substance / Theme      0\n",
       "CAS #                              22\n",
       "Action needed                       0\n",
       "Application date                   50\n",
       "More information                  157\n",
       "Categories                        205\n",
       "dtype: int64"
      ]
     },
     "execution_count": 97,
     "metadata": {},
     "output_type": "execute_result"
    }
   ],
   "source": [
    "data.isnull().sum()"
   ]
  },
  {
   "cell_type": "markdown",
   "id": "baeeee9b-88c7-4a2b-848e-9dde457ddbfc",
   "metadata": {},
   "source": [
    "Pour certaines colonnes, il y a un manque de données conséquantes. \n",
    "- CAS : Il manque 6% des données, ce qui va encore.\n",
    "\n",
    "La question est : Est-il nécessaire de garder ces lignes si nous ne pouvons plus identifier le CAS ? Nous répondrons à cette question plus tardivement.\n",
    "- Application date : Il manque 15% des dates d'applications de restriction ou d'interdiction. La question est de savoir si elles concernent surtout les \"On hold\". Mais à première vue, on dirait que non.\n",
    "- More information : Près de 47 % des données sont manquantes. En dehors du fait que cette colonne présente peu d'intérêt à ce stade, elle pourrait cependant devenir utile si l'on envisage d'appliquer des techniques de NLP. Mais cela reste peu probable étant donné que le traitement du langage naturel ne fait pas partie des objectifs principaux de cette analyse. Par conséquent, il est peu pertinent de s'attarder sur l'imputation ou la correction de ces données manquantes. Nous validerons cela par la suite.\n",
    "- Categories : Il manque près de 62% des données. A ce stade, il vaut mieux abandonner cette colonne. Il vaudrait mieux compter sur la liste des ingrédients à déclarer du CDPH à l'aide d'une colonne : Traits de danger."
   ]
  },
  {
   "cell_type": "code",
   "execution_count": null,
   "id": "ecf71e57-8965-4d2e-9ad1-0ecefba7dc81",
   "metadata": {},
   "outputs": [],
   "source": []
  },
  {
   "cell_type": "code",
   "execution_count": null,
   "id": "f832a1b3-4e47-46a7-9e60-e608e7f2b0ec",
   "metadata": {},
   "outputs": [],
   "source": []
  }
 ],
 "metadata": {
  "kernelspec": {
   "display_name": "Python 3 (ipykernel)",
   "language": "python",
   "name": "python3"
  },
  "language_info": {
   "codemirror_mode": {
    "name": "ipython",
    "version": 3
   },
   "file_extension": ".py",
   "mimetype": "text/x-python",
   "name": "python",
   "nbconvert_exporter": "python",
   "pygments_lexer": "ipython3",
   "version": "3.11.3"
  }
 },
 "nbformat": 4,
 "nbformat_minor": 5
}
