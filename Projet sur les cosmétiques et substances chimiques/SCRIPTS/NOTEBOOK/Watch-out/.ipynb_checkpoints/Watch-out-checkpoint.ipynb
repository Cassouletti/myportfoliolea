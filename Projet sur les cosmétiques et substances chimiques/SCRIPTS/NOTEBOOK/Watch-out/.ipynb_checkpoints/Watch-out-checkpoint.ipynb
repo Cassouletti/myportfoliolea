{
 "cells": [
  {
   "cell_type": "markdown",
   "id": "14333657-6e00-43b7-8945-1ed9c2472a94",
   "metadata": {},
   "source": [
    "# WATCH-OUT CLEANING"
   ]
  },
  {
   "cell_type": "markdown",
   "id": "713f2676-a7f2-43b8-ac9f-5643feb0a34f",
   "metadata": {
    "tags": []
   },
   "source": [
    "<div class=\"alert alert-success\">\n",
    "    <b>Premiers pas</b>\n",
    "</div>"
   ]
  },
  {
   "cell_type": "code",
   "execution_count": 1,
   "id": "268d641e-bbb3-4461-a7f9-ac022219fd12",
   "metadata": {
    "tags": []
   },
   "outputs": [],
   "source": [
    "# Importation des modules\n",
    "import pandas as pd\n",
    "import numpy as np"
   ]
  },
  {
   "cell_type": "code",
   "execution_count": 2,
   "id": "161002c8-8541-4559-acd1-fcacedbad11b",
   "metadata": {
    "tags": []
   },
   "outputs": [
    {
     "name": "stdout",
     "output_type": "stream",
     "text": [
      "/Users/alelia/Desktop/Data/DATA SUITS/Soutenance/Skincare/SCRIPTS/NOTEBOOK/Watch-out\n"
     ]
    }
   ],
   "source": [
    "# Trouver le chemin\n",
    "import os\n",
    "print(os.getcwd())"
   ]
  },
  {
   "cell_type": "code",
   "execution_count": null,
   "id": "17fc024f-7b65-4ac2-a554-03053ce45206",
   "metadata": {},
   "outputs": [],
   "source": [
    "from pathlib import Path\n",
    "\n",
    "# Définir le chemin de base à partir du dossier courant (chemin absolu de la racine du projet)\n",
    "base_path = Path(\"/Users/alelia/Desktop/Data/DATA SUITS/Soutenance/Skincare\")\n",
    "\n",
    "# Construire le chemin relatif à partir du répertoire du projet\n",
    "data_path = base_path / 'DATA' / 'RAW' / '1. Chemicals in cosmetics' / 'Watch out base' / 'Watch-out-2022.xlsx'\n",
    "\n",
    "# Importation de la donnée\n",
    "data = pd.read_excel(data_path)"
   ]
  },
  {
   "cell_type": "code",
   "execution_count": 19,
   "id": "acb9eaab-98c9-4fd0-8a6e-ed405a622a51",
   "metadata": {
    "tags": []
   },
   "outputs": [
    {
     "data": {
      "text/html": [
       "<div>\n",
       "<style scoped>\n",
       "    .dataframe tbody tr th:only-of-type {\n",
       "        vertical-align: middle;\n",
       "    }\n",
       "\n",
       "    .dataframe tbody tr th {\n",
       "        vertical-align: top;\n",
       "    }\n",
       "\n",
       "    .dataframe thead th {\n",
       "        text-align: right;\n",
       "    }\n",
       "</style>\n",
       "<table border=\"1\" class=\"dataframe\">\n",
       "  <thead>\n",
       "    <tr style=\"text-align: right;\">\n",
       "      <th></th>\n",
       "      <th>INCI Name of substance / Theme</th>\n",
       "      <th>CAS #</th>\n",
       "      <th>Action needed</th>\n",
       "      <th>Application date</th>\n",
       "      <th>More information</th>\n",
       "      <th>Categories</th>\n",
       "    </tr>\n",
       "  </thead>\n",
       "  <tbody>\n",
       "    <tr>\n",
       "      <th>0</th>\n",
       "      <td>Fumed silica (nano)</td>\n",
       "      <td>112945-52-5</td>\n",
       "      <td>The EU Commission is considering a potential O...</td>\n",
       "      <td>NaN</td>\n",
       "      <td>NaN</td>\n",
       "      <td>NaN</td>\n",
       "    </tr>\n",
       "    <tr>\n",
       "      <th>1</th>\n",
       "      <td>⚡ 2-Methoxymethyl-p-Phenylenedia­mine 2-Methox...</td>\n",
       "      <td>337906-36-2 337906-37-3</td>\n",
       "      <td>Permitted as (a) Hair dye sub­stance in oxida­...</td>\n",
       "      <td>NaN</td>\n",
       "      <td>NaN</td>\n",
       "      <td>NaN</td>\n",
       "    </tr>\n",
       "    <tr>\n",
       "      <th>2</th>\n",
       "      <td>‼️Melanotan 2</td>\n",
       "      <td>121062-08-6</td>\n",
       "      <td>Melanotan 2 (MT2) is not a cosmetic ingredient...</td>\n",
       "      <td>NaN</td>\n",
       "      <td>HPRA alert on dangerous Melanotan 2 in self-ta...</td>\n",
       "      <td>NaN</td>\n",
       "    </tr>\n",
       "    <tr>\n",
       "      <th>3</th>\n",
       "      <td>⚡ Salicylaldehyde</td>\n",
       "      <td>90-02-8</td>\n",
       "      <td>The presence of the substance shall be indicat...</td>\n",
       "      <td>NaN</td>\n",
       "      <td>NaN</td>\n",
       "      <td>fragrance allergens</td>\n",
       "    </tr>\n",
       "    <tr>\n",
       "      <th>4</th>\n",
       "      <td>⚡ Santalol</td>\n",
       "      <td>11031-45-1 / 115-71-9 / 77-42-9</td>\n",
       "      <td>The presence of the substance shall be indicat...</td>\n",
       "      <td>NaN</td>\n",
       "      <td>NaN</td>\n",
       "      <td>fragrance allergens</td>\n",
       "    </tr>\n",
       "  </tbody>\n",
       "</table>\n",
       "</div>"
      ],
      "text/plain": [
       "                      INCI Name of substance / Theme  \\\n",
       "0                                Fumed silica (nano)   \n",
       "1  ⚡ 2-Methoxymethyl-p-Phenylenedia­mine 2-Methox...   \n",
       "2                                      ‼️Melanotan 2   \n",
       "3                                  ⚡ Salicylaldehyde   \n",
       "4                                         ⚡ Santalol   \n",
       "\n",
       "                             CAS #  \\\n",
       "0                      112945-52-5   \n",
       "1          337906-36-2 337906-37-3   \n",
       "2                      121062-08-6   \n",
       "3                          90-02-8   \n",
       "4  11031-45-1 / 115-71-9 / 77-42-9   \n",
       "\n",
       "                                       Action needed Application date  \\\n",
       "0  The EU Commission is considering a potential O...              NaN   \n",
       "1  Permitted as (a) Hair dye sub­stance in oxida­...              NaN   \n",
       "2  Melanotan 2 (MT2) is not a cosmetic ingredient...              NaN   \n",
       "3  The presence of the substance shall be indicat...              NaN   \n",
       "4  The presence of the substance shall be indicat...              NaN   \n",
       "\n",
       "                                    More information           Categories  \n",
       "0                                                NaN                  NaN  \n",
       "1                                                NaN                  NaN  \n",
       "2  HPRA alert on dangerous Melanotan 2 in self-ta...                  NaN  \n",
       "3                                                NaN  fragrance allergens  \n",
       "4                                                NaN  fragrance allergens  "
      ]
     },
     "execution_count": 19,
     "metadata": {},
     "output_type": "execute_result"
    }
   ],
   "source": [
    "# Visualisation de la donnée\n",
    "data.head()"
   ]
  },
  {
   "cell_type": "markdown",
   "id": "ae3e4c57-8bbe-4150-8c51-cebcca5b825b",
   "metadata": {},
   "source": [
    "<div class=\"alert alert-success\">\n",
    "    <b>Colonne Statut</b>\n",
    "</div>"
   ]
  },
  {
   "cell_type": "markdown",
   "id": "a97ce235-f36b-44d2-9bfc-04fc3705d147",
   "metadata": {},
   "source": [
    "### La base de données indique :\n",
    "\n",
    "- INCI (International Nomenclature of Cosmetic Ingredients), le nom de la substance\n",
    "- CAS, un code numérique qui permet d'identifier la substance\n",
    "- Action nécessaire, où vous pouvez lire plus d'informations sur la restriction ou l'interdiction ainsi que sur ce que vous devez faire en tant que fabricant.\n",
    "- Date d'application de l'interdiction ou de la restriction\n",
    "- Informations complémentaires\n",
    "- Catégorie de la substance, qui peut être une substance CMR, un perturbateur endocrinien potentiel, un ingrédient de parfum, un filtre UV..."
   ]
  },
  {
   "cell_type": "markdown",
   "id": "cfe2965c-8802-4dbe-9ba4-2b12ff0b6baf",
   "metadata": {},
   "source": [
    "Dans la première colonne, on peut donc apercevoir le nom INCI, ainsi qu'un signe pour indiquer si la substance est bannie ou restreinte. Pour plus de clareté, il faut donc rajouter une colonne Statut pour simplifier nos analyses."
   ]
  },
  {
   "cell_type": "code",
   "execution_count": 20,
   "id": "e817adba-8254-4521-a855-bb4fe8de5312",
   "metadata": {
    "tags": []
   },
   "outputs": [],
   "source": [
    "data[\"Status\"] = data[\"INCI Name of substance / Theme\"].apply(lambda x: \"Restricted\" if \"⚡\" in x \n",
    "                                                              else \"Banned\" if \"‼️\" in x \n",
    "                                                              else \"On hold\")"
   ]
  },
  {
   "cell_type": "code",
   "execution_count": 21,
   "id": "1c9b624d-3bee-461a-b347-db90047d4a16",
   "metadata": {
    "tags": []
   },
   "outputs": [
    {
     "data": {
      "text/html": [
       "<div>\n",
       "<style scoped>\n",
       "    .dataframe tbody tr th:only-of-type {\n",
       "        vertical-align: middle;\n",
       "    }\n",
       "\n",
       "    .dataframe tbody tr th {\n",
       "        vertical-align: top;\n",
       "    }\n",
       "\n",
       "    .dataframe thead th {\n",
       "        text-align: right;\n",
       "    }\n",
       "</style>\n",
       "<table border=\"1\" class=\"dataframe\">\n",
       "  <thead>\n",
       "    <tr style=\"text-align: right;\">\n",
       "      <th></th>\n",
       "      <th>INCI Name of substance / Theme</th>\n",
       "      <th>CAS #</th>\n",
       "      <th>Action needed</th>\n",
       "      <th>Application date</th>\n",
       "      <th>More information</th>\n",
       "      <th>Categories</th>\n",
       "      <th>Status</th>\n",
       "    </tr>\n",
       "  </thead>\n",
       "  <tbody>\n",
       "    <tr>\n",
       "      <th>0</th>\n",
       "      <td>Fumed silica (nano)</td>\n",
       "      <td>112945-52-5</td>\n",
       "      <td>The EU Commission is considering a potential O...</td>\n",
       "      <td>NaN</td>\n",
       "      <td>NaN</td>\n",
       "      <td>NaN</td>\n",
       "      <td>On hold</td>\n",
       "    </tr>\n",
       "    <tr>\n",
       "      <th>1</th>\n",
       "      <td>⚡ 2-Methoxymethyl-p-Phenylenedia­mine 2-Methox...</td>\n",
       "      <td>337906-36-2 337906-37-3</td>\n",
       "      <td>Permitted as (a) Hair dye sub­stance in oxida­...</td>\n",
       "      <td>NaN</td>\n",
       "      <td>NaN</td>\n",
       "      <td>NaN</td>\n",
       "      <td>Restricted</td>\n",
       "    </tr>\n",
       "    <tr>\n",
       "      <th>2</th>\n",
       "      <td>‼️Melanotan 2</td>\n",
       "      <td>121062-08-6</td>\n",
       "      <td>Melanotan 2 (MT2) is not a cosmetic ingredient...</td>\n",
       "      <td>NaN</td>\n",
       "      <td>HPRA alert on dangerous Melanotan 2 in self-ta...</td>\n",
       "      <td>NaN</td>\n",
       "      <td>Banned</td>\n",
       "    </tr>\n",
       "    <tr>\n",
       "      <th>3</th>\n",
       "      <td>⚡ Salicylaldehyde</td>\n",
       "      <td>90-02-8</td>\n",
       "      <td>The presence of the substance shall be indicat...</td>\n",
       "      <td>NaN</td>\n",
       "      <td>NaN</td>\n",
       "      <td>fragrance allergens</td>\n",
       "      <td>Restricted</td>\n",
       "    </tr>\n",
       "    <tr>\n",
       "      <th>4</th>\n",
       "      <td>⚡ Santalol</td>\n",
       "      <td>11031-45-1 / 115-71-9 / 77-42-9</td>\n",
       "      <td>The presence of the substance shall be indicat...</td>\n",
       "      <td>NaN</td>\n",
       "      <td>NaN</td>\n",
       "      <td>fragrance allergens</td>\n",
       "      <td>Restricted</td>\n",
       "    </tr>\n",
       "  </tbody>\n",
       "</table>\n",
       "</div>"
      ],
      "text/plain": [
       "                      INCI Name of substance / Theme  \\\n",
       "0                                Fumed silica (nano)   \n",
       "1  ⚡ 2-Methoxymethyl-p-Phenylenedia­mine 2-Methox...   \n",
       "2                                      ‼️Melanotan 2   \n",
       "3                                  ⚡ Salicylaldehyde   \n",
       "4                                         ⚡ Santalol   \n",
       "\n",
       "                             CAS #  \\\n",
       "0                      112945-52-5   \n",
       "1          337906-36-2 337906-37-3   \n",
       "2                      121062-08-6   \n",
       "3                          90-02-8   \n",
       "4  11031-45-1 / 115-71-9 / 77-42-9   \n",
       "\n",
       "                                       Action needed Application date  \\\n",
       "0  The EU Commission is considering a potential O...              NaN   \n",
       "1  Permitted as (a) Hair dye sub­stance in oxida­...              NaN   \n",
       "2  Melanotan 2 (MT2) is not a cosmetic ingredient...              NaN   \n",
       "3  The presence of the substance shall be indicat...              NaN   \n",
       "4  The presence of the substance shall be indicat...              NaN   \n",
       "\n",
       "                                    More information           Categories  \\\n",
       "0                                                NaN                  NaN   \n",
       "1                                                NaN                  NaN   \n",
       "2  HPRA alert on dangerous Melanotan 2 in self-ta...                  NaN   \n",
       "3                                                NaN  fragrance allergens   \n",
       "4                                                NaN  fragrance allergens   \n",
       "\n",
       "       Status  \n",
       "0     On hold  \n",
       "1  Restricted  \n",
       "2      Banned  \n",
       "3  Restricted  \n",
       "4  Restricted  "
      ]
     },
     "execution_count": 21,
     "metadata": {},
     "output_type": "execute_result"
    }
   ],
   "source": [
    "data.head()"
   ]
  },
  {
   "cell_type": "markdown",
   "id": "fdf19907-b8a8-43e1-bea1-ef99dcb344e8",
   "metadata": {},
   "source": [
    "Il n'est dorénavant plus nécessaire de garder ces signes \"⚡\" / \"!!\". Enlevons-les."
   ]
  },
  {
   "cell_type": "code",
   "execution_count": 22,
   "id": "30243d43-4113-47f3-9b81-6a6d2ac5ddf2",
   "metadata": {
    "tags": []
   },
   "outputs": [],
   "source": [
    "data[\"INCI Name of substance / Theme\"] = [i.replace(\"⚡ \", \"\").replace(\"‼️\", \"\") for i in data[\"INCI Name of substance / Theme\"]]"
   ]
  },
  {
   "cell_type": "code",
   "execution_count": 24,
   "id": "b0f68a05-014b-4a30-9c49-846bd056ee34",
   "metadata": {
    "tags": []
   },
   "outputs": [],
   "source": [
    "# Je change l'odre des colonnes.\n",
    "data = data[['Status', 'INCI Name of substance / Theme', 'CAS #', 'Action needed',\n",
    "       'Application date', 'More information', 'Categories']]"
   ]
  },
  {
   "cell_type": "markdown",
   "id": "5ef96d16-1fdc-41cf-ade0-c57a58734a0b",
   "metadata": {
    "tags": []
   },
   "source": [
    "<div class=\"alert alert-success\">\n",
    "    <b>Description des données</b>\n",
    "</div>"
   ]
  },
  {
   "cell_type": "code",
   "execution_count": 25,
   "id": "b68073be-3e03-451e-87e4-b7258364efeb",
   "metadata": {
    "tags": []
   },
   "outputs": [
    {
     "data": {
      "text/plain": [
       "(331, 7)"
      ]
     },
     "execution_count": 25,
     "metadata": {},
     "output_type": "execute_result"
    }
   ],
   "source": [
    "data.shape"
   ]
  },
  {
   "cell_type": "code",
   "execution_count": 26,
   "id": "c6fbc922-4784-4030-8f30-954a6fcc4644",
   "metadata": {
    "tags": []
   },
   "outputs": [
    {
     "name": "stdout",
     "output_type": "stream",
     "text": [
      "<class 'pandas.core.frame.DataFrame'>\n",
      "RangeIndex: 331 entries, 0 to 330\n",
      "Data columns (total 7 columns):\n",
      " #   Column                          Non-Null Count  Dtype \n",
      "---  ------                          --------------  ----- \n",
      " 0   Status                          331 non-null    object\n",
      " 1   INCI Name of substance / Theme  331 non-null    object\n",
      " 2   CAS #                           309 non-null    object\n",
      " 3   Action needed                   331 non-null    object\n",
      " 4   Application date                281 non-null    object\n",
      " 5   More information                174 non-null    object\n",
      " 6   Categories                      126 non-null    object\n",
      "dtypes: object(7)\n",
      "memory usage: 18.2+ KB\n"
     ]
    }
   ],
   "source": [
    "data.info()"
   ]
  },
  {
   "cell_type": "code",
   "execution_count": 27,
   "id": "176c7e53-9cb6-4b6c-a51b-dc1eeee48903",
   "metadata": {
    "tags": []
   },
   "outputs": [
    {
     "data": {
      "text/plain": [
       "Status                              0\n",
       "INCI Name of substance / Theme      0\n",
       "CAS #                              22\n",
       "Action needed                       0\n",
       "Application date                   50\n",
       "More information                  157\n",
       "Categories                        205\n",
       "dtype: int64"
      ]
     },
     "execution_count": 27,
     "metadata": {},
     "output_type": "execute_result"
    }
   ],
   "source": [
    "data.isnull().sum()"
   ]
  },
  {
   "cell_type": "markdown",
   "id": "baeeee9b-88c7-4a2b-848e-9dde457ddbfc",
   "metadata": {},
   "source": [
    "Pour certaines colonnes, il y a un manque de données conséquantes. \n",
    "- CAS : Il manque 6% des données, ce qui va encore.\n",
    "\n",
    "La question est : Est-il nécessaire de garder ces lignes si nous ne pouvons plus identifier le CAS ? Nous répondrons à cette question plus tardivement.\n",
    "- Application date : Il manque 15% des dates d'applications de restriction ou d'interdiction. La question est de savoir si elles concernent surtout les \"On hold\". Mais à première vue, on dirait que non.\n",
    "- More information : Près de 47 % des données sont manquantes. En dehors du fait que cette colonne présente peu d'intérêt à ce stade, elle pourrait cependant devenir utile si l'on envisage d'appliquer des techniques de NLP. Mais cela reste peu probable étant donné que le traitement du langage naturel ne fait pas partie des objectifs principaux de cette analyse. Par conséquent, il est peu pertinent de s'attarder sur l'imputation ou la correction de ces données manquantes. Nous validerons cela par la suite.\n",
    "- Categories : Il manque près de 62% des données. A ce stade, il vaut mieux abandonner cette colonne. Il vaudrait mieux compter sur la liste des ingrédients à déclarer du CDPH à l'aide d'une colonne : Traits de danger."
   ]
  },
  {
   "cell_type": "code",
   "execution_count": null,
   "id": "39b152d7-8c55-4ce2-8b2f-e41c5508a850",
   "metadata": {},
   "outputs": [],
   "source": [
    "# Construire le chemin relatif à partir du répertoire du projet\n",
    "data_path = base_path / 'DATA' / 'CLEAN' / '1. Chemicals in cosmetics' / 'Watch out base' / 'version 1' / 'Watch-out-2022.xlsx'\n",
    "\n",
    "# Enregistrement de la donnée\n",
    "data.to_excel(data_path)"
   ]
  },
  {
   "cell_type": "markdown",
   "id": "787c2f44-a1fd-4f5a-b649-7a11bbc131bf",
   "metadata": {},
   "source": [
    "<div class=\"alert alert-success\">\n",
    "    <b>Correction des erreurs</b>\n",
    "</div>"
   ]
  },
  {
   "cell_type": "code",
   "execution_count": null,
   "id": "5490a2c4-b4bb-4dd3-8827-d985d758407e",
   "metadata": {},
   "outputs": [],
   "source": [
    "# Construire le chemin relatif à partir du répertoire du projet\n",
    "data_path = base_path / 'DATA' / 'CLEAN' / '1. Chemicals in cosmetics' / 'Watch out base' / 'version 1' / 'Watch-out-2022.xlsx'\n",
    "\n",
    "# Importation de la donnée\n",
    "data_update = pd.read_excel(data_path)"
   ]
  },
  {
   "cell_type": "code",
   "execution_count": 14,
   "id": "76af61e3-b1f5-4474-afda-36ba079e92b0",
   "metadata": {
    "tags": []
   },
   "outputs": [],
   "source": [
    "# Transformation de la colonne CAS en string\n",
    "data_update['CAS #'] = data_update['CAS #'].astype(str)"
   ]
  },
  {
   "cell_type": "code",
   "execution_count": 15,
   "id": "9b9fec8b-c256-4faf-98b8-6d43a255f181",
   "metadata": {
    "tags": []
   },
   "outputs": [],
   "source": [
    "# Je corrige les lignes avec plus d'1 CAS\n",
    "\n",
    "# Assurer que new_rows est une liste vide pour collecter les nouvelles lignes\n",
    "new_rows = []\n",
    "\n",
    "for index, row in data_update.iterrows():\n",
    "    if \" / \" in row[\"CAS #\"]:\n",
    "        # Séparer le contenu de la colonne \"CAS #\" en deux parties\n",
    "        cas = row[\"CAS #\"].split(' / ')\n",
    "        \n",
    "        # Mettre à jour la première partie dans la ligne actuelle\n",
    "        data.at[index, \"CAS #\"] = cas[0]\n",
    "        \n",
    "        # Créer une nouvelle ligne avec la deuxième partie du CAS\n",
    "        new_row = row.copy()  # Crée une copie de la ligne actuelle\n",
    "        new_row[\"CAS #\"] = cas[1]  # Remplacer \"CAS #\" par la deuxième partie\n",
    "\n",
    "        # Ajouter cette nouvelle ligne à la liste new_rows\n",
    "        new_rows.append(new_row)\n",
    "\n",
    "# Si des nouvelles lignes ont été collectées, les ajouter au DataFrame\n",
    "if new_rows:\n",
    "    # Créer un DataFrame à partir des nouvelles lignes et les concaténer\n",
    "    data_update = pd.concat([data_update, pd.DataFrame(new_rows)], ignore_index=True)\n"
   ]
  },
  {
   "cell_type": "code",
   "execution_count": null,
   "id": "b53f7da5-9bf7-4eb0-ac60-b7ca4c9825c6",
   "metadata": {},
   "outputs": [],
   "source": [
    "# Construire le chemin relatif à partir du répertoire du projet\n",
    "data_path = base_path / 'DATA' / 'CLEAN' / '1. Chemicals in cosmetics' / 'Watch out base' / 'version finale' / 'Watch-out-2022.xlsx'\n",
    "\n",
    "# Importation de la donnée\n",
    "data_update.to_excel(data_path)"
   ]
  },
  {
   "cell_type": "markdown",
   "id": "95cd3457-2c1d-4110-bc2d-0885ae073d41",
   "metadata": {
    "tags": []
   },
   "source": [
    "# COSMETIC UPDATE"
   ]
  },
  {
   "cell_type": "markdown",
   "id": "c21bc60f-3ed4-4bb0-9103-bc071eb41d07",
   "metadata": {},
   "source": [
    "<div class=\"alert alert-success\">\n",
    "    <b>Moins de Théorique, plus de pratique</b><br>Les informations de Watch-Out iront dans la base de donnée de produits Cosmétique Séphora.\n",
    "</div>"
   ]
  },
  {
   "cell_type": "code",
   "execution_count": 4,
   "id": "8c25c2c1-107d-46d7-bf20-7d0866b550f9",
   "metadata": {
    "tags": []
   },
   "outputs": [],
   "source": [
    "# Construire le chemin relatif à partir du répertoire du projet\n",
    "data_path = base_path / 'DATA' / 'CLEAN' / '1. Chemicals in cosmetics' / 'Watch out base' / 'version finale' / 'Watch-out-2022.xlsx'\n",
    "\n",
    "# Importation de la donnée WATCH-OUT\n",
    "data_update1 = pd.read_excel(data_path)"
   ]
  },
  {
   "cell_type": "code",
   "execution_count": null,
   "id": "6fcfc322-7f24-4e9f-b516-f86b6651dbc5",
   "metadata": {},
   "outputs": [],
   "source": [
    "# Importation de la donnée Cosmetics\n",
    "# Construire le chemin relatif à partir du répertoire du projet\n",
    "data_path = base_path / 'DATA' / 'CLEAN' / '3. Produits' / 'Produits avec ingrédients' / 'cosmetics.csv'\n",
    "\n",
    "cosmetics = pd.read_csv(data_path, sep=\";\", on_bad_lines=\"skip\")\n"
   ]
  },
  {
   "cell_type": "code",
   "execution_count": 26,
   "id": "17372c1e-c446-4c27-95ba-156a7298ef53",
   "metadata": {
    "tags": []
   },
   "outputs": [
    {
     "data": {
      "text/html": [
       "<div>\n",
       "<style scoped>\n",
       "    .dataframe tbody tr th:only-of-type {\n",
       "        vertical-align: middle;\n",
       "    }\n",
       "\n",
       "    .dataframe tbody tr th {\n",
       "        vertical-align: top;\n",
       "    }\n",
       "\n",
       "    .dataframe thead th {\n",
       "        text-align: right;\n",
       "    }\n",
       "</style>\n",
       "<table border=\"1\" class=\"dataframe\">\n",
       "  <thead>\n",
       "    <tr style=\"text-align: right;\">\n",
       "      <th></th>\n",
       "      <th>Label</th>\n",
       "      <th>Brand</th>\n",
       "      <th>Name</th>\n",
       "      <th>Price</th>\n",
       "      <th>Rank</th>\n",
       "      <th>Ingredients</th>\n",
       "      <th>Combination</th>\n",
       "      <th>Dry</th>\n",
       "      <th>Normal</th>\n",
       "      <th>Oily</th>\n",
       "      <th>Sensitive</th>\n",
       "    </tr>\n",
       "  </thead>\n",
       "  <tbody>\n",
       "    <tr>\n",
       "      <th>0</th>\n",
       "      <td>Moisturizer</td>\n",
       "      <td>LA MER</td>\n",
       "      <td>Crème de la Mer</td>\n",
       "      <td>175</td>\n",
       "      <td>4.1</td>\n",
       "      <td>Algae (Seaweed) Extract, Mineral Oil, Petrolat...</td>\n",
       "      <td>1.0</td>\n",
       "      <td>1.0</td>\n",
       "      <td>1.0</td>\n",
       "      <td>1.0</td>\n",
       "      <td>1.0</td>\n",
       "    </tr>\n",
       "    <tr>\n",
       "      <th>1</th>\n",
       "      <td>Moisturizer</td>\n",
       "      <td>SK-II</td>\n",
       "      <td>Facial Treatment Essence</td>\n",
       "      <td>179</td>\n",
       "      <td>4.1</td>\n",
       "      <td>Galactomyces Ferment Filtrate (Pitera), Butyle...</td>\n",
       "      <td>1.0</td>\n",
       "      <td>1.0</td>\n",
       "      <td>1.0</td>\n",
       "      <td>1.0</td>\n",
       "      <td>1.0</td>\n",
       "    </tr>\n",
       "    <tr>\n",
       "      <th>2</th>\n",
       "      <td>Moisturizer</td>\n",
       "      <td>DRUNK ELEPHANT</td>\n",
       "      <td>Protini™ Polypeptide Cream</td>\n",
       "      <td>68</td>\n",
       "      <td>4.4</td>\n",
       "      <td>Water, Dicaprylyl Carbonate, Glycerin, Ceteary...</td>\n",
       "      <td>1.0</td>\n",
       "      <td>1.0</td>\n",
       "      <td>1.0</td>\n",
       "      <td>1.0</td>\n",
       "      <td>0.0</td>\n",
       "    </tr>\n",
       "  </tbody>\n",
       "</table>\n",
       "</div>"
      ],
      "text/plain": [
       "         Label           Brand                        Name  Price  Rank  \\\n",
       "0  Moisturizer          LA MER             Crème de la Mer    175   4.1   \n",
       "1  Moisturizer           SK-II    Facial Treatment Essence    179   4.1   \n",
       "2  Moisturizer  DRUNK ELEPHANT  Protini™ Polypeptide Cream     68   4.4   \n",
       "\n",
       "                                         Ingredients  Combination  Dry  \\\n",
       "0  Algae (Seaweed) Extract, Mineral Oil, Petrolat...          1.0  1.0   \n",
       "1  Galactomyces Ferment Filtrate (Pitera), Butyle...          1.0  1.0   \n",
       "2  Water, Dicaprylyl Carbonate, Glycerin, Ceteary...          1.0  1.0   \n",
       "\n",
       "   Normal  Oily  Sensitive  \n",
       "0     1.0   1.0        1.0  \n",
       "1     1.0   1.0        1.0  \n",
       "2     1.0   1.0        0.0  "
      ]
     },
     "execution_count": 26,
     "metadata": {},
     "output_type": "execute_result"
    }
   ],
   "source": [
    "cosmetics.head(3)"
   ]
  },
  {
   "cell_type": "markdown",
   "id": "f224da0e-640a-41f3-b71d-12451e5148a6",
   "metadata": {},
   "source": [
    "Je décide de rajouter plusieurs nouvelles colonnes :\n",
    "- Restricted/On_hold : le nombre d'ingrédients restreints dans le produit.\n",
    "- Banned : le nombre d'ingrédients interdits dans le produit."
   ]
  },
  {
   "cell_type": "code",
   "execution_count": 6,
   "id": "33001e1e-8c75-4471-b6ca-7a30d5dd2207",
   "metadata": {
    "tags": []
   },
   "outputs": [],
   "source": [
    "# Avant je décide de supprimer tous les signes, espaces en trop.\n",
    "# Je fais une fonction\n",
    "\n",
    "import re\n",
    "\n",
    "# Fonction pour nettoyer les ingrédients\n",
    "def clean_ingredient(ing):\n",
    "    # Supprime les parenthèses et leur contenu, les astérisques, etc.\n",
    "    ing = re.sub(r\"\\*?\\|\\*+\", \"\", ing)\n",
    "    # Remplace les points par des virgules\n",
    "    ing = ing.replace(\".\", \",\")\n",
    "    # Divise par virgule et supprime les espaces en trop\n",
    "    ingredient_list = [i.strip() for i in ing.split(\",\")]\n",
    "    ingredient_list = [i for i in ingredient_list if i.strip()]\n",
    "    return ingredient_list"
   ]
  },
  {
   "cell_type": "markdown",
   "id": "94a1f843-77e9-4695-a59e-a5caaca94c6d",
   "metadata": {},
   "source": [
    "Je décide parcourir chaque ligne des produits cosmétiques. Pour chaque ligne, je nettoie les ingrédients INCI listés, puis je compare chaque ingrédient (grâce à TF-IDF pour mesurer la similarité entre les chaînes) avec la base de donnée WATCH-OUT. Pour chaque correspondance, le code vérifiera le statut de l'ingrédient (par exemple, \"Banned\" ou \"Restricted/On hold\"). Finalement, on ajoutera deux nouvelles colonnes au DataFrame d'origine cosmetics pour indiquer combien d'ingrédients sont interdits ou restreints dans chaque produit. "
   ]
  },
  {
   "cell_type": "code",
   "execution_count": 7,
   "id": "c1487719-592d-49e0-9445-796cf708c5c5",
   "metadata": {
    "tags": []
   },
   "outputs": [],
   "source": [
    "# Je crée la fonction pour mesurer la similarité entre le nom d'un ingrédient INCI \n",
    "# avec l'ingrédient de la base de donnée Watch-out afin de s'assurer de la correspondance.\n",
    "# Je décide du seuil de similarité : 0.65\n",
    "\n",
    "from sklearn.feature_extraction.text import TfidfVectorizer\n",
    "from sklearn.metrics.pairwise import cosine_similarity\n",
    "\n",
    "def closest_string(word, word_list, threshold=0.65):\n",
    "    # On crée un corpus qui inclut le mot recherché et la liste de mots à comparer\n",
    "    corpus = [word] + word_list\n",
    "    \n",
    "    # On utilise le TfidfVectorizer pour transformer les mots en vecteurs TF-IDF\n",
    "    vectorizer = TfidfVectorizer().fit_transform(corpus)\n",
    "    \n",
    "    # Calcul de la similarité cosinus entre le mot et chaque mot de la liste\n",
    "    cosine_similarities = cosine_similarity(vectorizer[0:1], vectorizer[1:]).flatten()\n",
    "    \n",
    "    # On récupère l'indice du mot ayant la plus grande similarité\n",
    "    best_match_index = np.argmax(cosine_similarities)\n",
    "    best_similarity = cosine_similarities[best_match_index]\n",
    "    \n",
    "    # Si la similarité est au-dessus du seuil, on retourne le mot et la similarité\n",
    "    if best_similarity >= threshold:\n",
    "        return word_list[best_match_index], best_similarity\n",
    "    else:\n",
    "        return None, 0.0"
   ]
  },
  {
   "cell_type": "code",
   "execution_count": 106,
   "id": "eb1edd9a-88d8-47c5-b1c7-1112e8bd5bdb",
   "metadata": {
    "tags": []
   },
   "outputs": [],
   "source": [
    "# Mise en place du rajout des colonnes dans cosmetics\n",
    "\n",
    "# Ajout des listes\n",
    "Restricted_On_hold = []\n",
    "Banned = []\n",
    "\n",
    "# Boucle sur chaque ligne du DataFrame 'cosmetics'\n",
    "for key, row in cosmetics.iterrows():\n",
    "    b = 0\n",
    "    r = 0\n",
    "    \n",
    "    # Nettoyage des ingrédients\n",
    "    ingredients = clean_ingredient(row[\"Ingredients\"])\n",
    "\n",
    "    # Parcours des ingrédients nettoyés\n",
    "    for inci in ingredients:\n",
    "        closest, similarity = closest_string(inci, data_update1[\"INCI Name of substance / Theme\"].tolist(), threshold=0.65)\n",
    "\n",
    "        if similarity >= 0.65:\n",
    "            index = data_update1[data_update1['INCI Name of substance / Theme'] == closest].index\n",
    "            \n",
    "            if len(index) > 0:  \n",
    "                status = data_update1.loc[index[0], \"Status\"]\n",
    "                \n",
    "                if status == \"Banned\":\n",
    "                    b += 1\n",
    "                else:\n",
    "                    r += 1\n",
    "\n",
    "    Restricted_On_hold.append(r)\n",
    "    Banned.append(b)\n",
    "\n",
    "# Ajout des colonnes au DataFrame\n",
    "cosmetics[\"Restricted/On_hold\"] = Restricted_On_hold\n",
    "cosmetics[\"Banned\"] = Banned"
   ]
  },
  {
   "cell_type": "code",
   "execution_count": 109,
   "id": "0f0922e7-bbda-4ce5-8758-14a63861c302",
   "metadata": {
    "tags": []
   },
   "outputs": [
    {
     "data": {
      "text/plain": [
       "array([2, 0, 3, 1, 4, 6, 5, 9, 7])"
      ]
     },
     "execution_count": 109,
     "metadata": {},
     "output_type": "execute_result"
    }
   ],
   "source": [
    "cosmetics[\"Restricted/On_hold\"].unique()"
   ]
  },
  {
   "cell_type": "code",
   "execution_count": 108,
   "id": "9819eabf-cb8a-4e0a-9e71-48190fccd9fe",
   "metadata": {
    "tags": []
   },
   "outputs": [
    {
     "data": {
      "text/plain": [
       "array([0, 1, 2])"
      ]
     },
     "execution_count": 108,
     "metadata": {},
     "output_type": "execute_result"
    }
   ],
   "source": [
    "cosmetics[\"Banned\"].unique()"
   ]
  },
  {
   "cell_type": "code",
   "execution_count": 110,
   "id": "b90f291d-274c-4c73-854c-69dce66ccc6d",
   "metadata": {
    "tags": []
   },
   "outputs": [
    {
     "data": {
      "text/html": [
       "<div>\n",
       "<style scoped>\n",
       "    .dataframe tbody tr th:only-of-type {\n",
       "        vertical-align: middle;\n",
       "    }\n",
       "\n",
       "    .dataframe tbody tr th {\n",
       "        vertical-align: top;\n",
       "    }\n",
       "\n",
       "    .dataframe thead th {\n",
       "        text-align: right;\n",
       "    }\n",
       "</style>\n",
       "<table border=\"1\" class=\"dataframe\">\n",
       "  <thead>\n",
       "    <tr style=\"text-align: right;\">\n",
       "      <th></th>\n",
       "      <th>Label</th>\n",
       "      <th>Brand</th>\n",
       "      <th>Name</th>\n",
       "      <th>Price</th>\n",
       "      <th>Rank</th>\n",
       "      <th>Ingredients</th>\n",
       "      <th>Combination</th>\n",
       "      <th>Dry</th>\n",
       "      <th>Normal</th>\n",
       "      <th>Oily</th>\n",
       "      <th>Sensitive</th>\n",
       "      <th>Restricted/On_hold</th>\n",
       "      <th>Banned</th>\n",
       "    </tr>\n",
       "  </thead>\n",
       "  <tbody>\n",
       "    <tr>\n",
       "      <th>0</th>\n",
       "      <td>Moisturizer</td>\n",
       "      <td>LA MER</td>\n",
       "      <td>Crème de la Mer</td>\n",
       "      <td>175</td>\n",
       "      <td>4.1</td>\n",
       "      <td>Algae (Seaweed) Extract, Mineral Oil, Petrolat...</td>\n",
       "      <td>1.0</td>\n",
       "      <td>1.0</td>\n",
       "      <td>1.0</td>\n",
       "      <td>1.0</td>\n",
       "      <td>1.0</td>\n",
       "      <td>2</td>\n",
       "      <td>0</td>\n",
       "    </tr>\n",
       "    <tr>\n",
       "      <th>1</th>\n",
       "      <td>Moisturizer</td>\n",
       "      <td>SK-II</td>\n",
       "      <td>Facial Treatment Essence</td>\n",
       "      <td>179</td>\n",
       "      <td>4.1</td>\n",
       "      <td>Galactomyces Ferment Filtrate (Pitera), Butyle...</td>\n",
       "      <td>1.0</td>\n",
       "      <td>1.0</td>\n",
       "      <td>1.0</td>\n",
       "      <td>1.0</td>\n",
       "      <td>1.0</td>\n",
       "      <td>0</td>\n",
       "      <td>0</td>\n",
       "    </tr>\n",
       "    <tr>\n",
       "      <th>2</th>\n",
       "      <td>Moisturizer</td>\n",
       "      <td>DRUNK ELEPHANT</td>\n",
       "      <td>Protini™ Polypeptide Cream</td>\n",
       "      <td>68</td>\n",
       "      <td>4.4</td>\n",
       "      <td>Water, Dicaprylyl Carbonate, Glycerin, Ceteary...</td>\n",
       "      <td>1.0</td>\n",
       "      <td>1.0</td>\n",
       "      <td>1.0</td>\n",
       "      <td>1.0</td>\n",
       "      <td>0.0</td>\n",
       "      <td>0</td>\n",
       "      <td>0</td>\n",
       "    </tr>\n",
       "    <tr>\n",
       "      <th>3</th>\n",
       "      <td>Moisturizer</td>\n",
       "      <td>LA MER</td>\n",
       "      <td>The Moisturizing Soft Cream</td>\n",
       "      <td>175</td>\n",
       "      <td>3.8</td>\n",
       "      <td>Algae (Seaweed) Extract, Cyclopentasiloxane, P...</td>\n",
       "      <td>1.0</td>\n",
       "      <td>1.0</td>\n",
       "      <td>1.0</td>\n",
       "      <td>1.0</td>\n",
       "      <td>1.0</td>\n",
       "      <td>3</td>\n",
       "      <td>0</td>\n",
       "    </tr>\n",
       "    <tr>\n",
       "      <th>4</th>\n",
       "      <td>Moisturizer</td>\n",
       "      <td>IT COSMETICS</td>\n",
       "      <td>Your Skin But Better™ CC+™ Cream with SPF 50+</td>\n",
       "      <td>38</td>\n",
       "      <td>4.1</td>\n",
       "      <td>Water, Snail Secretion Filtrate, Phenyl Trimet...</td>\n",
       "      <td>1.0</td>\n",
       "      <td>1.0</td>\n",
       "      <td>1.0</td>\n",
       "      <td>1.0</td>\n",
       "      <td>1.0</td>\n",
       "      <td>3</td>\n",
       "      <td>0</td>\n",
       "    </tr>\n",
       "  </tbody>\n",
       "</table>\n",
       "</div>"
      ],
      "text/plain": [
       "         Label           Brand                                           Name  \\\n",
       "0  Moisturizer          LA MER                                Crème de la Mer   \n",
       "1  Moisturizer           SK-II                       Facial Treatment Essence   \n",
       "2  Moisturizer  DRUNK ELEPHANT                     Protini™ Polypeptide Cream   \n",
       "3  Moisturizer          LA MER                    The Moisturizing Soft Cream   \n",
       "4  Moisturizer    IT COSMETICS  Your Skin But Better™ CC+™ Cream with SPF 50+   \n",
       "\n",
       "   Price  Rank                                        Ingredients  \\\n",
       "0    175   4.1  Algae (Seaweed) Extract, Mineral Oil, Petrolat...   \n",
       "1    179   4.1  Galactomyces Ferment Filtrate (Pitera), Butyle...   \n",
       "2     68   4.4  Water, Dicaprylyl Carbonate, Glycerin, Ceteary...   \n",
       "3    175   3.8  Algae (Seaweed) Extract, Cyclopentasiloxane, P...   \n",
       "4     38   4.1  Water, Snail Secretion Filtrate, Phenyl Trimet...   \n",
       "\n",
       "   Combination  Dry  Normal  Oily  Sensitive  Restricted/On_hold  Banned  \n",
       "0          1.0  1.0     1.0   1.0        1.0                   2       0  \n",
       "1          1.0  1.0     1.0   1.0        1.0                   0       0  \n",
       "2          1.0  1.0     1.0   1.0        0.0                   0       0  \n",
       "3          1.0  1.0     1.0   1.0        1.0                   3       0  \n",
       "4          1.0  1.0     1.0   1.0        1.0                   3       0  "
      ]
     },
     "execution_count": 110,
     "metadata": {},
     "output_type": "execute_result"
    }
   ],
   "source": [
    "cosmetics.head()"
   ]
  },
  {
   "cell_type": "code",
   "execution_count": null,
   "id": "c042602d-b560-45b3-930c-1a5f73bae738",
   "metadata": {},
   "outputs": [],
   "source": [
    "# Construire le chemin relatif à partir du répertoire du projet\n",
    "data_path = base_path / 'DATA' / 'CLEAN' / '3. Produits' / 'Produits avec ingrédients' / 'cosmetics.xlsx'\n",
    "\n",
    "# Enregistrement de la donnée\n",
    "cosmetics.to_excel(data_path)"
   ]
  },
  {
   "cell_type": "code",
   "execution_count": 113,
   "id": "b8dadd41-5511-404d-84a1-bbbdafaac13c",
   "metadata": {
    "tags": []
   },
   "outputs": [],
   "source": [
    "numeric_data = cosmetics.select_dtypes(include=[float, int])"
   ]
  },
  {
   "cell_type": "code",
   "execution_count": 114,
   "id": "3bba1867-68d3-41fd-86c7-0dc10ce04c0b",
   "metadata": {
    "tags": []
   },
   "outputs": [
    {
     "data": {
      "image/png": "[encoded data removed]",
      "text/plain": [
       "<Figure size 700x600 with 2 Axes>"
      ]
     },
     "metadata": {},
     "output_type": "display_data"
    }
   ],
   "source": [
    "import matplotlib.pyplot as plt\n",
    "import seaborn as sns\n",
    "\n",
    "correlation_matrix = numeric_data.corr()\n",
    "plt.figure(figsize=(7, 6), dpi=100)\n",
    "sns.heatmap(correlation_matrix, cmap=\"YlGnBu\")\n",
    "# Améliorer le graphique\n",
    "plt.title('Heatmap de Corrélation', fontsize=18, fontweight='bold')\n",
    "plt.xticks(rotation=45, ha='right', fontsize=12)  # Rotation et alignement des labels des axes x\n",
    "plt.yticks(rotation=0, fontsize=12)  # Rotation des labels des axes y\n",
    "\n",
    "plt.tight_layout()  # Ajuster les marges pour éviter que les labels ne soient coupés\n",
    "plt.show()"
   ]
  },
  {
   "cell_type": "markdown",
   "id": "db3358fb-ef45-4004-a0dd-b45b5a3258cf",
   "metadata": {},
   "source": [
    "Ce qui m'interessait était de voir si il y avait des correlations intéressantes avec le Prix, le rang, ou les substances interdites ou restreintes. Mais il n'en existe pas."
   ]
  },
  {
   "cell_type": "code",
   "execution_count": null,
   "id": "4f3d663c-eded-4919-9817-9bfae5b0f354",
   "metadata": {},
   "outputs": [],
   "source": []
  },
  {
   "cell_type": "code",
   "execution_count": null,
   "id": "a7152d12-e506-470a-a287-572249e28faa",
   "metadata": {},
   "outputs": [],
   "source": []
  }
 ],
 "metadata": {
  "kernelspec": {
   "display_name": "Python 3 (ipykernel)",
   "language": "python",
   "name": "python3"
  },
  "language_info": {
   "codemirror_mode": {
    "name": "ipython",
    "version": 3
   },
   "file_extension": ".py",
   "mimetype": "text/x-python",
   "name": "python",
   "nbconvert_exporter": "python",
   "pygments_lexer": "ipython3",
   "version": "3.11.3"
  }
 },
 "nbformat": 4,
 "nbformat_minor": 5
}
