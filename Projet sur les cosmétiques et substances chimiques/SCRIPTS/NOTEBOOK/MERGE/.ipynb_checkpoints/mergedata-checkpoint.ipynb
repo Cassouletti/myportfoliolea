{
 "cells": [
  {
   "cell_type": "markdown",
   "id": "f54d6837-dced-480c-90f8-4da515301a87",
   "metadata": {},
   "source": [
    "# Merge Data - Classements Risques"
   ]
  },
  {
   "cell_type": "markdown",
   "id": "0a0c33ff-512f-45a4-8d5a-2aa08330d81d",
   "metadata": {},
   "source": [
    "<div class=\"alert alert-success\">\n",
    "    <b>Catégorisation des risques liées aux substances</b><br>Grâce à 3 fichiers distincts : Agritox,Substances préoccupantes (EU) et Reportable Ingredients List (Californie)<br>Nous allons catégoriser les risques grâce aux informations des trois fichiers, et faire une table qui catégorise chaque substance CAS/ EC.\n",
    "</div>"
   ]
  },
  {
   "cell_type": "code",
   "execution_count": 1,
   "id": "8c58e3b2-51d4-4851-838a-29c273146e9b",
   "metadata": {
    "tags": []
   },
   "outputs": [],
   "source": [
    "# Importation des modules\n",
    "import pandas as pd\n",
    "import numpy as np"
   ]
  },
  {
   "cell_type": "code",
   "execution_count": 3,
   "id": "9d6eab1f-511f-445c-8154-e618d6fa1707",
   "metadata": {
    "tags": []
   },
   "outputs": [],
   "source": [
    "# Importation de la donnée Reportable List Ingredients\n",
    "ril = pd.read_excel(\"/Users/alelia/Desktop/Data/DATA SUITS/Soutenance/Skincare/DATA/CLEAN/1. Chemicals in cosmetics/Reportable Ingredients List/RIL.xlsx\")"
   ]
  },
  {
   "cell_type": "code",
   "execution_count": 82,
   "id": "f832bfc8-61cf-454f-936e-7fd861e3fe72",
   "metadata": {
    "tags": []
   },
   "outputs": [],
   "source": [
    "# Importation de la donnée Substances Préoccupantes\n",
    "substances_p = pd.read_excel(\"/Users/alelia/Desktop/Data/DATA SUITS/Soutenance/Skincare/DATA/CLEAN/1. Chemicals in cosmetics/Inventaire CE/candidate-list-of-svhc-for-authorisation-export.xlsx\")"
   ]
  },
  {
   "cell_type": "code",
   "execution_count": 37,
   "id": "a934acd5-f1dc-407a-89e0-03af8266899d",
   "metadata": {
    "tags": []
   },
   "outputs": [],
   "source": [
    "# Importation de la donnée Classement Danger, \n",
    "agritox = pd.read_csv(\"/Users/alelia/Desktop/Data/DATA SUITS/Soutenance/Skincare/DATA/CLEAN/2. AGRITOX/1. CLASSEMENT.csv\", encoding = \"ISO-8859-1\", sep=';')"
   ]
  },
  {
   "cell_type": "markdown",
   "id": "a4280faa-3ff6-4a55-8751-6fa231f4aa26",
   "metadata": {},
   "source": [
    "Les catégories uniques seront :\n",
    "- Toxicité Cutanée et Respiratoire\n",
    "- Risques Génétiques et Cancers\n",
    "- Toxicité Systémique et Organique\n",
    "- Toxicité Reproductive et Développementale\n",
    "- Impact Environnemental et Accumulation\n"
   ]
  },
  {
   "cell_type": "markdown",
   "id": "fe07cbb1-ee1e-4011-9407-dd83a99b3716",
   "metadata": {},
   "source": [
    "## AGRITOX"
   ]
  },
  {
   "cell_type": "code",
   "execution_count": 26,
   "id": "79f2ae35-f616-4874-ab80-6d9d8a6019ce",
   "metadata": {
    "tags": []
   },
   "outputs": [
    {
     "data": {
      "text/html": [
       "<div>\n",
       "<style scoped>\n",
       "    .dataframe tbody tr th:only-of-type {\n",
       "        vertical-align: middle;\n",
       "    }\n",
       "\n",
       "    .dataframe tbody tr th {\n",
       "        vertical-align: top;\n",
       "    }\n",
       "\n",
       "    .dataframe thead th {\n",
       "        text-align: right;\n",
       "    }\n",
       "</style>\n",
       "<table border=\"1\" class=\"dataframe\">\n",
       "  <thead>\n",
       "    <tr style=\"text-align: right;\">\n",
       "      <th></th>\n",
       "      <th>Numero CAS</th>\n",
       "      <th>NOM SA</th>\n",
       "      <th>CLASSEMENT DATE</th>\n",
       "      <th>CLASSEMENT CATÉGORIE DANGER</th>\n",
       "      <th>CLASSEMENT CODE H</th>\n",
       "      <th>CLASSEMENT MENTION DANGER</th>\n",
       "    </tr>\n",
       "  </thead>\n",
       "  <tbody>\n",
       "    <tr>\n",
       "      <th>0</th>\n",
       "      <td>71751-41-2</td>\n",
       "      <td>abamectine</td>\n",
       "      <td>10/07/2012</td>\n",
       "      <td>Dangers pour le milieu aquatique - Danger aigu...</td>\n",
       "      <td>H400</td>\n",
       "      <td>Très toxique pour les organismes aquatiques</td>\n",
       "    </tr>\n",
       "    <tr>\n",
       "      <th>1</th>\n",
       "      <td>71751-41-2</td>\n",
       "      <td>abamectine</td>\n",
       "      <td>10/07/2012</td>\n",
       "      <td>Toxicité spécifique pour certains organes cibl...</td>\n",
       "      <td>H372</td>\n",
       "      <td>Risque avéré d'effet graves pour les organes à...</td>\n",
       "    </tr>\n",
       "    <tr>\n",
       "      <th>2</th>\n",
       "      <td>71751-41-2</td>\n",
       "      <td>abamectine</td>\n",
       "      <td>10/07/2012</td>\n",
       "      <td>Toxicité pour la reproduction, catégorie 2(d)</td>\n",
       "      <td>H361d</td>\n",
       "      <td>Susceptible de nuire au foetus</td>\n",
       "    </tr>\n",
       "    <tr>\n",
       "      <th>3</th>\n",
       "      <td>71751-41-2</td>\n",
       "      <td>abamectine</td>\n",
       "      <td>10/07/2012</td>\n",
       "      <td>Toxicité aiguë (par voie orale), catégorie 2</td>\n",
       "      <td>H300</td>\n",
       "      <td>Mortel en cas d'ingestion</td>\n",
       "    </tr>\n",
       "    <tr>\n",
       "      <th>4</th>\n",
       "      <td>71751-41-2</td>\n",
       "      <td>abamectine</td>\n",
       "      <td>10/07/2012</td>\n",
       "      <td>Dangers pour le milieu aquatique - Danger chro...</td>\n",
       "      <td>H410</td>\n",
       "      <td>Très toxique pour les organismes aquatiques, e...</td>\n",
       "    </tr>\n",
       "  </tbody>\n",
       "</table>\n",
       "</div>"
      ],
      "text/plain": [
       "   Numero CAS      NOM SA CLASSEMENT DATE  \\\n",
       "0  71751-41-2  abamectine      10/07/2012   \n",
       "1  71751-41-2  abamectine      10/07/2012   \n",
       "2  71751-41-2  abamectine      10/07/2012   \n",
       "3  71751-41-2  abamectine      10/07/2012   \n",
       "4  71751-41-2  abamectine      10/07/2012   \n",
       "\n",
       "                         CLASSEMENT CATÉGORIE DANGER CLASSEMENT CODE H  \\\n",
       "0  Dangers pour le milieu aquatique - Danger aigu...              H400   \n",
       "1  Toxicité spécifique pour certains organes cibl...              H372   \n",
       "2      Toxicité pour la reproduction, catégorie 2(d)             H361d   \n",
       "3       Toxicité aiguë (par voie orale), catégorie 2              H300   \n",
       "4  Dangers pour le milieu aquatique - Danger chro...              H410   \n",
       "\n",
       "                           CLASSEMENT MENTION DANGER  \n",
       "0        Très toxique pour les organismes aquatiques  \n",
       "1  Risque avéré d'effet graves pour les organes à...  \n",
       "2                     Susceptible de nuire au foetus  \n",
       "3                          Mortel en cas d'ingestion  \n",
       "4  Très toxique pour les organismes aquatiques, e...  "
      ]
     },
     "execution_count": 26,
     "metadata": {},
     "output_type": "execute_result"
    }
   ],
   "source": [
    "agritox.head()"
   ]
  },
  {
   "cell_type": "code",
   "execution_count": null,
   "id": "8176ecac-a104-41a5-9e4f-7b7e3144b334",
   "metadata": {},
   "outputs": [],
   "source": [
    "# Je transforme le type de donnes des CAS en string pour mener à bien le reste."
   ]
  },
  {
   "cell_type": "code",
   "execution_count": 38,
   "id": "d98dbb52-c057-476d-9762-89a60201df2d",
   "metadata": {
    "tags": []
   },
   "outputs": [],
   "source": [
    "agritox['Numero CAS'] = agritox['Numero CAS'].astype(str)"
   ]
  },
  {
   "cell_type": "code",
   "execution_count": 140,
   "id": "90027ab6-0ad9-428d-8990-de0d31475df2",
   "metadata": {
    "tags": []
   },
   "outputs": [],
   "source": [
    "# Pour les lignes avec plusieurs CAS, je m'assure de ne laisser qu'un CAS par ligne.\n",
    "\n",
    "# Liste vide pour collecter les nouvelles lignes\n",
    "new_rows = []\n",
    "\n",
    "for index, row in agritox.iterrows():\n",
    "    if \" ou \" in row[\"CAS\"]:\n",
    "        # Séparer le contenu de la colonne \"CAS #\" en deux parties\n",
    "        cas = row[\"CAS\"].split(' ou ')\n",
    "        \n",
    "        # Mettre à jour la première partie dans la ligne actuelle\n",
    "        agritox.at[index, \"CAS\"] = cas[0]\n",
    "        \n",
    "        # Créer une nouvelle ligne avec la deuxième partie du CAS\n",
    "        new_row = row.copy()  # Crée une copie de la ligne actuelle\n",
    "        new_row[\"CAS\"] = cas[1]  # Remplacer \"CAS #\" par la deuxième partie\n",
    "\n",
    "        # Ajouter cette nouvelle ligne à la liste new_rows\n",
    "        new_rows.append(new_row)\n",
    "\n",
    "# Si des nouvelles lignes ont été collectées, les ajouter au DataFrame\n",
    "if new_rows:\n",
    "    # Créer un DataFrame à partir des nouvelles lignes et les concaténer\n",
    "    agritox = pd.concat([agritox, pd.DataFrame(new_rows)], ignore_index=True)\n"
   ]
  },
  {
   "cell_type": "code",
   "execution_count": 40,
   "id": "28606b9a-1de1-47be-bb14-cfa2cdd9d73a",
   "metadata": {
    "tags": []
   },
   "outputs": [
    {
     "data": {
      "text/plain": [
       "array(['Dangers pour le milieu aquatique - Danger aigu, catégorie 1',\n",
       "       'Toxicité spécifique pour certains organes cibles - Exposition répétée, catégorie 1',\n",
       "       'Toxicité pour la reproduction, catégorie 2(d)',\n",
       "       'Toxicité aiguë (par voie orale), catégorie 2',\n",
       "       'Dangers pour le milieu aquatique - Danger chronique, catégorie 1',\n",
       "       'Toxicité aiguë (par inhalation), catégorie 1',\n",
       "       'Sensibilisation cutanée, catégorie 1',\n",
       "       'Toxicité spécifique pour certains organes cibles - Exposition répétée, catégorie 2',\n",
       "       'Toxicité spécifique pour certains organes cibles - Exposition unique, catégorie 1',\n",
       "       'Toxicité aiguë (par voie orale), catégorie 3',\n",
       "       'Dangers pour le milieu aquatique - Danger chronique, catégorie 3',\n",
       "       'Irritation oculaire, catégorie 2',\n",
       "       'Irritant pour la peau, catégorie 2',\n",
       "       'Toxicité spécifique pour certains organes cibles - Exposition unique - Irritation des voies respiratoires, catégorie 3',\n",
       "       'Liquides inflammables, catégorie 3',\n",
       "       'Corrosif pour la peau, catégorie 1A',\n",
       "       'Lésions oculaires graves, catégorie 1', 'Sans classement',\n",
       "       'Corrosif pour la peau, catégorie 1C',\n",
       "       'Toxicité pour la reproduction, catégorie 2(fd)',\n",
       "       'Toxicité aiguë (par voie orale), catégorie 4',\n",
       "       'Dangers pour le milieu aquatique - Danger chronique, catégorie 2',\n",
       "       'Cancérogénicité, catégorie 2',\n",
       "       'Sensibilisation cutanée, catégorie 1A',\n",
       "       'Toxicité aiguë (par inhalation), catégorie 3',\n",
       "       'Cancérogénicité, catégorie 1B',\n",
       "       'Sensibilisation cutanée, catégorie 1B',\n",
       "       'Toxicité aiguë (par voie cutanée), catégorie 4',\n",
       "       'Toxicité aiguë (par inhalation), catégorie 4',\n",
       "       'Toxicité aiguë (par inhalation), catégorie 2',\n",
       "       'Toxicité pour la reproduction, catégorie 1B(F)',\n",
       "       'Toxicité aiguë (par voie cutanée), catégorie 3',\n",
       "       'Effet sur ou via la lactation, catégorie Lacta.',\n",
       "       'Toxicité spécifique pour certains organes cibles - Exposition unique - Effets narcotiques, catégorie 3',\n",
       "       'Toxicité pour la reproduction, catégorie 1B(FD)',\n",
       "       'Toxicité pour la reproduction, catégorie 1B(D)',\n",
       "       'Danger par aspiration, catégorie 1',\n",
       "       'Dangers pour le milieu aquatique - Danger chronique, catégorie 4',\n",
       "       'Toxicité pour la reproduction, catégorie 2(f)',\n",
       "       'Matières solides inflammables, catégorie 2',\n",
       "       \"Substances et mélanges qui, au contact de l'eau, dégagent des gaz inflammables, catégorie 1\",\n",
       "       'Toxicité aiguë (par voie cutanée), catégorie 2'], dtype=object)"
      ]
     },
     "execution_count": 40,
     "metadata": {},
     "output_type": "execute_result"
    }
   ],
   "source": [
    "# Observation des dangers uniques (pour savoir dans quelles catégories les mettre)\n",
    "agritox[\"CLASSEMENT CATÉGORIE DANGER\"].unique()"
   ]
  },
  {
   "cell_type": "code",
   "execution_count": 41,
   "id": "d9af27bf-33ab-424e-81b2-70e91d367d12",
   "metadata": {
    "tags": []
   },
   "outputs": [],
   "source": [
    "# Création de la colonne Toxicité Cutanée et Respiratoire\n",
    "agritox[\"Toxicité Cutanée et Respiratoire\"] = [\n",
    "    1 if any(keyword in row for keyword in [\"peau\", \"respiratoire\", \"cutanée\", \"oculaire\"]) \n",
    "    else 0\n",
    "    for row in agritox[\"CLASSEMENT CATÉGORIE DANGER\"]\n",
    "]"
   ]
  },
  {
   "cell_type": "code",
   "execution_count": 43,
   "id": "149c9d2e-fe43-4ef8-a7aa-765bbad07fcd",
   "metadata": {
    "tags": []
   },
   "outputs": [],
   "source": [
    "# Création de la colonne Toxicité Systémique et Organique\n",
    "agritox[\"Toxicité Systémique et Organique\"] = [\n",
    "    1 if any(keyword in row for keyword in [\"Danger par aspiration\", \n",
    "                                            \"Toxicité aiguë (par inhalation)\", \n",
    "                                            \"Toxicité aiguë (par voie orale)\", \n",
    "                                            \"certains organes cibles\",\n",
    "                                            \"narcotiques\"]) \n",
    "    else 0\n",
    "    for row in agritox[\"CLASSEMENT CATÉGORIE DANGER\"]\n",
    "]"
   ]
  },
  {
   "cell_type": "code",
   "execution_count": 44,
   "id": "36e46456-c20a-4023-a355-8aeeefae7a21",
   "metadata": {
    "tags": []
   },
   "outputs": [],
   "source": [
    "# Création de la colonne Toxicité Reproductive et Développementale\n",
    "agritox[\"Toxicité Reproductive et Développementale\"] = [\n",
    "    1 if any(keyword in row for keyword in [\"reproduction\", \n",
    "                                            \"lactation\"]) \n",
    "    else 0\n",
    "    for row in agritox[\"CLASSEMENT CATÉGORIE DANGER\"]\n",
    "]"
   ]
  },
  {
   "cell_type": "code",
   "execution_count": 45,
   "id": "d80fec93-6831-4a31-91ba-af86dbf5a82f",
   "metadata": {
    "tags": []
   },
   "outputs": [],
   "source": [
    "# Création de la colonne Risques Génétiques et Cancers\n",
    "agritox[\"Toxicité Risques Génétiques et Cancers\"] = [\n",
    "    1 if any(keyword in row for keyword in [\"Cancérogénicité\"]) \n",
    "    else 0\n",
    "    for row in agritox[\"CLASSEMENT CATÉGORIE DANGER\"]\n",
    "]"
   ]
  },
  {
   "cell_type": "code",
   "execution_count": 46,
   "id": "9fbb329b-0ffc-476d-8b38-31081a37447d",
   "metadata": {
    "tags": []
   },
   "outputs": [],
   "source": [
    "# Création de la colonne Impact Environnemental et Accumulation\n",
    "agritox[\"Impact Environnemental et Accumulation\"] = [\n",
    "    1 if any(keyword in row for keyword in [\"inflammables\",\n",
    "                                            \"au contact de l'eau\",\n",
    "                                            \"milieu aquatiqu\"]) \n",
    "    else 0\n",
    "    for row in agritox[\"CLASSEMENT CATÉGORIE DANGER\"]\n",
    "]"
   ]
  },
  {
   "cell_type": "code",
   "execution_count": 52,
   "id": "d6235697-f2ee-4541-85b3-388011dfcd72",
   "metadata": {
    "tags": []
   },
   "outputs": [],
   "source": [
    "# Créer une colonne catégorie de Danger\n",
    "\n",
    "new_column = []\n",
    "for row in agritox[\"CLASSEMENT CATÉGORIE DANGER\"]:\n",
    "    try:\n",
    "        # Séparer la chaîne de caractères par la virgule et prendre le deuxième élément\n",
    "        categorie = row.split(\",\")[1].strip()  # .strip() pour enlever les espaces superflus\n",
    "    except IndexError:\n",
    "        # Si la séparation échoue (ex: il n'y a pas de virgule), ajouter un message par défaut\n",
    "        categorie = \"Pas de Catégorie\"\n",
    "    new_column.append(categorie)\n",
    "\n",
    "# Ajouter la nouvelle colonne au DataFrame\n",
    "agritox[\"Catégorie Danger\"] = new_column"
   ]
  },
  {
   "cell_type": "code",
   "execution_count": 53,
   "id": "dab28c0a-3a64-45ad-af06-e0998f2d4ab4",
   "metadata": {
    "tags": []
   },
   "outputs": [
    {
     "data": {
      "text/html": [
       "<div>\n",
       "<style scoped>\n",
       "    .dataframe tbody tr th:only-of-type {\n",
       "        vertical-align: middle;\n",
       "    }\n",
       "\n",
       "    .dataframe tbody tr th {\n",
       "        vertical-align: top;\n",
       "    }\n",
       "\n",
       "    .dataframe thead th {\n",
       "        text-align: right;\n",
       "    }\n",
       "</style>\n",
       "<table border=\"1\" class=\"dataframe\">\n",
       "  <thead>\n",
       "    <tr style=\"text-align: right;\">\n",
       "      <th></th>\n",
       "      <th>Numero CAS</th>\n",
       "      <th>NOM SA</th>\n",
       "      <th>CLASSEMENT DATE</th>\n",
       "      <th>CLASSEMENT CATÉGORIE DANGER</th>\n",
       "      <th>CLASSEMENT CODE H</th>\n",
       "      <th>CLASSEMENT MENTION DANGER</th>\n",
       "      <th>Toxicité Cutanée et Respiratoire</th>\n",
       "      <th>Toxicité Systémique et Organique</th>\n",
       "      <th>Toxicité Reproductive et Développementale</th>\n",
       "      <th>Toxicité Risques Génétiques et Cancers</th>\n",
       "      <th>Impact Environnemental et Accumulation</th>\n",
       "      <th>Catégorie Danger</th>\n",
       "    </tr>\n",
       "  </thead>\n",
       "  <tbody>\n",
       "    <tr>\n",
       "      <th>0</th>\n",
       "      <td>71751-41-2</td>\n",
       "      <td>abamectine</td>\n",
       "      <td>10/07/2012</td>\n",
       "      <td>Dangers pour le milieu aquatique - Danger aigu...</td>\n",
       "      <td>H400</td>\n",
       "      <td>Très toxique pour les organismes aquatiques</td>\n",
       "      <td>0</td>\n",
       "      <td>0</td>\n",
       "      <td>0</td>\n",
       "      <td>0</td>\n",
       "      <td>1</td>\n",
       "      <td>catégorie 1</td>\n",
       "    </tr>\n",
       "    <tr>\n",
       "      <th>1</th>\n",
       "      <td>71751-41-2</td>\n",
       "      <td>abamectine</td>\n",
       "      <td>10/07/2012</td>\n",
       "      <td>Toxicité spécifique pour certains organes cibl...</td>\n",
       "      <td>H372</td>\n",
       "      <td>Risque avéré d'effet graves pour les organes à...</td>\n",
       "      <td>0</td>\n",
       "      <td>1</td>\n",
       "      <td>0</td>\n",
       "      <td>0</td>\n",
       "      <td>0</td>\n",
       "      <td>catégorie 1</td>\n",
       "    </tr>\n",
       "    <tr>\n",
       "      <th>2</th>\n",
       "      <td>71751-41-2</td>\n",
       "      <td>abamectine</td>\n",
       "      <td>10/07/2012</td>\n",
       "      <td>Toxicité pour la reproduction, catégorie 2(d)</td>\n",
       "      <td>H361d</td>\n",
       "      <td>Susceptible de nuire au foetus</td>\n",
       "      <td>0</td>\n",
       "      <td>0</td>\n",
       "      <td>1</td>\n",
       "      <td>0</td>\n",
       "      <td>0</td>\n",
       "      <td>catégorie 2(d)</td>\n",
       "    </tr>\n",
       "    <tr>\n",
       "      <th>3</th>\n",
       "      <td>71751-41-2</td>\n",
       "      <td>abamectine</td>\n",
       "      <td>10/07/2012</td>\n",
       "      <td>Toxicité aiguë (par voie orale), catégorie 2</td>\n",
       "      <td>H300</td>\n",
       "      <td>Mortel en cas d'ingestion</td>\n",
       "      <td>0</td>\n",
       "      <td>1</td>\n",
       "      <td>0</td>\n",
       "      <td>0</td>\n",
       "      <td>0</td>\n",
       "      <td>catégorie 2</td>\n",
       "    </tr>\n",
       "    <tr>\n",
       "      <th>4</th>\n",
       "      <td>71751-41-2</td>\n",
       "      <td>abamectine</td>\n",
       "      <td>10/07/2012</td>\n",
       "      <td>Dangers pour le milieu aquatique - Danger chro...</td>\n",
       "      <td>H410</td>\n",
       "      <td>Très toxique pour les organismes aquatiques, e...</td>\n",
       "      <td>0</td>\n",
       "      <td>0</td>\n",
       "      <td>0</td>\n",
       "      <td>0</td>\n",
       "      <td>1</td>\n",
       "      <td>catégorie 1</td>\n",
       "    </tr>\n",
       "  </tbody>\n",
       "</table>\n",
       "</div>"
      ],
      "text/plain": [
       "   Numero CAS      NOM SA CLASSEMENT DATE  \\\n",
       "0  71751-41-2  abamectine      10/07/2012   \n",
       "1  71751-41-2  abamectine      10/07/2012   \n",
       "2  71751-41-2  abamectine      10/07/2012   \n",
       "3  71751-41-2  abamectine      10/07/2012   \n",
       "4  71751-41-2  abamectine      10/07/2012   \n",
       "\n",
       "                         CLASSEMENT CATÉGORIE DANGER CLASSEMENT CODE H  \\\n",
       "0  Dangers pour le milieu aquatique - Danger aigu...              H400   \n",
       "1  Toxicité spécifique pour certains organes cibl...              H372   \n",
       "2      Toxicité pour la reproduction, catégorie 2(d)             H361d   \n",
       "3       Toxicité aiguë (par voie orale), catégorie 2              H300   \n",
       "4  Dangers pour le milieu aquatique - Danger chro...              H410   \n",
       "\n",
       "                           CLASSEMENT MENTION DANGER  \\\n",
       "0        Très toxique pour les organismes aquatiques   \n",
       "1  Risque avéré d'effet graves pour les organes à...   \n",
       "2                     Susceptible de nuire au foetus   \n",
       "3                          Mortel en cas d'ingestion   \n",
       "4  Très toxique pour les organismes aquatiques, e...   \n",
       "\n",
       "   Toxicité Cutanée et Respiratoire  Toxicité Systémique et Organique  \\\n",
       "0                                 0                                 0   \n",
       "1                                 0                                 1   \n",
       "2                                 0                                 0   \n",
       "3                                 0                                 1   \n",
       "4                                 0                                 0   \n",
       "\n",
       "   Toxicité Reproductive et Développementale  \\\n",
       "0                                          0   \n",
       "1                                          0   \n",
       "2                                          1   \n",
       "3                                          0   \n",
       "4                                          0   \n",
       "\n",
       "   Toxicité Risques Génétiques et Cancers  \\\n",
       "0                                       0   \n",
       "1                                       0   \n",
       "2                                       0   \n",
       "3                                       0   \n",
       "4                                       0   \n",
       "\n",
       "   Impact Environnemental et Accumulation Catégorie Danger  \n",
       "0                                       1      catégorie 1  \n",
       "1                                       0      catégorie 1  \n",
       "2                                       0   catégorie 2(d)  \n",
       "3                                       0      catégorie 2  \n",
       "4                                       1      catégorie 1  "
      ]
     },
     "execution_count": 53,
     "metadata": {},
     "output_type": "execute_result"
    }
   ],
   "source": [
    "agritox.head()"
   ]
  },
  {
   "cell_type": "code",
   "execution_count": 54,
   "id": "62165809-43e8-42ca-910a-f0beb7be94fa",
   "metadata": {
    "tags": []
   },
   "outputs": [
    {
     "data": {
      "text/plain": [
       "Index(['Numero CAS', 'NOM SA', 'CLASSEMENT DATE',\n",
       "       'CLASSEMENT CATÉGORIE DANGER', 'CLASSEMENT CODE H',\n",
       "       'CLASSEMENT MENTION DANGER', 'Toxicité Cutanée et Respiratoire',\n",
       "       'Toxicité Systémique et Organique',\n",
       "       'Toxicité Reproductive et Développementale',\n",
       "       'Toxicité Risques Génétiques et Cancers',\n",
       "       'Impact Environnemental et Accumulation', 'Catégorie Danger'],\n",
       "      dtype='object')"
      ]
     },
     "execution_count": 54,
     "metadata": {},
     "output_type": "execute_result"
    }
   ],
   "source": [
    "agritox.columns"
   ]
  },
  {
   "cell_type": "code",
   "execution_count": 55,
   "id": "fb6c77a2-de42-4d75-9631-da7123b427cc",
   "metadata": {
    "tags": []
   },
   "outputs": [],
   "source": [
    "# Changer l'ordre des colonnes\n",
    "agritox = agritox[['Numero CAS', 'NOM SA', 'CLASSEMENT DATE', 'Toxicité Cutanée et Respiratoire',\n",
    "       'Toxicité Systémique et Organique',\n",
    "       'Toxicité Reproductive et Développementale',\n",
    "       'Toxicité Risques Génétiques et Cancers',\n",
    "       'Impact Environnemental et Accumulation', 'Catégorie Danger']]"
   ]
  },
  {
   "cell_type": "code",
   "execution_count": 102,
   "id": "9eba7e15-295e-4e40-9d74-1f5da87b64ff",
   "metadata": {
    "tags": []
   },
   "outputs": [],
   "source": [
    "# Dans agritox, les substances toxiques sont répertoriées, mais parfois, aucune toxicité ne lui ai attribuée. \n",
    "# Création d'une colonne Toxicité indéfinie\n",
    "\n",
    "agritox[\"Toxicité indéfinie\"] = [\n",
    "    1 if (row[\"Toxicité Cutanée et Respiratoire\"] + \n",
    "          row[\"Toxicité Systémique et Organique\"] +\n",
    "          row[\"Toxicité Reproductive et Développementale\"] + \n",
    "          row[\"Toxicité Risques Génétiques et Cancers\"] + \n",
    "          row[\"Impact Environnemental et Accumulation\"]) == 0 \n",
    "    else 0\n",
    "    for index, row in agritox.iterrows()\n",
    "]"
   ]
  },
  {
   "cell_type": "code",
   "execution_count": 114,
   "id": "1c57dba8-8d0b-4758-8a0e-06fd51a5f320",
   "metadata": {
    "tags": []
   },
   "outputs": [],
   "source": [
    "agritox = agritox.rename(columns={'Numero CAS': 'CAS'})"
   ]
  },
  {
   "cell_type": "code",
   "execution_count": 139,
   "id": "385d864d-4a55-4d24-a59e-adb6a9cc24ee",
   "metadata": {
    "tags": []
   },
   "outputs": [],
   "source": [
    "agritox = agritox.rename(columns={'Toxicité Risques Génétiques et Cancers': 'Risques Génétiques et Cancers'})"
   ]
  },
  {
   "cell_type": "code",
   "execution_count": 106,
   "id": "d34dd920-0cd6-4800-9c01-956586fd404d",
   "metadata": {
    "tags": []
   },
   "outputs": [
    {
     "data": {
      "text/plain": [
       "Index(['Numero CAS', 'NOM SA', 'CLASSEMENT DATE',\n",
       "       'Toxicité Cutanée et Respiratoire', 'Toxicité Systémique et Organique',\n",
       "       'Toxicité Reproductive et Développementale',\n",
       "       'Risques Génétiques et Cancers',\n",
       "       'Impact Environnemental et Accumulation', 'Catégorie Danger',\n",
       "       'Toxicité indéfinie'],\n",
       "      dtype='object')"
      ]
     },
     "execution_count": 106,
     "metadata": {},
     "output_type": "execute_result"
    }
   ],
   "source": [
    "agritox.columns"
   ]
  },
  {
   "cell_type": "code",
   "execution_count": 107,
   "id": "8021a302-72d0-4b00-ba1f-de6adf63f94c",
   "metadata": {
    "tags": []
   },
   "outputs": [],
   "source": [
    "agritox = agritox[['CAS', 'NOM SA', 'CLASSEMENT DATE',\n",
    "       'Toxicité Cutanée et Respiratoire', 'Toxicité Systémique et Organique',\n",
    "       'Toxicité Reproductive et Développementale',\n",
    "       'Risques Génétiques et Cancers',\n",
    "       'Impact Environnemental et Accumulation', 'Toxicité indéfinie','Catégorie Danger']]"
   ]
  },
  {
   "cell_type": "code",
   "execution_count": 141,
   "id": "4201d4ed-9995-47c1-b8ad-0ea7af79b263",
   "metadata": {
    "tags": []
   },
   "outputs": [],
   "source": [
    "# Enregistrement des données\n",
    "agritox.to_excel(\"/Users/alelia/Desktop/Data/DATA SUITS/Soutenance/Skincare/DATA/CLEAN/2. AGRITOX/clean/agritox.xlsx\")"
   ]
  },
  {
   "cell_type": "code",
   "execution_count": 115,
   "id": "5c46110b-c7e0-4c8d-a237-dfa02548e6ea",
   "metadata": {
    "tags": []
   },
   "outputs": [
    {
     "data": {
      "text/html": [
       "<div>\n",
       "<style scoped>\n",
       "    .dataframe tbody tr th:only-of-type {\n",
       "        vertical-align: middle;\n",
       "    }\n",
       "\n",
       "    .dataframe tbody tr th {\n",
       "        vertical-align: top;\n",
       "    }\n",
       "\n",
       "    .dataframe thead th {\n",
       "        text-align: right;\n",
       "    }\n",
       "</style>\n",
       "<table border=\"1\" class=\"dataframe\">\n",
       "  <thead>\n",
       "    <tr style=\"text-align: right;\">\n",
       "      <th></th>\n",
       "      <th>CAS</th>\n",
       "      <th>NOM SA</th>\n",
       "      <th>CLASSEMENT DATE</th>\n",
       "      <th>Toxicité Cutanée et Respiratoire</th>\n",
       "      <th>Toxicité Systémique et Organique</th>\n",
       "      <th>Toxicité Reproductive et Développementale</th>\n",
       "      <th>Risques Génétiques et Cancers</th>\n",
       "      <th>Impact Environnemental et Accumulation</th>\n",
       "      <th>Toxicité indéfinie</th>\n",
       "      <th>Catégorie Danger</th>\n",
       "    </tr>\n",
       "  </thead>\n",
       "  <tbody>\n",
       "    <tr>\n",
       "      <th>0</th>\n",
       "      <td>71751-41-2</td>\n",
       "      <td>abamectine</td>\n",
       "      <td>10/07/2012</td>\n",
       "      <td>0</td>\n",
       "      <td>0</td>\n",
       "      <td>0</td>\n",
       "      <td>0</td>\n",
       "      <td>1</td>\n",
       "      <td>0</td>\n",
       "      <td>catégorie 1</td>\n",
       "    </tr>\n",
       "    <tr>\n",
       "      <th>1</th>\n",
       "      <td>71751-41-2</td>\n",
       "      <td>abamectine</td>\n",
       "      <td>10/07/2012</td>\n",
       "      <td>0</td>\n",
       "      <td>1</td>\n",
       "      <td>0</td>\n",
       "      <td>0</td>\n",
       "      <td>0</td>\n",
       "      <td>0</td>\n",
       "      <td>catégorie 1</td>\n",
       "    </tr>\n",
       "    <tr>\n",
       "      <th>2</th>\n",
       "      <td>71751-41-2</td>\n",
       "      <td>abamectine</td>\n",
       "      <td>10/07/2012</td>\n",
       "      <td>0</td>\n",
       "      <td>0</td>\n",
       "      <td>1</td>\n",
       "      <td>0</td>\n",
       "      <td>0</td>\n",
       "      <td>0</td>\n",
       "      <td>catégorie 2(d)</td>\n",
       "    </tr>\n",
       "    <tr>\n",
       "      <th>3</th>\n",
       "      <td>71751-41-2</td>\n",
       "      <td>abamectine</td>\n",
       "      <td>10/07/2012</td>\n",
       "      <td>0</td>\n",
       "      <td>1</td>\n",
       "      <td>0</td>\n",
       "      <td>0</td>\n",
       "      <td>0</td>\n",
       "      <td>0</td>\n",
       "      <td>catégorie 2</td>\n",
       "    </tr>\n",
       "    <tr>\n",
       "      <th>4</th>\n",
       "      <td>71751-41-2</td>\n",
       "      <td>abamectine</td>\n",
       "      <td>10/07/2012</td>\n",
       "      <td>0</td>\n",
       "      <td>0</td>\n",
       "      <td>0</td>\n",
       "      <td>0</td>\n",
       "      <td>1</td>\n",
       "      <td>0</td>\n",
       "      <td>catégorie 1</td>\n",
       "    </tr>\n",
       "  </tbody>\n",
       "</table>\n",
       "</div>"
      ],
      "text/plain": [
       "          CAS      NOM SA CLASSEMENT DATE  Toxicité Cutanée et Respiratoire  \\\n",
       "0  71751-41-2  abamectine      10/07/2012                                 0   \n",
       "1  71751-41-2  abamectine      10/07/2012                                 0   \n",
       "2  71751-41-2  abamectine      10/07/2012                                 0   \n",
       "3  71751-41-2  abamectine      10/07/2012                                 0   \n",
       "4  71751-41-2  abamectine      10/07/2012                                 0   \n",
       "\n",
       "   Toxicité Systémique et Organique  \\\n",
       "0                                 0   \n",
       "1                                 1   \n",
       "2                                 0   \n",
       "3                                 1   \n",
       "4                                 0   \n",
       "\n",
       "   Toxicité Reproductive et Développementale  Risques Génétiques et Cancers  \\\n",
       "0                                          0                              0   \n",
       "1                                          0                              0   \n",
       "2                                          1                              0   \n",
       "3                                          0                              0   \n",
       "4                                          0                              0   \n",
       "\n",
       "   Impact Environnemental et Accumulation  Toxicité indéfinie Catégorie Danger  \n",
       "0                                       1                   0      catégorie 1  \n",
       "1                                       0                   0      catégorie 1  \n",
       "2                                       0                   0   catégorie 2(d)  \n",
       "3                                       0                   0      catégorie 2  \n",
       "4                                       1                   0      catégorie 1  "
      ]
     },
     "execution_count": 115,
     "metadata": {},
     "output_type": "execute_result"
    }
   ],
   "source": [
    "agritox.head()"
   ]
  },
  {
   "cell_type": "markdown",
   "id": "2edc77ce-128d-48b9-9c58-b372a451157f",
   "metadata": {},
   "source": [
    "## RIL"
   ]
  },
  {
   "cell_type": "code",
   "execution_count": 58,
   "id": "25e4542c-8626-4054-8040-6361d741ffad",
   "metadata": {
    "tags": []
   },
   "outputs": [
    {
     "data": {
      "text/plain": [
       "Index(['Unnamed: 0', 'Chemical Name', 'CAS RN', 'Synonyms', 'Hazard Traits',\n",
       "       'When to Report (Any, FF, FA)'],\n",
       "      dtype='object')"
      ]
     },
     "execution_count": 58,
     "metadata": {},
     "output_type": "execute_result"
    }
   ],
   "source": [
    "ril.columns"
   ]
  },
  {
   "cell_type": "code",
   "execution_count": 59,
   "id": "a9ed00a6-023a-4be7-9110-6f325ab98075",
   "metadata": {
    "tags": []
   },
   "outputs": [],
   "source": [
    "# Changer l'ordre des colonnes\n",
    "ril = ril[['Chemical Name', 'CAS RN', 'Synonyms', 'Hazard Traits']]"
   ]
  },
  {
   "cell_type": "code",
   "execution_count": 60,
   "id": "636c1b20-60eb-400c-bbaf-106845706d08",
   "metadata": {
    "tags": []
   },
   "outputs": [
    {
     "data": {
      "text/html": [
       "<div>\n",
       "<style scoped>\n",
       "    .dataframe tbody tr th:only-of-type {\n",
       "        vertical-align: middle;\n",
       "    }\n",
       "\n",
       "    .dataframe tbody tr th {\n",
       "        vertical-align: top;\n",
       "    }\n",
       "\n",
       "    .dataframe thead th {\n",
       "        text-align: right;\n",
       "    }\n",
       "</style>\n",
       "<table border=\"1\" class=\"dataframe\">\n",
       "  <thead>\n",
       "    <tr style=\"text-align: right;\">\n",
       "      <th></th>\n",
       "      <th>Chemical Name</th>\n",
       "      <th>CAS RN</th>\n",
       "      <th>Synonyms</th>\n",
       "      <th>Hazard Traits</th>\n",
       "    </tr>\n",
       "  </thead>\n",
       "  <tbody>\n",
       "    <tr>\n",
       "      <th>0</th>\n",
       "      <td>Diquat dibromide</td>\n",
       "      <td>85-00-7</td>\n",
       "      <td>NaN</td>\n",
       "      <td>Toxicity Undefined</td>\n",
       "    </tr>\n",
       "    <tr>\n",
       "      <th>1</th>\n",
       "      <td>1-Chloro-4-nitrobenzene</td>\n",
       "      <td>100-00-5</td>\n",
       "      <td>4-Chloronitrobenzene</td>\n",
       "      <td>Carcinogenicity</td>\n",
       "    </tr>\n",
       "    <tr>\n",
       "      <th>2</th>\n",
       "      <td>4-Nitrophenol</td>\n",
       "      <td>100-02-7</td>\n",
       "      <td>NaN</td>\n",
       "      <td>Dermatotoxicity; Environmental tox; Hazard Tra...</td>\n",
       "    </tr>\n",
       "    <tr>\n",
       "      <th>3</th>\n",
       "      <td>para-Nitroanisole</td>\n",
       "      <td>100-17-4</td>\n",
       "      <td>NaN</td>\n",
       "      <td>Carcinogenicity</td>\n",
       "    </tr>\n",
       "    <tr>\n",
       "      <th>4</th>\n",
       "      <td>p-Dinitrobenzene</td>\n",
       "      <td>100-25-4</td>\n",
       "      <td>NaN</td>\n",
       "      <td>Reproductive Toxicity</td>\n",
       "    </tr>\n",
       "  </tbody>\n",
       "</table>\n",
       "</div>"
      ],
      "text/plain": [
       "             Chemical Name    CAS RN              Synonyms  \\\n",
       "0         Diquat dibromide   85-00-7                   NaN   \n",
       "1  1-Chloro-4-nitrobenzene  100-00-5  4-Chloronitrobenzene   \n",
       "2            4-Nitrophenol  100-02-7                   NaN   \n",
       "3        para-Nitroanisole  100-17-4                   NaN   \n",
       "4         p-Dinitrobenzene  100-25-4                   NaN   \n",
       "\n",
       "                                       Hazard Traits  \n",
       "0                                 Toxicity Undefined  \n",
       "1                                    Carcinogenicity  \n",
       "2  Dermatotoxicity; Environmental tox; Hazard Tra...  \n",
       "3                                    Carcinogenicity  \n",
       "4                              Reproductive Toxicity  "
      ]
     },
     "execution_count": 60,
     "metadata": {},
     "output_type": "execute_result"
    }
   ],
   "source": [
    "ril.head()"
   ]
  },
  {
   "cell_type": "code",
   "execution_count": 65,
   "id": "3b5a8560-17b5-45f1-9d50-dae7cbb2d7c5",
   "metadata": {
    "tags": []
   },
   "outputs": [],
   "source": [
    "# Création de la colonne Toxicité Cutanée et Respiratoire\n",
    "ril.loc[:, \"Toxicité Cutanée et Respiratoire\"] = [\n",
    "    1 if any(keyword in row for keyword in [\"Dermatotoxicity\", \"Fragrance\", \n",
    "                                            \"Respiratory\", \"Ocular\"]) \n",
    "    else 0\n",
    "    for row in ril['Hazard Traits']\n",
    "]"
   ]
  },
  {
   "cell_type": "code",
   "execution_count": 67,
   "id": "450d9dcd-1509-4042-ade7-21cc7079c1c7",
   "metadata": {
    "tags": []
   },
   "outputs": [],
   "source": [
    "# Création de la colonne Toxicité Systémique et Organique\n",
    "ril.loc[:, \"Toxicité Systémique et Organique\"] = [\n",
    "    1 if any(keyword in row for keyword in [\"Neurotoxi\", \n",
    "                                            \"Hepatotoxicity\", \n",
    "                                            \"Nephrotoxicity\", \n",
    "                                            \"Cardiovascular\",\n",
    "                                            \"Musculoskeletal\"]) \n",
    "    else 0\n",
    "    for row in ril['Hazard Traits']\n",
    "]"
   ]
  },
  {
   "cell_type": "code",
   "execution_count": 68,
   "id": "cfd8283b-6081-4356-8a6f-710de4cd90f6",
   "metadata": {
    "tags": []
   },
   "outputs": [],
   "source": [
    "# Création de la colonne Toxicité Reproductive et Développementale\n",
    "ril.loc[:, \"Toxicité Reproductive et Développementale\"] = [\n",
    "    1 if any(keyword in row for keyword in [\"Reproductive\", \n",
    "                                            \"Developmental\", \n",
    "                                            \"Endocrine\"]) \n",
    "    else 0\n",
    "    for row in ril['Hazard Traits']\n",
    "]"
   ]
  },
  {
   "cell_type": "code",
   "execution_count": 69,
   "id": "6480f32b-054c-4f59-a5cd-8e47f4a3c1ba",
   "metadata": {
    "tags": []
   },
   "outputs": [],
   "source": [
    "# Création de la colonne Risques Génétiques et Cancers\n",
    "ril.loc[:, \"Risques Génétiques et Cancers\"] = [\n",
    "    1 if any(keyword in row for keyword in [\"Carcinogenicity\", \n",
    "                                            \"Genotoxicity\"]) \n",
    "    else 0\n",
    "    for row in ril['Hazard Traits']\n",
    "]"
   ]
  },
  {
   "cell_type": "code",
   "execution_count": 70,
   "id": "951704f2-6822-4cd5-b492-4f588f9e73c2",
   "metadata": {
    "tags": []
   },
   "outputs": [],
   "source": [
    "# Création de la colonne Impact Environnemental et Accumulation\n",
    "ril[\"Impact Environnemental et Accumulation\"] = [\n",
    "    1 if any(keyword in row for keyword in [\"Environmental\",\n",
    "                                            \"Bioaccumulation\"]) \n",
    "    else 0\n",
    "    for row in ril['Hazard Traits']\n",
    "]"
   ]
  },
  {
   "cell_type": "code",
   "execution_count": 73,
   "id": "497dea24-e900-4a07-9ad9-dcdbcd8b23c7",
   "metadata": {
    "tags": []
   },
   "outputs": [],
   "source": [
    "ril = ril[['Chemical Name', 'CAS RN',\n",
    "       'Toxicité Cutanée et Respiratoire', 'Toxicité Systémique et Organique',\n",
    "       'Toxicité Reproductive et Développementale',\n",
    "       'Risques Génétiques et Cancers',\n",
    "       'Impact Environnemental et Accumulation']]"
   ]
  },
  {
   "cell_type": "code",
   "execution_count": 99,
   "id": "bd0b6f7b-f91e-44e7-ace0-1faf487261c4",
   "metadata": {
    "tags": []
   },
   "outputs": [],
   "source": [
    "ril[\"Toxicité indéfinie\"] = [\n",
    "    1 if (row[\"Toxicité Cutanée et Respiratoire\"] + \n",
    "          row[\"Toxicité Systémique et Organique\"] +\n",
    "          row[\"Toxicité Reproductive et Développementale\"] + \n",
    "          row[\"Risques Génétiques et Cancers\"] + \n",
    "          row[\"Impact Environnemental et Accumulation\"]) == 0 \n",
    "    else 0\n",
    "    for index, row in ril.iterrows()\n",
    "]"
   ]
  },
  {
   "cell_type": "code",
   "execution_count": 118,
   "id": "419c1034-ef00-435e-b1b1-7df45cfb1a57",
   "metadata": {
    "tags": []
   },
   "outputs": [],
   "source": [
    "ril = ril.rename(columns={'CAS RN': 'CAS'})"
   ]
  },
  {
   "cell_type": "code",
   "execution_count": 111,
   "id": "a4be27dc-32e1-4cad-9eb8-bb839d3f9288",
   "metadata": {
    "tags": []
   },
   "outputs": [],
   "source": [
    "ril.to_excel(\"/Users/alelia/Desktop/Data/DATA SUITS/Soutenance/Skincare/DATA/CLEAN/1. Chemicals in cosmetics/Reportable Ingredients List/clean/RIL.xlsx\")"
   ]
  },
  {
   "cell_type": "code",
   "execution_count": 119,
   "id": "f892a669-63fe-4d9f-b403-4122bec27756",
   "metadata": {
    "tags": []
   },
   "outputs": [
    {
     "data": {
      "text/html": [
       "<div>\n",
       "<style scoped>\n",
       "    .dataframe tbody tr th:only-of-type {\n",
       "        vertical-align: middle;\n",
       "    }\n",
       "\n",
       "    .dataframe tbody tr th {\n",
       "        vertical-align: top;\n",
       "    }\n",
       "\n",
       "    .dataframe thead th {\n",
       "        text-align: right;\n",
       "    }\n",
       "</style>\n",
       "<table border=\"1\" class=\"dataframe\">\n",
       "  <thead>\n",
       "    <tr style=\"text-align: right;\">\n",
       "      <th></th>\n",
       "      <th>Chemical Name</th>\n",
       "      <th>CAS</th>\n",
       "      <th>Toxicité Cutanée et Respiratoire</th>\n",
       "      <th>Toxicité Systémique et Organique</th>\n",
       "      <th>Toxicité Reproductive et Développementale</th>\n",
       "      <th>Risques Génétiques et Cancers</th>\n",
       "      <th>Impact Environnemental et Accumulation</th>\n",
       "      <th>Toxicité indéfinie</th>\n",
       "    </tr>\n",
       "  </thead>\n",
       "  <tbody>\n",
       "    <tr>\n",
       "      <th>0</th>\n",
       "      <td>Diquat dibromide</td>\n",
       "      <td>85-00-7</td>\n",
       "      <td>0</td>\n",
       "      <td>0</td>\n",
       "      <td>0</td>\n",
       "      <td>0</td>\n",
       "      <td>0</td>\n",
       "      <td>1</td>\n",
       "    </tr>\n",
       "    <tr>\n",
       "      <th>1</th>\n",
       "      <td>1-Chloro-4-nitrobenzene</td>\n",
       "      <td>100-00-5</td>\n",
       "      <td>0</td>\n",
       "      <td>0</td>\n",
       "      <td>0</td>\n",
       "      <td>1</td>\n",
       "      <td>0</td>\n",
       "      <td>0</td>\n",
       "    </tr>\n",
       "    <tr>\n",
       "      <th>2</th>\n",
       "      <td>4-Nitrophenol</td>\n",
       "      <td>100-02-7</td>\n",
       "      <td>1</td>\n",
       "      <td>0</td>\n",
       "      <td>0</td>\n",
       "      <td>0</td>\n",
       "      <td>1</td>\n",
       "      <td>0</td>\n",
       "    </tr>\n",
       "    <tr>\n",
       "      <th>3</th>\n",
       "      <td>para-Nitroanisole</td>\n",
       "      <td>100-17-4</td>\n",
       "      <td>0</td>\n",
       "      <td>0</td>\n",
       "      <td>0</td>\n",
       "      <td>1</td>\n",
       "      <td>0</td>\n",
       "      <td>0</td>\n",
       "    </tr>\n",
       "    <tr>\n",
       "      <th>4</th>\n",
       "      <td>p-Dinitrobenzene</td>\n",
       "      <td>100-25-4</td>\n",
       "      <td>0</td>\n",
       "      <td>0</td>\n",
       "      <td>1</td>\n",
       "      <td>0</td>\n",
       "      <td>0</td>\n",
       "      <td>0</td>\n",
       "    </tr>\n",
       "  </tbody>\n",
       "</table>\n",
       "</div>"
      ],
      "text/plain": [
       "             Chemical Name       CAS  Toxicité Cutanée et Respiratoire  \\\n",
       "0         Diquat dibromide   85-00-7                                 0   \n",
       "1  1-Chloro-4-nitrobenzene  100-00-5                                 0   \n",
       "2            4-Nitrophenol  100-02-7                                 1   \n",
       "3        para-Nitroanisole  100-17-4                                 0   \n",
       "4         p-Dinitrobenzene  100-25-4                                 0   \n",
       "\n",
       "   Toxicité Systémique et Organique  \\\n",
       "0                                 0   \n",
       "1                                 0   \n",
       "2                                 0   \n",
       "3                                 0   \n",
       "4                                 0   \n",
       "\n",
       "   Toxicité Reproductive et Développementale  Risques Génétiques et Cancers  \\\n",
       "0                                          0                              0   \n",
       "1                                          0                              1   \n",
       "2                                          0                              0   \n",
       "3                                          0                              1   \n",
       "4                                          1                              0   \n",
       "\n",
       "   Impact Environnemental et Accumulation  Toxicité indéfinie  \n",
       "0                                       0                   1  \n",
       "1                                       0                   0  \n",
       "2                                       1                   0  \n",
       "3                                       0                   0  \n",
       "4                                       0                   0  "
      ]
     },
     "execution_count": 119,
     "metadata": {},
     "output_type": "execute_result"
    }
   ],
   "source": [
    "ril.head()"
   ]
  },
  {
   "cell_type": "markdown",
   "id": "964b0de1-2420-441b-8d4d-3a6deee56769",
   "metadata": {},
   "source": [
    "## Substances Préocupantes"
   ]
  },
  {
   "cell_type": "code",
   "execution_count": 83,
   "id": "22502a97-b786-466d-ab64-9e6b39255b49",
   "metadata": {
    "tags": []
   },
   "outputs": [
    {
     "data": {
      "text/plain": [
       "Index(['Nom de la substance ', 'Description', 'CE', 'CAS',\n",
       "       'Motif de l’inclusion ', 'Date d’inclusion ', 'Décision ',\n",
       "       'Ensemble de données IUCLID ', 'Document d’appui ',\n",
       "       'Réponses aux commentaires. ', 'Remarques '],\n",
       "      dtype='object')"
      ]
     },
     "execution_count": 83,
     "metadata": {},
     "output_type": "execute_result"
    }
   ],
   "source": [
    "substances_p.columns"
   ]
  },
  {
   "cell_type": "code",
   "execution_count": 84,
   "id": "87530df5-518d-4529-afa6-d74a74f544f7",
   "metadata": {
    "tags": []
   },
   "outputs": [
    {
     "data": {
      "text/html": [
       "<div>\n",
       "<style scoped>\n",
       "    .dataframe tbody tr th:only-of-type {\n",
       "        vertical-align: middle;\n",
       "    }\n",
       "\n",
       "    .dataframe tbody tr th {\n",
       "        vertical-align: top;\n",
       "    }\n",
       "\n",
       "    .dataframe thead th {\n",
       "        text-align: right;\n",
       "    }\n",
       "</style>\n",
       "<table border=\"1\" class=\"dataframe\">\n",
       "  <thead>\n",
       "    <tr style=\"text-align: right;\">\n",
       "      <th></th>\n",
       "      <th>Nom de la substance</th>\n",
       "      <th>Description</th>\n",
       "      <th>CE</th>\n",
       "      <th>CAS</th>\n",
       "      <th>Motif de l’inclusion</th>\n",
       "      <th>Date d’inclusion</th>\n",
       "      <th>Décision</th>\n",
       "      <th>Ensemble de données IUCLID</th>\n",
       "      <th>Document d’appui</th>\n",
       "      <th>Réponses aux commentaires.</th>\n",
       "      <th>Remarques</th>\n",
       "    </tr>\n",
       "  </thead>\n",
       "  <tbody>\n",
       "    <tr>\n",
       "      <th>0</th>\n",
       "      <td>Bis(α,α-dimethylbenzyl) peroxide</td>\n",
       "      <td>NaN</td>\n",
       "      <td>201-279-3</td>\n",
       "      <td>80-43-3</td>\n",
       "      <td>Toxic for reproduction (Article 57c)</td>\n",
       "      <td>27-juin-2024</td>\n",
       "      <td>https://echa.europa.eu/documents/10162/733088c...</td>\n",
       "      <td>https://echa.europa.eu/documents/10162/d6f3d76...</td>\n",
       "      <td>https://echa.europa.eu/documents/10162/236dc0e...</td>\n",
       "      <td>https://echa.europa.eu/documents/10162/48e7c30...</td>\n",
       "      <td>NaN</td>\n",
       "    </tr>\n",
       "    <tr>\n",
       "      <th>1</th>\n",
       "      <td>Oligomerisation and alkylation reaction produc...</td>\n",
       "      <td>NaN</td>\n",
       "      <td>700-960-7</td>\n",
       "      <td>-</td>\n",
       "      <td>vPvB (Article 57e)</td>\n",
       "      <td>23-janv.-2024</td>\n",
       "      <td>https://echa.europa.eu/documents/10162/0a8c79d...</td>\n",
       "      <td>https://echa.europa.eu/documents/10162/634c637...</td>\n",
       "      <td>https://echa.europa.eu/documents/10162/9a9d530...</td>\n",
       "      <td>https://echa.europa.eu/documents/10162/7cd990a...</td>\n",
       "      <td>The name phenol, methylstyrenated and EC numbe...</td>\n",
       "    </tr>\n",
       "    <tr>\n",
       "      <th>2</th>\n",
       "      <td>Phenol, methylstyrenated</td>\n",
       "      <td>NaN</td>\n",
       "      <td>270-966-8</td>\n",
       "      <td>68512-30-1</td>\n",
       "      <td>vPvB (Article 57e)</td>\n",
       "      <td>23-janv.-2024</td>\n",
       "      <td>https://echa.europa.eu/documents/10162/0a8c79d...</td>\n",
       "      <td>https://echa.europa.eu/documents/10162/634c637...</td>\n",
       "      <td>https://echa.europa.eu/documents/10162/9a9d530...</td>\n",
       "      <td>https://echa.europa.eu/documents/10162/7cd990a...</td>\n",
       "      <td>The name phenol, methylstyrenated and EC numbe...</td>\n",
       "    </tr>\n",
       "    <tr>\n",
       "      <th>3</th>\n",
       "      <td>Bumetrizole (UV-326)</td>\n",
       "      <td>NaN</td>\n",
       "      <td>223-445-4</td>\n",
       "      <td>3896-11-5</td>\n",
       "      <td>vPvB (Article 57e)</td>\n",
       "      <td>23-janv.-2024</td>\n",
       "      <td>https://echa.europa.eu/documents/10162/05ea7d0...</td>\n",
       "      <td>https://echa.europa.eu/documents/10162/c5b482b...</td>\n",
       "      <td>https://echa.europa.eu/documents/10162/94233c7...</td>\n",
       "      <td>https://echa.europa.eu/documents/10162/abe497c...</td>\n",
       "      <td>NaN</td>\n",
       "    </tr>\n",
       "    <tr>\n",
       "      <th>4</th>\n",
       "      <td>2-(dimethylamino)-2-[(4-methylphenyl)methyl]-1...</td>\n",
       "      <td>NaN</td>\n",
       "      <td>438-340-0</td>\n",
       "      <td>119344-86-4</td>\n",
       "      <td>Toxic for reproduction (Article 57c)</td>\n",
       "      <td>23-janv.-2024</td>\n",
       "      <td>https://echa.europa.eu/documents/10162/fd512d8...</td>\n",
       "      <td>https://echa.europa.eu/documents/10162/035bf1c...</td>\n",
       "      <td>https://echa.europa.eu/documents/10162/0540648...</td>\n",
       "      <td>https://echa.europa.eu/documents/10162/1221ef8...</td>\n",
       "      <td>NaN</td>\n",
       "    </tr>\n",
       "  </tbody>\n",
       "</table>\n",
       "</div>"
      ],
      "text/plain": [
       "                                Nom de la substance  Description         CE  \\\n",
       "0                   Bis(α,α-dimethylbenzyl) peroxide         NaN  201-279-3   \n",
       "1  Oligomerisation and alkylation reaction produc...         NaN  700-960-7   \n",
       "2                           Phenol, methylstyrenated         NaN  270-966-8   \n",
       "3                               Bumetrizole (UV-326)         NaN  223-445-4   \n",
       "4  2-(dimethylamino)-2-[(4-methylphenyl)methyl]-1...         NaN  438-340-0   \n",
       "\n",
       "           CAS                 Motif de l’inclusion  Date d’inclusion   \\\n",
       "0      80-43-3  Toxic for reproduction (Article 57c)      27-juin-2024   \n",
       "1            -                    vPvB (Article 57e)     23-janv.-2024   \n",
       "2   68512-30-1                    vPvB (Article 57e)     23-janv.-2024   \n",
       "3    3896-11-5                    vPvB (Article 57e)     23-janv.-2024   \n",
       "4  119344-86-4  Toxic for reproduction (Article 57c)     23-janv.-2024   \n",
       "\n",
       "                                           Décision   \\\n",
       "0  https://echa.europa.eu/documents/10162/733088c...   \n",
       "1  https://echa.europa.eu/documents/10162/0a8c79d...   \n",
       "2  https://echa.europa.eu/documents/10162/0a8c79d...   \n",
       "3  https://echa.europa.eu/documents/10162/05ea7d0...   \n",
       "4  https://echa.europa.eu/documents/10162/fd512d8...   \n",
       "\n",
       "                         Ensemble de données IUCLID   \\\n",
       "0  https://echa.europa.eu/documents/10162/d6f3d76...   \n",
       "1  https://echa.europa.eu/documents/10162/634c637...   \n",
       "2  https://echa.europa.eu/documents/10162/634c637...   \n",
       "3  https://echa.europa.eu/documents/10162/c5b482b...   \n",
       "4  https://echa.europa.eu/documents/10162/035bf1c...   \n",
       "\n",
       "                                   Document d’appui   \\\n",
       "0  https://echa.europa.eu/documents/10162/236dc0e...   \n",
       "1  https://echa.europa.eu/documents/10162/9a9d530...   \n",
       "2  https://echa.europa.eu/documents/10162/9a9d530...   \n",
       "3  https://echa.europa.eu/documents/10162/94233c7...   \n",
       "4  https://echa.europa.eu/documents/10162/0540648...   \n",
       "\n",
       "                         Réponses aux commentaires.   \\\n",
       "0  https://echa.europa.eu/documents/10162/48e7c30...   \n",
       "1  https://echa.europa.eu/documents/10162/7cd990a...   \n",
       "2  https://echa.europa.eu/documents/10162/7cd990a...   \n",
       "3  https://echa.europa.eu/documents/10162/abe497c...   \n",
       "4  https://echa.europa.eu/documents/10162/1221ef8...   \n",
       "\n",
       "                                          Remarques   \n",
       "0                                                NaN  \n",
       "1  The name phenol, methylstyrenated and EC numbe...  \n",
       "2  The name phenol, methylstyrenated and EC numbe...  \n",
       "3                                                NaN  \n",
       "4                                                NaN  "
      ]
     },
     "execution_count": 84,
     "metadata": {},
     "output_type": "execute_result"
    }
   ],
   "source": [
    "substances_p.head()"
   ]
  },
  {
   "cell_type": "code",
   "execution_count": 85,
   "id": "acc4c12f-c614-4bb8-851c-df21a1f8b440",
   "metadata": {
    "tags": []
   },
   "outputs": [],
   "source": [
    "# Changer l'ordre des colonnes\n",
    "substances_p = substances_p[['Nom de la substance ', 'CE', 'CAS',\n",
    "       'Motif de l’inclusion ', 'Date d’inclusion ']]"
   ]
  },
  {
   "cell_type": "code",
   "execution_count": 89,
   "id": "7ce5b092-77d2-4a9b-a52c-add2eb15b049",
   "metadata": {
    "tags": []
   },
   "outputs": [],
   "source": [
    "# Création de la colonne Toxicité Cutanée et Respiratoire\n",
    "substances_p.loc[:, \"Toxicité Cutanée et Respiratoire\"] = [\n",
    "    1 if any(keyword in row for keyword in [\"Respiratory\"]) \n",
    "    else 0\n",
    "    for row in substances_p['Motif de l’inclusion ']\n",
    "]"
   ]
  },
  {
   "cell_type": "code",
   "execution_count": 90,
   "id": "0651aa92-0b05-410d-ad6a-db2363855937",
   "metadata": {
    "tags": []
   },
   "outputs": [],
   "source": [
    "# Création de la colonne Toxicité Systémique et Organique\n",
    "substances_p.loc[:, \"Toxicité Systémique et Organique\"] = [\n",
    "    1 if any(keyword in row for keyword in [\"Equivalent level of concern having probable serious effects to human health\", \n",
    "                                            \"Specific target organ toxicity\"]) \n",
    "    else 0\n",
    "    for row in substances_p['Motif de l’inclusion ']\n",
    "]"
   ]
  },
  {
   "cell_type": "code",
   "execution_count": 91,
   "id": "5c5b6f0c-1c46-4ec7-9008-a5600315d4ae",
   "metadata": {
    "tags": []
   },
   "outputs": [],
   "source": [
    "# Création de la colonne Toxicité Reproductive et Développementale\n",
    "substances_p.loc[:, \"Toxicité Reproductive et Développementale\"] = [\n",
    "    1 if any(keyword in row for keyword in [\"reproduction\", \n",
    "                                            \"Endocrine\"]) \n",
    "    else 0\n",
    "    for row in substances_p['Motif de l’inclusion ']\n",
    "]"
   ]
  },
  {
   "cell_type": "code",
   "execution_count": 92,
   "id": "c10f029a-550b-40da-8702-df0f78ffa62a",
   "metadata": {
    "tags": []
   },
   "outputs": [],
   "source": [
    "# Création de la colonne Risques Génétiques et Cancers\n",
    "substances_p.loc[:, \"Risques Génétiques et Cancers\"] = [\n",
    "    1 if any(keyword in row for keyword in [\"Carcinogenic\", \n",
    "                                            \"Mutagenic\"]) \n",
    "    else 0\n",
    "    for row in substances_p['Motif de l’inclusion ']\n",
    "]"
   ]
  },
  {
   "cell_type": "code",
   "execution_count": 93,
   "id": "17391439-f6fe-4ca3-ad76-b944dd578521",
   "metadata": {
    "tags": []
   },
   "outputs": [],
   "source": [
    "# Création de la colonne Impact Environnemental et Accumulation\n",
    "substances_p[\"Impact Environnemental et Accumulation\"] = [\n",
    "    1 if any(keyword in row for keyword in [\"PBT\",\n",
    "                                            \"environment\",\n",
    "                                            \"vPvB\",\n",
    "                                            \"repeated exposure\"]) \n",
    "    else 0\n",
    "    for row in substances_p['Motif de l’inclusion ']\n",
    "]"
   ]
  },
  {
   "cell_type": "code",
   "execution_count": 96,
   "id": "5f638f10-299c-4bf4-aa3b-c74e201205c8",
   "metadata": {
    "tags": []
   },
   "outputs": [],
   "source": [
    "substances_p[\"Toxicité indéfinie\"] = [\n",
    "    1 if (row[\"Toxicité Cutanée et Respiratoire\"] + \n",
    "          row[\"Toxicité Systémique et Organique\"] +\n",
    "          row[\"Toxicité Reproductive et Développementale\"] + \n",
    "          row[\"Risques Génétiques et Cancers\"] + \n",
    "          row[\"Impact Environnemental et Accumulation\"]) == 0 \n",
    "    else 0\n",
    "    for index, row in substances_p.iterrows()\n",
    "]"
   ]
  },
  {
   "cell_type": "code",
   "execution_count": 133,
   "id": "afd5fbd1-87de-4279-865c-966333f8d179",
   "metadata": {
    "tags": []
   },
   "outputs": [],
   "source": [
    "# Pareil que pour Agritox, il y a des lignes contenant plusieurs CAS, faire le même nettoyage\n",
    "\n",
    "# Assurer que new_rows est une liste vide pour collecter les nouvelles lignes\n",
    "new_rows = []\n",
    "\n",
    "for index, row in substances_p.iterrows():\n",
    "    if \", \" in row[\"CAS\"]:\n",
    "        # Séparer le contenu de la colonne \"CAS #\" en deux parties\n",
    "        cas = row[\"CAS\"].split(', ')\n",
    "        \n",
    "        # Mettre à jour la première partie dans la ligne actuelle\n",
    "        substances_p.at[index, \"CAS\"] = cas[0]\n",
    "        \n",
    "        # Créer une nouvelle ligne avec la ou les autres partie(s) du CAS\n",
    "        for i in range(len(cas)-1):\n",
    "            new_row = row.copy()  # Crée une copie de la ligne actuelle\n",
    "            new_row[\"CAS\"] = cas[i+1]  # Remplacer \"CAS #\" par la deuxième partie\n",
    "\n",
    "            # Ajouter cette nouvelle ligne à la liste new_rows\n",
    "            new_rows.append(new_row)\n",
    "\n",
    "# Si des nouvelles lignes ont été collectées, les ajouter au DataFrame\n",
    "if new_rows:\n",
    "    # Créer un DataFrame à partir des nouvelles lignes et les concaténer\n",
    "    substances_p = pd.concat([substances_p, pd.DataFrame(new_rows)], ignore_index=True)"
   ]
  },
  {
   "cell_type": "code",
   "execution_count": 135,
   "id": "67259469-a1fa-4438-9c80-5e696bbb9aef",
   "metadata": {
    "tags": []
   },
   "outputs": [],
   "source": [
    "# Enregistrement des données\n",
    "substances_p.to_excel(\"/Users/alelia/Desktop/Data/DATA SUITS/Soutenance/Skincare/DATA/CLEAN/1. Chemicals in cosmetics/Inventaire CE/clean/substances_preoccupantes.xlsx\")"
   ]
  },
  {
   "cell_type": "code",
   "execution_count": 109,
   "id": "7249f1cb-61b3-4188-8ae5-94440e4863e7",
   "metadata": {
    "tags": []
   },
   "outputs": [
    {
     "data": {
      "text/html": [
       "<div>\n",
       "<style scoped>\n",
       "    .dataframe tbody tr th:only-of-type {\n",
       "        vertical-align: middle;\n",
       "    }\n",
       "\n",
       "    .dataframe tbody tr th {\n",
       "        vertical-align: top;\n",
       "    }\n",
       "\n",
       "    .dataframe thead th {\n",
       "        text-align: right;\n",
       "    }\n",
       "</style>\n",
       "<table border=\"1\" class=\"dataframe\">\n",
       "  <thead>\n",
       "    <tr style=\"text-align: right;\">\n",
       "      <th></th>\n",
       "      <th>Nom de la substance</th>\n",
       "      <th>CE</th>\n",
       "      <th>CAS</th>\n",
       "      <th>Motif de l’inclusion</th>\n",
       "      <th>Date d’inclusion</th>\n",
       "      <th>Toxicité Cutanée et Respiratoire</th>\n",
       "      <th>Toxicité Systémique et Organique</th>\n",
       "      <th>Toxicité Reproductive et Développementale</th>\n",
       "      <th>Risques Génétiques et Cancers</th>\n",
       "      <th>Impact Environnemental et Accumulation</th>\n",
       "      <th>Toxicité indéfinie</th>\n",
       "    </tr>\n",
       "  </thead>\n",
       "  <tbody>\n",
       "    <tr>\n",
       "      <th>0</th>\n",
       "      <td>Bis(α,α-dimethylbenzyl) peroxide</td>\n",
       "      <td>201-279-3</td>\n",
       "      <td>80-43-3</td>\n",
       "      <td>Toxic for reproduction (Article 57c)</td>\n",
       "      <td>27-juin-2024</td>\n",
       "      <td>0</td>\n",
       "      <td>0</td>\n",
       "      <td>1</td>\n",
       "      <td>0</td>\n",
       "      <td>0</td>\n",
       "      <td>0</td>\n",
       "    </tr>\n",
       "    <tr>\n",
       "      <th>1</th>\n",
       "      <td>Oligomerisation and alkylation reaction produc...</td>\n",
       "      <td>700-960-7</td>\n",
       "      <td>-</td>\n",
       "      <td>vPvB (Article 57e)</td>\n",
       "      <td>23-janv.-2024</td>\n",
       "      <td>0</td>\n",
       "      <td>0</td>\n",
       "      <td>0</td>\n",
       "      <td>0</td>\n",
       "      <td>1</td>\n",
       "      <td>0</td>\n",
       "    </tr>\n",
       "    <tr>\n",
       "      <th>2</th>\n",
       "      <td>Phenol, methylstyrenated</td>\n",
       "      <td>270-966-8</td>\n",
       "      <td>68512-30-1</td>\n",
       "      <td>vPvB (Article 57e)</td>\n",
       "      <td>23-janv.-2024</td>\n",
       "      <td>0</td>\n",
       "      <td>0</td>\n",
       "      <td>0</td>\n",
       "      <td>0</td>\n",
       "      <td>1</td>\n",
       "      <td>0</td>\n",
       "    </tr>\n",
       "    <tr>\n",
       "      <th>3</th>\n",
       "      <td>Bumetrizole (UV-326)</td>\n",
       "      <td>223-445-4</td>\n",
       "      <td>3896-11-5</td>\n",
       "      <td>vPvB (Article 57e)</td>\n",
       "      <td>23-janv.-2024</td>\n",
       "      <td>0</td>\n",
       "      <td>0</td>\n",
       "      <td>0</td>\n",
       "      <td>0</td>\n",
       "      <td>1</td>\n",
       "      <td>0</td>\n",
       "    </tr>\n",
       "    <tr>\n",
       "      <th>4</th>\n",
       "      <td>2-(dimethylamino)-2-[(4-methylphenyl)methyl]-1...</td>\n",
       "      <td>438-340-0</td>\n",
       "      <td>119344-86-4</td>\n",
       "      <td>Toxic for reproduction (Article 57c)</td>\n",
       "      <td>23-janv.-2024</td>\n",
       "      <td>0</td>\n",
       "      <td>0</td>\n",
       "      <td>1</td>\n",
       "      <td>0</td>\n",
       "      <td>0</td>\n",
       "      <td>0</td>\n",
       "    </tr>\n",
       "  </tbody>\n",
       "</table>\n",
       "</div>"
      ],
      "text/plain": [
       "                                Nom de la substance          CE          CAS  \\\n",
       "0                   Bis(α,α-dimethylbenzyl) peroxide  201-279-3      80-43-3   \n",
       "1  Oligomerisation and alkylation reaction produc...  700-960-7            -   \n",
       "2                           Phenol, methylstyrenated  270-966-8   68512-30-1   \n",
       "3                               Bumetrizole (UV-326)  223-445-4    3896-11-5   \n",
       "4  2-(dimethylamino)-2-[(4-methylphenyl)methyl]-1...  438-340-0  119344-86-4   \n",
       "\n",
       "                  Motif de l’inclusion  Date d’inclusion   \\\n",
       "0  Toxic for reproduction (Article 57c)      27-juin-2024   \n",
       "1                    vPvB (Article 57e)     23-janv.-2024   \n",
       "2                    vPvB (Article 57e)     23-janv.-2024   \n",
       "3                    vPvB (Article 57e)     23-janv.-2024   \n",
       "4  Toxic for reproduction (Article 57c)     23-janv.-2024   \n",
       "\n",
       "   Toxicité Cutanée et Respiratoire  Toxicité Systémique et Organique  \\\n",
       "0                                 0                                 0   \n",
       "1                                 0                                 0   \n",
       "2                                 0                                 0   \n",
       "3                                 0                                 0   \n",
       "4                                 0                                 0   \n",
       "\n",
       "   Toxicité Reproductive et Développementale  Risques Génétiques et Cancers  \\\n",
       "0                                          1                              0   \n",
       "1                                          0                              0   \n",
       "2                                          0                              0   \n",
       "3                                          0                              0   \n",
       "4                                          1                              0   \n",
       "\n",
       "   Impact Environnemental et Accumulation  Toxicité indéfinie  \n",
       "0                                       0                   0  \n",
       "1                                       1                   0  \n",
       "2                                       1                   0  \n",
       "3                                       1                   0  \n",
       "4                                       0                   0  "
      ]
     },
     "execution_count": 109,
     "metadata": {},
     "output_type": "execute_result"
    }
   ],
   "source": [
    "substances_p.head()"
   ]
  },
  {
   "cell_type": "markdown",
   "id": "925d64af-519a-42dd-8832-6b2eb403b9c2",
   "metadata": {},
   "source": [
    "## MERGE"
   ]
  },
  {
   "cell_type": "markdown",
   "id": "ac722c02-e560-42a5-9ab3-c262fd8df90d",
   "metadata": {},
   "source": [
    "Le but est de créer une et même table contenant toutes les informations des 3 tables.\n",
    "Parfois, pour un CAS, un danger sera présent dans une table et non dans une autre. \n",
    "Je décide donc que le danger dans une table l'emporte sur la non présence de danger sur une autre table."
   ]
  },
  {
   "cell_type": "code",
   "execution_count": 147,
   "id": "06fd4d07-1a87-4039-a91f-490f6c6e9bad",
   "metadata": {
    "tags": []
   },
   "outputs": [],
   "source": [
    "mergedata = pd.concat([substances_p, ril, agritox], axis=0, ignore_index=True)"
   ]
  },
  {
   "cell_type": "code",
   "execution_count": 148,
   "id": "b5af7d00-4e41-4872-af23-ece3fb28c1e0",
   "metadata": {
    "tags": []
   },
   "outputs": [],
   "source": [
    "# Appliquer des fonctions d'agrégation spécifiques à chaque colonne\n",
    "mergedata = mergedata.groupby('CAS', as_index=False).agg({\n",
    "    'Toxicité Cutanée et Respiratoire': 'max',  # Prendre le max pour les colonnes booléennes\n",
    "    'Toxicité Systémique et Organique': 'max',\n",
    "    'Toxicité Reproductive et Développementale': 'max',\n",
    "    'Risques Génétiques et Cancers': 'max',\n",
    "    'Impact Environnemental et Accumulation': 'max',\n",
    "    'CE' : 'first'\n",
    "})"
   ]
  },
  {
   "cell_type": "code",
   "execution_count": 151,
   "id": "18610af4-b341-40a2-a0f0-bd8f157d84e8",
   "metadata": {
    "tags": []
   },
   "outputs": [],
   "source": [
    "mergedata[\"Toxicité indéfinie\"] = [\n",
    "    1 if (row[\"Toxicité Cutanée et Respiratoire\"] + \n",
    "          row[\"Toxicité Systémique et Organique\"] +\n",
    "          row[\"Toxicité Reproductive et Développementale\"] + \n",
    "          row[\"Risques Génétiques et Cancers\"] + \n",
    "          row[\"Impact Environnemental et Accumulation\"]) == 0 \n",
    "    else 0\n",
    "    for index, row in mergedata.iterrows()\n",
    "]"
   ]
  },
  {
   "cell_type": "code",
   "execution_count": 153,
   "id": "cae7a43d-ff3e-4af9-a7fd-7b1bd9e72879",
   "metadata": {
    "tags": []
   },
   "outputs": [
    {
     "data": {
      "text/plain": [
       "Index(['CAS', 'Toxicité Cutanée et Respiratoire',\n",
       "       'Toxicité Systémique et Organique',\n",
       "       'Toxicité Reproductive et Développementale',\n",
       "       'Risques Génétiques et Cancers',\n",
       "       'Impact Environnemental et Accumulation', 'CE', 'Toxicité indéfinie'],\n",
       "      dtype='object')"
      ]
     },
     "execution_count": 153,
     "metadata": {},
     "output_type": "execute_result"
    }
   ],
   "source": [
    "mergedata.columns"
   ]
  },
  {
   "cell_type": "code",
   "execution_count": 154,
   "id": "6c2d006b-464c-4062-89ce-d06b50d57358",
   "metadata": {
    "tags": []
   },
   "outputs": [],
   "source": [
    "mergedata = mergedata[['CAS', 'Toxicité Cutanée et Respiratoire',\n",
    "       'Toxicité Systémique et Organique',\n",
    "       'Toxicité Reproductive et Développementale',\n",
    "       'Risques Génétiques et Cancers',\n",
    "       'Impact Environnemental et Accumulation', 'Toxicité indéfinie', 'CE']]"
   ]
  },
  {
   "cell_type": "code",
   "execution_count": 155,
   "id": "14e80865-8781-4679-baa2-d1ea39d092b3",
   "metadata": {
    "tags": []
   },
   "outputs": [],
   "source": [
    "mergedata.to_excel(\"/Users/alelia/Desktop/Data/DATA SUITS/Soutenance/Skincare/DATA/CLEAN/Substances Préoccupantes/merge.xlsx\")"
   ]
  },
  {
   "cell_type": "code",
   "execution_count": null,
   "id": "6ba3b578-9f36-4655-8887-453373ca2c46",
   "metadata": {},
   "outputs": [],
   "source": [
    " "
   ]
  }
 ],
 "metadata": {
  "kernelspec": {
   "display_name": "Python 3 (ipykernel)",
   "language": "python",
   "name": "python3"
  },
  "language_info": {
   "codemirror_mode": {
    "name": "ipython",
    "version": 3
   },
   "file_extension": ".py",
   "mimetype": "text/x-python",
   "name": "python",
   "nbconvert_exporter": "python",
   "pygments_lexer": "ipython3",
   "version": "3.11.3"
  }
 },
 "nbformat": 4,
 "nbformat_minor": 5
}
