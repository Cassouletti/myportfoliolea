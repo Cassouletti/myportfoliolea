{
 "cells": [
  {
   "cell_type": "markdown",
   "id": "59fdb850-1045-4c03-82f2-7f7c5dff1278",
   "metadata": {},
   "source": [
    "# Samsung"
   ]
  },
  {
   "cell_type": "markdown",
   "id": "d4add9c4-fb04-4727-9234-7b4bdda8b739",
   "metadata": {},
   "source": [
    "## Analayse des ventes Samsung"
   ]
  },
  {
   "cell_type": "markdown",
   "id": "10e0ff25-b8c5-4405-b45d-185e28d65742",
   "metadata": {},
   "source": [
    "### Partie 1"
   ]
  },
  {
   "cell_type": "markdown",
   "id": "30140265-5d14-49c4-92c4-8bff80daa4ac",
   "metadata": {},
   "source": [
    "<div class=\"alert alert-success\">\n",
    "    <b>Exploration de Données</b>\n",
    "</div>"
   ]
  },
  {
   "cell_type": "code",
   "execution_count": 2,
   "id": "dd0a50f0-d8d9-4a2b-a578-9c49e21b24dd",
   "metadata": {
    "tags": []
   },
   "outputs": [],
   "source": [
    "import matplotlib.pyplot as plt"
   ]
  },
  {
   "cell_type": "code",
   "execution_count": 3,
   "id": "7f6fedca-3caa-466b-bd26-76930ec9f2b9",
   "metadata": {
    "tags": []
   },
   "outputs": [],
   "source": [
    "import pandas as pd\n",
    "import numpy as np"
   ]
  },
  {
   "cell_type": "code",
   "execution_count": 4,
   "id": "167e6b24-95d4-414c-9f8b-8d814afbdf9c",
   "metadata": {
    "tags": []
   },
   "outputs": [],
   "source": [
    "import seaborn as sns"
   ]
  },
  {
   "cell_type": "code",
   "execution_count": 5,
   "id": "8b4da145-2e9b-419e-9a07-a7ca7693928a",
   "metadata": {
    "tags": []
   },
   "outputs": [],
   "source": [
    "data = pd.read_csv(\"Ventes_Samsung.csv\")"
   ]
  },
  {
   "cell_type": "code",
   "execution_count": 97,
   "id": "573d618a-7261-422a-aa07-b87edab49c0a",
   "metadata": {
    "tags": []
   },
   "outputs": [
    {
     "data": {
      "text/html": [
       "<div>\n",
       "<style scoped>\n",
       "    .dataframe tbody tr th:only-of-type {\n",
       "        vertical-align: middle;\n",
       "    }\n",
       "\n",
       "    .dataframe tbody tr th {\n",
       "        vertical-align: top;\n",
       "    }\n",
       "\n",
       "    .dataframe thead th {\n",
       "        text-align: right;\n",
       "    }\n",
       "</style>\n",
       "<table border=\"1\" class=\"dataframe\">\n",
       "  <thead>\n",
       "    <tr style=\"text-align: right;\">\n",
       "      <th></th>\n",
       "      <th>ID_Vente</th>\n",
       "      <th>ID_Produit</th>\n",
       "      <th>Quantité_Vendue</th>\n",
       "      <th>Date_Vente</th>\n",
       "      <th>ID_Client</th>\n",
       "      <th>Montant_Total</th>\n",
       "      <th>Délai_Livraison_Jours</th>\n",
       "      <th>Score_Satisfaction</th>\n",
       "      <th>Méthode_Expédition</th>\n",
       "      <th>Canal_Achat</th>\n",
       "      <th>Pays_Vente</th>\n",
       "    </tr>\n",
       "  </thead>\n",
       "  <tbody>\n",
       "    <tr>\n",
       "      <th>0</th>\n",
       "      <td>V0001</td>\n",
       "      <td>P751</td>\n",
       "      <td>5</td>\n",
       "      <td>2021-04-01</td>\n",
       "      <td>C955</td>\n",
       "      <td>4995</td>\n",
       "      <td>27</td>\n",
       "      <td>4.101503</td>\n",
       "      <td>Standard</td>\n",
       "      <td>En ligne</td>\n",
       "      <td>Allemagne</td>\n",
       "    </tr>\n",
       "    <tr>\n",
       "      <th>1</th>\n",
       "      <td>V0002</td>\n",
       "      <td>P1335</td>\n",
       "      <td>1</td>\n",
       "      <td>2021-03-16</td>\n",
       "      <td>C231</td>\n",
       "      <td>649</td>\n",
       "      <td>20</td>\n",
       "      <td>4.316370</td>\n",
       "      <td>Express</td>\n",
       "      <td>Revendeur</td>\n",
       "      <td>France</td>\n",
       "    </tr>\n",
       "    <tr>\n",
       "      <th>2</th>\n",
       "      <td>V0003</td>\n",
       "      <td>P1160</td>\n",
       "      <td>4</td>\n",
       "      <td>2021-01-04</td>\n",
       "      <td>C693</td>\n",
       "      <td>7996</td>\n",
       "      <td>28</td>\n",
       "      <td>4.846014</td>\n",
       "      <td>Express</td>\n",
       "      <td>Revendeur</td>\n",
       "      <td>Corée</td>\n",
       "    </tr>\n",
       "    <tr>\n",
       "      <th>3</th>\n",
       "      <td>V0004</td>\n",
       "      <td>P346</td>\n",
       "      <td>2</td>\n",
       "      <td>2021-11-23</td>\n",
       "      <td>C280</td>\n",
       "      <td>798</td>\n",
       "      <td>20</td>\n",
       "      <td>1.812859</td>\n",
       "      <td>Standard</td>\n",
       "      <td>Magasin</td>\n",
       "      <td>Allemagne</td>\n",
       "    </tr>\n",
       "    <tr>\n",
       "      <th>4</th>\n",
       "      <td>V0005</td>\n",
       "      <td>P1149</td>\n",
       "      <td>4</td>\n",
       "      <td>2021-12-23</td>\n",
       "      <td>C320</td>\n",
       "      <td>756</td>\n",
       "      <td>19</td>\n",
       "      <td>3.791627</td>\n",
       "      <td>Standard</td>\n",
       "      <td>Magasin</td>\n",
       "      <td>France</td>\n",
       "    </tr>\n",
       "  </tbody>\n",
       "</table>\n",
       "</div>"
      ],
      "text/plain": [
       "  ID_Vente ID_Produit  Quantité_Vendue  Date_Vente ID_Client  Montant_Total  \\\n",
       "0    V0001       P751                5  2021-04-01      C955           4995   \n",
       "1    V0002      P1335                1  2021-03-16      C231            649   \n",
       "2    V0003      P1160                4  2021-01-04      C693           7996   \n",
       "3    V0004       P346                2  2021-11-23      C280            798   \n",
       "4    V0005      P1149                4  2021-12-23      C320            756   \n",
       "\n",
       "   Délai_Livraison_Jours  Score_Satisfaction Méthode_Expédition Canal_Achat  \\\n",
       "0                     27            4.101503           Standard    En ligne   \n",
       "1                     20            4.316370            Express   Revendeur   \n",
       "2                     28            4.846014            Express   Revendeur   \n",
       "3                     20            1.812859           Standard     Magasin   \n",
       "4                     19            3.791627           Standard     Magasin   \n",
       "\n",
       "  Pays_Vente  \n",
       "0  Allemagne  \n",
       "1     France  \n",
       "2      Corée  \n",
       "3  Allemagne  \n",
       "4     France  "
      ]
     },
     "execution_count": 97,
     "metadata": {},
     "output_type": "execute_result"
    }
   ],
   "source": [
    "data.head()"
   ]
  },
  {
   "cell_type": "code",
   "execution_count": 6,
   "id": "06c2339d-1328-44ed-a5a4-fbed8976bda0",
   "metadata": {
    "tags": []
   },
   "outputs": [
    {
     "data": {
      "text/html": [
       "<div>\n",
       "<style scoped>\n",
       "    .dataframe tbody tr th:only-of-type {\n",
       "        vertical-align: middle;\n",
       "    }\n",
       "\n",
       "    .dataframe tbody tr th {\n",
       "        vertical-align: top;\n",
       "    }\n",
       "\n",
       "    .dataframe thead th {\n",
       "        text-align: right;\n",
       "    }\n",
       "</style>\n",
       "<table border=\"1\" class=\"dataframe\">\n",
       "  <thead>\n",
       "    <tr style=\"text-align: right;\">\n",
       "      <th></th>\n",
       "      <th>Quantité_Vendue</th>\n",
       "      <th>Montant_Total</th>\n",
       "      <th>Délai_Livraison_Jours</th>\n",
       "      <th>Score_Satisfaction</th>\n",
       "    </tr>\n",
       "  </thead>\n",
       "  <tbody>\n",
       "    <tr>\n",
       "      <th>count</th>\n",
       "      <td>2000.00</td>\n",
       "      <td>2000.00</td>\n",
       "      <td>2000.00</td>\n",
       "      <td>2000.00</td>\n",
       "    </tr>\n",
       "    <tr>\n",
       "      <th>mean</th>\n",
       "      <td>2.98</td>\n",
       "      <td>3313.64</td>\n",
       "      <td>15.42</td>\n",
       "      <td>3.04</td>\n",
       "    </tr>\n",
       "    <tr>\n",
       "      <th>std</th>\n",
       "      <td>1.42</td>\n",
       "      <td>3319.64</td>\n",
       "      <td>8.70</td>\n",
       "      <td>1.16</td>\n",
       "    </tr>\n",
       "    <tr>\n",
       "      <th>min</th>\n",
       "      <td>1.00</td>\n",
       "      <td>189.00</td>\n",
       "      <td>1.00</td>\n",
       "      <td>1.00</td>\n",
       "    </tr>\n",
       "    <tr>\n",
       "      <th>25%</th>\n",
       "      <td>2.00</td>\n",
       "      <td>945.00</td>\n",
       "      <td>8.00</td>\n",
       "      <td>2.04</td>\n",
       "    </tr>\n",
       "    <tr>\n",
       "      <th>50%</th>\n",
       "      <td>3.00</td>\n",
       "      <td>1999.00</td>\n",
       "      <td>16.00</td>\n",
       "      <td>3.08</td>\n",
       "    </tr>\n",
       "    <tr>\n",
       "      <th>75%</th>\n",
       "      <td>4.00</td>\n",
       "      <td>4398.00</td>\n",
       "      <td>23.00</td>\n",
       "      <td>4.02</td>\n",
       "    </tr>\n",
       "    <tr>\n",
       "      <th>max</th>\n",
       "      <td>5.00</td>\n",
       "      <td>14995.00</td>\n",
       "      <td>30.00</td>\n",
       "      <td>5.00</td>\n",
       "    </tr>\n",
       "  </tbody>\n",
       "</table>\n",
       "</div>"
      ],
      "text/plain": [
       "       Quantité_Vendue  Montant_Total  Délai_Livraison_Jours  \\\n",
       "count          2000.00        2000.00                2000.00   \n",
       "mean              2.98        3313.64                  15.42   \n",
       "std               1.42        3319.64                   8.70   \n",
       "min               1.00         189.00                   1.00   \n",
       "25%               2.00         945.00                   8.00   \n",
       "50%               3.00        1999.00                  16.00   \n",
       "75%               4.00        4398.00                  23.00   \n",
       "max               5.00       14995.00                  30.00   \n",
       "\n",
       "       Score_Satisfaction  \n",
       "count             2000.00  \n",
       "mean                 3.04  \n",
       "std                  1.16  \n",
       "min                  1.00  \n",
       "25%                  2.04  \n",
       "50%                  3.08  \n",
       "75%                  4.02  \n",
       "max                  5.00  "
      ]
     },
     "execution_count": 6,
     "metadata": {},
     "output_type": "execute_result"
    }
   ],
   "source": [
    "data.describe().round(2)"
   ]
  },
  {
   "cell_type": "code",
   "execution_count": 7,
   "id": "e7d73c99-53fd-4ebd-84d5-e9c0640432cc",
   "metadata": {
    "tags": []
   },
   "outputs": [],
   "source": [
    "# Par exemple on constate que la dispersion de la quantité vendue est tout à fait normale (std). \n",
    "# A l'inverse, pour le montant totale, la dispersion est assez grande, \n",
    "# et on constate une grande différence entre le montant maximum, et le montant maximum du 3ème quartile."
   ]
  },
  {
   "cell_type": "code",
   "execution_count": 99,
   "id": "ccde65ea-705b-4424-a9ff-284d360c6202",
   "metadata": {
    "tags": []
   },
   "outputs": [
    {
     "name": "stdout",
     "output_type": "stream",
     "text": [
      "<class 'pandas.core.frame.DataFrame'>\n",
      "RangeIndex: 2000 entries, 0 to 1999\n",
      "Data columns (total 11 columns):\n",
      " #   Column                 Non-Null Count  Dtype  \n",
      "---  ------                 --------------  -----  \n",
      " 0   ID_Vente               2000 non-null   object \n",
      " 1   ID_Produit             2000 non-null   object \n",
      " 2   Quantité_Vendue        2000 non-null   int64  \n",
      " 3   Date_Vente             2000 non-null   object \n",
      " 4   ID_Client              2000 non-null   object \n",
      " 5   Montant_Total          2000 non-null   int64  \n",
      " 6   Délai_Livraison_Jours  2000 non-null   int64  \n",
      " 7   Score_Satisfaction     2000 non-null   float64\n",
      " 8   Méthode_Expédition     2000 non-null   object \n",
      " 9   Canal_Achat            2000 non-null   object \n",
      " 10  Pays_Vente             2000 non-null   object \n",
      "dtypes: float64(1), int64(3), object(7)\n",
      "memory usage: 172.0+ KB\n"
     ]
    }
   ],
   "source": [
    "data.info()"
   ]
  },
  {
   "cell_type": "code",
   "execution_count": 100,
   "id": "34c67923-ec23-44a7-84a7-2de4b73df9f2",
   "metadata": {
    "tags": []
   },
   "outputs": [],
   "source": [
    "data['Date_Vente'] = pd.to_datetime(data['Date_Vente'])"
   ]
  },
  {
   "cell_type": "code",
   "execution_count": 101,
   "id": "cd49b1df-b8e7-41bd-a76d-67672fcfe2c3",
   "metadata": {
    "tags": []
   },
   "outputs": [],
   "source": [
    "for elem in ['Pays_Vente', 'Canal_Achat', 'Méthode_Expédition', 'ID_Vente', 'ID_Produit']:\n",
    "    data[elem] = data[elem].astype('category')"
   ]
  },
  {
   "cell_type": "code",
   "execution_count": 102,
   "id": "634eba7c-1a08-4998-b667-9dddb1483b8c",
   "metadata": {
    "tags": []
   },
   "outputs": [
    {
     "data": {
      "text/plain": [
       "ID_Vente                 0\n",
       "ID_Produit               0\n",
       "Quantité_Vendue          0\n",
       "Date_Vente               0\n",
       "ID_Client                0\n",
       "Montant_Total            0\n",
       "Délai_Livraison_Jours    0\n",
       "Score_Satisfaction       0\n",
       "Méthode_Expédition       0\n",
       "Canal_Achat              0\n",
       "Pays_Vente               0\n",
       "dtype: int64"
      ]
     },
     "execution_count": 102,
     "metadata": {},
     "output_type": "execute_result"
    }
   ],
   "source": [
    "data.isnull().sum()"
   ]
  },
  {
   "cell_type": "markdown",
   "id": "6f6f36cb-1a04-4800-9d81-67a11ccd42f2",
   "metadata": {},
   "source": [
    "Il n'y a donc pas de valeurs manquantes."
   ]
  },
  {
   "cell_type": "code",
   "execution_count": 103,
   "id": "20e09697-7d60-4c10-bef6-724490b484ac",
   "metadata": {
    "tags": []
   },
   "outputs": [
    {
     "data": {
      "text/plain": [
       "2000"
      ]
     },
     "execution_count": 103,
     "metadata": {},
     "output_type": "execute_result"
    }
   ],
   "source": [
    "len(data)"
   ]
  },
  {
   "cell_type": "markdown",
   "id": "c495543b-e7cf-4972-9b8b-7bfb70514e7f",
   "metadata": {},
   "source": [
    "**2000 ventes** ont été enrengistrées."
   ]
  },
  {
   "cell_type": "code",
   "execution_count": 104,
   "id": "899cc7d5-baa1-497d-a952-82db7d4b1365",
   "metadata": {
    "tags": []
   },
   "outputs": [
    {
     "data": {
      "text/plain": [
       "6627270"
      ]
     },
     "execution_count": 104,
     "metadata": {},
     "output_type": "execute_result"
    }
   ],
   "source": [
    "# Montant total\n",
    "data['Montant_Total'].sum()"
   ]
  },
  {
   "cell_type": "markdown",
   "id": "61df1b80-7830-4969-be95-10e2288e08f8",
   "metadata": {},
   "source": [
    "**6627270** est le montant total"
   ]
  },
  {
   "cell_type": "markdown",
   "id": "0975a05e-7562-4d22-80c5-cb866aced701",
   "metadata": {},
   "source": [
    "### Partie 2"
   ]
  },
  {
   "cell_type": "markdown",
   "id": "df358731-91cf-4e06-9dbc-c37b44b087e6",
   "metadata": {},
   "source": [
    "<div class=\"alert alert-success\">\n",
    "    <b>Analyse des ventes</b>\n",
    "</div>"
   ]
  },
  {
   "cell_type": "markdown",
   "id": "e3aad479-ba68-478d-b7b1-aa9db49737d2",
   "metadata": {},
   "source": [
    "1. Identifier le produit le plus vendu (en quantité).\n",
    "2. Calculer le revenu moyen par vente.\n",
    "3. Déterminer le pays avec le plus grand nombre de ventes."
   ]
  },
  {
   "cell_type": "code",
   "execution_count": 105,
   "id": "89e7c471-94ca-4130-88d6-233697fb3366",
   "metadata": {
    "tags": []
   },
   "outputs": [
    {
     "name": "stdout",
     "output_type": "stream",
     "text": [
      "Le produit le plus vendu est P418 avec une quantité totale de 20\n"
     ]
    }
   ],
   "source": [
    "# Grouper par 'ID_Produit' et sommer les 'Quantité_Vendue'\n",
    "produit_quantite_totale = data.groupby('ID_Produit', observed=True)['Quantité_Vendue'].sum()\n",
    "\n",
    "# Produit avec la quantité totale la plus élevée\n",
    "produit_le_plus_vendu = produit_quantite_totale.idxmax()\n",
    "quantite_maximale = produit_quantite_totale.max()\n",
    "\n",
    "# Afficher le résultat\n",
    "print(f\"Le produit le plus vendu est {produit_le_plus_vendu} avec une quantité totale de {quantite_maximale}\")"
   ]
  },
  {
   "cell_type": "code",
   "execution_count": 106,
   "id": "eb96e6f6-9a82-48ea-8527-bf66e1a4d6d2",
   "metadata": {
    "tags": []
   },
   "outputs": [
    {
     "data": {
      "text/plain": [
       "3313.635"
      ]
     },
     "execution_count": 106,
     "metadata": {},
     "output_type": "execute_result"
    }
   ],
   "source": [
    "# Revenu moyen par vente.\n",
    "data['Montant_Total'].mean()"
   ]
  },
  {
   "cell_type": "code",
   "execution_count": 107,
   "id": "fffdfc45-a0e4-4d4e-9d9e-547008d9f40f",
   "metadata": {
    "tags": []
   },
   "outputs": [
    {
     "data": {
      "text/plain": [
       "Pays_Vente\n",
       "USA          1443966\n",
       "Chine        1351515\n",
       "France       1298166\n",
       "Allemagne    1279714\n",
       "Corée        1253909\n",
       "Name: Montant_Total, dtype: int64"
      ]
     },
     "execution_count": 107,
     "metadata": {},
     "output_type": "execute_result"
    }
   ],
   "source": [
    "# Grouper par \"Pays_vente\"\n",
    "data.groupby(\"Pays_Vente\", observed=True)['Montant_Total'].sum().sort_values(ascending=False)"
   ]
  },
  {
   "cell_type": "markdown",
   "id": "cc91fd8e-b02f-4956-8022-640e81b34eef",
   "metadata": {},
   "source": [
    "Le pays avec le plus grand nombre de ventes sont les **USA**."
   ]
  },
  {
   "cell_type": "markdown",
   "id": "8ac117dc-b86c-479f-833c-6a6985751e94",
   "metadata": {},
   "source": [
    "### Partie 3"
   ]
  },
  {
   "cell_type": "markdown",
   "id": "9f352d34-8952-47ef-bbfb-7b3d285da61c",
   "metadata": {},
   "source": [
    "<div class=\"alert alert-success\">\n",
    "    <b>Manipulation des données</b>\n",
    "</div>"
   ]
  },
  {
   "cell_type": "code",
   "execution_count": 108,
   "id": "cef497c6-5840-40f2-b225-2647178982aa",
   "metadata": {
    "tags": []
   },
   "outputs": [],
   "source": [
    "# Je crée une liste pour chaque ID du montant moyen dépensé pour chaque produit vendu.\n",
    "Montant_Moyen_Par_Produit = data.groupby(\"ID_Produit\", observed=True)['Montant_Total'].transform('mean')"
   ]
  },
  {
   "cell_type": "code",
   "execution_count": 109,
   "id": "2f92a7bb-e592-479f-8bb5-db30b21ddd3a",
   "metadata": {
    "tags": []
   },
   "outputs": [],
   "source": [
    "# J'assigne cette liste à ma nouvelle colonne.\n",
    "data['Montant_Moyen_Par_Produit'] = Montant_Moyen_Par_Produit"
   ]
  },
  {
   "cell_type": "code",
   "execution_count": 110,
   "id": "59555005-e3ee-42dd-a56d-b961c6011c22",
   "metadata": {
    "tags": []
   },
   "outputs": [
    {
     "data": {
      "text/html": [
       "<div>\n",
       "<style scoped>\n",
       "    .dataframe tbody tr th:only-of-type {\n",
       "        vertical-align: middle;\n",
       "    }\n",
       "\n",
       "    .dataframe tbody tr th {\n",
       "        vertical-align: top;\n",
       "    }\n",
       "\n",
       "    .dataframe thead th {\n",
       "        text-align: right;\n",
       "    }\n",
       "</style>\n",
       "<table border=\"1\" class=\"dataframe\">\n",
       "  <thead>\n",
       "    <tr style=\"text-align: right;\">\n",
       "      <th></th>\n",
       "      <th>ID_Vente</th>\n",
       "      <th>ID_Produit</th>\n",
       "      <th>Quantité_Vendue</th>\n",
       "      <th>Date_Vente</th>\n",
       "      <th>ID_Client</th>\n",
       "      <th>Montant_Total</th>\n",
       "      <th>Délai_Livraison_Jours</th>\n",
       "      <th>Score_Satisfaction</th>\n",
       "      <th>Méthode_Expédition</th>\n",
       "      <th>Canal_Achat</th>\n",
       "      <th>Pays_Vente</th>\n",
       "      <th>Montant_Moyen_Par_Produit</th>\n",
       "    </tr>\n",
       "  </thead>\n",
       "  <tbody>\n",
       "    <tr>\n",
       "      <th>1</th>\n",
       "      <td>V0002</td>\n",
       "      <td>P1335</td>\n",
       "      <td>1</td>\n",
       "      <td>2021-03-16</td>\n",
       "      <td>C231</td>\n",
       "      <td>649</td>\n",
       "      <td>20</td>\n",
       "      <td>4.316370</td>\n",
       "      <td>Express</td>\n",
       "      <td>Revendeur</td>\n",
       "      <td>France</td>\n",
       "      <td>1947.00</td>\n",
       "    </tr>\n",
       "    <tr>\n",
       "      <th>4</th>\n",
       "      <td>V0005</td>\n",
       "      <td>P1149</td>\n",
       "      <td>4</td>\n",
       "      <td>2021-12-23</td>\n",
       "      <td>C320</td>\n",
       "      <td>756</td>\n",
       "      <td>19</td>\n",
       "      <td>3.791627</td>\n",
       "      <td>Standard</td>\n",
       "      <td>Magasin</td>\n",
       "      <td>France</td>\n",
       "      <td>519.75</td>\n",
       "    </tr>\n",
       "    <tr>\n",
       "      <th>7</th>\n",
       "      <td>V0008</td>\n",
       "      <td>P416</td>\n",
       "      <td>1</td>\n",
       "      <td>2021-11-07</td>\n",
       "      <td>C228</td>\n",
       "      <td>399</td>\n",
       "      <td>16</td>\n",
       "      <td>2.025835</td>\n",
       "      <td>Express</td>\n",
       "      <td>Magasin</td>\n",
       "      <td>France</td>\n",
       "      <td>399.00</td>\n",
       "    </tr>\n",
       "    <tr>\n",
       "      <th>9</th>\n",
       "      <td>V0010</td>\n",
       "      <td>P1811</td>\n",
       "      <td>2</td>\n",
       "      <td>2021-06-20</td>\n",
       "      <td>C866</td>\n",
       "      <td>1998</td>\n",
       "      <td>23</td>\n",
       "      <td>4.099450</td>\n",
       "      <td>Express</td>\n",
       "      <td>Magasin</td>\n",
       "      <td>France</td>\n",
       "      <td>2747.25</td>\n",
       "    </tr>\n",
       "    <tr>\n",
       "      <th>17</th>\n",
       "      <td>V0018</td>\n",
       "      <td>P705</td>\n",
       "      <td>1</td>\n",
       "      <td>2021-07-14</td>\n",
       "      <td>C343</td>\n",
       "      <td>649</td>\n",
       "      <td>11</td>\n",
       "      <td>3.716018</td>\n",
       "      <td>Express</td>\n",
       "      <td>Revendeur</td>\n",
       "      <td>France</td>\n",
       "      <td>1298.00</td>\n",
       "    </tr>\n",
       "    <tr>\n",
       "      <th>...</th>\n",
       "      <td>...</td>\n",
       "      <td>...</td>\n",
       "      <td>...</td>\n",
       "      <td>...</td>\n",
       "      <td>...</td>\n",
       "      <td>...</td>\n",
       "      <td>...</td>\n",
       "      <td>...</td>\n",
       "      <td>...</td>\n",
       "      <td>...</td>\n",
       "      <td>...</td>\n",
       "      <td>...</td>\n",
       "    </tr>\n",
       "    <tr>\n",
       "      <th>1965</th>\n",
       "      <td>V1966</td>\n",
       "      <td>P204</td>\n",
       "      <td>4</td>\n",
       "      <td>2021-04-01</td>\n",
       "      <td>C267</td>\n",
       "      <td>796</td>\n",
       "      <td>14</td>\n",
       "      <td>2.862918</td>\n",
       "      <td>Standard</td>\n",
       "      <td>En ligne</td>\n",
       "      <td>France</td>\n",
       "      <td>796.00</td>\n",
       "    </tr>\n",
       "    <tr>\n",
       "      <th>1971</th>\n",
       "      <td>V1972</td>\n",
       "      <td>P1035</td>\n",
       "      <td>2</td>\n",
       "      <td>2021-01-06</td>\n",
       "      <td>C882</td>\n",
       "      <td>1298</td>\n",
       "      <td>14</td>\n",
       "      <td>1.597140</td>\n",
       "      <td>Standard</td>\n",
       "      <td>En ligne</td>\n",
       "      <td>France</td>\n",
       "      <td>1298.00</td>\n",
       "    </tr>\n",
       "    <tr>\n",
       "      <th>1980</th>\n",
       "      <td>V1981</td>\n",
       "      <td>P1931</td>\n",
       "      <td>1</td>\n",
       "      <td>2021-04-03</td>\n",
       "      <td>C881</td>\n",
       "      <td>999</td>\n",
       "      <td>2</td>\n",
       "      <td>2.254876</td>\n",
       "      <td>Express</td>\n",
       "      <td>Magasin</td>\n",
       "      <td>France</td>\n",
       "      <td>999.00</td>\n",
       "    </tr>\n",
       "    <tr>\n",
       "      <th>1993</th>\n",
       "      <td>V1994</td>\n",
       "      <td>P1486</td>\n",
       "      <td>1</td>\n",
       "      <td>2021-09-26</td>\n",
       "      <td>C354</td>\n",
       "      <td>399</td>\n",
       "      <td>5</td>\n",
       "      <td>3.499657</td>\n",
       "      <td>Standard</td>\n",
       "      <td>Magasin</td>\n",
       "      <td>France</td>\n",
       "      <td>1296.75</td>\n",
       "    </tr>\n",
       "    <tr>\n",
       "      <th>1995</th>\n",
       "      <td>V1996</td>\n",
       "      <td>P146</td>\n",
       "      <td>5</td>\n",
       "      <td>2021-10-30</td>\n",
       "      <td>C744</td>\n",
       "      <td>1995</td>\n",
       "      <td>22</td>\n",
       "      <td>1.513238</td>\n",
       "      <td>Standard</td>\n",
       "      <td>Revendeur</td>\n",
       "      <td>France</td>\n",
       "      <td>1596.00</td>\n",
       "    </tr>\n",
       "  </tbody>\n",
       "</table>\n",
       "<p>404 rows × 12 columns</p>\n",
       "</div>"
      ],
      "text/plain": [
       "     ID_Vente ID_Produit  Quantité_Vendue Date_Vente ID_Client  Montant_Total  \\\n",
       "1       V0002      P1335                1 2021-03-16      C231            649   \n",
       "4       V0005      P1149                4 2021-12-23      C320            756   \n",
       "7       V0008       P416                1 2021-11-07      C228            399   \n",
       "9       V0010      P1811                2 2021-06-20      C866           1998   \n",
       "17      V0018       P705                1 2021-07-14      C343            649   \n",
       "...       ...        ...              ...        ...       ...            ...   \n",
       "1965    V1966       P204                4 2021-04-01      C267            796   \n",
       "1971    V1972      P1035                2 2021-01-06      C882           1298   \n",
       "1980    V1981      P1931                1 2021-04-03      C881            999   \n",
       "1993    V1994      P1486                1 2021-09-26      C354            399   \n",
       "1995    V1996       P146                5 2021-10-30      C744           1995   \n",
       "\n",
       "      Délai_Livraison_Jours  Score_Satisfaction Méthode_Expédition  \\\n",
       "1                        20            4.316370            Express   \n",
       "4                        19            3.791627           Standard   \n",
       "7                        16            2.025835            Express   \n",
       "9                        23            4.099450            Express   \n",
       "17                       11            3.716018            Express   \n",
       "...                     ...                 ...                ...   \n",
       "1965                     14            2.862918           Standard   \n",
       "1971                     14            1.597140           Standard   \n",
       "1980                      2            2.254876            Express   \n",
       "1993                      5            3.499657           Standard   \n",
       "1995                     22            1.513238           Standard   \n",
       "\n",
       "     Canal_Achat Pays_Vente  Montant_Moyen_Par_Produit  \n",
       "1      Revendeur     France                    1947.00  \n",
       "4        Magasin     France                     519.75  \n",
       "7        Magasin     France                     399.00  \n",
       "9        Magasin     France                    2747.25  \n",
       "17     Revendeur     France                    1298.00  \n",
       "...          ...        ...                        ...  \n",
       "1965    En ligne     France                     796.00  \n",
       "1971    En ligne     France                    1298.00  \n",
       "1980     Magasin     France                     999.00  \n",
       "1993     Magasin     France                    1296.75  \n",
       "1995   Revendeur     France                    1596.00  \n",
       "\n",
       "[404 rows x 12 columns]"
      ]
     },
     "execution_count": 110,
     "metadata": {},
     "output_type": "execute_result"
    }
   ],
   "source": [
    "# Filtre sur les ventes réalisées en France\n",
    "data[data['Pays_Vente'] == 'France']"
   ]
  },
  {
   "cell_type": "code",
   "execution_count": 111,
   "id": "160b8f6b-dc64-4cea-b8cf-5ec89596b312",
   "metadata": {
    "tags": []
   },
   "outputs": [
    {
     "data": {
      "text/html": [
       "<div>\n",
       "<style scoped>\n",
       "    .dataframe tbody tr th:only-of-type {\n",
       "        vertical-align: middle;\n",
       "    }\n",
       "\n",
       "    .dataframe tbody tr th {\n",
       "        vertical-align: top;\n",
       "    }\n",
       "\n",
       "    .dataframe thead th {\n",
       "        text-align: right;\n",
       "    }\n",
       "</style>\n",
       "<table border=\"1\" class=\"dataframe\">\n",
       "  <thead>\n",
       "    <tr style=\"text-align: right;\">\n",
       "      <th></th>\n",
       "      <th>ID_Vente</th>\n",
       "      <th>ID_Produit</th>\n",
       "      <th>Quantité_Vendue</th>\n",
       "      <th>Date_Vente</th>\n",
       "      <th>ID_Client</th>\n",
       "      <th>Montant_Total</th>\n",
       "      <th>Délai_Livraison_Jours</th>\n",
       "      <th>Score_Satisfaction</th>\n",
       "      <th>Méthode_Expédition</th>\n",
       "      <th>Canal_Achat</th>\n",
       "      <th>Pays_Vente</th>\n",
       "      <th>Montant_Moyen_Par_Produit</th>\n",
       "    </tr>\n",
       "  </thead>\n",
       "  <tbody>\n",
       "    <tr>\n",
       "      <th>571</th>\n",
       "      <td>V0572</td>\n",
       "      <td>P1583</td>\n",
       "      <td>3</td>\n",
       "      <td>2021-03-11</td>\n",
       "      <td>C591</td>\n",
       "      <td>8997</td>\n",
       "      <td>29</td>\n",
       "      <td>4.999865</td>\n",
       "      <td>Standard</td>\n",
       "      <td>Magasin</td>\n",
       "      <td>Chine</td>\n",
       "      <td>9996.666667</td>\n",
       "    </tr>\n",
       "    <tr>\n",
       "      <th>135</th>\n",
       "      <td>V0136</td>\n",
       "      <td>P1530</td>\n",
       "      <td>1</td>\n",
       "      <td>2021-11-11</td>\n",
       "      <td>C639</td>\n",
       "      <td>1999</td>\n",
       "      <td>5</td>\n",
       "      <td>4.999682</td>\n",
       "      <td>Standard</td>\n",
       "      <td>En ligne</td>\n",
       "      <td>Chine</td>\n",
       "      <td>3331.666667</td>\n",
       "    </tr>\n",
       "    <tr>\n",
       "      <th>916</th>\n",
       "      <td>V0917</td>\n",
       "      <td>P1316</td>\n",
       "      <td>4</td>\n",
       "      <td>2021-10-20</td>\n",
       "      <td>C897</td>\n",
       "      <td>1596</td>\n",
       "      <td>18</td>\n",
       "      <td>4.998180</td>\n",
       "      <td>Standard</td>\n",
       "      <td>Magasin</td>\n",
       "      <td>Allemagne</td>\n",
       "      <td>1396.500000</td>\n",
       "    </tr>\n",
       "    <tr>\n",
       "      <th>1164</th>\n",
       "      <td>V1165</td>\n",
       "      <td>P400</td>\n",
       "      <td>3</td>\n",
       "      <td>2021-02-06</td>\n",
       "      <td>C222</td>\n",
       "      <td>5997</td>\n",
       "      <td>16</td>\n",
       "      <td>4.997933</td>\n",
       "      <td>Standard</td>\n",
       "      <td>En ligne</td>\n",
       "      <td>Allemagne</td>\n",
       "      <td>5997.000000</td>\n",
       "    </tr>\n",
       "    <tr>\n",
       "      <th>356</th>\n",
       "      <td>V0357</td>\n",
       "      <td>P270</td>\n",
       "      <td>3</td>\n",
       "      <td>2021-06-07</td>\n",
       "      <td>C150</td>\n",
       "      <td>5997</td>\n",
       "      <td>14</td>\n",
       "      <td>4.997172</td>\n",
       "      <td>Standard</td>\n",
       "      <td>Revendeur</td>\n",
       "      <td>Corée</td>\n",
       "      <td>5997.000000</td>\n",
       "    </tr>\n",
       "    <tr>\n",
       "      <th>270</th>\n",
       "      <td>V0271</td>\n",
       "      <td>P469</td>\n",
       "      <td>1</td>\n",
       "      <td>2021-04-03</td>\n",
       "      <td>C901</td>\n",
       "      <td>189</td>\n",
       "      <td>19</td>\n",
       "      <td>4.995153</td>\n",
       "      <td>Express</td>\n",
       "      <td>Magasin</td>\n",
       "      <td>USA</td>\n",
       "      <td>283.500000</td>\n",
       "    </tr>\n",
       "    <tr>\n",
       "      <th>1620</th>\n",
       "      <td>V1621</td>\n",
       "      <td>P1860</td>\n",
       "      <td>3</td>\n",
       "      <td>2021-05-04</td>\n",
       "      <td>C593</td>\n",
       "      <td>5997</td>\n",
       "      <td>6</td>\n",
       "      <td>4.994148</td>\n",
       "      <td>Standard</td>\n",
       "      <td>Magasin</td>\n",
       "      <td>USA</td>\n",
       "      <td>3998.000000</td>\n",
       "    </tr>\n",
       "    <tr>\n",
       "      <th>1588</th>\n",
       "      <td>V1589</td>\n",
       "      <td>P1955</td>\n",
       "      <td>4</td>\n",
       "      <td>2021-05-12</td>\n",
       "      <td>C529</td>\n",
       "      <td>2596</td>\n",
       "      <td>8</td>\n",
       "      <td>4.993757</td>\n",
       "      <td>Express</td>\n",
       "      <td>Magasin</td>\n",
       "      <td>USA</td>\n",
       "      <td>2920.500000</td>\n",
       "    </tr>\n",
       "    <tr>\n",
       "      <th>1673</th>\n",
       "      <td>V1674</td>\n",
       "      <td>P544</td>\n",
       "      <td>2</td>\n",
       "      <td>2021-11-15</td>\n",
       "      <td>C495</td>\n",
       "      <td>398</td>\n",
       "      <td>28</td>\n",
       "      <td>4.990202</td>\n",
       "      <td>Express</td>\n",
       "      <td>Revendeur</td>\n",
       "      <td>USA</td>\n",
       "      <td>398.000000</td>\n",
       "    </tr>\n",
       "    <tr>\n",
       "      <th>136</th>\n",
       "      <td>V0137</td>\n",
       "      <td>P1017</td>\n",
       "      <td>5</td>\n",
       "      <td>2021-01-15</td>\n",
       "      <td>C871</td>\n",
       "      <td>10995</td>\n",
       "      <td>2</td>\n",
       "      <td>4.989960</td>\n",
       "      <td>Standard</td>\n",
       "      <td>Magasin</td>\n",
       "      <td>USA</td>\n",
       "      <td>8796.000000</td>\n",
       "    </tr>\n",
       "  </tbody>\n",
       "</table>\n",
       "</div>"
      ],
      "text/plain": [
       "     ID_Vente ID_Produit  Quantité_Vendue Date_Vente ID_Client  Montant_Total  \\\n",
       "571     V0572      P1583                3 2021-03-11      C591           8997   \n",
       "135     V0136      P1530                1 2021-11-11      C639           1999   \n",
       "916     V0917      P1316                4 2021-10-20      C897           1596   \n",
       "1164    V1165       P400                3 2021-02-06      C222           5997   \n",
       "356     V0357       P270                3 2021-06-07      C150           5997   \n",
       "270     V0271       P469                1 2021-04-03      C901            189   \n",
       "1620    V1621      P1860                3 2021-05-04      C593           5997   \n",
       "1588    V1589      P1955                4 2021-05-12      C529           2596   \n",
       "1673    V1674       P544                2 2021-11-15      C495            398   \n",
       "136     V0137      P1017                5 2021-01-15      C871          10995   \n",
       "\n",
       "      Délai_Livraison_Jours  Score_Satisfaction Méthode_Expédition  \\\n",
       "571                      29            4.999865           Standard   \n",
       "135                       5            4.999682           Standard   \n",
       "916                      18            4.998180           Standard   \n",
       "1164                     16            4.997933           Standard   \n",
       "356                      14            4.997172           Standard   \n",
       "270                      19            4.995153            Express   \n",
       "1620                      6            4.994148           Standard   \n",
       "1588                      8            4.993757            Express   \n",
       "1673                     28            4.990202            Express   \n",
       "136                       2            4.989960           Standard   \n",
       "\n",
       "     Canal_Achat Pays_Vente  Montant_Moyen_Par_Produit  \n",
       "571      Magasin      Chine                9996.666667  \n",
       "135     En ligne      Chine                3331.666667  \n",
       "916      Magasin  Allemagne                1396.500000  \n",
       "1164    En ligne  Allemagne                5997.000000  \n",
       "356    Revendeur      Corée                5997.000000  \n",
       "270      Magasin        USA                 283.500000  \n",
       "1620     Magasin        USA                3998.000000  \n",
       "1588     Magasin        USA                2920.500000  \n",
       "1673   Revendeur        USA                 398.000000  \n",
       "136      Magasin        USA                8796.000000  "
      ]
     },
     "execution_count": 111,
     "metadata": {},
     "output_type": "execute_result"
    }
   ],
   "source": [
    "# Trie sur les données par 'Score_Satisfaction' de manière décroissante\n",
    "data.sort_values(by= 'Score_Satisfaction', ascending=False).head(10)"
   ]
  },
  {
   "cell_type": "markdown",
   "id": "96479199-2974-41c0-803f-147e5cee321a",
   "metadata": {},
   "source": [
    "### Partie 4"
   ]
  },
  {
   "cell_type": "markdown",
   "id": "8171b176-4bf3-4de6-bd21-56ac78e486b6",
   "metadata": {},
   "source": [
    "<div class=\"alert alert-success\">\n",
    "    <b>Visualisation des données</b>\n",
    "</div>"
   ]
  },
  {
   "cell_type": "code",
   "execution_count": 112,
   "id": "561b5c3c-9058-4280-b55a-44630feb5a65",
   "metadata": {
    "tags": []
   },
   "outputs": [
    {
     "data": {
      "image/png": "[encoded data removed]",
      "text/plain": [
       "<Figure size 640x480 with 1 Axes>"
      ]
     },
     "metadata": {},
     "output_type": "display_data"
    }
   ],
   "source": [
    "# histogramme représentant la distribution du 'Montant_Total' des ventes.\n",
    "import matplotlib.colors as mcolors\n",
    "\n",
    "fig, ax = plt.subplots(tight_layout=True)\n",
    "\n",
    "# Création de l'histogramme\n",
    "N, bins, patches = ax.hist(data['Montant_Total'], bins=15, edgecolor='black')\n",
    "\n",
    "# Normalisation des fréquences\n",
    "fracs = N / N.max()\n",
    "\n",
    "# Normalisation des données pour la colormap\n",
    "norm = mcolors.Normalize(vmin=fracs.min(), vmax=fracs.max())\n",
    "\n",
    "# Application des couleurs\n",
    "for thisfrac, thispatch in zip(fracs, patches):\n",
    "    color = plt.cm.viridis(norm(thisfrac))\n",
    "    thispatch.set_facecolor(color)\n",
    "    \n",
    "# Titre et labels\n",
    "plt.title(\"Montant Total des Ventes\")\n",
    "plt.xlabel('Montant', fontsize=10)\n",
    "plt.ylabel('Fréquence', fontsize=14)\n",
    "\n",
    "# Affichage du graphique\n",
    "plt.show()"
   ]
  },
  {
   "cell_type": "code",
   "execution_count": 113,
   "id": "1daad055-a2dc-48ca-9c1e-18cd7aa96421",
   "metadata": {
    "tags": []
   },
   "outputs": [],
   "source": [
    "# Data frame de la quantité vendue par canal d'achat.\n",
    "data_quantite_canal = data.groupby(['Canal_Achat'], observed=True)['Quantité_Vendue'].sum().reset_index()\n",
    "\n",
    "palette = sns.color_palette(\"viridis\")"
   ]
  },
  {
   "cell_type": "code",
   "execution_count": 114,
   "id": "e5be7b3f-84e7-429a-88b7-0af2ddf9a207",
   "metadata": {
    "tags": []
   },
   "outputs": [
    {
     "data": {
      "text/html": [
       "<div>\n",
       "<style scoped>\n",
       "    .dataframe tbody tr th:only-of-type {\n",
       "        vertical-align: middle;\n",
       "    }\n",
       "\n",
       "    .dataframe tbody tr th {\n",
       "        vertical-align: top;\n",
       "    }\n",
       "\n",
       "    .dataframe thead th {\n",
       "        text-align: right;\n",
       "    }\n",
       "</style>\n",
       "<table border=\"1\" class=\"dataframe\">\n",
       "  <thead>\n",
       "    <tr style=\"text-align: right;\">\n",
       "      <th></th>\n",
       "      <th>Canal_Achat</th>\n",
       "      <th>Quantité_Vendue</th>\n",
       "    </tr>\n",
       "  </thead>\n",
       "  <tbody>\n",
       "    <tr>\n",
       "      <th>0</th>\n",
       "      <td>En ligne</td>\n",
       "      <td>2019</td>\n",
       "    </tr>\n",
       "    <tr>\n",
       "      <th>1</th>\n",
       "      <td>Magasin</td>\n",
       "      <td>2074</td>\n",
       "    </tr>\n",
       "    <tr>\n",
       "      <th>2</th>\n",
       "      <td>Revendeur</td>\n",
       "      <td>1857</td>\n",
       "    </tr>\n",
       "  </tbody>\n",
       "</table>\n",
       "</div>"
      ],
      "text/plain": [
       "  Canal_Achat  Quantité_Vendue\n",
       "0    En ligne             2019\n",
       "1     Magasin             2074\n",
       "2   Revendeur             1857"
      ]
     },
     "execution_count": 114,
     "metadata": {},
     "output_type": "execute_result"
    }
   ],
   "source": [
    "data_quantite_canal"
   ]
  },
  {
   "cell_type": "code",
   "execution_count": 115,
   "id": "e5499069-82ca-4bce-98db-1a38c402cec9",
   "metadata": {
    "tags": []
   },
   "outputs": [
    {
     "name": "stderr",
     "output_type": "stream",
     "text": [
      "/Users/alelia/anaconda3/lib/python3.11/site-packages/seaborn/categorical.py:641: FutureWarning: The default of observed=False is deprecated and will be changed to True in a future version of pandas. Pass observed=False to retain current behavior or observed=True to adopt the future default and silence this warning.\n",
      "  grouped_vals = vals.groupby(grouper)\n"
     ]
    },
    {
     "data": {
      "image/png": "[encoded data removed]",
      "text/plain": [
       "<Figure size 1200x800 with 1 Axes>"
      ]
     },
     "metadata": {},
     "output_type": "display_data"
    }
   ],
   "source": [
    "# Créer le graphique en barres montrant le nombre de ventes par 'Canal_Achat'\n",
    "plt.figure(figsize=(12, 8))\n",
    "barplot = sns.barplot(\n",
    "    data=data_quantite_canal,\n",
    "    x='Canal_Achat', \n",
    "    y='Quantité_Vendue', \n",
    "    palette=palette\n",
    ")\n",
    "\n",
    "plt.title('Nombre de Ventes Par Canal Achat', fontsize=16)\n",
    "plt.xlabel('Canal Achat', fontsize=14)\n",
    "plt.ylabel('Quantité Vendue', fontsize=14)\n",
    "\n",
    "# Afficher le graphique\n",
    "plt.tight_layout()\n",
    "plt.show()"
   ]
  },
  {
   "cell_type": "code",
   "execution_count": 116,
   "id": "ede6ca1a-9542-4d21-994a-c3d20d2c0dc2",
   "metadata": {
    "tags": []
   },
   "outputs": [
    {
     "data": {
      "image/png": "[encoded data removed]",
      "text/plain": [
       "<Figure size 640x480 with 1 Axes>"
      ]
     },
     "metadata": {},
     "output_type": "display_data"
    }
   ],
   "source": [
    "# Nuage de points montrant la relation entre 'Délai_Livraison_Jours' et 'Score_Satisfaction'\n",
    "\n",
    "sns.scatterplot(x='Délai_Livraison_Jours', y='Score_Satisfaction', data=data, s=10)\n",
    "plt.title('Relation entre Délai Livraison Jours et Score de Satisfaction')\n",
    "plt.xlabel('Délai Livraison Jours')\n",
    "plt.ylabel('Score de Satisfaction')\n",
    "plt.show()"
   ]
  },
  {
   "cell_type": "markdown",
   "id": "0a48de43-277d-4bd6-b9d2-90e123edadd7",
   "metadata": {},
   "source": [
    "Il n'y a AUCUNE relation."
   ]
  }
 ],
 "metadata": {
  "kernelspec": {
   "display_name": "Python 3 (ipykernel)",
   "language": "python",
   "name": "python3"
  },
  "language_info": {
   "codemirror_mode": {
    "name": "ipython",
    "version": 3
   },
   "file_extension": ".py",
   "mimetype": "text/x-python",
   "name": "python",
   "nbconvert_exporter": "python",
   "pygments_lexer": "ipython3",
   "version": "3.11.3"
  }
 },
 "nbformat": 4,
 "nbformat_minor": 5
}
