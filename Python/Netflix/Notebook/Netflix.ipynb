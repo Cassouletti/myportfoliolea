{
 "cells": [
  {
   "cell_type": "markdown",
   "id": "3bd87788-5261-4bce-8cb4-3d637cb0e907",
   "metadata": {},
   "source": [
    "# Data Analysis Tasks"
   ]
  },
  {
   "cell_type": "code",
   "execution_count": 1,
   "id": "5fb6630f-6747-4db0-b407-1948816b7dd6",
   "metadata": {
    "tags": []
   },
   "outputs": [],
   "source": [
    "# Importation des modules\n",
    "import pandas as pd\n",
    "import numpy as np"
   ]
  },
  {
   "cell_type": "code",
   "execution_count": 2,
   "id": "6ed450ee-2708-48fc-a427-ddb077280b41",
   "metadata": {
    "tags": []
   },
   "outputs": [],
   "source": [
    "# Importation de la donnée\n",
    "data = pd.read_csv(\"/Users/alelia/Desktop/Data/TRY/Github/Python/Netflix/Data/netflix_titles.csv\")"
   ]
  },
  {
   "cell_type": "code",
   "execution_count": 3,
   "id": "10d2c862-9f9e-4c27-950e-2e28a0cc0fd4",
   "metadata": {
    "tags": []
   },
   "outputs": [
    {
     "data": {
      "text/html": [
       "<div>\n",
       "<style scoped>\n",
       "    .dataframe tbody tr th:only-of-type {\n",
       "        vertical-align: middle;\n",
       "    }\n",
       "\n",
       "    .dataframe tbody tr th {\n",
       "        vertical-align: top;\n",
       "    }\n",
       "\n",
       "    .dataframe thead th {\n",
       "        text-align: right;\n",
       "    }\n",
       "</style>\n",
       "<table border=\"1\" class=\"dataframe\">\n",
       "  <thead>\n",
       "    <tr style=\"text-align: right;\">\n",
       "      <th></th>\n",
       "      <th>show_id</th>\n",
       "      <th>type</th>\n",
       "      <th>title</th>\n",
       "      <th>director</th>\n",
       "      <th>cast</th>\n",
       "      <th>country</th>\n",
       "      <th>date_added</th>\n",
       "      <th>release_year</th>\n",
       "      <th>rating</th>\n",
       "      <th>duration</th>\n",
       "      <th>listed_in</th>\n",
       "      <th>description</th>\n",
       "    </tr>\n",
       "  </thead>\n",
       "  <tbody>\n",
       "    <tr>\n",
       "      <th>0</th>\n",
       "      <td>s1</td>\n",
       "      <td>Movie</td>\n",
       "      <td>Dick Johnson Is Dead</td>\n",
       "      <td>Kirsten Johnson</td>\n",
       "      <td>NaN</td>\n",
       "      <td>United States</td>\n",
       "      <td>September 25, 2021</td>\n",
       "      <td>2020</td>\n",
       "      <td>PG-13</td>\n",
       "      <td>90 min</td>\n",
       "      <td>Documentaries</td>\n",
       "      <td>As her father nears the end of his life, filmm...</td>\n",
       "    </tr>\n",
       "    <tr>\n",
       "      <th>1</th>\n",
       "      <td>s2</td>\n",
       "      <td>TV Show</td>\n",
       "      <td>Blood &amp; Water</td>\n",
       "      <td>NaN</td>\n",
       "      <td>Ama Qamata, Khosi Ngema, Gail Mabalane, Thaban...</td>\n",
       "      <td>South Africa</td>\n",
       "      <td>September 24, 2021</td>\n",
       "      <td>2021</td>\n",
       "      <td>TV-MA</td>\n",
       "      <td>2 Seasons</td>\n",
       "      <td>International TV Shows, TV Dramas, TV Mysteries</td>\n",
       "      <td>After crossing paths at a party, a Cape Town t...</td>\n",
       "    </tr>\n",
       "    <tr>\n",
       "      <th>2</th>\n",
       "      <td>s3</td>\n",
       "      <td>TV Show</td>\n",
       "      <td>Ganglands</td>\n",
       "      <td>Julien Leclercq</td>\n",
       "      <td>Sami Bouajila, Tracy Gotoas, Samuel Jouy, Nabi...</td>\n",
       "      <td>NaN</td>\n",
       "      <td>September 24, 2021</td>\n",
       "      <td>2021</td>\n",
       "      <td>TV-MA</td>\n",
       "      <td>1 Season</td>\n",
       "      <td>Crime TV Shows, International TV Shows, TV Act...</td>\n",
       "      <td>To protect his family from a powerful drug lor...</td>\n",
       "    </tr>\n",
       "  </tbody>\n",
       "</table>\n",
       "</div>"
      ],
      "text/plain": [
       "  show_id     type                 title         director  \\\n",
       "0      s1    Movie  Dick Johnson Is Dead  Kirsten Johnson   \n",
       "1      s2  TV Show         Blood & Water              NaN   \n",
       "2      s3  TV Show             Ganglands  Julien Leclercq   \n",
       "\n",
       "                                                cast        country  \\\n",
       "0                                                NaN  United States   \n",
       "1  Ama Qamata, Khosi Ngema, Gail Mabalane, Thaban...   South Africa   \n",
       "2  Sami Bouajila, Tracy Gotoas, Samuel Jouy, Nabi...            NaN   \n",
       "\n",
       "           date_added  release_year rating   duration  \\\n",
       "0  September 25, 2021          2020  PG-13     90 min   \n",
       "1  September 24, 2021          2021  TV-MA  2 Seasons   \n",
       "2  September 24, 2021          2021  TV-MA   1 Season   \n",
       "\n",
       "                                           listed_in  \\\n",
       "0                                      Documentaries   \n",
       "1    International TV Shows, TV Dramas, TV Mysteries   \n",
       "2  Crime TV Shows, International TV Shows, TV Act...   \n",
       "\n",
       "                                         description  \n",
       "0  As her father nears the end of his life, filmm...  \n",
       "1  After crossing paths at a party, a Cape Town t...  \n",
       "2  To protect his family from a powerful drug lor...  "
      ]
     },
     "execution_count": 3,
     "metadata": {},
     "output_type": "execute_result"
    }
   ],
   "source": [
    "data.head(3)"
   ]
  },
  {
   "cell_type": "markdown",
   "id": "25cbf49a-dcfa-48a6-aebf-6b068cdbb209",
   "metadata": {
    "tags": []
   },
   "source": [
    "<div class=\"alert alert-success\"><b>Quelle est la meilleure année de sortie pour Netflix ?\n",
    "    </b></div>"
   ]
  },
  {
   "cell_type": "code",
   "execution_count": 4,
   "id": "d2a55ca8-4246-45d7-86d4-ffd3b1226531",
   "metadata": {
    "tags": []
   },
   "outputs": [],
   "source": [
    "# Selection de de la donnée pour les films\n",
    "movie_data = data[data['type'] == 'Movie']"
   ]
  },
  {
   "cell_type": "code",
   "execution_count": 6,
   "id": "ba3ec6ee-0881-403e-b84a-70ec68c29db8",
   "metadata": {
    "tags": []
   },
   "outputs": [],
   "source": [
    "# Création d'une colonne fait de 1\n",
    "movie_data.loc[:, 'count'] = 1"
   ]
  },
  {
   "cell_type": "code",
   "execution_count": 7,
   "id": "25667681-8485-4c75-82a1-0a0694e1f92a",
   "metadata": {
    "tags": []
   },
   "outputs": [],
   "source": [
    "# Je groupe les films par leur année de sortie\n",
    "movie_data_g = movie_data.groupby(['release_year']).sum().reset_index()[['release_year','count']]"
   ]
  },
  {
   "cell_type": "code",
   "execution_count": 8,
   "id": "d0381446-46f4-468c-a91f-a1353765073a",
   "metadata": {
    "tags": []
   },
   "outputs": [
    {
     "data": {
      "text/html": [
       "<div>\n",
       "<style scoped>\n",
       "    .dataframe tbody tr th:only-of-type {\n",
       "        vertical-align: middle;\n",
       "    }\n",
       "\n",
       "    .dataframe tbody tr th {\n",
       "        vertical-align: top;\n",
       "    }\n",
       "\n",
       "    .dataframe thead th {\n",
       "        text-align: right;\n",
       "    }\n",
       "</style>\n",
       "<table border=\"1\" class=\"dataframe\">\n",
       "  <thead>\n",
       "    <tr style=\"text-align: right;\">\n",
       "      <th></th>\n",
       "      <th>release_year</th>\n",
       "      <th>count</th>\n",
       "    </tr>\n",
       "  </thead>\n",
       "  <tbody>\n",
       "    <tr>\n",
       "      <th>69</th>\n",
       "      <td>2018</td>\n",
       "      <td>767</td>\n",
       "    </tr>\n",
       "    <tr>\n",
       "      <th>68</th>\n",
       "      <td>2017</td>\n",
       "      <td>767</td>\n",
       "    </tr>\n",
       "    <tr>\n",
       "      <th>67</th>\n",
       "      <td>2016</td>\n",
       "      <td>658</td>\n",
       "    </tr>\n",
       "    <tr>\n",
       "      <th>70</th>\n",
       "      <td>2019</td>\n",
       "      <td>633</td>\n",
       "    </tr>\n",
       "    <tr>\n",
       "      <th>71</th>\n",
       "      <td>2020</td>\n",
       "      <td>517</td>\n",
       "    </tr>\n",
       "    <tr>\n",
       "      <th>...</th>\n",
       "      <td>...</td>\n",
       "      <td>...</td>\n",
       "    </tr>\n",
       "    <tr>\n",
       "      <th>12</th>\n",
       "      <td>1961</td>\n",
       "      <td>1</td>\n",
       "    </tr>\n",
       "    <tr>\n",
       "      <th>14</th>\n",
       "      <td>1963</td>\n",
       "      <td>1</td>\n",
       "    </tr>\n",
       "    <tr>\n",
       "      <th>17</th>\n",
       "      <td>1966</td>\n",
       "      <td>1</td>\n",
       "    </tr>\n",
       "    <tr>\n",
       "      <th>5</th>\n",
       "      <td>1947</td>\n",
       "      <td>1</td>\n",
       "    </tr>\n",
       "    <tr>\n",
       "      <th>4</th>\n",
       "      <td>1946</td>\n",
       "      <td>1</td>\n",
       "    </tr>\n",
       "  </tbody>\n",
       "</table>\n",
       "<p>73 rows × 2 columns</p>\n",
       "</div>"
      ],
      "text/plain": [
       "    release_year  count\n",
       "69          2018    767\n",
       "68          2017    767\n",
       "67          2016    658\n",
       "70          2019    633\n",
       "71          2020    517\n",
       "..           ...    ...\n",
       "12          1961      1\n",
       "14          1963      1\n",
       "17          1966      1\n",
       "5           1947      1\n",
       "4           1946      1\n",
       "\n",
       "[73 rows x 2 columns]"
      ]
     },
     "execution_count": 8,
     "metadata": {},
     "output_type": "execute_result"
    }
   ],
   "source": [
    "# Pour plus de clarté, je les ordonne par ordre de décroissant\n",
    "movie_data_g.sort_values(['count'], ascending=False)"
   ]
  },
  {
   "cell_type": "markdown",
   "id": "1602bc6a-3e96-4fb6-b184-a832e4bf44a7",
   "metadata": {},
   "source": [
    "Il s'agit donc de l'année 2018 ou 2017."
   ]
  },
  {
   "cell_type": "markdown",
   "id": "50c0a693-6c53-4586-a925-33579837d311",
   "metadata": {},
   "source": [
    "<div class=\"alert alert-success\"><b>Quelle est l'année où Netflix a le plus ajouté de programmes ?\n",
    "    </b></div>"
   ]
  },
  {
   "cell_type": "code",
   "execution_count": 9,
   "id": "f842ea04-ab9c-43fc-84eb-5f4eb9d9bc25",
   "metadata": {
    "tags": []
   },
   "outputs": [],
   "source": [
    "# Conversion de d'une nouvelle colonne new date en datetime\n",
    "data['new_date'] = pd.to_datetime(data['date_added'], errors='coerce')"
   ]
  },
  {
   "cell_type": "code",
   "execution_count": 10,
   "id": "be8ac60d-d882-4d5e-afb8-44726083d8c1",
   "metadata": {
    "tags": []
   },
   "outputs": [],
   "source": [
    "# Extraction de l'année\n",
    "data['year_added'] = data['new_date'].dt.year"
   ]
  },
  {
   "cell_type": "code",
   "execution_count": 11,
   "id": "1bb6b184-3056-4eab-9084-b64dc501e97a",
   "metadata": {
    "tags": []
   },
   "outputs": [],
   "source": [
    "# Création d'une colonne fait de 1\n",
    "data['count'] = 1"
   ]
  },
  {
   "cell_type": "code",
   "execution_count": 12,
   "id": "0fe4a82e-9ce0-4f71-8d68-b99f478d7860",
   "metadata": {
    "tags": []
   },
   "outputs": [],
   "source": [
    "# Regroupement du nombre de programmes par année\n",
    "data_year = data.groupby(['year_added']).count().reset_index()[['year_added','count']]"
   ]
  },
  {
   "cell_type": "code",
   "execution_count": 13,
   "id": "b58d11ae-6e1f-43a9-bcc6-8413947e8eaa",
   "metadata": {
    "tags": []
   },
   "outputs": [
    {
     "data": {
      "text/html": [
       "<div>\n",
       "<style scoped>\n",
       "    .dataframe tbody tr th:only-of-type {\n",
       "        vertical-align: middle;\n",
       "    }\n",
       "\n",
       "    .dataframe tbody tr th {\n",
       "        vertical-align: top;\n",
       "    }\n",
       "\n",
       "    .dataframe thead th {\n",
       "        text-align: right;\n",
       "    }\n",
       "</style>\n",
       "<table border=\"1\" class=\"dataframe\">\n",
       "  <thead>\n",
       "    <tr style=\"text-align: right;\">\n",
       "      <th></th>\n",
       "      <th>year_added</th>\n",
       "      <th>count</th>\n",
       "    </tr>\n",
       "  </thead>\n",
       "  <tbody>\n",
       "    <tr>\n",
       "      <th>11</th>\n",
       "      <td>2019.0</td>\n",
       "      <td>1999</td>\n",
       "    </tr>\n",
       "    <tr>\n",
       "      <th>12</th>\n",
       "      <td>2020.0</td>\n",
       "      <td>1878</td>\n",
       "    </tr>\n",
       "    <tr>\n",
       "      <th>10</th>\n",
       "      <td>2018.0</td>\n",
       "      <td>1625</td>\n",
       "    </tr>\n",
       "    <tr>\n",
       "      <th>13</th>\n",
       "      <td>2021.0</td>\n",
       "      <td>1498</td>\n",
       "    </tr>\n",
       "    <tr>\n",
       "      <th>9</th>\n",
       "      <td>2017.0</td>\n",
       "      <td>1164</td>\n",
       "    </tr>\n",
       "    <tr>\n",
       "      <th>8</th>\n",
       "      <td>2016.0</td>\n",
       "      <td>418</td>\n",
       "    </tr>\n",
       "    <tr>\n",
       "      <th>7</th>\n",
       "      <td>2015.0</td>\n",
       "      <td>73</td>\n",
       "    </tr>\n",
       "    <tr>\n",
       "      <th>6</th>\n",
       "      <td>2014.0</td>\n",
       "      <td>23</td>\n",
       "    </tr>\n",
       "    <tr>\n",
       "      <th>3</th>\n",
       "      <td>2011.0</td>\n",
       "      <td>13</td>\n",
       "    </tr>\n",
       "    <tr>\n",
       "      <th>5</th>\n",
       "      <td>2013.0</td>\n",
       "      <td>10</td>\n",
       "    </tr>\n",
       "    <tr>\n",
       "      <th>4</th>\n",
       "      <td>2012.0</td>\n",
       "      <td>3</td>\n",
       "    </tr>\n",
       "    <tr>\n",
       "      <th>0</th>\n",
       "      <td>2008.0</td>\n",
       "      <td>2</td>\n",
       "    </tr>\n",
       "    <tr>\n",
       "      <th>1</th>\n",
       "      <td>2009.0</td>\n",
       "      <td>2</td>\n",
       "    </tr>\n",
       "    <tr>\n",
       "      <th>2</th>\n",
       "      <td>2010.0</td>\n",
       "      <td>1</td>\n",
       "    </tr>\n",
       "  </tbody>\n",
       "</table>\n",
       "</div>"
      ],
      "text/plain": [
       "    year_added  count\n",
       "11      2019.0   1999\n",
       "12      2020.0   1878\n",
       "10      2018.0   1625\n",
       "13      2021.0   1498\n",
       "9       2017.0   1164\n",
       "8       2016.0    418\n",
       "7       2015.0     73\n",
       "6       2014.0     23\n",
       "3       2011.0     13\n",
       "5       2013.0     10\n",
       "4       2012.0      3\n",
       "0       2008.0      2\n",
       "1       2009.0      2\n",
       "2       2010.0      1"
      ]
     },
     "execution_count": 13,
     "metadata": {},
     "output_type": "execute_result"
    }
   ],
   "source": [
    "# Pour plus de clarté, je les ordonne par ordre de décroissant\n",
    "data_year.sort_values(['count'], ascending=False)"
   ]
  },
  {
   "cell_type": "markdown",
   "id": "85f1e334-86f9-4549-a1c4-c5fac7902eb8",
   "metadata": {},
   "source": [
    "C'est donc l'année 2019"
   ]
  },
  {
   "cell_type": "markdown",
   "id": "95dae3db-4ed5-4797-a872-956a96ab87a4",
   "metadata": {},
   "source": [
    "<div class=\"alert alert-success\"><b>Quelle est le mois où Netflix a le plus ajouté de programmes ?\n",
    "    </b></div>"
   ]
  },
  {
   "cell_type": "code",
   "execution_count": 14,
   "id": "58ed628f-2cf0-4150-b9de-e131814dc3d9",
   "metadata": {
    "tags": []
   },
   "outputs": [],
   "source": [
    "# Extraction du mois\n",
    "data['month_added'] = data['new_date'].dt.month"
   ]
  },
  {
   "cell_type": "code",
   "execution_count": 15,
   "id": "df482cc9-aa53-4fee-b1ed-f07540fb21d9",
   "metadata": {
    "tags": []
   },
   "outputs": [],
   "source": [
    "# Conversion en string\n",
    "data['month_added'] = data['month_added'].astype(str)"
   ]
  },
  {
   "cell_type": "code",
   "execution_count": 16,
   "id": "afb7afcc-b467-4488-ab6b-f73b53b850e8",
   "metadata": {
    "tags": []
   },
   "outputs": [],
   "source": [
    "# Regroupement du nombre de programmes par mois\n",
    "data_month = data.groupby(['month_added']).count().reset_index()[['month_added', 'count']]"
   ]
  },
  {
   "cell_type": "code",
   "execution_count": 17,
   "id": "3c619edd-f886-4167-bde7-487af717af21",
   "metadata": {
    "tags": []
   },
   "outputs": [
    {
     "data": {
      "text/html": [
       "<div>\n",
       "<style scoped>\n",
       "    .dataframe tbody tr th:only-of-type {\n",
       "        vertical-align: middle;\n",
       "    }\n",
       "\n",
       "    .dataframe tbody tr th {\n",
       "        vertical-align: top;\n",
       "    }\n",
       "\n",
       "    .dataframe thead th {\n",
       "        text-align: right;\n",
       "    }\n",
       "</style>\n",
       "<table border=\"1\" class=\"dataframe\">\n",
       "  <thead>\n",
       "    <tr style=\"text-align: right;\">\n",
       "      <th></th>\n",
       "      <th>month_added</th>\n",
       "      <th>count</th>\n",
       "    </tr>\n",
       "  </thead>\n",
       "  <tbody>\n",
       "    <tr>\n",
       "      <th>9</th>\n",
       "      <td>7.0</td>\n",
       "      <td>819</td>\n",
       "    </tr>\n",
       "    <tr>\n",
       "      <th>3</th>\n",
       "      <td>12.0</td>\n",
       "      <td>797</td>\n",
       "    </tr>\n",
       "    <tr>\n",
       "      <th>11</th>\n",
       "      <td>9.0</td>\n",
       "      <td>765</td>\n",
       "    </tr>\n",
       "    <tr>\n",
       "      <th>6</th>\n",
       "      <td>4.0</td>\n",
       "      <td>759</td>\n",
       "    </tr>\n",
       "    <tr>\n",
       "      <th>1</th>\n",
       "      <td>10.0</td>\n",
       "      <td>755</td>\n",
       "    </tr>\n",
       "    <tr>\n",
       "      <th>10</th>\n",
       "      <td>8.0</td>\n",
       "      <td>749</td>\n",
       "    </tr>\n",
       "    <tr>\n",
       "      <th>5</th>\n",
       "      <td>3.0</td>\n",
       "      <td>734</td>\n",
       "    </tr>\n",
       "    <tr>\n",
       "      <th>0</th>\n",
       "      <td>1.0</td>\n",
       "      <td>727</td>\n",
       "    </tr>\n",
       "    <tr>\n",
       "      <th>8</th>\n",
       "      <td>6.0</td>\n",
       "      <td>724</td>\n",
       "    </tr>\n",
       "    <tr>\n",
       "      <th>2</th>\n",
       "      <td>11.0</td>\n",
       "      <td>697</td>\n",
       "    </tr>\n",
       "    <tr>\n",
       "      <th>7</th>\n",
       "      <td>5.0</td>\n",
       "      <td>626</td>\n",
       "    </tr>\n",
       "    <tr>\n",
       "      <th>4</th>\n",
       "      <td>2.0</td>\n",
       "      <td>557</td>\n",
       "    </tr>\n",
       "    <tr>\n",
       "      <th>12</th>\n",
       "      <td>nan</td>\n",
       "      <td>98</td>\n",
       "    </tr>\n",
       "  </tbody>\n",
       "</table>\n",
       "</div>"
      ],
      "text/plain": [
       "   month_added  count\n",
       "9          7.0    819\n",
       "3         12.0    797\n",
       "11         9.0    765\n",
       "6          4.0    759\n",
       "1         10.0    755\n",
       "10         8.0    749\n",
       "5          3.0    734\n",
       "0          1.0    727\n",
       "8          6.0    724\n",
       "2         11.0    697\n",
       "7          5.0    626\n",
       "4          2.0    557\n",
       "12         nan     98"
      ]
     },
     "execution_count": 17,
     "metadata": {},
     "output_type": "execute_result"
    }
   ],
   "source": [
    "# Pour plus de clarté, je les ordonne par ordre de décroissant\n",
    "data_month.sort_values(['count'], ascending=False)"
   ]
  },
  {
   "cell_type": "markdown",
   "id": "084140a2-3b69-40c3-a73c-641ccd66a29c",
   "metadata": {},
   "source": [
    "Le mois où Netflix a ajouté le plus de programmes est le mois de Juillet."
   ]
  },
  {
   "cell_type": "markdown",
   "id": "42da504d-cfa9-47f6-8bcf-4fc0c482b338",
   "metadata": {},
   "source": [
    "<div class=\"alert alert-success\"><b>Quel est le film avec le plus grand nombre de caractères dans toute la donnée ?\n",
    "    </b></div>"
   ]
  },
  {
   "cell_type": "code",
   "execution_count": 26,
   "id": "a7915899-4753-4543-8804-6718c08d9452",
   "metadata": {
    "tags": []
   },
   "outputs": [],
   "source": [
    "# Ajouter une nouvelle colonne qui calcule la longueur de chaque titre\n",
    "movie_data.loc[:, 'title_length'] = movie_data['title'].apply(len)\n",
    "\n",
    "# Trouver l'index du titre le plus long\n",
    "longest_title_index = movie_data['title_length'].idxmax()\n",
    "\n",
    "# Récupérer le titre le plus long\n",
    "longest_title = movie_data.loc[longest_title_index, 'title']"
   ]
  },
  {
   "cell_type": "code",
   "execution_count": 27,
   "id": "d76a247e-2182-4e82-b422-3291606641a8",
   "metadata": {
    "tags": []
   },
   "outputs": [
    {
     "data": {
      "text/plain": [
       "'Jim & Andy: The Great Beyond - Featuring a Very Special, Contractually Obligated Mention of Tony Clifton'"
      ]
     },
     "execution_count": 27,
     "metadata": {},
     "output_type": "execute_result"
    }
   ],
   "source": [
    "longest_title"
   ]
  },
  {
   "cell_type": "code",
   "execution_count": null,
   "id": "59eefcaa-bb83-4e30-b0d4-2f80140e0af0",
   "metadata": {},
   "outputs": [],
   "source": []
  },
  {
   "cell_type": "code",
   "execution_count": null,
   "id": "eaffabfb-be1c-4a7c-a382-5dfe74d246d0",
   "metadata": {},
   "outputs": [],
   "source": []
  }
 ],
 "metadata": {
  "kernelspec": {
   "display_name": "Python 3 (ipykernel)",
   "language": "python",
   "name": "python3"
  },
  "language_info": {
   "codemirror_mode": {
    "name": "ipython",
    "version": 3
   },
   "file_extension": ".py",
   "mimetype": "text/x-python",
   "name": "python",
   "nbconvert_exporter": "python",
   "pygments_lexer": "ipython3",
   "version": "3.11.3"
  }
 },
 "nbformat": 4,
 "nbformat_minor": 5
}
