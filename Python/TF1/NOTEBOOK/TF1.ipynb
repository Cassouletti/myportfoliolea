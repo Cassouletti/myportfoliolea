{
 "cells": [
  {
   "cell_type": "markdown",
   "id": "8f19fa17-75e9-4b3f-9b7b-159f8225f81e",
   "metadata": {},
   "source": [
    "# Analyse du dataset TF1"
   ]
  },
  {
   "cell_type": "markdown",
   "id": "b755c3d4-de5b-49a9-b6a6-b84e20d7790b",
   "metadata": {},
   "source": [
    "<div class=\"alert alert-info\"><b><i>Contexte : </i></b>Vous êtes Data analyst au sein du groupe TF1. Vous disposez de données présentant des informations telles que les programmes, l’audiance ainsi que les revenus publicitaires. \n",
    "<br>Votre <b>mission</b> est de réaliser une première exploration de ces données avec Python.\n",
    "Utilisez le fichier <b>\"DATA_TF1.xlsx\"</b> pour réaliser les tâches suivantes en Python, en utilisant (principalement) les bibliothèques Pandas et Numpy. Il s’agit de <b>données fictives</b> générées par une intelligence artificielle.\n",
    "Assurez-vous de bien commenter votre code pour expliquer vos démarches.</div>"
   ]
  },
  {
   "cell_type": "markdown",
   "id": "62ef7874-d1f9-4913-9240-f7b05f339ebe",
   "metadata": {},
   "source": [
    "### Partie 1 : Bases du language Python"
   ]
  },
  {
   "cell_type": "markdown",
   "id": "ce59baf1-ef22-486e-b874-564f985d1f53",
   "metadata": {
    "tags": []
   },
   "source": [
    "<div class=\"alert alert-success\">\n",
    "    <b>Types de Données et Manipulation de Chaînes</b>\n",
    "</div>"
   ]
  },
  {
   "cell_type": "markdown",
   "id": "e2a0ad08-d178-4e9d-a18b-b59127ef51ac",
   "metadata": {},
   "source": [
    "##### Chargement des modules et données"
   ]
  },
  {
   "cell_type": "code",
   "execution_count": 1,
   "id": "be2f18cf-2f82-4861-a406-d1def85cd928",
   "metadata": {
    "tags": []
   },
   "outputs": [],
   "source": [
    "import matplotlib.pyplot as plt\n",
    "import pandas as pd\n",
    "import numpy as np\n",
    "import seaborn as sns"
   ]
  },
  {
   "cell_type": "code",
   "execution_count": 135,
   "id": "dec49a73-3a04-4552-bee9-5609f5d442e6",
   "metadata": {
    "tags": []
   },
   "outputs": [],
   "source": [
    "data = pd.read_excel(\"DATA_TF1.xlsx\")"
   ]
  },
  {
   "cell_type": "code",
   "execution_count": 136,
   "id": "0aeb93d5-6ac3-4599-9786-6381a6db75b1",
   "metadata": {
    "tags": []
   },
   "outputs": [
    {
     "data": {
      "text/html": [
       "<div>\n",
       "<style scoped>\n",
       "    .dataframe tbody tr th:only-of-type {\n",
       "        vertical-align: middle;\n",
       "    }\n",
       "\n",
       "    .dataframe tbody tr th {\n",
       "        vertical-align: top;\n",
       "    }\n",
       "\n",
       "    .dataframe thead th {\n",
       "        text-align: right;\n",
       "    }\n",
       "</style>\n",
       "<table border=\"1\" class=\"dataframe\">\n",
       "  <thead>\n",
       "    <tr style=\"text-align: right;\">\n",
       "      <th></th>\n",
       "      <th>ID_programme</th>\n",
       "      <th>Nom_programme</th>\n",
       "      <th>Type_programme</th>\n",
       "      <th>Date_diffusion</th>\n",
       "      <th>Durée</th>\n",
       "      <th>Audience</th>\n",
       "      <th>Part_marché</th>\n",
       "      <th>Cible_principale</th>\n",
       "      <th>Score_qualité</th>\n",
       "      <th>Nombre_publicités</th>\n",
       "      <th>Revenus_publicitaires</th>\n",
       "    </tr>\n",
       "  </thead>\n",
       "  <tbody>\n",
       "    <tr>\n",
       "      <th>0</th>\n",
       "      <td>0</td>\n",
       "      <td>Jacky Show</td>\n",
       "      <td>Documentaire</td>\n",
       "      <td>2023-06-30</td>\n",
       "      <td>157</td>\n",
       "      <td>3228010.0</td>\n",
       "      <td>45.78</td>\n",
       "      <td>Enfants</td>\n",
       "      <td>4.7</td>\n",
       "      <td>39.0</td>\n",
       "      <td>3191.31</td>\n",
       "    </tr>\n",
       "    <tr>\n",
       "      <th>1</th>\n",
       "      <td>1</td>\n",
       "      <td>L'Hebdo Show</td>\n",
       "      <td>Divertissement</td>\n",
       "      <td>2023-03-19</td>\n",
       "      <td>64</td>\n",
       "      <td>243902.0</td>\n",
       "      <td>49.56</td>\n",
       "      <td>Adolescents</td>\n",
       "      <td>5.7</td>\n",
       "      <td>7.0</td>\n",
       "      <td>41167.32</td>\n",
       "    </tr>\n",
       "    <tr>\n",
       "      <th>2</th>\n",
       "      <td>2</td>\n",
       "      <td>Petites Stars : Le Grand Soir</td>\n",
       "      <td>Documentaire</td>\n",
       "      <td>2023-12-05</td>\n",
       "      <td>160</td>\n",
       "      <td>263143.0</td>\n",
       "      <td>6.17</td>\n",
       "      <td>Enfants</td>\n",
       "      <td>4.8</td>\n",
       "      <td>16.0</td>\n",
       "      <td>36860.05</td>\n",
       "    </tr>\n",
       "    <tr>\n",
       "      <th>3</th>\n",
       "      <td>3</td>\n",
       "      <td>Koh-Lanta</td>\n",
       "      <td>Divertissement</td>\n",
       "      <td>2023-10-28</td>\n",
       "      <td>124</td>\n",
       "      <td>3445352.0</td>\n",
       "      <td>9.89</td>\n",
       "      <td>Tout public</td>\n",
       "      <td>9.4</td>\n",
       "      <td>5.0</td>\n",
       "      <td>NaN</td>\n",
       "    </tr>\n",
       "    <tr>\n",
       "      <th>4</th>\n",
       "      <td>4</td>\n",
       "      <td>Face à la Une</td>\n",
       "      <td>Documentaire</td>\n",
       "      <td>2023-06-14</td>\n",
       "      <td>115</td>\n",
       "      <td>2194471.0</td>\n",
       "      <td>11.82</td>\n",
       "      <td>Adultes</td>\n",
       "      <td>8.2</td>\n",
       "      <td>NaN</td>\n",
       "      <td>42203.80</td>\n",
       "    </tr>\n",
       "  </tbody>\n",
       "</table>\n",
       "</div>"
      ],
      "text/plain": [
       "   ID_programme                  Nom_programme  Type_programme Date_diffusion  \\\n",
       "0             0                     Jacky Show    Documentaire     2023-06-30   \n",
       "1             1                   L'Hebdo Show  Divertissement     2023-03-19   \n",
       "2             2  Petites Stars : Le Grand Soir    Documentaire     2023-12-05   \n",
       "3             3                      Koh-Lanta  Divertissement     2023-10-28   \n",
       "4             4                  Face à la Une    Documentaire     2023-06-14   \n",
       "\n",
       "   Durée   Audience  Part_marché Cible_principale  Score_qualité  \\\n",
       "0    157  3228010.0        45.78          Enfants            4.7   \n",
       "1     64   243902.0        49.56      Adolescents            5.7   \n",
       "2    160   263143.0         6.17          Enfants            4.8   \n",
       "3    124  3445352.0         9.89      Tout public            9.4   \n",
       "4    115  2194471.0        11.82          Adultes            8.2   \n",
       "\n",
       "   Nombre_publicités  Revenus_publicitaires  \n",
       "0               39.0                3191.31  \n",
       "1                7.0               41167.32  \n",
       "2               16.0               36860.05  \n",
       "3                5.0                    NaN  \n",
       "4                NaN               42203.80  "
      ]
     },
     "execution_count": 136,
     "metadata": {},
     "output_type": "execute_result"
    }
   ],
   "source": [
    "data.head(5)"
   ]
  },
  {
   "cell_type": "code",
   "execution_count": 137,
   "id": "e7b4075d-8a4a-4d94-9237-8edc04176c0d",
   "metadata": {
    "tags": []
   },
   "outputs": [
    {
     "data": {
      "text/plain": [
       "(100, 11)"
      ]
     },
     "execution_count": 137,
     "metadata": {},
     "output_type": "execute_result"
    }
   ],
   "source": [
    "data.shape"
   ]
  },
  {
   "cell_type": "code",
   "execution_count": 138,
   "id": "2fad3179-dd4f-4865-b181-69d1f318c101",
   "metadata": {
    "tags": []
   },
   "outputs": [
    {
     "name": "stdout",
     "output_type": "stream",
     "text": [
      "<class 'pandas.core.frame.DataFrame'>\n",
      "RangeIndex: 100 entries, 0 to 99\n",
      "Data columns (total 11 columns):\n",
      " #   Column                 Non-Null Count  Dtype  \n",
      "---  ------                 --------------  -----  \n",
      " 0   ID_programme           100 non-null    int64  \n",
      " 1   Nom_programme          100 non-null    object \n",
      " 2   Type_programme         100 non-null    object \n",
      " 3   Date_diffusion         100 non-null    object \n",
      " 4   Durée                  100 non-null    int64  \n",
      " 5   Audience               97 non-null     float64\n",
      " 6   Part_marché            100 non-null    float64\n",
      " 7   Cible_principale       100 non-null    object \n",
      " 8   Score_qualité          100 non-null    float64\n",
      " 9   Nombre_publicités      95 non-null     float64\n",
      " 10  Revenus_publicitaires  97 non-null     float64\n",
      "dtypes: float64(5), int64(2), object(4)\n",
      "memory usage: 8.7+ KB\n"
     ]
    }
   ],
   "source": [
    "data.info()"
   ]
  },
  {
   "cell_type": "code",
   "execution_count": 139,
   "id": "7eb0fef1-d78e-4b89-acf3-a6226dd4e5a9",
   "metadata": {
    "tags": []
   },
   "outputs": [],
   "source": [
    "#for elem in ['ID_programme', 'Type_programme', 'Cible_principale']:\n",
    "#    data[elem] = data[elem].astype('category')"
   ]
  },
  {
   "cell_type": "code",
   "execution_count": 140,
   "id": "fdb1f84f-ecf2-41a7-9ee5-3148a487416b",
   "metadata": {
    "tags": []
   },
   "outputs": [
    {
     "data": {
      "text/plain": [
       "15                    La Poupée de sucre - Documentaire\n",
       "36                           Miss France - Documentaire\n",
       "30    Le Monde en face (émission de télévision) - Do...\n",
       "80                  Combien ça coûte ? - Divertissement\n",
       "44                           Juge Arthur - Documentaire\n",
       "dtype: object"
      ]
     },
     "execution_count": 140,
     "metadata": {},
     "output_type": "execute_result"
    }
   ],
   "source": [
    "# Chaîne de caractères combinant le nom et le type pour les 5 premiers programmes\n",
    "programmes_ = data['Nom_programme'] + ' - ' + data['Type_programme']\n",
    "programmes_.sample(5)"
   ]
  },
  {
   "cell_type": "markdown",
   "id": "c5f51c3b-bf8a-4bf7-a3b5-c30ea92c7d82",
   "metadata": {},
   "source": [
    "<div class=\"alert alert-success\">\n",
    "    <b>Ensembles et Structures de Données</b>\n",
    "</div>"
   ]
  },
  {
   "cell_type": "code",
   "execution_count": 141,
   "id": "2cb8cb23-839a-4ebd-a847-1f27f64b110e",
   "metadata": {
    "tags": []
   },
   "outputs": [
    {
     "data": {
      "text/plain": [
       "78"
      ]
     },
     "execution_count": 141,
     "metadata": {},
     "output_type": "execute_result"
    }
   ],
   "source": [
    "noms_programmes = list(data['Nom_programme']) # Conversion en liste\n",
    "noms_programmes = set(noms_programmes) # Conversion en set pour éliminer les doublons\n",
    "nombre_programmes = len(noms_programmes)\n",
    "nombre_programmes"
   ]
  },
  {
   "cell_type": "markdown",
   "id": "0bbe5005-fccc-4934-9adb-3798631f15ad",
   "metadata": {},
   "source": [
    "Il y a **78** programmes uniques en tout."
   ]
  },
  {
   "cell_type": "code",
   "execution_count": 142,
   "id": "f9fca528-738b-4d62-8767-ad0d5b7a909b",
   "metadata": {
    "tags": []
   },
   "outputs": [
    {
     "data": {
      "text/plain": [
       "array(['Documentaire', 'Divertissement', 'Information'], dtype=object)"
      ]
     },
     "execution_count": 142,
     "metadata": {},
     "output_type": "execute_result"
    }
   ],
   "source": [
    "data['Type_programme'].unique()"
   ]
  },
  {
   "cell_type": "code",
   "execution_count": 143,
   "id": "2536533f-7e24-4dbc-b517-00630e466dd1",
   "metadata": {
    "tags": []
   },
   "outputs": [],
   "source": [
    "# Je crée un doctionnaire de type de programmes à laquelle j'ajouterais les programmes\n",
    "programmes = {'Documentaire' : [], 'Divertissement': [], 'Information': []}"
   ]
  },
  {
   "cell_type": "code",
   "execution_count": 144,
   "id": "9ec6124f-9e59-4b1b-9451-a3e3d6a7f493",
   "metadata": {
    "tags": []
   },
   "outputs": [
    {
     "data": {
      "text/plain": [
       "{'Documentaire': ['Jacky Show',\n",
       "  'Petites Stars : Le Grand Soir',\n",
       "  'Face à la Une',\n",
       "  'La Poupée de sucre',\n",
       "  'Le Droit de savoir',\n",
       "  'Référendum : en direct avec le Président',\n",
       "  'Les Animaux du monde',\n",
       "  'Le Monde en face (émission de télévision)',\n",
       "  'Ça vaut le détour',\n",
       "  'Miss France',\n",
       "  'MasterChef Junior',\n",
       "  'Je suis une célébrité, sortez-moi de là !',\n",
       "  'Drôle de jeu (émission de télévision)',\n",
       "  'Juge Arthur',\n",
       "  'La Poupée de sucre',\n",
       "  \"Ça va s'Cauet\",\n",
       "  'Le Grand Bluff (émission de télévision)',\n",
       "  'Les Enfants de la télé (France)',\n",
       "  'La Chanson secrète',\n",
       "  'Dream Team : la relève des stars',\n",
       "  \"Ça va s'Cauet\",\n",
       "  \"Ça va s'Cauet\",\n",
       "  'Demain Président',\n",
       "  'La Chanson secrète',\n",
       "  'Petits secrets entre voisins',\n",
       "  'Information télévisée 1',\n",
       "  'Duos Mystères',\n",
       "  'Greg le millionnaire',\n",
       "  '52 sur la Une',\n",
       "  'Big Bounce Battle',\n",
       "  'Ça peut vous arriver',\n",
       "  'Drôle de jeu (émission de télévision)',\n",
       "  '19:00 Dimanche',\n",
       "  'Au théâtre ce soir',\n",
       "  'Droit de réponse (émission de télévision)',\n",
       "  \"C'est quoi l'amour ?\",\n",
       "  'Les 30 Histoires les plus spectaculaires'],\n",
       " 'Divertissement': [\"L'Hebdo Show\",\n",
       "  'Koh-Lanta',\n",
       "  '50 minutes inside',\n",
       "  'Présence protestante',\n",
       "  'Enfoirés Kids',\n",
       "  \"L'Hebdo Show\",\n",
       "  \"L'Île de la tentation\",\n",
       "  'Rendez-vous Sport',\n",
       "  'Le Jour du Seigneur (émission de télévision)',\n",
       "  \"L'Ami public numéro un\",\n",
       "  'Reportages faits divers',\n",
       "  'Au bonheur des enfants',\n",
       "  \"L'Or à l'appel\",\n",
       "  'Les Invisibles (émission de télévision)',\n",
       "  'Bienvenue au camping',\n",
       "  'Le Bébête Show',\n",
       "  'La Cauetidienne',\n",
       "  'Le Bébête Show',\n",
       "  'Le Millénium',\n",
       "  \"L'Aventure Robinson\",\n",
       "  'Les Animaux du monde',\n",
       "  \"L'Odyssée de l'étrange\",\n",
       "  'Face à la Une',\n",
       "  'La Cauetidienne',\n",
       "  'Ce soir avec Arthur',\n",
       "  'Combien ça coûte ?',\n",
       "  \"L'Enjeu (émission de télévision)\",\n",
       "  'Club Dorothée',\n",
       "  'Référendum : en direct avec le Président',\n",
       "  'Les Pieds au mur',\n",
       "  'Numéro un (émission de télévision)'],\n",
       " 'Information': ['Orthodoxie (émission de télévision)',\n",
       "  'Demain Président',\n",
       "  'Love and Bluff : Qui de nous trois ?',\n",
       "  'Mon incroyable fiancé',\n",
       "  'Contes à trembler debout',\n",
       "  '1, rue Sésame',\n",
       "  'Carnaval (émission de télévision)',\n",
       "  'Danse avec les stars',\n",
       "  'Les Invisibles (émission de télévision)',\n",
       "  \"L'Or à l'appel\",\n",
       "  'Dream Team : la relève des stars',\n",
       "  'Acilion et sa bande',\n",
       "  \"L'amour est aveugle (émission de télévision)\",\n",
       "  'Grands Reportages (émission de télévision)',\n",
       "  \"Pouch' le bouton\",\n",
       "  '19 h Live',\n",
       "  'Bonjour ! La Matinale TF1',\n",
       "  'Bienvenue dans ma tribu',\n",
       "  'Croque-vacances',\n",
       "  'Droit de réponse (émission de télévision)',\n",
       "  'Orthodoxie (émission de télévision)',\n",
       "  'Les Enfants de la télé (France)',\n",
       "  'Bienvenue dans ma tribu',\n",
       "  'Les Plus Belles Mariées',\n",
       "  'Dorothée Show',\n",
       "  'Ciel, mon mardi !',\n",
       "  \"C'est quoi l'amour ?\",\n",
       "  'Droit de réponse (émission de télévision)',\n",
       "  'Bienvenue chez nous',\n",
       "  \"Familles d'explorateurs\",\n",
       "  'La Maison de TF1',\n",
       "  'La Chanson secrète']}"
      ]
     },
     "execution_count": 144,
     "metadata": {},
     "output_type": "execute_result"
    }
   ],
   "source": [
    "# Les clés du dictionnaire sont les types de programmes, et les valeurs sont les listes de noms de programmes correspondantes.\n",
    "for t, n in data[['Type_programme', 'Nom_programme']].values:\n",
    "    if t == 'Documentaire':\n",
    "        programmes['Documentaire'].append(n)\n",
    "    elif t == 'Divertissement':\n",
    "        programmes['Divertissement'].append(n)\n",
    "    else:\n",
    "        programmes['Information'].append(n)\n",
    "programmes"
   ]
  },
  {
   "cell_type": "code",
   "execution_count": 145,
   "id": "71ea0dd8-1efc-4fea-9d47-1da33180c160",
   "metadata": {
    "tags": []
   },
   "outputs": [],
   "source": [
    "# Beaucoup plus simple.\n",
    "programmes = data.groupby('Type_programme', observed=True)['Nom_programme'].apply(list).to_dict()"
   ]
  },
  {
   "cell_type": "markdown",
   "id": "e6690e00-52ac-484b-85b4-4dbfc1045986",
   "metadata": {},
   "source": [
    "<div class=\"alert alert-success\">\n",
    "    <b>Structures Conditionnelles et Boucles</b>\n",
    "</div>"
   ]
  },
  {
   "cell_type": "code",
   "execution_count": 146,
   "id": "51ceb40c-0bea-4c05-b88f-2948c3fef9dc",
   "metadata": {
    "tags": []
   },
   "outputs": [
    {
     "data": {
      "text/plain": [
       "0                                     Jacky Show\n",
       "2                  Petites Stars : Le Grand Soir\n",
       "3                                      Koh-Lanta\n",
       "5                              50 minutes inside\n",
       "7            Orthodoxie (émission de télévision)\n",
       "8                               Demain Président\n",
       "9                                  Enfoirés Kids\n",
       "12                         Mon incroyable fiancé\n",
       "14                                 1, rue Sésame\n",
       "15                            La Poupée de sucre\n",
       "16                         L'Île de la tentation\n",
       "17             Carnaval (émission de télévision)\n",
       "23                            Le Droit de savoir\n",
       "29                        L'Ami public numéro un\n",
       "30     Le Monde en face (émission de télévision)\n",
       "31    Grands Reportages (émission de télévision)\n",
       "33                             Ça vaut le détour\n",
       "35                     Bonjour ! La Matinale TF1\n",
       "36                                   Miss France\n",
       "39                       Reportages faits divers\n",
       "43         Drôle de jeu (émission de télévision)\n",
       "44                                   Juge Arthur\n",
       "48           Orthodoxie (émission de télévision)\n",
       "54                       Bienvenue dans ma tribu\n",
       "55               Les Enfants de la télé (France)\n",
       "62                                Le Bébête Show\n",
       "64                              Demain Président\n",
       "65                            La Chanson secrète\n",
       "70                                 Dorothée Show\n",
       "72                  Petits secrets entre voisins\n",
       "73                                 Face à la Une\n",
       "77                           Ce soir avec Arthur\n",
       "78                          Greg le millionnaire\n",
       "81                          C'est quoi l'amour ?\n",
       "84      Référendum : en direct avec le Président\n",
       "86                             Big Bounce Battle\n",
       "94                              La Maison de TF1\n",
       "96                            La Chanson secrète\n",
       "99      Les 30 Histoires les plus spectaculaires\n",
       "Name: Nom_programme, dtype: object"
      ]
     },
     "execution_count": 146,
     "metadata": {},
     "output_type": "execute_result"
    }
   ],
   "source": [
    "# Programmes dont la durée dépasse 120 minutes.\n",
    "data[data['Durée'] > 120]['Nom_programme']"
   ]
  },
  {
   "cell_type": "code",
   "execution_count": 147,
   "id": "7e31fc56-a760-4b94-bf25-79e2301ce1a5",
   "metadata": {
    "tags": []
   },
   "outputs": [],
   "source": [
    "# Je sépare les programmes en deux catégories : ceux pour enfants et ceux pour adultes.\n",
    "\n",
    "# Je sélectionne la donnée des enfants et des adultes\n",
    "filtered_data = data[(data['Cible_principale'] == 'Enfants') | (data['Cible_principale'] == 'Adultes')]"
   ]
  },
  {
   "cell_type": "code",
   "execution_count": 148,
   "id": "ba3f111c-548b-4712-87b3-394780650f6b",
   "metadata": {
    "tags": []
   },
   "outputs": [],
   "source": [
    "# Je filtre les programmes par enfants et adultes\n",
    "programmes_cibles = filtered_data.groupby('Cible_principale', observed=True)['Nom_programme'].apply(list).to_dict()"
   ]
  },
  {
   "cell_type": "code",
   "execution_count": 149,
   "id": "0e84c401-971a-48d6-8073-6670f30aa714",
   "metadata": {
    "tags": []
   },
   "outputs": [
    {
     "data": {
      "text/plain": [
       "{'Adultes': ['Face à la Une',\n",
       "  'La Poupée de sucre',\n",
       "  'Rendez-vous Sport',\n",
       "  'Acilion et sa bande',\n",
       "  'Juge Arthur',\n",
       "  'Orthodoxie (émission de télévision)',\n",
       "  'La Poupée de sucre',\n",
       "  'Bienvenue au camping',\n",
       "  'La Chanson secrète',\n",
       "  \"Ça va s'Cauet\",\n",
       "  'Le Bébête Show',\n",
       "  'Le Millénium',\n",
       "  'La Cauetidienne',\n",
       "  'Club Dorothée',\n",
       "  'Référendum : en direct avec le Président',\n",
       "  'Drôle de jeu (émission de télévision)',\n",
       "  'Numéro un (émission de télévision)',\n",
       "  'Au théâtre ce soir'],\n",
       " 'Enfants': ['Jacky Show',\n",
       "  'Petites Stars : Le Grand Soir',\n",
       "  '50 minutes inside',\n",
       "  'Présence protestante',\n",
       "  'Demain Président',\n",
       "  'Enfoirés Kids',\n",
       "  '1, rue Sésame',\n",
       "  \"L'Île de la tentation\",\n",
       "  'Carnaval (émission de télévision)',\n",
       "  \"L'Or à l'appel\",\n",
       "  'Dream Team : la relève des stars',\n",
       "  \"L'amour est aveugle (émission de télévision)\",\n",
       "  \"L'Ami public numéro un\",\n",
       "  'Le Monde en face (émission de télévision)',\n",
       "  'Grands Reportages (émission de télévision)',\n",
       "  \"Pouch' le bouton\",\n",
       "  'Ça vaut le détour',\n",
       "  '19 h Live',\n",
       "  'Bonjour ! La Matinale TF1',\n",
       "  'Bienvenue dans ma tribu',\n",
       "  'Reportages faits divers',\n",
       "  'Au bonheur des enfants',\n",
       "  \"Ça va s'Cauet\",\n",
       "  \"Ça va s'Cauet\",\n",
       "  'Dorothée Show',\n",
       "  'Ciel, mon mardi !',\n",
       "  'Face à la Une',\n",
       "  \"Familles d'explorateurs\",\n",
       "  'Les 30 Histoires les plus spectaculaires']}"
      ]
     },
     "execution_count": 149,
     "metadata": {},
     "output_type": "execute_result"
    }
   ],
   "source": [
    "programmes_cibles"
   ]
  },
  {
   "cell_type": "markdown",
   "id": "fbb2b2ad-4365-4687-bce2-aac61e3a4ec9",
   "metadata": {},
   "source": [
    "<div class=\"alert alert-success\">\n",
    "    <b>Fonctions</b>\n",
    "</div>"
   ]
  },
  {
   "cell_type": "code",
   "execution_count": 150,
   "id": "01b33bc9-2906-4c1f-baf6-299c89f8daa1",
   "metadata": {
    "tags": []
   },
   "outputs": [
    {
     "data": {
      "text/html": [
       "<div>\n",
       "<style scoped>\n",
       "    .dataframe tbody tr th:only-of-type {\n",
       "        vertical-align: middle;\n",
       "    }\n",
       "\n",
       "    .dataframe tbody tr th {\n",
       "        vertical-align: top;\n",
       "    }\n",
       "\n",
       "    .dataframe thead th {\n",
       "        text-align: right;\n",
       "    }\n",
       "</style>\n",
       "<table border=\"1\" class=\"dataframe\">\n",
       "  <thead>\n",
       "    <tr style=\"text-align: right;\">\n",
       "      <th></th>\n",
       "      <th>Nom_programme</th>\n",
       "      <th>Audience</th>\n",
       "      <th>Part_marché</th>\n",
       "    </tr>\n",
       "  </thead>\n",
       "  <tbody>\n",
       "    <tr>\n",
       "      <th>0</th>\n",
       "      <td>Jacky Show</td>\n",
       "      <td>3228010.0</td>\n",
       "      <td>45.78</td>\n",
       "    </tr>\n",
       "    <tr>\n",
       "      <th>1</th>\n",
       "      <td>L'Hebdo Show</td>\n",
       "      <td>243902.0</td>\n",
       "      <td>49.56</td>\n",
       "    </tr>\n",
       "    <tr>\n",
       "      <th>2</th>\n",
       "      <td>Petites Stars : Le Grand Soir</td>\n",
       "      <td>263143.0</td>\n",
       "      <td>6.17</td>\n",
       "    </tr>\n",
       "    <tr>\n",
       "      <th>3</th>\n",
       "      <td>Koh-Lanta</td>\n",
       "      <td>3445352.0</td>\n",
       "      <td>9.89</td>\n",
       "    </tr>\n",
       "    <tr>\n",
       "      <th>4</th>\n",
       "      <td>Face à la Une</td>\n",
       "      <td>2194471.0</td>\n",
       "      <td>11.82</td>\n",
       "    </tr>\n",
       "  </tbody>\n",
       "</table>\n",
       "</div>"
      ],
      "text/plain": [
       "                   Nom_programme   Audience  Part_marché\n",
       "0                     Jacky Show  3228010.0        45.78\n",
       "1                   L'Hebdo Show   243902.0        49.56\n",
       "2  Petites Stars : Le Grand Soir   263143.0         6.17\n",
       "3                      Koh-Lanta  3445352.0         9.89\n",
       "4                  Face à la Une  2194471.0        11.82"
      ]
     },
     "execution_count": 150,
     "metadata": {},
     "output_type": "execute_result"
    }
   ],
   "source": [
    "data[['Nom_programme', 'Audience', 'Part_marché']].head()"
   ]
  },
  {
   "cell_type": "code",
   "execution_count": 151,
   "id": "f952bf4f-466a-4eac-9855-358a75a13d97",
   "metadata": {
    "tags": []
   },
   "outputs": [],
   "source": [
    "# J'écris une fonction qui prend en entrée le nom d'un programme et renvoie son audience et sa part de marché.\n",
    "def part_de_marché_programme(nom):\n",
    "    resultats = data[data['Nom_programme'].isin([nom])]\n",
    "    nom_programme = resultats['Nom_programme'].values[0] \n",
    "    if len(resultats) > 1:\n",
    "        print(f\"Nom de programme : {nom_programme}\\nMoyenne audience : {resultats['Audience'].mean()}\\nPart de marché moyenne : {resultats['Part_marché'].mean()}\")\n",
    "    elif len(resultats) == 1:\n",
    "\n",
    "        print(f\"Nom de programme : {nom_programme}\\nAudience : {resultats['Audience'].iloc[0]}\\nPart de marché : {resultats['Part_marché'].iloc[0]}\") \n",
    "    else :\n",
    "        print(f\"Le programme {nom} n'a pas été trouvé dans les données.\")"
   ]
  },
  {
   "cell_type": "code",
   "execution_count": 152,
   "id": "ced6d386-11db-4ced-855d-a07c4b2098c7",
   "metadata": {
    "tags": []
   },
   "outputs": [
    {
     "name": "stdout",
     "output_type": "stream",
     "text": [
      "Nom de programme : Jacky Show\n",
      "Audience : 3228010.0\n",
      "Part de marché : 45.78\n"
     ]
    }
   ],
   "source": [
    "part_de_marché_programme('Jacky Show')"
   ]
  },
  {
   "cell_type": "code",
   "execution_count": 153,
   "id": "ed692246-9f2d-4534-bc2a-15b0150f3e20",
   "metadata": {
    "tags": []
   },
   "outputs": [
    {
     "name": "stdout",
     "output_type": "stream",
     "text": [
      "Nom de programme : Face à la Une\n",
      "Moyenne audience : 2102769.5\n",
      "Part de marché moyenne : 22.06\n"
     ]
    }
   ],
   "source": [
    "part_de_marché_programme('Face à la Une')"
   ]
  },
  {
   "cell_type": "markdown",
   "id": "65e25f09-b97b-49d9-807d-a8cac2894344",
   "metadata": {},
   "source": [
    "### Partie 2 : Pandas G Numpy"
   ]
  },
  {
   "cell_type": "markdown",
   "id": "df0992e9-f910-4452-a6c4-a8739f13419f",
   "metadata": {
    "tags": []
   },
   "source": [
    "<div class=\"alert alert-success\">\n",
    "    <b>Gestion des Valeurs Manquantes</b>\n",
    "</div>"
   ]
  },
  {
   "cell_type": "code",
   "execution_count": 154,
   "id": "3a375b8a-476e-454b-a393-70f042e94dfa",
   "metadata": {
    "tags": []
   },
   "outputs": [
    {
     "data": {
      "text/plain": [
       "ID_programme             0\n",
       "Nom_programme            0\n",
       "Type_programme           0\n",
       "Date_diffusion           0\n",
       "Durée                    0\n",
       "Audience                 3\n",
       "Part_marché              0\n",
       "Cible_principale         0\n",
       "Score_qualité            0\n",
       "Nombre_publicités        5\n",
       "Revenus_publicitaires    3\n",
       "dtype: int64"
      ]
     },
     "execution_count": 154,
     "metadata": {},
     "output_type": "execute_result"
    }
   ],
   "source": [
    "# Je vérifie la présence de valeurs manquantes.\n",
    "data.isnull().sum()"
   ]
  },
  {
   "cell_type": "markdown",
   "id": "00d6b189-7cf3-400b-9bf3-109df2c8a18f",
   "metadata": {},
   "source": [
    "#### Audience"
   ]
  },
  {
   "cell_type": "markdown",
   "id": "94cf12cb-d079-4254-a186-6b64de9e5226",
   "metadata": {},
   "source": [
    "3 valeurs d'audience sont manquantes "
   ]
  },
  {
   "cell_type": "code",
   "execution_count": 155,
   "id": "3349e8b8-adeb-42ea-ad74-9539fc6151b4",
   "metadata": {
    "tags": []
   },
   "outputs": [
    {
     "data": {
      "text/html": [
       "<div>\n",
       "<style scoped>\n",
       "    .dataframe tbody tr th:only-of-type {\n",
       "        vertical-align: middle;\n",
       "    }\n",
       "\n",
       "    .dataframe tbody tr th {\n",
       "        vertical-align: top;\n",
       "    }\n",
       "\n",
       "    .dataframe thead th {\n",
       "        text-align: right;\n",
       "    }\n",
       "</style>\n",
       "<table border=\"1\" class=\"dataframe\">\n",
       "  <thead>\n",
       "    <tr style=\"text-align: right;\">\n",
       "      <th></th>\n",
       "      <th>ID_programme</th>\n",
       "      <th>Nom_programme</th>\n",
       "      <th>Type_programme</th>\n",
       "      <th>Date_diffusion</th>\n",
       "      <th>Durée</th>\n",
       "      <th>Audience</th>\n",
       "      <th>Part_marché</th>\n",
       "      <th>Cible_principale</th>\n",
       "      <th>Score_qualité</th>\n",
       "      <th>Nombre_publicités</th>\n",
       "      <th>Revenus_publicitaires</th>\n",
       "    </tr>\n",
       "  </thead>\n",
       "  <tbody>\n",
       "    <tr>\n",
       "      <th>9</th>\n",
       "      <td>9</td>\n",
       "      <td>Enfoirés Kids</td>\n",
       "      <td>Divertissement</td>\n",
       "      <td>2023-08-31</td>\n",
       "      <td>150</td>\n",
       "      <td>NaN</td>\n",
       "      <td>7.02</td>\n",
       "      <td>Enfants</td>\n",
       "      <td>8.5</td>\n",
       "      <td>NaN</td>\n",
       "      <td>2283.16</td>\n",
       "    </tr>\n",
       "    <tr>\n",
       "      <th>17</th>\n",
       "      <td>17</td>\n",
       "      <td>Carnaval (émission de télévision)</td>\n",
       "      <td>Information</td>\n",
       "      <td>2023-12-25</td>\n",
       "      <td>149</td>\n",
       "      <td>NaN</td>\n",
       "      <td>26.37</td>\n",
       "      <td>Enfants</td>\n",
       "      <td>2.9</td>\n",
       "      <td>NaN</td>\n",
       "      <td>25662.61</td>\n",
       "    </tr>\n",
       "    <tr>\n",
       "      <th>27</th>\n",
       "      <td>27</td>\n",
       "      <td>Référendum : en direct avec le Président</td>\n",
       "      <td>Documentaire</td>\n",
       "      <td>2023-08-31</td>\n",
       "      <td>105</td>\n",
       "      <td>NaN</td>\n",
       "      <td>21.20</td>\n",
       "      <td>Tout public</td>\n",
       "      <td>3.1</td>\n",
       "      <td>15.0</td>\n",
       "      <td>32585.99</td>\n",
       "    </tr>\n",
       "  </tbody>\n",
       "</table>\n",
       "</div>"
      ],
      "text/plain": [
       "    ID_programme                             Nom_programme  Type_programme  \\\n",
       "9              9                             Enfoirés Kids  Divertissement   \n",
       "17            17         Carnaval (émission de télévision)     Information   \n",
       "27            27  Référendum : en direct avec le Président    Documentaire   \n",
       "\n",
       "   Date_diffusion  Durée  Audience  Part_marché Cible_principale  \\\n",
       "9      2023-08-31    150       NaN         7.02          Enfants   \n",
       "17     2023-12-25    149       NaN        26.37          Enfants   \n",
       "27     2023-08-31    105       NaN        21.20      Tout public   \n",
       "\n",
       "    Score_qualité  Nombre_publicités  Revenus_publicitaires  \n",
       "9             8.5                NaN                2283.16  \n",
       "17            2.9                NaN               25662.61  \n",
       "27            3.1               15.0               32585.99  "
      ]
     },
     "execution_count": 155,
     "metadata": {},
     "output_type": "execute_result"
    }
   ],
   "source": [
    "data[data['Audience'].isna()]"
   ]
  },
  {
   "cell_type": "markdown",
   "id": "5ac07d41-199a-46f8-9f74-19985b5dd109",
   "metadata": {},
   "source": [
    "Je réalise la moyenne des audiences par cible et par type de programme."
   ]
  },
  {
   "cell_type": "code",
   "execution_count": 156,
   "id": "cd2d862d-2df7-4022-b051-a269c0477205",
   "metadata": {
    "tags": []
   },
   "outputs": [],
   "source": [
    "moyennes_audiences = data.groupby(['Cible_principale', 'Type_programme'], observed=True)['Audience'].transform('mean')\n",
    "data['Audience'] = data['Audience'].fillna(moyennes_audiences)"
   ]
  },
  {
   "cell_type": "code",
   "execution_count": 157,
   "id": "99402a2d-ec55-47b5-a9f8-d05f2bbfe6d0",
   "metadata": {
    "tags": []
   },
   "outputs": [
    {
     "data": {
      "text/plain": [
       "ID_programme             0\n",
       "Nom_programme            0\n",
       "Type_programme           0\n",
       "Date_diffusion           0\n",
       "Durée                    0\n",
       "Audience                 0\n",
       "Part_marché              0\n",
       "Cible_principale         0\n",
       "Score_qualité            0\n",
       "Nombre_publicités        5\n",
       "Revenus_publicitaires    3\n",
       "dtype: int64"
      ]
     },
     "execution_count": 157,
     "metadata": {},
     "output_type": "execute_result"
    }
   ],
   "source": [
    "data.isnull().sum()"
   ]
  },
  {
   "cell_type": "markdown",
   "id": "e762c621-6545-432f-a408-b5d8cfb17856",
   "metadata": {},
   "source": [
    "#### Nombre Publicités"
   ]
  },
  {
   "cell_type": "code",
   "execution_count": 158,
   "id": "bd741690-4c5c-429c-9abd-0445c93ed14f",
   "metadata": {
    "tags": []
   },
   "outputs": [
    {
     "data": {
      "text/html": [
       "<div>\n",
       "<style scoped>\n",
       "    .dataframe tbody tr th:only-of-type {\n",
       "        vertical-align: middle;\n",
       "    }\n",
       "\n",
       "    .dataframe tbody tr th {\n",
       "        vertical-align: top;\n",
       "    }\n",
       "\n",
       "    .dataframe thead th {\n",
       "        text-align: right;\n",
       "    }\n",
       "</style>\n",
       "<table border=\"1\" class=\"dataframe\">\n",
       "  <thead>\n",
       "    <tr style=\"text-align: right;\">\n",
       "      <th></th>\n",
       "      <th>ID_programme</th>\n",
       "      <th>Nom_programme</th>\n",
       "      <th>Type_programme</th>\n",
       "      <th>Date_diffusion</th>\n",
       "      <th>Durée</th>\n",
       "      <th>Audience</th>\n",
       "      <th>Part_marché</th>\n",
       "      <th>Cible_principale</th>\n",
       "      <th>Score_qualité</th>\n",
       "      <th>Nombre_publicités</th>\n",
       "      <th>Revenus_publicitaires</th>\n",
       "    </tr>\n",
       "  </thead>\n",
       "  <tbody>\n",
       "    <tr>\n",
       "      <th>4</th>\n",
       "      <td>4</td>\n",
       "      <td>Face à la Une</td>\n",
       "      <td>Documentaire</td>\n",
       "      <td>2023-06-14</td>\n",
       "      <td>115</td>\n",
       "      <td>2.194471e+06</td>\n",
       "      <td>11.82</td>\n",
       "      <td>Adultes</td>\n",
       "      <td>8.2</td>\n",
       "      <td>NaN</td>\n",
       "      <td>42203.80</td>\n",
       "    </tr>\n",
       "    <tr>\n",
       "      <th>9</th>\n",
       "      <td>9</td>\n",
       "      <td>Enfoirés Kids</td>\n",
       "      <td>Divertissement</td>\n",
       "      <td>2023-08-31</td>\n",
       "      <td>150</td>\n",
       "      <td>2.498744e+06</td>\n",
       "      <td>7.02</td>\n",
       "      <td>Enfants</td>\n",
       "      <td>8.5</td>\n",
       "      <td>NaN</td>\n",
       "      <td>2283.16</td>\n",
       "    </tr>\n",
       "    <tr>\n",
       "      <th>17</th>\n",
       "      <td>17</td>\n",
       "      <td>Carnaval (émission de télévision)</td>\n",
       "      <td>Information</td>\n",
       "      <td>2023-12-25</td>\n",
       "      <td>149</td>\n",
       "      <td>2.790288e+06</td>\n",
       "      <td>26.37</td>\n",
       "      <td>Enfants</td>\n",
       "      <td>2.9</td>\n",
       "      <td>NaN</td>\n",
       "      <td>25662.61</td>\n",
       "    </tr>\n",
       "    <tr>\n",
       "      <th>25</th>\n",
       "      <td>25</td>\n",
       "      <td>Acilion et sa bande</td>\n",
       "      <td>Information</td>\n",
       "      <td>2023-07-25</td>\n",
       "      <td>114</td>\n",
       "      <td>2.119918e+06</td>\n",
       "      <td>44.92</td>\n",
       "      <td>Adultes</td>\n",
       "      <td>6.9</td>\n",
       "      <td>NaN</td>\n",
       "      <td>NaN</td>\n",
       "    </tr>\n",
       "    <tr>\n",
       "      <th>30</th>\n",
       "      <td>30</td>\n",
       "      <td>Le Monde en face (émission de télévision)</td>\n",
       "      <td>Documentaire</td>\n",
       "      <td>2023-12-05</td>\n",
       "      <td>155</td>\n",
       "      <td>4.124387e+06</td>\n",
       "      <td>3.08</td>\n",
       "      <td>Enfants</td>\n",
       "      <td>7.9</td>\n",
       "      <td>NaN</td>\n",
       "      <td>38805.73</td>\n",
       "    </tr>\n",
       "  </tbody>\n",
       "</table>\n",
       "</div>"
      ],
      "text/plain": [
       "    ID_programme                              Nom_programme  Type_programme  \\\n",
       "4              4                              Face à la Une    Documentaire   \n",
       "9              9                              Enfoirés Kids  Divertissement   \n",
       "17            17          Carnaval (émission de télévision)     Information   \n",
       "25            25                        Acilion et sa bande     Information   \n",
       "30            30  Le Monde en face (émission de télévision)    Documentaire   \n",
       "\n",
       "   Date_diffusion  Durée      Audience  Part_marché Cible_principale  \\\n",
       "4      2023-06-14    115  2.194471e+06        11.82          Adultes   \n",
       "9      2023-08-31    150  2.498744e+06         7.02          Enfants   \n",
       "17     2023-12-25    149  2.790288e+06        26.37          Enfants   \n",
       "25     2023-07-25    114  2.119918e+06        44.92          Adultes   \n",
       "30     2023-12-05    155  4.124387e+06         3.08          Enfants   \n",
       "\n",
       "    Score_qualité  Nombre_publicités  Revenus_publicitaires  \n",
       "4             8.2                NaN               42203.80  \n",
       "9             8.5                NaN                2283.16  \n",
       "17            2.9                NaN               25662.61  \n",
       "25            6.9                NaN                    NaN  \n",
       "30            7.9                NaN               38805.73  "
      ]
     },
     "execution_count": 158,
     "metadata": {},
     "output_type": "execute_result"
    }
   ],
   "source": [
    "data[data['Nombre_publicités'].isna()]"
   ]
  },
  {
   "cell_type": "code",
   "execution_count": 159,
   "id": "93316fba-1330-470f-8df4-ebf31ac7f2c8",
   "metadata": {
    "tags": []
   },
   "outputs": [
    {
     "data": {
      "text/html": [
       "<div>\n",
       "<style scoped>\n",
       "    .dataframe tbody tr th:only-of-type {\n",
       "        vertical-align: middle;\n",
       "    }\n",
       "\n",
       "    .dataframe tbody tr th {\n",
       "        vertical-align: top;\n",
       "    }\n",
       "\n",
       "    .dataframe thead th {\n",
       "        text-align: right;\n",
       "    }\n",
       "</style>\n",
       "<table border=\"1\" class=\"dataframe\">\n",
       "  <thead>\n",
       "    <tr style=\"text-align: right;\">\n",
       "      <th></th>\n",
       "      <th>ID_programme</th>\n",
       "      <th>Nom_programme</th>\n",
       "      <th>Type_programme</th>\n",
       "      <th>Date_diffusion</th>\n",
       "      <th>Durée</th>\n",
       "      <th>Audience</th>\n",
       "      <th>Part_marché</th>\n",
       "      <th>Cible_principale</th>\n",
       "      <th>Score_qualité</th>\n",
       "      <th>Nombre_publicités</th>\n",
       "      <th>Revenus_publicitaires</th>\n",
       "    </tr>\n",
       "  </thead>\n",
       "  <tbody>\n",
       "    <tr>\n",
       "      <th>4</th>\n",
       "      <td>4</td>\n",
       "      <td>Face à la Une</td>\n",
       "      <td>Documentaire</td>\n",
       "      <td>2023-06-14</td>\n",
       "      <td>115</td>\n",
       "      <td>2.194471e+06</td>\n",
       "      <td>11.82</td>\n",
       "      <td>Adultes</td>\n",
       "      <td>8.2</td>\n",
       "      <td>NaN</td>\n",
       "      <td>42203.80</td>\n",
       "    </tr>\n",
       "    <tr>\n",
       "      <th>9</th>\n",
       "      <td>9</td>\n",
       "      <td>Enfoirés Kids</td>\n",
       "      <td>Divertissement</td>\n",
       "      <td>2023-08-31</td>\n",
       "      <td>150</td>\n",
       "      <td>2.498744e+06</td>\n",
       "      <td>7.02</td>\n",
       "      <td>Enfants</td>\n",
       "      <td>8.5</td>\n",
       "      <td>NaN</td>\n",
       "      <td>2283.16</td>\n",
       "    </tr>\n",
       "    <tr>\n",
       "      <th>17</th>\n",
       "      <td>17</td>\n",
       "      <td>Carnaval (émission de télévision)</td>\n",
       "      <td>Information</td>\n",
       "      <td>2023-12-25</td>\n",
       "      <td>149</td>\n",
       "      <td>2.790288e+06</td>\n",
       "      <td>26.37</td>\n",
       "      <td>Enfants</td>\n",
       "      <td>2.9</td>\n",
       "      <td>NaN</td>\n",
       "      <td>25662.61</td>\n",
       "    </tr>\n",
       "    <tr>\n",
       "      <th>30</th>\n",
       "      <td>30</td>\n",
       "      <td>Le Monde en face (émission de télévision)</td>\n",
       "      <td>Documentaire</td>\n",
       "      <td>2023-12-05</td>\n",
       "      <td>155</td>\n",
       "      <td>4.124387e+06</td>\n",
       "      <td>3.08</td>\n",
       "      <td>Enfants</td>\n",
       "      <td>7.9</td>\n",
       "      <td>NaN</td>\n",
       "      <td>38805.73</td>\n",
       "    </tr>\n",
       "  </tbody>\n",
       "</table>\n",
       "</div>"
      ],
      "text/plain": [
       "    ID_programme                              Nom_programme  Type_programme  \\\n",
       "4              4                              Face à la Une    Documentaire   \n",
       "9              9                              Enfoirés Kids  Divertissement   \n",
       "17            17          Carnaval (émission de télévision)     Information   \n",
       "30            30  Le Monde en face (émission de télévision)    Documentaire   \n",
       "\n",
       "   Date_diffusion  Durée      Audience  Part_marché Cible_principale  \\\n",
       "4      2023-06-14    115  2.194471e+06        11.82          Adultes   \n",
       "9      2023-08-31    150  2.498744e+06         7.02          Enfants   \n",
       "17     2023-12-25    149  2.790288e+06        26.37          Enfants   \n",
       "30     2023-12-05    155  4.124387e+06         3.08          Enfants   \n",
       "\n",
       "    Score_qualité  Nombre_publicités  Revenus_publicitaires  \n",
       "4             8.2                NaN               42203.80  \n",
       "9             8.5                NaN                2283.16  \n",
       "17            2.9                NaN               25662.61  \n",
       "30            7.9                NaN               38805.73  "
      ]
     },
     "execution_count": 159,
     "metadata": {},
     "output_type": "execute_result"
    }
   ],
   "source": [
    "# Pour le moment, je ne m'occupe que des valeurs manquantes où les publicitaires sont associés. \n",
    "# Pourquoi ?\n",
    "# Je vais remplacer les valeurs manquantes en me servant de la moyenne des revenus publicitaires associés à des intervalles.\n",
    "data[data['Nombre_publicités'].isna() & data['Revenus_publicitaires'].notna()]"
   ]
  },
  {
   "cell_type": "code",
   "execution_count": 160,
   "id": "553ba8c7-2b64-45e6-958a-d84e277bf0b7",
   "metadata": {
    "tags": []
   },
   "outputs": [
    {
     "data": {
      "text/plain": [
       "array([39.,  7., 16.,  5., nan, 38., 25., 44., 30., 18., 34., 31., 14.,\n",
       "        8., 33., 21.,  9., 35., 13.,  4., 43., 24., 19., 15.,  0., 12.,\n",
       "       36., 26., 46.,  6.,  1., 20., 11., 45.,  3., 49.,  2., 50., 40.,\n",
       "       42., 41., 37., 22.])"
      ]
     },
     "execution_count": 160,
     "metadata": {},
     "output_type": "execute_result"
    }
   ],
   "source": [
    "# Je regarde les valeurs uniques pour la colonne\n",
    "data['Nombre_publicités'].unique()"
   ]
  },
  {
   "cell_type": "code",
   "execution_count": 161,
   "id": "619bf2ce-53d6-42dc-9118-7fd84a22cab5",
   "metadata": {
    "tags": []
   },
   "outputs": [],
   "source": [
    "# Créer les bins pour les intervalles de 'Nombre_publicités'\n",
    "bins = [0, 5, 10, 15, 20, 25, 30, 35, 40, 45, 50]\n",
    "labels = ['0-5', '5-10', '10-15', '15-20', '20-25', '25-30', '30-35', '35-40', '40-45', '45-50']\n",
    "\n",
    "# Assigner chaque valeur de 'Nombre_publicités' à un intervalle\n",
    "Nombre_publicités_binned = pd.cut(data['Nombre_publicités'], bins=bins, labels=labels)\n",
    "\n",
    "# Calculer la moyenne des 'Revenus_publicitaires' pour chaque intervalle\n",
    "mean_revenues = data.groupby(Nombre_publicités_binned, observed=True)['Revenus_publicitaires'].mean()\n",
    "\n",
    "# Créer un dictionnaire qui mappe chaque intervalle à la moyenne correspondante\n",
    "mean_revenues_dict = mean_revenues.to_dict()\n",
    "\n",
    "# Fonction pour trouver l'intervalle correspondant à un revenu publicitaire donné\n",
    "def find_closest_bin(revenue, mean_revenues_dict):\n",
    "    # Trouver l'intervalle avec la moyenne de revenus la plus proche du revenu donné\n",
    "    closest_bin = min(mean_revenues_dict, key=lambda k: abs(mean_revenues_dict[k] - revenue))\n",
    "    return closest_bin\n",
    "\n",
    "# Appliquer cette fonction aux revenus publicitaires pour les lignes où 'Nombre_publicités' n'est pas manquant\n",
    "nombre_publicités_intervals = data.loc[data['Nombre_publicités'].isna() \n",
    "                                       & data['Revenus_publicitaires'].notna(), \n",
    "                                       'Revenus_publicitaires'].apply(lambda x: find_closest_bin(x, mean_revenues_dict))\n",
    "\n",
    "# Mapper les labels d'intervalle à leurs valeurs numériques\n",
    "interval_to_value = {label: (bins[i] + bins[i+1]) // 2 for i, label in enumerate(labels)}\n",
    "\n",
    "# Remplacer les valeurs manquantes dans 'Nombre_publicités' par la moyenne de l'intervalle correspondant\n",
    "data.loc[data['Nombre_publicités'].isna() & data['Revenus_publicitaires'].notna(), 'Nombre_publicités'] = nombre_publicités_intervals.map(interval_to_value)"
   ]
  },
  {
   "cell_type": "code",
   "execution_count": 162,
   "id": "f73be9c5-a986-4673-a9bc-26bc54f83ae1",
   "metadata": {
    "tags": []
   },
   "outputs": [
    {
     "data": {
      "text/html": [
       "<div>\n",
       "<style scoped>\n",
       "    .dataframe tbody tr th:only-of-type {\n",
       "        vertical-align: middle;\n",
       "    }\n",
       "\n",
       "    .dataframe tbody tr th {\n",
       "        vertical-align: top;\n",
       "    }\n",
       "\n",
       "    .dataframe thead th {\n",
       "        text-align: right;\n",
       "    }\n",
       "</style>\n",
       "<table border=\"1\" class=\"dataframe\">\n",
       "  <thead>\n",
       "    <tr style=\"text-align: right;\">\n",
       "      <th></th>\n",
       "      <th>ID_programme</th>\n",
       "      <th>Nom_programme</th>\n",
       "      <th>Type_programme</th>\n",
       "      <th>Date_diffusion</th>\n",
       "      <th>Durée</th>\n",
       "      <th>Audience</th>\n",
       "      <th>Part_marché</th>\n",
       "      <th>Cible_principale</th>\n",
       "      <th>Score_qualité</th>\n",
       "      <th>Nombre_publicités</th>\n",
       "      <th>Revenus_publicitaires</th>\n",
       "    </tr>\n",
       "  </thead>\n",
       "  <tbody>\n",
       "    <tr>\n",
       "      <th>25</th>\n",
       "      <td>25</td>\n",
       "      <td>Acilion et sa bande</td>\n",
       "      <td>Information</td>\n",
       "      <td>2023-07-25</td>\n",
       "      <td>114</td>\n",
       "      <td>2119918.0</td>\n",
       "      <td>44.92</td>\n",
       "      <td>Adultes</td>\n",
       "      <td>6.9</td>\n",
       "      <td>NaN</td>\n",
       "      <td>NaN</td>\n",
       "    </tr>\n",
       "  </tbody>\n",
       "</table>\n",
       "</div>"
      ],
      "text/plain": [
       "    ID_programme        Nom_programme Type_programme Date_diffusion  Durée  \\\n",
       "25            25  Acilion et sa bande    Information     2023-07-25    114   \n",
       "\n",
       "     Audience  Part_marché Cible_principale  Score_qualité  Nombre_publicités  \\\n",
       "25  2119918.0        44.92          Adultes            6.9                NaN   \n",
       "\n",
       "    Revenus_publicitaires  \n",
       "25                    NaN  "
      ]
     },
     "execution_count": 162,
     "metadata": {},
     "output_type": "execute_result"
    }
   ],
   "source": [
    "data[data['Nombre_publicités'].isna()]"
   ]
  },
  {
   "cell_type": "code",
   "execution_count": 163,
   "id": "4f2b7b0a-edd1-4176-b785-cd4bb788d5dc",
   "metadata": {
    "tags": []
   },
   "outputs": [
    {
     "data": {
      "text/plain": [
       "ID_programme             0\n",
       "Nom_programme            0\n",
       "Type_programme           0\n",
       "Date_diffusion           0\n",
       "Durée                    0\n",
       "Audience                 0\n",
       "Part_marché              0\n",
       "Cible_principale         0\n",
       "Score_qualité            0\n",
       "Nombre_publicités        1\n",
       "Revenus_publicitaires    3\n",
       "dtype: int64"
      ]
     },
     "execution_count": 163,
     "metadata": {},
     "output_type": "execute_result"
    }
   ],
   "source": [
    "data.isnull().sum()"
   ]
  },
  {
   "cell_type": "markdown",
   "id": "4c6a64a8-8a20-47dc-b28d-a6a1dd625bbf",
   "metadata": {},
   "source": [
    "#### Revenus Publicitaires"
   ]
  },
  {
   "cell_type": "code",
   "execution_count": 164,
   "id": "87c30eb6-1173-4ec3-ba65-5f50017ac55f",
   "metadata": {
    "tags": []
   },
   "outputs": [
    {
     "data": {
      "text/html": [
       "<div>\n",
       "<style scoped>\n",
       "    .dataframe tbody tr th:only-of-type {\n",
       "        vertical-align: middle;\n",
       "    }\n",
       "\n",
       "    .dataframe tbody tr th {\n",
       "        vertical-align: top;\n",
       "    }\n",
       "\n",
       "    .dataframe thead th {\n",
       "        text-align: right;\n",
       "    }\n",
       "</style>\n",
       "<table border=\"1\" class=\"dataframe\">\n",
       "  <thead>\n",
       "    <tr style=\"text-align: right;\">\n",
       "      <th></th>\n",
       "      <th>ID_programme</th>\n",
       "      <th>Nom_programme</th>\n",
       "      <th>Type_programme</th>\n",
       "      <th>Date_diffusion</th>\n",
       "      <th>Durée</th>\n",
       "      <th>Audience</th>\n",
       "      <th>Part_marché</th>\n",
       "      <th>Cible_principale</th>\n",
       "      <th>Score_qualité</th>\n",
       "      <th>Nombre_publicités</th>\n",
       "      <th>Revenus_publicitaires</th>\n",
       "    </tr>\n",
       "  </thead>\n",
       "  <tbody>\n",
       "    <tr>\n",
       "      <th>3</th>\n",
       "      <td>3</td>\n",
       "      <td>Koh-Lanta</td>\n",
       "      <td>Divertissement</td>\n",
       "      <td>2023-10-28</td>\n",
       "      <td>124</td>\n",
       "      <td>3445352.0</td>\n",
       "      <td>9.89</td>\n",
       "      <td>Tout public</td>\n",
       "      <td>9.4</td>\n",
       "      <td>5.0</td>\n",
       "      <td>NaN</td>\n",
       "    </tr>\n",
       "    <tr>\n",
       "      <th>13</th>\n",
       "      <td>13</td>\n",
       "      <td>Contes à trembler debout</td>\n",
       "      <td>Information</td>\n",
       "      <td>2023-07-17</td>\n",
       "      <td>92</td>\n",
       "      <td>4970568.0</td>\n",
       "      <td>38.26</td>\n",
       "      <td>Tout public</td>\n",
       "      <td>5.3</td>\n",
       "      <td>14.0</td>\n",
       "      <td>NaN</td>\n",
       "    </tr>\n",
       "    <tr>\n",
       "      <th>25</th>\n",
       "      <td>25</td>\n",
       "      <td>Acilion et sa bande</td>\n",
       "      <td>Information</td>\n",
       "      <td>2023-07-25</td>\n",
       "      <td>114</td>\n",
       "      <td>2119918.0</td>\n",
       "      <td>44.92</td>\n",
       "      <td>Adultes</td>\n",
       "      <td>6.9</td>\n",
       "      <td>NaN</td>\n",
       "      <td>NaN</td>\n",
       "    </tr>\n",
       "  </tbody>\n",
       "</table>\n",
       "</div>"
      ],
      "text/plain": [
       "    ID_programme             Nom_programme  Type_programme Date_diffusion  \\\n",
       "3              3                 Koh-Lanta  Divertissement     2023-10-28   \n",
       "13            13  Contes à trembler debout     Information     2023-07-17   \n",
       "25            25       Acilion et sa bande     Information     2023-07-25   \n",
       "\n",
       "    Durée   Audience  Part_marché Cible_principale  Score_qualité  \\\n",
       "3     124  3445352.0         9.89      Tout public            9.4   \n",
       "13     92  4970568.0        38.26      Tout public            5.3   \n",
       "25    114  2119918.0        44.92          Adultes            6.9   \n",
       "\n",
       "    Nombre_publicités  Revenus_publicitaires  \n",
       "3                 5.0                    NaN  \n",
       "13               14.0                    NaN  \n",
       "25                NaN                    NaN  "
      ]
     },
     "execution_count": 164,
     "metadata": {},
     "output_type": "execute_result"
    }
   ],
   "source": [
    "data[data['Revenus_publicitaires'].isna()]"
   ]
  },
  {
   "cell_type": "code",
   "execution_count": 165,
   "id": "3aaf9d47-6bd3-4201-a144-356a3016d0c8",
   "metadata": {
    "tags": []
   },
   "outputs": [
    {
     "data": {
      "text/html": [
       "<div>\n",
       "<style scoped>\n",
       "    .dataframe tbody tr th:only-of-type {\n",
       "        vertical-align: middle;\n",
       "    }\n",
       "\n",
       "    .dataframe tbody tr th {\n",
       "        vertical-align: top;\n",
       "    }\n",
       "\n",
       "    .dataframe thead th {\n",
       "        text-align: right;\n",
       "    }\n",
       "</style>\n",
       "<table border=\"1\" class=\"dataframe\">\n",
       "  <thead>\n",
       "    <tr style=\"text-align: right;\">\n",
       "      <th></th>\n",
       "      <th>ID_programme</th>\n",
       "      <th>Nom_programme</th>\n",
       "      <th>Type_programme</th>\n",
       "      <th>Date_diffusion</th>\n",
       "      <th>Durée</th>\n",
       "      <th>Audience</th>\n",
       "      <th>Part_marché</th>\n",
       "      <th>Cible_principale</th>\n",
       "      <th>Score_qualité</th>\n",
       "      <th>Nombre_publicités</th>\n",
       "      <th>Revenus_publicitaires</th>\n",
       "    </tr>\n",
       "  </thead>\n",
       "  <tbody>\n",
       "    <tr>\n",
       "      <th>3</th>\n",
       "      <td>3</td>\n",
       "      <td>Koh-Lanta</td>\n",
       "      <td>Divertissement</td>\n",
       "      <td>2023-10-28</td>\n",
       "      <td>124</td>\n",
       "      <td>3445352.0</td>\n",
       "      <td>9.89</td>\n",
       "      <td>Tout public</td>\n",
       "      <td>9.4</td>\n",
       "      <td>5.0</td>\n",
       "      <td>NaN</td>\n",
       "    </tr>\n",
       "    <tr>\n",
       "      <th>13</th>\n",
       "      <td>13</td>\n",
       "      <td>Contes à trembler debout</td>\n",
       "      <td>Information</td>\n",
       "      <td>2023-07-17</td>\n",
       "      <td>92</td>\n",
       "      <td>4970568.0</td>\n",
       "      <td>38.26</td>\n",
       "      <td>Tout public</td>\n",
       "      <td>5.3</td>\n",
       "      <td>14.0</td>\n",
       "      <td>NaN</td>\n",
       "    </tr>\n",
       "  </tbody>\n",
       "</table>\n",
       "</div>"
      ],
      "text/plain": [
       "    ID_programme             Nom_programme  Type_programme Date_diffusion  \\\n",
       "3              3                 Koh-Lanta  Divertissement     2023-10-28   \n",
       "13            13  Contes à trembler debout     Information     2023-07-17   \n",
       "\n",
       "    Durée   Audience  Part_marché Cible_principale  Score_qualité  \\\n",
       "3     124  3445352.0         9.89      Tout public            9.4   \n",
       "13     92  4970568.0        38.26      Tout public            5.3   \n",
       "\n",
       "    Nombre_publicités  Revenus_publicitaires  \n",
       "3                 5.0                    NaN  \n",
       "13               14.0                    NaN  "
      ]
     },
     "execution_count": 165,
     "metadata": {},
     "output_type": "execute_result"
    }
   ],
   "source": [
    "data[data['Revenus_publicitaires'].isna() & data['Nombre_publicités'].notna()]"
   ]
  },
  {
   "cell_type": "code",
   "execution_count": 166,
   "id": "3956d039-7073-4b74-aff6-11231b864f67",
   "metadata": {
    "tags": []
   },
   "outputs": [],
   "source": [
    "# Fonction pour trouver la revenu publicitaire appartement à l'interval correspondant\n",
    "def find_value(value, dictionary):\n",
    "    for i, rev in dictionary.items():\n",
    "        if int(i.split(\"-\")[0]) <= value <= int(i.split(\"-\")[1]):\n",
    "            return rev         "
   ]
  },
  {
   "cell_type": "code",
   "execution_count": 167,
   "id": "bb50b19c-1a22-47e8-b7fb-96011233c530",
   "metadata": {
    "tags": []
   },
   "outputs": [],
   "source": [
    "# J'applique cette fonction\n",
    "revenus_publicitaires_interval = data[data['Revenus_publicitaires'].isna() \n",
    "                                  & data['Nombre_publicités'].notna()]['Nombre_publicités'].apply(\n",
    "    lambda x: find_value(x, mean_revenues_dict))"
   ]
  },
  {
   "cell_type": "code",
   "execution_count": 168,
   "id": "ed6ffd06-d404-4fc9-b033-bd67446f2659",
   "metadata": {
    "tags": []
   },
   "outputs": [
    {
     "data": {
      "text/plain": [
       "3     31443.960\n",
       "13    32222.839\n",
       "Name: Nombre_publicités, dtype: float64"
      ]
     },
     "execution_count": 168,
     "metadata": {},
     "output_type": "execute_result"
    }
   ],
   "source": [
    "revenus_publicitaires_interval"
   ]
  },
  {
   "cell_type": "code",
   "execution_count": 169,
   "id": "bfa7c81b-a271-4a4e-b84e-bc3816b60d57",
   "metadata": {
    "tags": []
   },
   "outputs": [
    {
     "data": {
      "text/html": [
       "<div>\n",
       "<style scoped>\n",
       "    .dataframe tbody tr th:only-of-type {\n",
       "        vertical-align: middle;\n",
       "    }\n",
       "\n",
       "    .dataframe tbody tr th {\n",
       "        vertical-align: top;\n",
       "    }\n",
       "\n",
       "    .dataframe thead th {\n",
       "        text-align: right;\n",
       "    }\n",
       "</style>\n",
       "<table border=\"1\" class=\"dataframe\">\n",
       "  <thead>\n",
       "    <tr style=\"text-align: right;\">\n",
       "      <th></th>\n",
       "      <th>ID_programme</th>\n",
       "      <th>Nom_programme</th>\n",
       "      <th>Type_programme</th>\n",
       "      <th>Date_diffusion</th>\n",
       "      <th>Durée</th>\n",
       "      <th>Audience</th>\n",
       "      <th>Part_marché</th>\n",
       "      <th>Cible_principale</th>\n",
       "      <th>Score_qualité</th>\n",
       "      <th>Nombre_publicités</th>\n",
       "      <th>Revenus_publicitaires</th>\n",
       "    </tr>\n",
       "  </thead>\n",
       "  <tbody>\n",
       "    <tr>\n",
       "      <th>3</th>\n",
       "      <td>3</td>\n",
       "      <td>Koh-Lanta</td>\n",
       "      <td>Divertissement</td>\n",
       "      <td>2023-10-28</td>\n",
       "      <td>124</td>\n",
       "      <td>3445352.0</td>\n",
       "      <td>9.89</td>\n",
       "      <td>Tout public</td>\n",
       "      <td>9.4</td>\n",
       "      <td>5.0</td>\n",
       "      <td>NaN</td>\n",
       "    </tr>\n",
       "    <tr>\n",
       "      <th>13</th>\n",
       "      <td>13</td>\n",
       "      <td>Contes à trembler debout</td>\n",
       "      <td>Information</td>\n",
       "      <td>2023-07-17</td>\n",
       "      <td>92</td>\n",
       "      <td>4970568.0</td>\n",
       "      <td>38.26</td>\n",
       "      <td>Tout public</td>\n",
       "      <td>5.3</td>\n",
       "      <td>14.0</td>\n",
       "      <td>NaN</td>\n",
       "    </tr>\n",
       "  </tbody>\n",
       "</table>\n",
       "</div>"
      ],
      "text/plain": [
       "    ID_programme             Nom_programme  Type_programme Date_diffusion  \\\n",
       "3              3                 Koh-Lanta  Divertissement     2023-10-28   \n",
       "13            13  Contes à trembler debout     Information     2023-07-17   \n",
       "\n",
       "    Durée   Audience  Part_marché Cible_principale  Score_qualité  \\\n",
       "3     124  3445352.0         9.89      Tout public            9.4   \n",
       "13     92  4970568.0        38.26      Tout public            5.3   \n",
       "\n",
       "    Nombre_publicités  Revenus_publicitaires  \n",
       "3                 5.0                    NaN  \n",
       "13               14.0                    NaN  "
      ]
     },
     "execution_count": 169,
     "metadata": {},
     "output_type": "execute_result"
    }
   ],
   "source": [
    "data[data['Revenus_publicitaires'].isna() \n",
    "                                  & data['Nombre_publicités']]"
   ]
  },
  {
   "cell_type": "code",
   "execution_count": 170,
   "id": "a505d8a7-9a94-48ca-accf-27e20daeb37d",
   "metadata": {
    "tags": []
   },
   "outputs": [],
   "source": [
    "# Indices et valeurs correspondantes\n",
    "indices_to_update = revenus_publicitaires_interval.index\n",
    "values_to_update = revenus_publicitaires_interval.values\n",
    "\n",
    "# Remplacer les NaN dans 'Revenus_publicitaires' par les valeurs de 'revenus_publicitaires_interval'\n",
    "data.loc[indices_to_update, 'Revenus_publicitaires'] = values_to_update"
   ]
  },
  {
   "cell_type": "code",
   "execution_count": 171,
   "id": "ef7bcad1-6dcc-4e68-957c-686ecf43cbd4",
   "metadata": {
    "tags": []
   },
   "outputs": [
    {
     "data": {
      "text/plain": [
       "ID_programme             0\n",
       "Nom_programme            0\n",
       "Type_programme           0\n",
       "Date_diffusion           0\n",
       "Durée                    0\n",
       "Audience                 0\n",
       "Part_marché              0\n",
       "Cible_principale         0\n",
       "Score_qualité            0\n",
       "Nombre_publicités        1\n",
       "Revenus_publicitaires    1\n",
       "dtype: int64"
      ]
     },
     "execution_count": 171,
     "metadata": {},
     "output_type": "execute_result"
    }
   ],
   "source": [
    "data.isnull().sum()"
   ]
  },
  {
   "cell_type": "code",
   "execution_count": 172,
   "id": "fc950a02-8291-4482-918a-4a62734f4df4",
   "metadata": {
    "tags": []
   },
   "outputs": [],
   "source": [
    "# Je remplace le reste des valeurs manquantes par 0.\n",
    "data[['Nombre_publicités', 'Revenus_publicitaires']] = data[['Nombre_publicités', 'Revenus_publicitaires']].fillna(0)"
   ]
  },
  {
   "cell_type": "code",
   "execution_count": 173,
   "id": "58633e60-359e-4a38-a784-c7ad70f782f8",
   "metadata": {
    "tags": []
   },
   "outputs": [
    {
     "data": {
      "text/plain": [
       "ID_programme             0\n",
       "Nom_programme            0\n",
       "Type_programme           0\n",
       "Date_diffusion           0\n",
       "Durée                    0\n",
       "Audience                 0\n",
       "Part_marché              0\n",
       "Cible_principale         0\n",
       "Score_qualité            0\n",
       "Nombre_publicités        0\n",
       "Revenus_publicitaires    0\n",
       "dtype: int64"
      ]
     },
     "execution_count": 173,
     "metadata": {},
     "output_type": "execute_result"
    }
   ],
   "source": [
    "data.isnull().sum()"
   ]
  },
  {
   "cell_type": "markdown",
   "id": "7e93ea62-90d2-4e18-a370-a70bd3c8e7df",
   "metadata": {},
   "source": [
    "<div class=\"alert alert-success\">\n",
    "    <b>Création et Manipulation de Colonne</b>\n",
    "</div>"
   ]
  },
  {
   "cell_type": "code",
   "execution_count": 174,
   "id": "9d04afcc-3a64-4537-b7a2-b7dbe47d131e",
   "metadata": {
    "tags": []
   },
   "outputs": [],
   "source": [
    "# J'ajoute une colonne \"Ratio_Audience_Publicité\" qui est le rapport entre l'audience et les revenus publicitaires.\n",
    "data['Ratio_Audience_Publicité'] = round(data['Audience'] / data['Revenus_publicitaires'],2)"
   ]
  },
  {
   "cell_type": "code",
   "execution_count": 175,
   "id": "f3d84335-52cb-4f2c-bfca-a6c913faa2e5",
   "metadata": {
    "tags": []
   },
   "outputs": [
    {
     "data": {
      "text/html": [
       "<div>\n",
       "<style scoped>\n",
       "    .dataframe tbody tr th:only-of-type {\n",
       "        vertical-align: middle;\n",
       "    }\n",
       "\n",
       "    .dataframe tbody tr th {\n",
       "        vertical-align: top;\n",
       "    }\n",
       "\n",
       "    .dataframe thead th {\n",
       "        text-align: right;\n",
       "    }\n",
       "</style>\n",
       "<table border=\"1\" class=\"dataframe\">\n",
       "  <thead>\n",
       "    <tr style=\"text-align: right;\">\n",
       "      <th></th>\n",
       "      <th>ID_programme</th>\n",
       "      <th>Nom_programme</th>\n",
       "      <th>Type_programme</th>\n",
       "      <th>Date_diffusion</th>\n",
       "      <th>Durée</th>\n",
       "      <th>Audience</th>\n",
       "      <th>Part_marché</th>\n",
       "      <th>Cible_principale</th>\n",
       "      <th>Score_qualité</th>\n",
       "      <th>Nombre_publicités</th>\n",
       "      <th>Revenus_publicitaires</th>\n",
       "      <th>Ratio_Audience_Publicité</th>\n",
       "    </tr>\n",
       "  </thead>\n",
       "  <tbody>\n",
       "    <tr>\n",
       "      <th>0</th>\n",
       "      <td>0</td>\n",
       "      <td>Jacky Show</td>\n",
       "      <td>Documentaire</td>\n",
       "      <td>2023-06-30</td>\n",
       "      <td>157</td>\n",
       "      <td>3228010.0</td>\n",
       "      <td>45.78</td>\n",
       "      <td>Enfants</td>\n",
       "      <td>4.7</td>\n",
       "      <td>39.0</td>\n",
       "      <td>3191.31</td>\n",
       "      <td>1011.50</td>\n",
       "    </tr>\n",
       "    <tr>\n",
       "      <th>1</th>\n",
       "      <td>1</td>\n",
       "      <td>L'Hebdo Show</td>\n",
       "      <td>Divertissement</td>\n",
       "      <td>2023-03-19</td>\n",
       "      <td>64</td>\n",
       "      <td>243902.0</td>\n",
       "      <td>49.56</td>\n",
       "      <td>Adolescents</td>\n",
       "      <td>5.7</td>\n",
       "      <td>7.0</td>\n",
       "      <td>41167.32</td>\n",
       "      <td>5.92</td>\n",
       "    </tr>\n",
       "    <tr>\n",
       "      <th>2</th>\n",
       "      <td>2</td>\n",
       "      <td>Petites Stars : Le Grand Soir</td>\n",
       "      <td>Documentaire</td>\n",
       "      <td>2023-12-05</td>\n",
       "      <td>160</td>\n",
       "      <td>263143.0</td>\n",
       "      <td>6.17</td>\n",
       "      <td>Enfants</td>\n",
       "      <td>4.8</td>\n",
       "      <td>16.0</td>\n",
       "      <td>36860.05</td>\n",
       "      <td>7.14</td>\n",
       "    </tr>\n",
       "    <tr>\n",
       "      <th>3</th>\n",
       "      <td>3</td>\n",
       "      <td>Koh-Lanta</td>\n",
       "      <td>Divertissement</td>\n",
       "      <td>2023-10-28</td>\n",
       "      <td>124</td>\n",
       "      <td>3445352.0</td>\n",
       "      <td>9.89</td>\n",
       "      <td>Tout public</td>\n",
       "      <td>9.4</td>\n",
       "      <td>5.0</td>\n",
       "      <td>31443.96</td>\n",
       "      <td>109.57</td>\n",
       "    </tr>\n",
       "    <tr>\n",
       "      <th>4</th>\n",
       "      <td>4</td>\n",
       "      <td>Face à la Une</td>\n",
       "      <td>Documentaire</td>\n",
       "      <td>2023-06-14</td>\n",
       "      <td>115</td>\n",
       "      <td>2194471.0</td>\n",
       "      <td>11.82</td>\n",
       "      <td>Adultes</td>\n",
       "      <td>8.2</td>\n",
       "      <td>12.0</td>\n",
       "      <td>42203.80</td>\n",
       "      <td>52.00</td>\n",
       "    </tr>\n",
       "  </tbody>\n",
       "</table>\n",
       "</div>"
      ],
      "text/plain": [
       "   ID_programme                  Nom_programme  Type_programme Date_diffusion  \\\n",
       "0             0                     Jacky Show    Documentaire     2023-06-30   \n",
       "1             1                   L'Hebdo Show  Divertissement     2023-03-19   \n",
       "2             2  Petites Stars : Le Grand Soir    Documentaire     2023-12-05   \n",
       "3             3                      Koh-Lanta  Divertissement     2023-10-28   \n",
       "4             4                  Face à la Une    Documentaire     2023-06-14   \n",
       "\n",
       "   Durée   Audience  Part_marché Cible_principale  Score_qualité  \\\n",
       "0    157  3228010.0        45.78          Enfants            4.7   \n",
       "1     64   243902.0        49.56      Adolescents            5.7   \n",
       "2    160   263143.0         6.17          Enfants            4.8   \n",
       "3    124  3445352.0         9.89      Tout public            9.4   \n",
       "4    115  2194471.0        11.82          Adultes            8.2   \n",
       "\n",
       "   Nombre_publicités  Revenus_publicitaires  Ratio_Audience_Publicité  \n",
       "0               39.0                3191.31                   1011.50  \n",
       "1                7.0               41167.32                      5.92  \n",
       "2               16.0               36860.05                      7.14  \n",
       "3                5.0               31443.96                    109.57  \n",
       "4               12.0               42203.80                     52.00  "
      ]
     },
     "execution_count": 175,
     "metadata": {},
     "output_type": "execute_result"
    }
   ],
   "source": [
    "# Nous observons par exemple que le rapport entre un score d'audience de 263 143 personnes \n",
    "# et un revenu publicitaire de 36 860, le ratio est de 7.14.\n",
    "data.head()"
   ]
  },
  {
   "cell_type": "markdown",
   "id": "ad91aa87-73ad-4915-bb33-4099197143fc",
   "metadata": {},
   "source": [
    "<div class=\"alert alert-success\">\n",
    "    <b>Filtrer les Données</b>\n",
    "</div>"
   ]
  },
  {
   "cell_type": "code",
   "execution_count": 176,
   "id": "57429eb8-4287-43e8-b612-d531fc37f6b1",
   "metadata": {
    "tags": []
   },
   "outputs": [],
   "source": [
    "data['Date_diffusion'] = pd.to_datetime(data['Date_diffusion'])"
   ]
  },
  {
   "cell_type": "code",
   "execution_count": 177,
   "id": "d786b57a-b0e2-4d8c-bda5-56d0d26fd5e8",
   "metadata": {
    "tags": []
   },
   "outputs": [],
   "source": [
    "moyenne_audience = data['Audience'].mean()"
   ]
  },
  {
   "cell_type": "code",
   "execution_count": 178,
   "id": "57ac2007-12c4-4787-b026-9acdcc03d80b",
   "metadata": {
    "tags": []
   },
   "outputs": [
    {
     "data": {
      "text/html": [
       "<div>\n",
       "<style scoped>\n",
       "    .dataframe tbody tr th:only-of-type {\n",
       "        vertical-align: middle;\n",
       "    }\n",
       "\n",
       "    .dataframe tbody tr th {\n",
       "        vertical-align: top;\n",
       "    }\n",
       "\n",
       "    .dataframe thead th {\n",
       "        text-align: right;\n",
       "    }\n",
       "</style>\n",
       "<table border=\"1\" class=\"dataframe\">\n",
       "  <thead>\n",
       "    <tr style=\"text-align: right;\">\n",
       "      <th></th>\n",
       "      <th>ID_programme</th>\n",
       "      <th>Nom_programme</th>\n",
       "      <th>Type_programme</th>\n",
       "      <th>Date_diffusion</th>\n",
       "      <th>Durée</th>\n",
       "      <th>Audience</th>\n",
       "      <th>Part_marché</th>\n",
       "      <th>Cible_principale</th>\n",
       "      <th>Score_qualité</th>\n",
       "      <th>Nombre_publicités</th>\n",
       "      <th>Revenus_publicitaires</th>\n",
       "      <th>Ratio_Audience_Publicité</th>\n",
       "    </tr>\n",
       "  </thead>\n",
       "  <tbody>\n",
       "    <tr>\n",
       "      <th>0</th>\n",
       "      <td>0</td>\n",
       "      <td>Jacky Show</td>\n",
       "      <td>Documentaire</td>\n",
       "      <td>2023-06-30</td>\n",
       "      <td>157</td>\n",
       "      <td>3.228010e+06</td>\n",
       "      <td>45.78</td>\n",
       "      <td>Enfants</td>\n",
       "      <td>4.7</td>\n",
       "      <td>39.0</td>\n",
       "      <td>3191.31</td>\n",
       "      <td>1011.50</td>\n",
       "    </tr>\n",
       "    <tr>\n",
       "      <th>3</th>\n",
       "      <td>3</td>\n",
       "      <td>Koh-Lanta</td>\n",
       "      <td>Divertissement</td>\n",
       "      <td>2023-10-28</td>\n",
       "      <td>124</td>\n",
       "      <td>3.445352e+06</td>\n",
       "      <td>9.89</td>\n",
       "      <td>Tout public</td>\n",
       "      <td>9.4</td>\n",
       "      <td>5.0</td>\n",
       "      <td>31443.96</td>\n",
       "      <td>109.57</td>\n",
       "    </tr>\n",
       "    <tr>\n",
       "      <th>6</th>\n",
       "      <td>6</td>\n",
       "      <td>Présence protestante</td>\n",
       "      <td>Divertissement</td>\n",
       "      <td>2023-12-16</td>\n",
       "      <td>99</td>\n",
       "      <td>2.868626e+06</td>\n",
       "      <td>23.01</td>\n",
       "      <td>Enfants</td>\n",
       "      <td>2.6</td>\n",
       "      <td>25.0</td>\n",
       "      <td>22662.46</td>\n",
       "      <td>126.58</td>\n",
       "    </tr>\n",
       "    <tr>\n",
       "      <th>7</th>\n",
       "      <td>7</td>\n",
       "      <td>Orthodoxie (émission de télévision)</td>\n",
       "      <td>Information</td>\n",
       "      <td>2023-03-07</td>\n",
       "      <td>125</td>\n",
       "      <td>2.491946e+06</td>\n",
       "      <td>11.89</td>\n",
       "      <td>Tout public</td>\n",
       "      <td>3.7</td>\n",
       "      <td>44.0</td>\n",
       "      <td>22396.19</td>\n",
       "      <td>111.27</td>\n",
       "    </tr>\n",
       "    <tr>\n",
       "      <th>9</th>\n",
       "      <td>9</td>\n",
       "      <td>Enfoirés Kids</td>\n",
       "      <td>Divertissement</td>\n",
       "      <td>2023-08-31</td>\n",
       "      <td>150</td>\n",
       "      <td>2.498744e+06</td>\n",
       "      <td>7.02</td>\n",
       "      <td>Enfants</td>\n",
       "      <td>8.5</td>\n",
       "      <td>17.0</td>\n",
       "      <td>2283.16</td>\n",
       "      <td>1094.42</td>\n",
       "    </tr>\n",
       "  </tbody>\n",
       "</table>\n",
       "</div>"
      ],
      "text/plain": [
       "   ID_programme                        Nom_programme  Type_programme  \\\n",
       "0             0                           Jacky Show    Documentaire   \n",
       "3             3                            Koh-Lanta  Divertissement   \n",
       "6             6                 Présence protestante  Divertissement   \n",
       "7             7  Orthodoxie (émission de télévision)     Information   \n",
       "9             9                        Enfoirés Kids  Divertissement   \n",
       "\n",
       "  Date_diffusion  Durée      Audience  Part_marché Cible_principale  \\\n",
       "0     2023-06-30    157  3.228010e+06        45.78          Enfants   \n",
       "3     2023-10-28    124  3.445352e+06         9.89      Tout public   \n",
       "6     2023-12-16     99  2.868626e+06        23.01          Enfants   \n",
       "7     2023-03-07    125  2.491946e+06        11.89      Tout public   \n",
       "9     2023-08-31    150  2.498744e+06         7.02          Enfants   \n",
       "\n",
       "   Score_qualité  Nombre_publicités  Revenus_publicitaires  \\\n",
       "0            4.7               39.0                3191.31   \n",
       "3            9.4                5.0               31443.96   \n",
       "6            2.6               25.0               22662.46   \n",
       "7            3.7               44.0               22396.19   \n",
       "9            8.5               17.0                2283.16   \n",
       "\n",
       "   Ratio_Audience_Publicité  \n",
       "0                   1011.50  \n",
       "3                    109.57  \n",
       "6                    126.58  \n",
       "7                    111.27  \n",
       "9                   1094.42  "
      ]
     },
     "execution_count": 178,
     "metadata": {},
     "output_type": "execute_result"
    }
   ],
   "source": [
    "# sous-ensemble de données pour les programmes diffusés en 2023 avec une audience supérieure à la moyenne.\n",
    "data[(data['Date_diffusion'].dt.year == 2023) & (data['Audience'] > moyenne_audience)].head()"
   ]
  },
  {
   "cell_type": "markdown",
   "id": "0c09d3af-6f33-4ba0-9af5-80bd5eb255ae",
   "metadata": {},
   "source": [
    "### Partie 3 : Analyse"
   ]
  },
  {
   "cell_type": "markdown",
   "id": "e2aa8df2-494b-459a-b2de-f702ed0a36c0",
   "metadata": {},
   "source": [
    "<div class=\"alert alert-success\">\n",
    "    <b>Statistiques Descriptives</b>\n",
    "</div>"
   ]
  },
  {
   "cell_type": "markdown",
   "id": "944e2a38-4616-4baf-bb9e-866c486c01d8",
   "metadata": {},
   "source": [
    "- Calculez les statistiques descriptives de base (moyenne, médiane, écart-type) pour l'audience et les revenus publicitaires."
   ]
  },
  {
   "cell_type": "code",
   "execution_count": 179,
   "id": "10298f13-b4bb-4799-b80f-ed99ef5940ec",
   "metadata": {
    "tags": []
   },
   "outputs": [],
   "source": [
    "data['Nom_programme'] = data['Nom_programme'].astype('str')"
   ]
  },
  {
   "cell_type": "code",
   "execution_count": 180,
   "id": "43bf1581-b008-4dfd-bc0d-e29669be3049",
   "metadata": {
    "tags": []
   },
   "outputs": [
    {
     "data": {
      "text/html": [
       "<div>\n",
       "<style scoped>\n",
       "    .dataframe tbody tr th:only-of-type {\n",
       "        vertical-align: middle;\n",
       "    }\n",
       "\n",
       "    .dataframe tbody tr th {\n",
       "        vertical-align: top;\n",
       "    }\n",
       "\n",
       "    .dataframe thead th {\n",
       "        text-align: right;\n",
       "    }\n",
       "</style>\n",
       "<table border=\"1\" class=\"dataframe\">\n",
       "  <thead>\n",
       "    <tr style=\"text-align: right;\">\n",
       "      <th></th>\n",
       "      <th>ID_programme</th>\n",
       "      <th>Date_diffusion</th>\n",
       "      <th>Durée</th>\n",
       "      <th>Audience</th>\n",
       "      <th>Part_marché</th>\n",
       "      <th>Score_qualité</th>\n",
       "      <th>Nombre_publicités</th>\n",
       "      <th>Revenus_publicitaires</th>\n",
       "      <th>Ratio_Audience_Publicité</th>\n",
       "    </tr>\n",
       "  </thead>\n",
       "  <tbody>\n",
       "    <tr>\n",
       "      <th>count</th>\n",
       "      <td>100.00</td>\n",
       "      <td>100</td>\n",
       "      <td>100.00</td>\n",
       "      <td>100.00</td>\n",
       "      <td>100.00</td>\n",
       "      <td>100.00</td>\n",
       "      <td>100.00</td>\n",
       "      <td>100.00</td>\n",
       "      <td>100.00</td>\n",
       "    </tr>\n",
       "    <tr>\n",
       "      <th>mean</th>\n",
       "      <td>49.50</td>\n",
       "      <td>2023-07-04 05:02:24</td>\n",
       "      <td>107.01</td>\n",
       "      <td>2415052.85</td>\n",
       "      <td>25.58</td>\n",
       "      <td>5.53</td>\n",
       "      <td>23.08</td>\n",
       "      <td>26066.53</td>\n",
       "      <td>inf</td>\n",
       "    </tr>\n",
       "    <tr>\n",
       "      <th>min</th>\n",
       "      <td>0.00</td>\n",
       "      <td>2023-01-08 00:00:00</td>\n",
       "      <td>32.00</td>\n",
       "      <td>165702.00</td>\n",
       "      <td>1.08</td>\n",
       "      <td>1.00</td>\n",
       "      <td>0.00</td>\n",
       "      <td>0.00</td>\n",
       "      <td>5.11</td>\n",
       "    </tr>\n",
       "    <tr>\n",
       "      <th>25%</th>\n",
       "      <td>24.75</td>\n",
       "      <td>2023-04-15 12:00:00</td>\n",
       "      <td>66.00</td>\n",
       "      <td>1186768.25</td>\n",
       "      <td>12.70</td>\n",
       "      <td>3.28</td>\n",
       "      <td>10.50</td>\n",
       "      <td>12476.20</td>\n",
       "      <td>51.72</td>\n",
       "    </tr>\n",
       "    <tr>\n",
       "      <th>50%</th>\n",
       "      <td>49.50</td>\n",
       "      <td>2023-06-23 12:00:00</td>\n",
       "      <td>113.50</td>\n",
       "      <td>2273125.00</td>\n",
       "      <td>26.44</td>\n",
       "      <td>5.60</td>\n",
       "      <td>20.00</td>\n",
       "      <td>27051.40</td>\n",
       "      <td>103.85</td>\n",
       "    </tr>\n",
       "    <tr>\n",
       "      <th>75%</th>\n",
       "      <td>74.25</td>\n",
       "      <td>2023-09-22 12:00:00</td>\n",
       "      <td>140.50</td>\n",
       "      <td>3717159.75</td>\n",
       "      <td>37.95</td>\n",
       "      <td>7.82</td>\n",
       "      <td>38.00</td>\n",
       "      <td>39810.81</td>\n",
       "      <td>159.47</td>\n",
       "    </tr>\n",
       "    <tr>\n",
       "      <th>max</th>\n",
       "      <td>99.00</td>\n",
       "      <td>2023-12-28 00:00:00</td>\n",
       "      <td>173.00</td>\n",
       "      <td>4985506.00</td>\n",
       "      <td>49.56</td>\n",
       "      <td>9.90</td>\n",
       "      <td>50.00</td>\n",
       "      <td>49857.01</td>\n",
       "      <td>inf</td>\n",
       "    </tr>\n",
       "    <tr>\n",
       "      <th>std</th>\n",
       "      <td>29.01</td>\n",
       "      <td>NaN</td>\n",
       "      <td>41.13</td>\n",
       "      <td>1439615.32</td>\n",
       "      <td>14.32</td>\n",
       "      <td>2.54</td>\n",
       "      <td>15.10</td>\n",
       "      <td>15074.43</td>\n",
       "      <td>NaN</td>\n",
       "    </tr>\n",
       "  </tbody>\n",
       "</table>\n",
       "</div>"
      ],
      "text/plain": [
       "       ID_programme       Date_diffusion   Durée    Audience  Part_marché  \\\n",
       "count        100.00                  100  100.00      100.00       100.00   \n",
       "mean          49.50  2023-07-04 05:02:24  107.01  2415052.85        25.58   \n",
       "min            0.00  2023-01-08 00:00:00   32.00   165702.00         1.08   \n",
       "25%           24.75  2023-04-15 12:00:00   66.00  1186768.25        12.70   \n",
       "50%           49.50  2023-06-23 12:00:00  113.50  2273125.00        26.44   \n",
       "75%           74.25  2023-09-22 12:00:00  140.50  3717159.75        37.95   \n",
       "max           99.00  2023-12-28 00:00:00  173.00  4985506.00        49.56   \n",
       "std           29.01                  NaN   41.13  1439615.32        14.32   \n",
       "\n",
       "       Score_qualité  Nombre_publicités  Revenus_publicitaires  \\\n",
       "count         100.00             100.00                 100.00   \n",
       "mean            5.53              23.08               26066.53   \n",
       "min             1.00               0.00                   0.00   \n",
       "25%             3.28              10.50               12476.20   \n",
       "50%             5.60              20.00               27051.40   \n",
       "75%             7.82              38.00               39810.81   \n",
       "max             9.90              50.00               49857.01   \n",
       "std             2.54              15.10               15074.43   \n",
       "\n",
       "       Ratio_Audience_Publicité  \n",
       "count                    100.00  \n",
       "mean                        inf  \n",
       "min                        5.11  \n",
       "25%                       51.72  \n",
       "50%                      103.85  \n",
       "75%                      159.47  \n",
       "max                         inf  \n",
       "std                         NaN  "
      ]
     },
     "execution_count": 180,
     "metadata": {},
     "output_type": "execute_result"
    }
   ],
   "source": [
    "data.describe().round(2)"
   ]
  },
  {
   "cell_type": "code",
   "execution_count": 181,
   "id": "746d280d-482d-4b39-aa2c-9e2d672cecd4",
   "metadata": {
    "tags": []
   },
   "outputs": [
    {
     "data": {
      "text/plain": [
       "2415052.8506043954"
      ]
     },
     "execution_count": 181,
     "metadata": {},
     "output_type": "execute_result"
    }
   ],
   "source": [
    "data['Audience'].mean()"
   ]
  },
  {
   "cell_type": "code",
   "execution_count": 182,
   "id": "24a14c44-6565-4209-8851-c7be39a85bb1",
   "metadata": {
    "tags": []
   },
   "outputs": [
    {
     "data": {
      "text/plain": [
       "2273125.0"
      ]
     },
     "execution_count": 182,
     "metadata": {},
     "output_type": "execute_result"
    }
   ],
   "source": [
    "data['Audience'].median()"
   ]
  },
  {
   "cell_type": "code",
   "execution_count": 183,
   "id": "e3d927d0-307d-4fa4-abbc-6a1e16b69380",
   "metadata": {
    "tags": []
   },
   "outputs": [
    {
     "data": {
      "text/plain": [
       "<bound method Series.std of 0     3228010.0\n",
       "1      243902.0\n",
       "2      263143.0\n",
       "3     3445352.0\n",
       "4     2194471.0\n",
       "        ...    \n",
       "95    1210326.0\n",
       "96     800328.0\n",
       "97    3898826.0\n",
       "98    3042204.0\n",
       "99    2709385.0\n",
       "Name: Audience, Length: 100, dtype: float64>"
      ]
     },
     "execution_count": 183,
     "metadata": {},
     "output_type": "execute_result"
    }
   ],
   "source": [
    "data['Audience'].std"
   ]
  },
  {
   "cell_type": "code",
   "execution_count": 184,
   "id": "05657d01-b9b9-467c-a665-33a2be23aaa3",
   "metadata": {
    "tags": []
   },
   "outputs": [
    {
     "data": {
      "text/plain": [
       "26066.527890000005"
      ]
     },
     "execution_count": 184,
     "metadata": {},
     "output_type": "execute_result"
    }
   ],
   "source": [
    "data['Revenus_publicitaires'].mean()"
   ]
  },
  {
   "cell_type": "code",
   "execution_count": 185,
   "id": "9ee26f03-40c2-4c00-a8ce-de61323dcc31",
   "metadata": {
    "tags": []
   },
   "outputs": [
    {
     "data": {
      "text/plain": [
       "27051.4"
      ]
     },
     "execution_count": 185,
     "metadata": {},
     "output_type": "execute_result"
    }
   ],
   "source": [
    "data['Revenus_publicitaires'].median()"
   ]
  },
  {
   "cell_type": "code",
   "execution_count": 186,
   "id": "761417fc-8469-4266-94e3-68eb30467667",
   "metadata": {
    "tags": []
   },
   "outputs": [
    {
     "data": {
      "text/plain": [
       "15074.434999578041"
      ]
     },
     "execution_count": 186,
     "metadata": {},
     "output_type": "execute_result"
    }
   ],
   "source": [
    "data['Revenus_publicitaires'].std()"
   ]
  },
  {
   "cell_type": "markdown",
   "id": "1a6702e0-5072-4cc4-9c44-3883bb26ec80",
   "metadata": {},
   "source": [
    "<div class=\"alert alert-success\">\n",
    "    <b>GroupBy et Tableau Croisé</b>\n",
    "</div>"
   ]
  },
  {
   "cell_type": "code",
   "execution_count": 187,
   "id": "3acbefc2-0bf6-4866-8cc4-3a91dce6705b",
   "metadata": {
    "tags": []
   },
   "outputs": [
    {
     "data": {
      "text/plain": [
       "Type_programme\n",
       "Divertissement    2361788.18\n",
       "Documentaire      2348215.45\n",
       "Information       2543933.75\n",
       "Name: Audience, dtype: float64"
      ]
     },
     "execution_count": 187,
     "metadata": {},
     "output_type": "execute_result"
    }
   ],
   "source": [
    "# moyenne de l'audience par type de programme\n",
    "round(data.groupby('Type_programme', observed=True)['Audience'].mean(), 2)"
   ]
  },
  {
   "cell_type": "code",
   "execution_count": 188,
   "id": "8c3ada3a-2a8c-4a49-aaec-de6add746d70",
   "metadata": {
    "tags": []
   },
   "outputs": [],
   "source": [
    "# Tableau croisé qui montre la moyenne de la part de marché par cible principale et type de programme.\n",
    "mean_part_marche = data.groupby(['Type_programme', 'Cible_principale'], observed=True)['Part_marché'].mean().reset_index()\n",
    "palette = sns.color_palette(\"flare\")"
   ]
  },
  {
   "cell_type": "code",
   "execution_count": 189,
   "id": "4b97f690-12d6-4951-9fc9-d6b56f921a3a",
   "metadata": {
    "tags": []
   },
   "outputs": [
    {
     "name": "stderr",
     "output_type": "stream",
     "text": [
      "/var/folders/nh/0g4wy8cd033d59_r70qrwqrc0000gn/T/ipykernel_41256/4068531338.py:3: UserWarning: The palette list has more values (6) than needed (4), which may not be intended.\n",
      "  barplot = sns.barplot(\n"
     ]
    },
    {
     "data": {
      "image/png": "[encoded data removed]",
      "text/plain": [
       "<Figure size 1000x600 with 1 Axes>"
      ]
     },
     "metadata": {},
     "output_type": "display_data"
    }
   ],
   "source": [
    "# Créer le graphique en barres\n",
    "plt.figure(figsize=(10, 6))\n",
    "barplot = sns.barplot(\n",
    "    data=mean_part_marche,\n",
    "    x='Part_marché', \n",
    "    y='Type_programme', \n",
    "    hue='Cible_principale', \n",
    "    palette=palette\n",
    ")\n",
    "\n",
    "plt.title('Moyenne de la Part de Marché par Type de Programme et Cible Principale', fontsize=16)\n",
    "plt.xlabel('Part de Marché Moyenne', fontsize=14)\n",
    "plt.ylabel('Type de Programme', fontsize=14)\n",
    "\n",
    "# Afficher la légende en dehors du graphique\n",
    "plt.legend(title='Cible Principale', bbox_to_anchor=(1.05, 1), loc='upper left')\n",
    "\n",
    "# Afficher le graphique\n",
    "plt.tight_layout()\n",
    "plt.show()"
   ]
  },
  {
   "cell_type": "code",
   "execution_count": 194,
   "id": "653169ba-f289-49f1-a890-4e48ca0def9e",
   "metadata": {},
   "outputs": [
    {
     "name": "stdout",
     "output_type": "stream",
     "text": [
      "Type_programme    Divertissement  Documentaire  Information\n",
      "Cible_principale                                           \n",
      "Adolescents             21.36000     25.331818    18.911000\n",
      "Adultes                 29.52125     24.180000    36.660000\n",
      "Enfants                 27.82750     17.485714    27.876429\n",
      "Tout public             30.69600     25.731818    25.940000\n"
     ]
    }
   ],
   "source": [
    "# Tableau croisé qui montre la moyenne de la part de marché par cible principale et type de programme.\n",
    "tableau_croisé = data.pivot_table(values='Part_marché', index='Cible_principale', columns='Type_programme', aggfunc='mean')\n",
    "print(tableau_croisé)"
   ]
  },
  {
   "cell_type": "code",
   "execution_count": 193,
   "id": "3e4c5446-a526-41ea-99bc-fe5a1458c3e3",
   "metadata": {
    "tags": []
   },
   "outputs": [
    {
     "data": {
      "text/plain": [
       "<Axes: xlabel='Type_programme,Cible_principale'>"
      ]
     },
     "execution_count": 193,
     "metadata": {},
     "output_type": "execute_result"
    },
    {
     "data": {
      "image/png": "[encoded data removed]",
      "text/plain": [
       "<Figure size 640x480 with 1 Axes>"
      ]
     },
     "metadata": {},
     "output_type": "display_data"
    }
   ],
   "source": [
    "data.groupby(['Type_programme', 'Cible_principale'], observed=True)['Part_marché'].mean().plot(kind=\"bar\")"
   ]
  },
  {
   "cell_type": "markdown",
   "id": "1f17be79-8134-4aff-8114-62786ebfff13",
   "metadata": {},
   "source": [
    "<div class=\"alert alert-success\">\n",
    "    <b>Graphiques</b>\n",
    "</div>"
   ]
  },
  {
   "cell_type": "code",
   "execution_count": 195,
   "id": "12a3d52e-be7a-4212-b127-29ade2f1b966",
   "metadata": {
    "tags": []
   },
   "outputs": [
    {
     "data": {
      "image/png": "[encoded data removed]",
      "text/plain": [
       "<Figure size 640x480 with 1 Axes>"
      ]
     },
     "metadata": {},
     "output_type": "display_data"
    }
   ],
   "source": [
    "# Histogramme de la distribution de l'audience\n",
    "import matplotlib.colors as mcolors\n",
    "\n",
    "fig, ax = plt.subplots(tight_layout=True)\n",
    "\n",
    "# Création de l'histogramme\n",
    "N, bins, patches = ax.hist(data['Audience'], bins=20, edgecolor='black')\n",
    "\n",
    "# Normalisation des fréquences\n",
    "fracs = N / N.max()\n",
    "\n",
    "# Normalisation des données pour la colormap\n",
    "norm = mcolors.Normalize(vmin=fracs.min(), vmax=fracs.max())\n",
    "\n",
    "# Application des couleurs\n",
    "for thisfrac, thispatch in zip(fracs, patches):\n",
    "    color = plt.cm.viridis(norm(thisfrac))\n",
    "    thispatch.set_facecolor(color)\n",
    "\n",
    "# Affichage du graphique\n",
    "plt.title(\"Histogramme de l'audience\")\n",
    "plt.show()"
   ]
  },
  {
   "cell_type": "code",
   "execution_count": 196,
   "id": "1465fe82-04e4-42a9-8932-837d21d6ad02",
   "metadata": {
    "tags": []
   },
   "outputs": [
    {
     "name": "stderr",
     "output_type": "stream",
     "text": [
      "/var/folders/nh/0g4wy8cd033d59_r70qrwqrc0000gn/T/ipykernel_41256/1349572815.py:3: FutureWarning: \n",
      "\n",
      "Passing `palette` without assigning `hue` is deprecated and will be removed in v0.14.0. Assign the `y` variable to `hue` and set `legend=False` for the same effect.\n",
      "\n",
      "  sns.boxplot(x=data['Revenus_publicitaires'], y=data['Type_programme'], palette=\"viridis\")\n"
     ]
    },
    {
     "data": {
      "image/png": "[encoded data removed]",
      "text/plain": [
       "<Figure size 640x480 with 1 Axes>"
      ]
     },
     "metadata": {},
     "output_type": "display_data"
    }
   ],
   "source": [
    "# boxplot des revenus publicitaires par type de programme.\n",
    "palette = sns.color_palette(\"flare\")\n",
    "sns.boxplot(x=data['Revenus_publicitaires'], y=data['Type_programme'], palette=\"viridis\")\n",
    "plt.title(\"Boxplot des Revenus Publicitaires par Type de Programme\")\n",
    "plt.show()"
   ]
  },
  {
   "cell_type": "code",
   "execution_count": 204,
   "id": "751447bb-a1eb-4ee1-b8af-3a48c7dadf20",
   "metadata": {
    "tags": []
   },
   "outputs": [],
   "source": [
    "data['ID_programme'] = data['ID_programme'].astype('category')"
   ]
  },
  {
   "cell_type": "code",
   "execution_count": 205,
   "id": "6998fa64-56bc-4987-b471-2bcfad729382",
   "metadata": {
    "tags": []
   },
   "outputs": [],
   "source": [
    "df_numerique = data.select_dtypes(include=['float64', 'int64'])"
   ]
  },
  {
   "cell_type": "code",
   "execution_count": 206,
   "id": "87578db7-f9f7-4732-a3de-c6d36610fb39",
   "metadata": {
    "tags": []
   },
   "outputs": [
    {
     "data": {
      "text/html": [
       "<div>\n",
       "<style scoped>\n",
       "    .dataframe tbody tr th:only-of-type {\n",
       "        vertical-align: middle;\n",
       "    }\n",
       "\n",
       "    .dataframe tbody tr th {\n",
       "        vertical-align: top;\n",
       "    }\n",
       "\n",
       "    .dataframe thead th {\n",
       "        text-align: right;\n",
       "    }\n",
       "</style>\n",
       "<table border=\"1\" class=\"dataframe\">\n",
       "  <thead>\n",
       "    <tr style=\"text-align: right;\">\n",
       "      <th></th>\n",
       "      <th>Durée</th>\n",
       "      <th>Audience</th>\n",
       "      <th>Part_marché</th>\n",
       "      <th>Score_qualité</th>\n",
       "      <th>Nombre_publicités</th>\n",
       "      <th>Revenus_publicitaires</th>\n",
       "      <th>Ratio_Audience_Publicité</th>\n",
       "    </tr>\n",
       "  </thead>\n",
       "  <tbody>\n",
       "    <tr>\n",
       "      <th>Durée</th>\n",
       "      <td>1.00</td>\n",
       "      <td>-0.01</td>\n",
       "      <td>-0.17</td>\n",
       "      <td>-0.12</td>\n",
       "      <td>-0.02</td>\n",
       "      <td>-0.08</td>\n",
       "      <td>-0.05</td>\n",
       "    </tr>\n",
       "    <tr>\n",
       "      <th>Audience</th>\n",
       "      <td>-0.01</td>\n",
       "      <td>1.00</td>\n",
       "      <td>-0.00</td>\n",
       "      <td>-0.09</td>\n",
       "      <td>-0.16</td>\n",
       "      <td>0.13</td>\n",
       "      <td>0.29</td>\n",
       "    </tr>\n",
       "    <tr>\n",
       "      <th>Part_marché</th>\n",
       "      <td>-0.17</td>\n",
       "      <td>-0.00</td>\n",
       "      <td>1.00</td>\n",
       "      <td>-0.18</td>\n",
       "      <td>0.05</td>\n",
       "      <td>-0.09</td>\n",
       "      <td>-0.04</td>\n",
       "    </tr>\n",
       "    <tr>\n",
       "      <th>Score_qualité</th>\n",
       "      <td>-0.12</td>\n",
       "      <td>-0.09</td>\n",
       "      <td>-0.18</td>\n",
       "      <td>1.00</td>\n",
       "      <td>0.13</td>\n",
       "      <td>-0.03</td>\n",
       "      <td>-0.07</td>\n",
       "    </tr>\n",
       "    <tr>\n",
       "      <th>Nombre_publicités</th>\n",
       "      <td>-0.02</td>\n",
       "      <td>-0.16</td>\n",
       "      <td>0.05</td>\n",
       "      <td>0.13</td>\n",
       "      <td>1.00</td>\n",
       "      <td>-0.18</td>\n",
       "      <td>0.04</td>\n",
       "    </tr>\n",
       "    <tr>\n",
       "      <th>Revenus_publicitaires</th>\n",
       "      <td>-0.08</td>\n",
       "      <td>0.13</td>\n",
       "      <td>-0.09</td>\n",
       "      <td>-0.03</td>\n",
       "      <td>-0.18</td>\n",
       "      <td>1.00</td>\n",
       "      <td>-0.52</td>\n",
       "    </tr>\n",
       "    <tr>\n",
       "      <th>Ratio_Audience_Publicité</th>\n",
       "      <td>-0.05</td>\n",
       "      <td>0.29</td>\n",
       "      <td>-0.04</td>\n",
       "      <td>-0.07</td>\n",
       "      <td>0.04</td>\n",
       "      <td>-0.52</td>\n",
       "      <td>1.00</td>\n",
       "    </tr>\n",
       "  </tbody>\n",
       "</table>\n",
       "</div>"
      ],
      "text/plain": [
       "                          Durée  Audience  Part_marché  Score_qualité  \\\n",
       "Durée                      1.00     -0.01        -0.17          -0.12   \n",
       "Audience                  -0.01      1.00        -0.00          -0.09   \n",
       "Part_marché               -0.17     -0.00         1.00          -0.18   \n",
       "Score_qualité             -0.12     -0.09        -0.18           1.00   \n",
       "Nombre_publicités         -0.02     -0.16         0.05           0.13   \n",
       "Revenus_publicitaires     -0.08      0.13        -0.09          -0.03   \n",
       "Ratio_Audience_Publicité  -0.05      0.29        -0.04          -0.07   \n",
       "\n",
       "                          Nombre_publicités  Revenus_publicitaires  \\\n",
       "Durée                                 -0.02                  -0.08   \n",
       "Audience                              -0.16                   0.13   \n",
       "Part_marché                            0.05                  -0.09   \n",
       "Score_qualité                          0.13                  -0.03   \n",
       "Nombre_publicités                      1.00                  -0.18   \n",
       "Revenus_publicitaires                 -0.18                   1.00   \n",
       "Ratio_Audience_Publicité               0.04                  -0.52   \n",
       "\n",
       "                          Ratio_Audience_Publicité  \n",
       "Durée                                        -0.05  \n",
       "Audience                                      0.29  \n",
       "Part_marché                                  -0.04  \n",
       "Score_qualité                                -0.07  \n",
       "Nombre_publicités                             0.04  \n",
       "Revenus_publicitaires                        -0.52  \n",
       "Ratio_Audience_Publicité                      1.00  "
      ]
     },
     "execution_count": 206,
     "metadata": {},
     "output_type": "execute_result"
    }
   ],
   "source": [
    "df_numerique.corr().round(2)"
   ]
  },
  {
   "cell_type": "code",
   "execution_count": 207,
   "id": "074bec14-6202-4b54-8ac4-d62509ba87d3",
   "metadata": {
    "tags": []
   },
   "outputs": [
    {
     "data": {
      "image/png": "[encoded data removed]",
      "text/plain": [
       "<Figure size 640x480 with 2 Axes>"
      ]
     },
     "metadata": {},
     "output_type": "display_data"
    }
   ],
   "source": [
    "# Création de la heatmap\n",
    "ax = sns.heatmap(df_numerique.corr(), annot=True, fmt=\".2f\")\n",
    "\n",
    "# Ajustement des étiquettes des colonnes en haut\n",
    "plt.xticks(rotation=40, ha='right')\n",
    "\n",
    "# Déplacement des labels des colonnes en haut\n",
    "ax.xaxis.set_label_position('top')\n",
    "\n",
    "# Ajustement de la disposition pour éviter le chevauchement\n",
    "plt.tight_layout()\n",
    "\n",
    "# Affichage de la heatmap\n",
    "plt.show()"
   ]
  },
  {
   "cell_type": "code",
   "execution_count": 209,
   "id": "91d5d01f-4a4d-4104-9fe5-b3db07603773",
   "metadata": {
    "tags": []
   },
   "outputs": [],
   "source": [
    "# On remarque que les corrélations présentes sont relativement faibles, sinon presque inexistantes. \n",
    "# Nous ne prenons pas en compte celles en rouge et noir car elles sont directement liées au ratio que l'on a caculé."
   ]
  },
  {
   "cell_type": "code",
   "execution_count": 197,
   "id": "66e65070-8b21-4a15-aa58-cd5bf45b96cd",
   "metadata": {},
   "outputs": [
    {
     "data": {
      "image/png": "[encoded data removed]",
      "text/plain": [
       "<Figure size 640x480 with 1 Axes>"
      ]
     },
     "metadata": {},
     "output_type": "display_data"
    }
   ],
   "source": [
    "# Nuage de points entre l'audience et les revenus publicitaires.\n",
    "\n",
    "sns.scatterplot(x='Audience', y='Revenus_publicitaires', data=data)\n",
    "plt.title('Relation entre Audience et Revenus Publicitaires')\n",
    "plt.xlabel('Audience')\n",
    "plt.ylabel('Revenus Publicitaires')\n",
    "plt.show()"
   ]
  },
  {
   "cell_type": "code",
   "execution_count": null,
   "id": "4184de27-1df3-40ed-8af3-37ef4975b4ad",
   "metadata": {},
   "outputs": [],
   "source": []
  }
 ],
 "metadata": {
  "kernelspec": {
   "display_name": "Python 3 (ipykernel)",
   "language": "python",
   "name": "python3"
  },
  "language_info": {
   "codemirror_mode": {
    "name": "ipython",
    "version": 3
   },
   "file_extension": ".py",
   "mimetype": "text/x-python",
   "name": "python",
   "nbconvert_exporter": "python",
   "pygments_lexer": "ipython3",
   "version": "3.11.3"
  }
 },
 "nbformat": 4,
 "nbformat_minor": 5
}
