{
 "cells": [
  {
   "cell_type": "markdown",
   "id": "3b3a3278-556a-417a-933d-91e2287110aa",
   "metadata": {},
   "source": [
    "# BioBIKE"
   ]
  },
  {
   "cell_type": "markdown",
   "id": "c947d01e-df1d-4229-a629-3b9aaef60752",
   "metadata": {},
   "source": [
    "<div class=\"alert alert-info\"><b><i>Contexte : </i></b>Vous êtes data analyst au sein de BioBike, une entreprise spécialisée dans la vente de vélos électriques. La direction souhaite optimiser les stocks en prévoyant les <b>ventes en fonction des conditions météorologiques et des tendances économiques</b>. Votre tâche est de développer un modèle de machine learning qui permettra de prédire les ventes mensuelles de vélos électriques basées sur des variables telles que la température moyenne du mois, le taux de chômage et l'indice de consommation des ménages.</div>"
   ]
  },
  {
   "cell_type": "markdown",
   "id": "0d4b3538-1615-463b-bdfc-a067130c7fe3",
   "metadata": {},
   "source": [
    "## Partie 1: Importation des Données, Exploration et Nettoyage"
   ]
  },
  {
   "cell_type": "markdown",
   "id": "c722f2f4-872a-4355-ba69-944f4780a8c7",
   "metadata": {},
   "source": [
    "### Importation des modules"
   ]
  },
  {
   "cell_type": "code",
   "execution_count": 194,
   "id": "e2e4dd62-41a9-4cdc-a3eb-fcec60fcc877",
   "metadata": {
    "tags": []
   },
   "outputs": [],
   "source": [
    "import numpy as np\n",
    "import pandas as pd\n",
    "\n",
    "import matplotlib.pyplot as plt\n",
    "import seaborn as sns\n",
    "\n",
    "import sklearn.linear_model as LinearRegression\n",
    "import sklearn.model_selection as train_test_split\n",
    "from sklearn.model_selection import train_test_split\n",
    "from sklearn.linear_model import LinearRegression \n",
    "from sklearn.metrics import mean_absolute_error, r2_score, mean_squared_error"
   ]
  },
  {
   "cell_type": "markdown",
   "id": "f3317ca9-901e-4152-898e-5e4cf738a684",
   "metadata": {},
   "source": [
    "### Chargement des données"
   ]
  },
  {
   "cell_type": "code",
   "execution_count": 195,
   "id": "fc5e9b4d-9303-4989-ab9b-7c3f4a6cd6a0",
   "metadata": {
    "tags": []
   },
   "outputs": [],
   "source": [
    "data = pd.read_excel(\"Bike_Sales_Data_.xlsx\")"
   ]
  },
  {
   "cell_type": "code",
   "execution_count": 196,
   "id": "b06da629-455b-42df-8f70-3490fb26541b",
   "metadata": {
    "tags": []
   },
   "outputs": [
    {
     "data": {
      "text/html": [
       "<div>\n",
       "<style scoped>\n",
       "    .dataframe tbody tr th:only-of-type {\n",
       "        vertical-align: middle;\n",
       "    }\n",
       "\n",
       "    .dataframe tbody tr th {\n",
       "        vertical-align: top;\n",
       "    }\n",
       "\n",
       "    .dataframe thead th {\n",
       "        text-align: right;\n",
       "    }\n",
       "</style>\n",
       "<table border=\"1\" class=\"dataframe\">\n",
       "  <thead>\n",
       "    <tr style=\"text-align: right;\">\n",
       "      <th></th>\n",
       "      <th>Date</th>\n",
       "      <th>Sales</th>\n",
       "      <th>Temperature</th>\n",
       "      <th>Unemployment_Rate</th>\n",
       "      <th>Consumer_Index</th>\n",
       "    </tr>\n",
       "  </thead>\n",
       "  <tbody>\n",
       "    <tr>\n",
       "      <th>0</th>\n",
       "      <td>2007-01-01</td>\n",
       "      <td>1439</td>\n",
       "      <td>19.9</td>\n",
       "      <td>8.1</td>\n",
       "      <td>97.0</td>\n",
       "    </tr>\n",
       "    <tr>\n",
       "      <th>1</th>\n",
       "      <td>2007-02-01</td>\n",
       "      <td>1412</td>\n",
       "      <td>22.8</td>\n",
       "      <td>7.2</td>\n",
       "      <td>98.6</td>\n",
       "    </tr>\n",
       "    <tr>\n",
       "      <th>2</th>\n",
       "      <td>2007-03-01</td>\n",
       "      <td>1431</td>\n",
       "      <td>22.1</td>\n",
       "      <td>8.1</td>\n",
       "      <td>95.6</td>\n",
       "    </tr>\n",
       "    <tr>\n",
       "      <th>3</th>\n",
       "      <td>2007-04-01</td>\n",
       "      <td>1388</td>\n",
       "      <td>20.7</td>\n",
       "      <td>8.4</td>\n",
       "      <td>91.3</td>\n",
       "    </tr>\n",
       "    <tr>\n",
       "      <th>4</th>\n",
       "      <td>2007-05-01</td>\n",
       "      <td>1374</td>\n",
       "      <td>23.5</td>\n",
       "      <td>6.9</td>\n",
       "      <td>96.4</td>\n",
       "    </tr>\n",
       "  </tbody>\n",
       "</table>\n",
       "</div>"
      ],
      "text/plain": [
       "        Date  Sales  Temperature  Unemployment_Rate  Consumer_Index\n",
       "0 2007-01-01   1439         19.9                8.1            97.0\n",
       "1 2007-02-01   1412         22.8                7.2            98.6\n",
       "2 2007-03-01   1431         22.1                8.1            95.6\n",
       "3 2007-04-01   1388         20.7                8.4            91.3\n",
       "4 2007-05-01   1374         23.5                6.9            96.4"
      ]
     },
     "execution_count": 196,
     "metadata": {},
     "output_type": "execute_result"
    }
   ],
   "source": [
    "data.head()"
   ]
  },
  {
   "cell_type": "code",
   "execution_count": 197,
   "id": "cce5e7d4-6e97-42f6-9908-decefdbeb45c",
   "metadata": {
    "tags": []
   },
   "outputs": [
    {
     "data": {
      "text/plain": [
       "(192, 5)"
      ]
     },
     "execution_count": 197,
     "metadata": {},
     "output_type": "execute_result"
    }
   ],
   "source": [
    "data.shape"
   ]
  },
  {
   "cell_type": "code",
   "execution_count": 198,
   "id": "9d7132ca-7782-4186-aab5-dfaa82b71213",
   "metadata": {
    "tags": []
   },
   "outputs": [
    {
     "name": "stdout",
     "output_type": "stream",
     "text": [
      "<class 'pandas.core.frame.DataFrame'>\n",
      "RangeIndex: 192 entries, 0 to 191\n",
      "Data columns (total 5 columns):\n",
      " #   Column             Non-Null Count  Dtype         \n",
      "---  ------             --------------  -----         \n",
      " 0   Date               192 non-null    datetime64[ns]\n",
      " 1   Sales              192 non-null    int64         \n",
      " 2   Temperature        192 non-null    float64       \n",
      " 3   Unemployment_Rate  192 non-null    float64       \n",
      " 4   Consumer_Index     192 non-null    float64       \n",
      "dtypes: datetime64[ns](1), float64(3), int64(1)\n",
      "memory usage: 7.6 KB\n"
     ]
    }
   ],
   "source": [
    "data.info()"
   ]
  },
  {
   "cell_type": "markdown",
   "id": "424c4826-732c-4a85-928e-23b34d39f11f",
   "metadata": {},
   "source": [
    "<div class=\"alert alert-success\">\n",
    "    La présence d'une colonne \"Date\" dans notre dataset soulève <b>certains défis</b>. Si une tendance mensuelle se dégage, il pourrait être difficile de l'intégrer efficacement dans notre modèle de régression, car la variable \"Date\" ne peut pas être utilisée directement.<br>\n",
    "C'est la raison pour laquelle il est préférable de visualiser les <b>tendances</b> qui se dégagent, avant toute chose.\n",
    "</div>"
   ]
  },
  {
   "cell_type": "markdown",
   "id": "05eee256-21d0-49b4-881b-dc1df973f9ea",
   "metadata": {},
   "source": [
    "### Gestion des tendances mensuelles"
   ]
  },
  {
   "cell_type": "code",
   "execution_count": 199,
   "id": "ddf814c3-3407-418a-83ba-1a3dc859ce4b",
   "metadata": {
    "tags": []
   },
   "outputs": [],
   "source": [
    "# Création d'une colonne où l'on a extrait les mois.\n",
    "mois = data['Date'].map(lambda x: x.month)\n",
    "data['Months'] = mois"
   ]
  },
  {
   "cell_type": "code",
   "execution_count": 200,
   "id": "a65688d9-46b6-4eee-8b9f-60d964a4401d",
   "metadata": {
    "tags": []
   },
   "outputs": [],
   "source": [
    "data['Year'] = data['Date'].dt.year"
   ]
  },
  {
   "cell_type": "code",
   "execution_count": 201,
   "id": "5df7ab81-3854-4f84-92a9-f365f29ac483",
   "metadata": {
    "tags": []
   },
   "outputs": [
    {
     "data": {
      "text/html": [
       "<div>\n",
       "<style scoped>\n",
       "    .dataframe tbody tr th:only-of-type {\n",
       "        vertical-align: middle;\n",
       "    }\n",
       "\n",
       "    .dataframe tbody tr th {\n",
       "        vertical-align: top;\n",
       "    }\n",
       "\n",
       "    .dataframe thead th {\n",
       "        text-align: right;\n",
       "    }\n",
       "</style>\n",
       "<table border=\"1\" class=\"dataframe\">\n",
       "  <thead>\n",
       "    <tr style=\"text-align: right;\">\n",
       "      <th></th>\n",
       "      <th>Date</th>\n",
       "      <th>Sales</th>\n",
       "      <th>Temperature</th>\n",
       "      <th>Unemployment_Rate</th>\n",
       "      <th>Consumer_Index</th>\n",
       "      <th>Months</th>\n",
       "      <th>Year</th>\n",
       "    </tr>\n",
       "  </thead>\n",
       "  <tbody>\n",
       "    <tr>\n",
       "      <th>0</th>\n",
       "      <td>2007-01-01</td>\n",
       "      <td>1439</td>\n",
       "      <td>19.9</td>\n",
       "      <td>8.1</td>\n",
       "      <td>97.0</td>\n",
       "      <td>1</td>\n",
       "      <td>2007</td>\n",
       "    </tr>\n",
       "    <tr>\n",
       "      <th>1</th>\n",
       "      <td>2007-02-01</td>\n",
       "      <td>1412</td>\n",
       "      <td>22.8</td>\n",
       "      <td>7.2</td>\n",
       "      <td>98.6</td>\n",
       "      <td>2</td>\n",
       "      <td>2007</td>\n",
       "    </tr>\n",
       "    <tr>\n",
       "      <th>2</th>\n",
       "      <td>2007-03-01</td>\n",
       "      <td>1431</td>\n",
       "      <td>22.1</td>\n",
       "      <td>8.1</td>\n",
       "      <td>95.6</td>\n",
       "      <td>3</td>\n",
       "      <td>2007</td>\n",
       "    </tr>\n",
       "    <tr>\n",
       "      <th>3</th>\n",
       "      <td>2007-04-01</td>\n",
       "      <td>1388</td>\n",
       "      <td>20.7</td>\n",
       "      <td>8.4</td>\n",
       "      <td>91.3</td>\n",
       "      <td>4</td>\n",
       "      <td>2007</td>\n",
       "    </tr>\n",
       "    <tr>\n",
       "      <th>4</th>\n",
       "      <td>2007-05-01</td>\n",
       "      <td>1374</td>\n",
       "      <td>23.5</td>\n",
       "      <td>6.9</td>\n",
       "      <td>96.4</td>\n",
       "      <td>5</td>\n",
       "      <td>2007</td>\n",
       "    </tr>\n",
       "  </tbody>\n",
       "</table>\n",
       "</div>"
      ],
      "text/plain": [
       "        Date  Sales  Temperature  Unemployment_Rate  Consumer_Index  Months  \\\n",
       "0 2007-01-01   1439         19.9                8.1            97.0       1   \n",
       "1 2007-02-01   1412         22.8                7.2            98.6       2   \n",
       "2 2007-03-01   1431         22.1                8.1            95.6       3   \n",
       "3 2007-04-01   1388         20.7                8.4            91.3       4   \n",
       "4 2007-05-01   1374         23.5                6.9            96.4       5   \n",
       "\n",
       "   Year  \n",
       "0  2007  \n",
       "1  2007  \n",
       "2  2007  \n",
       "3  2007  \n",
       "4  2007  "
      ]
     },
     "execution_count": 201,
     "metadata": {},
     "output_type": "execute_result"
    }
   ],
   "source": [
    "data.head()"
   ]
  },
  {
   "cell_type": "code",
   "execution_count": 202,
   "id": "d0cc85a0-7197-4ff5-94a2-e049451327f1",
   "metadata": {
    "tags": []
   },
   "outputs": [
    {
     "data": {
      "text/plain": [
       "array([ 1,  2,  3,  4,  5,  6,  7,  8,  9, 10, 11, 12])"
      ]
     },
     "execution_count": 202,
     "metadata": {},
     "output_type": "execute_result"
    }
   ],
   "source": [
    "mois.unique()"
   ]
  },
  {
   "cell_type": "markdown",
   "id": "1630db2d-c249-4ce9-bbe6-4a290ce727c2",
   "metadata": {},
   "source": [
    "Nous vérifions que les données comprennent bien tous les mois."
   ]
  },
  {
   "cell_type": "code",
   "execution_count": 203,
   "id": "7c3063f9-79c1-4e8b-b61f-47938ee72c08",
   "metadata": {
    "tags": []
   },
   "outputs": [
    {
     "data": {
      "text/plain": [
       "Text(0.5, 1.0, 'Ventes mensuelles')"
      ]
     },
     "execution_count": 203,
     "metadata": {},
     "output_type": "execute_result"
    },
    {
     "data": {
      "text/plain": [
       "<Figure size 800x600 with 0 Axes>"
      ]
     },
     "metadata": {},
     "output_type": "display_data"
    },
    {
     "data": {
      "image/png": "[encoded data removed]",
      "text/plain": [
       "<Figure size 640x480 with 1 Axes>"
      ]
     },
     "metadata": {},
     "output_type": "display_data"
    }
   ],
   "source": [
    "plt.figure(figsize=(8,6))\n",
    "data.plot.scatter('Months', 'Sales')\n",
    "plt.title('Ventes mensuelles', fontsize=15, fontweight='bold')"
   ]
  },
  {
   "cell_type": "markdown",
   "id": "522e9e70-9128-4e2a-be23-0865cfca7041",
   "metadata": {},
   "source": [
    "<div class=\"alert alert-success\">\n",
    "Les mois n'ont pas de schéma significatif (pas de saisonnalité ou de cycle apparent), cela signifie que les variations mensuelles ne sont pas déterminantes pour les ventes.<br>Nous pourrons donc appliquer notre modèle de régression linéaire sans cette préocupation.<br>Faisons la même chose au cas où pour l'année.\n",
    "</div>"
   ]
  },
  {
   "cell_type": "code",
   "execution_count": 204,
   "id": "73d6a55b-8209-4542-b55e-22f8cd663b36",
   "metadata": {
    "tags": []
   },
   "outputs": [
    {
     "data": {
      "text/plain": [
       "Text(0.5, 1.0, 'Ventes Annuelles')"
      ]
     },
     "execution_count": 204,
     "metadata": {},
     "output_type": "execute_result"
    },
    {
     "data": {
      "text/plain": [
       "<Figure size 800x600 with 0 Axes>"
      ]
     },
     "metadata": {},
     "output_type": "display_data"
    },
    {
     "data": {
      "image/png": "[encoded data removed]",
      "text/plain": [
       "<Figure size 640x480 with 1 Axes>"
      ]
     },
     "metadata": {},
     "output_type": "display_data"
    }
   ],
   "source": [
    "plt.figure(figsize=(8,6))\n",
    "data.plot.scatter('Date', 'Sales')\n",
    "plt.title('Ventes Annuelles', fontsize=15, fontweight='bold')"
   ]
  },
  {
   "cell_type": "markdown",
   "id": "4ff71e84-357d-4d37-a106-8e1ad8407258",
   "metadata": {},
   "source": [
    "<div class=\"alert alert-success\">\n",
    "Le graphique des ventes par rapport au temps ressemble à une <b>courbe sinusoïdale</b> avec trois pics. Cela signifie que les ventes suivent un certain <b>cycle au fil du temps</b>, avec des périodes régulières où elles augmentent et diminuent. Cela suggère aussi que les ventes varient de manière <b>prévisible</b> au cours du temps.<br>\n",
    "\n",
    "Le fait que les ventes montrent un schéma régulier en fonction du temps indique clairement une <b>dépendance au temps</b>. Cela signifie que les variations des ventes ne sont pas aléatoires mais plutôt influencées par des facteurs temporels récurrents.<br>Pour le moment, nous n'allons pas nous en occuper du aux résultats du graphique précédent. Nous essaierons éventuellement de faire quelque chose à son propos après avoir construit un premier modèle.\n",
    "</div>"
   ]
  },
  {
   "cell_type": "markdown",
   "id": "86597d84-ae4c-45b2-81a4-ce43eda8aefa",
   "metadata": {},
   "source": [
    "Pour le moment, créons un deuxième dataframe sans les dates."
   ]
  },
  {
   "cell_type": "code",
   "execution_count": 205,
   "id": "76c77203-6042-4d80-8f78-12a71a7d6b71",
   "metadata": {
    "tags": []
   },
   "outputs": [
    {
     "data": {
      "text/html": [
       "<div>\n",
       "<style scoped>\n",
       "    .dataframe tbody tr th:only-of-type {\n",
       "        vertical-align: middle;\n",
       "    }\n",
       "\n",
       "    .dataframe tbody tr th {\n",
       "        vertical-align: top;\n",
       "    }\n",
       "\n",
       "    .dataframe thead th {\n",
       "        text-align: right;\n",
       "    }\n",
       "</style>\n",
       "<table border=\"1\" class=\"dataframe\">\n",
       "  <thead>\n",
       "    <tr style=\"text-align: right;\">\n",
       "      <th></th>\n",
       "      <th>Sales</th>\n",
       "      <th>Temperature</th>\n",
       "      <th>Unemployment_Rate</th>\n",
       "      <th>Consumer_Index</th>\n",
       "    </tr>\n",
       "  </thead>\n",
       "  <tbody>\n",
       "    <tr>\n",
       "      <th>0</th>\n",
       "      <td>1439</td>\n",
       "      <td>19.9</td>\n",
       "      <td>8.1</td>\n",
       "      <td>97.0</td>\n",
       "    </tr>\n",
       "    <tr>\n",
       "      <th>1</th>\n",
       "      <td>1412</td>\n",
       "      <td>22.8</td>\n",
       "      <td>7.2</td>\n",
       "      <td>98.6</td>\n",
       "    </tr>\n",
       "    <tr>\n",
       "      <th>2</th>\n",
       "      <td>1431</td>\n",
       "      <td>22.1</td>\n",
       "      <td>8.1</td>\n",
       "      <td>95.6</td>\n",
       "    </tr>\n",
       "    <tr>\n",
       "      <th>3</th>\n",
       "      <td>1388</td>\n",
       "      <td>20.7</td>\n",
       "      <td>8.4</td>\n",
       "      <td>91.3</td>\n",
       "    </tr>\n",
       "    <tr>\n",
       "      <th>4</th>\n",
       "      <td>1374</td>\n",
       "      <td>23.5</td>\n",
       "      <td>6.9</td>\n",
       "      <td>96.4</td>\n",
       "    </tr>\n",
       "  </tbody>\n",
       "</table>\n",
       "</div>"
      ],
      "text/plain": [
       "   Sales  Temperature  Unemployment_Rate  Consumer_Index\n",
       "0   1439         19.9                8.1            97.0\n",
       "1   1412         22.8                7.2            98.6\n",
       "2   1431         22.1                8.1            95.6\n",
       "3   1388         20.7                8.4            91.3\n",
       "4   1374         23.5                6.9            96.4"
      ]
     },
     "execution_count": 205,
     "metadata": {},
     "output_type": "execute_result"
    }
   ],
   "source": [
    "data_no_time = data[[\"Sales\",\"Temperature\",\"Unemployment_Rate\",\"Consumer_Index\"]]\n",
    "data_no_time.head()"
   ]
  },
  {
   "cell_type": "markdown",
   "id": "8255b588-1546-4fab-af9a-765d2e42e164",
   "metadata": {},
   "source": [
    "### Statistiques descriptives"
   ]
  },
  {
   "cell_type": "code",
   "execution_count": 206,
   "id": "587eedb8-0f98-4c1b-878b-5eeba2bd7188",
   "metadata": {
    "tags": []
   },
   "outputs": [
    {
     "data": {
      "text/html": [
       "<div>\n",
       "<style scoped>\n",
       "    .dataframe tbody tr th:only-of-type {\n",
       "        vertical-align: middle;\n",
       "    }\n",
       "\n",
       "    .dataframe tbody tr th {\n",
       "        vertical-align: top;\n",
       "    }\n",
       "\n",
       "    .dataframe thead th {\n",
       "        text-align: right;\n",
       "    }\n",
       "</style>\n",
       "<table border=\"1\" class=\"dataframe\">\n",
       "  <thead>\n",
       "    <tr style=\"text-align: right;\">\n",
       "      <th></th>\n",
       "      <th>Sales</th>\n",
       "      <th>Temperature</th>\n",
       "      <th>Unemployment_Rate</th>\n",
       "      <th>Consumer_Index</th>\n",
       "    </tr>\n",
       "  </thead>\n",
       "  <tbody>\n",
       "    <tr>\n",
       "      <th>count</th>\n",
       "      <td>192.00</td>\n",
       "      <td>192.00</td>\n",
       "      <td>192.00</td>\n",
       "      <td>192.00</td>\n",
       "    </tr>\n",
       "    <tr>\n",
       "      <th>mean</th>\n",
       "      <td>1517.37</td>\n",
       "      <td>21.70</td>\n",
       "      <td>6.52</td>\n",
       "      <td>5539.50</td>\n",
       "    </tr>\n",
       "    <tr>\n",
       "      <th>std</th>\n",
       "      <td>357.10</td>\n",
       "      <td>24.06</td>\n",
       "      <td>0.97</td>\n",
       "      <td>75369.62</td>\n",
       "    </tr>\n",
       "    <tr>\n",
       "      <th>min</th>\n",
       "      <td>862.00</td>\n",
       "      <td>2.00</td>\n",
       "      <td>4.20</td>\n",
       "      <td>90.50</td>\n",
       "    </tr>\n",
       "    <tr>\n",
       "      <th>25%</th>\n",
       "      <td>1182.00</td>\n",
       "      <td>9.78</td>\n",
       "      <td>5.70</td>\n",
       "      <td>97.07</td>\n",
       "    </tr>\n",
       "    <tr>\n",
       "      <th>50%</th>\n",
       "      <td>1522.00</td>\n",
       "      <td>19.75</td>\n",
       "      <td>6.50</td>\n",
       "      <td>100.20</td>\n",
       "    </tr>\n",
       "    <tr>\n",
       "      <th>75%</th>\n",
       "      <td>1834.00</td>\n",
       "      <td>30.40</td>\n",
       "      <td>7.30</td>\n",
       "      <td>103.10</td>\n",
       "    </tr>\n",
       "    <tr>\n",
       "      <th>max</th>\n",
       "      <td>2198.00</td>\n",
       "      <td>316.80</td>\n",
       "      <td>8.70</td>\n",
       "      <td>1044452.20</td>\n",
       "    </tr>\n",
       "  </tbody>\n",
       "</table>\n",
       "</div>"
      ],
      "text/plain": [
       "         Sales  Temperature  Unemployment_Rate  Consumer_Index\n",
       "count   192.00       192.00             192.00          192.00\n",
       "mean   1517.37        21.70               6.52         5539.50\n",
       "std     357.10        24.06               0.97        75369.62\n",
       "min     862.00         2.00               4.20           90.50\n",
       "25%    1182.00         9.78               5.70           97.07\n",
       "50%    1522.00        19.75               6.50          100.20\n",
       "75%    1834.00        30.40               7.30          103.10\n",
       "max    2198.00       316.80               8.70      1044452.20"
      ]
     },
     "execution_count": 206,
     "metadata": {},
     "output_type": "execute_result"
    }
   ],
   "source": [
    "data_no_time.describe().round(2)"
   ]
  },
  {
   "cell_type": "markdown",
   "id": "38308870-625f-4784-9e74-01f7e39fceab",
   "metadata": {},
   "source": [
    "<div class=\"alert alert-success\">\n",
    "    <b>Remarques</b><br>\n",
    "On observe que l'index de consommation maximale (1 044 452.20) dépasse largement la valeur du 75e percentile (103.10). De plus, cette même ligne présente une autre valeur aberrante avec une température de 316°, non seulement très éloigné de la valeur du 75e percentile (~30°), mais également impossible (à moins d'être dans une zone volcanique).\n",
    "</div>"
   ]
  },
  {
   "cell_type": "markdown",
   "id": "974d5893-4ff9-4990-b553-07f90016adfc",
   "metadata": {},
   "source": [
    "### Outliers"
   ]
  },
  {
   "cell_type": "markdown",
   "id": "19cfc404-5f0a-4cb2-92f2-42a73f7c5ab3",
   "metadata": {
    "tags": []
   },
   "source": [
    "#### Visualisation des Outliers"
   ]
  },
  {
   "cell_type": "code",
   "execution_count": 207,
   "id": "6762c84e-1000-4793-9e4b-7e5590753d3f",
   "metadata": {
    "tags": []
   },
   "outputs": [
    {
     "data": {
      "image/png": "[encoded data removed]",
      "text/plain": [
       "<Figure size 700x600 with 1 Axes>"
      ]
     },
     "metadata": {},
     "output_type": "display_data"
    },
    {
     "data": {
      "image/png": "[encoded data removed]",
      "text/plain": [
       "<Figure size 700x600 with 1 Axes>"
      ]
     },
     "metadata": {},
     "output_type": "display_data"
    }
   ],
   "source": [
    "for col in [\"Temperature\", \"Consumer_Index\"]:\n",
    "    plt.figure(figsize=(7,6))\n",
    "    plt.subplot(3, 3, 3)\n",
    "    sns.boxplot(x=data_no_time[col])\n",
    "    plt.title(f'Boîte à moustaches de {col}')\n",
    "    plt.show()"
   ]
  },
  {
   "cell_type": "markdown",
   "id": "d0f56420-73e5-4145-b840-010cbd817757",
   "metadata": {},
   "source": [
    "#### Identification des Outliers"
   ]
  },
  {
   "cell_type": "code",
   "execution_count": 208,
   "id": "2fc80fef-e035-42e8-b6f4-f611f4f7ef46",
   "metadata": {
    "tags": []
   },
   "outputs": [
    {
     "data": {
      "text/html": [
       "<div>\n",
       "<style scoped>\n",
       "    .dataframe tbody tr th:only-of-type {\n",
       "        vertical-align: middle;\n",
       "    }\n",
       "\n",
       "    .dataframe tbody tr th {\n",
       "        vertical-align: top;\n",
       "    }\n",
       "\n",
       "    .dataframe thead th {\n",
       "        text-align: right;\n",
       "    }\n",
       "</style>\n",
       "<table border=\"1\" class=\"dataframe\">\n",
       "  <thead>\n",
       "    <tr style=\"text-align: right;\">\n",
       "      <th></th>\n",
       "      <th>Sales</th>\n",
       "      <th>Temperature</th>\n",
       "      <th>Unemployment_Rate</th>\n",
       "      <th>Consumer_Index</th>\n",
       "    </tr>\n",
       "  </thead>\n",
       "  <tbody>\n",
       "    <tr>\n",
       "      <th>87</th>\n",
       "      <td>1163</td>\n",
       "      <td>24.4</td>\n",
       "      <td>6.5</td>\n",
       "      <td>1044452.2</td>\n",
       "    </tr>\n",
       "    <tr>\n",
       "      <th>175</th>\n",
       "      <td>2105</td>\n",
       "      <td>9.7</td>\n",
       "      <td>4.8</td>\n",
       "      <td>113.7</td>\n",
       "    </tr>\n",
       "    <tr>\n",
       "      <th>184</th>\n",
       "      <td>1966</td>\n",
       "      <td>15.8</td>\n",
       "      <td>5.5</td>\n",
       "      <td>110.3</td>\n",
       "    </tr>\n",
       "    <tr>\n",
       "      <th>157</th>\n",
       "      <td>1337</td>\n",
       "      <td>8.3</td>\n",
       "      <td>5.2</td>\n",
       "      <td>109.4</td>\n",
       "    </tr>\n",
       "    <tr>\n",
       "      <th>167</th>\n",
       "      <td>1682</td>\n",
       "      <td>10.2</td>\n",
       "      <td>5.8</td>\n",
       "      <td>108.6</td>\n",
       "    </tr>\n",
       "    <tr>\n",
       "      <th>...</th>\n",
       "      <td>...</td>\n",
       "      <td>...</td>\n",
       "      <td>...</td>\n",
       "      <td>...</td>\n",
       "    </tr>\n",
       "    <tr>\n",
       "      <th>21</th>\n",
       "      <td>1246</td>\n",
       "      <td>28.7</td>\n",
       "      <td>8.3</td>\n",
       "      <td>92.4</td>\n",
       "    </tr>\n",
       "    <tr>\n",
       "      <th>47</th>\n",
       "      <td>2021</td>\n",
       "      <td>34.7</td>\n",
       "      <td>7.2</td>\n",
       "      <td>92.2</td>\n",
       "    </tr>\n",
       "    <tr>\n",
       "      <th>99</th>\n",
       "      <td>1740</td>\n",
       "      <td>20.3</td>\n",
       "      <td>6.9</td>\n",
       "      <td>91.6</td>\n",
       "    </tr>\n",
       "    <tr>\n",
       "      <th>3</th>\n",
       "      <td>1388</td>\n",
       "      <td>20.7</td>\n",
       "      <td>8.4</td>\n",
       "      <td>91.3</td>\n",
       "    </tr>\n",
       "    <tr>\n",
       "      <th>15</th>\n",
       "      <td>1121</td>\n",
       "      <td>28.1</td>\n",
       "      <td>7.3</td>\n",
       "      <td>90.5</td>\n",
       "    </tr>\n",
       "  </tbody>\n",
       "</table>\n",
       "<p>192 rows × 4 columns</p>\n",
       "</div>"
      ],
      "text/plain": [
       "     Sales  Temperature  Unemployment_Rate  Consumer_Index\n",
       "87    1163         24.4                6.5       1044452.2\n",
       "175   2105          9.7                4.8           113.7\n",
       "184   1966         15.8                5.5           110.3\n",
       "157   1337          8.3                5.2           109.4\n",
       "167   1682         10.2                5.8           108.6\n",
       "..     ...          ...                ...             ...\n",
       "21    1246         28.7                8.3            92.4\n",
       "47    2021         34.7                7.2            92.2\n",
       "99    1740         20.3                6.9            91.6\n",
       "3     1388         20.7                8.4            91.3\n",
       "15    1121         28.1                7.3            90.5\n",
       "\n",
       "[192 rows x 4 columns]"
      ]
     },
     "execution_count": 208,
     "metadata": {},
     "output_type": "execute_result"
    }
   ],
   "source": [
    "data_no_time.sort_values(by=\"Consumer_Index\", ascending=False)"
   ]
  },
  {
   "cell_type": "code",
   "execution_count": 209,
   "id": "98671cb2-1db0-40c4-b2bc-bcdb374c30e4",
   "metadata": {
    "tags": []
   },
   "outputs": [
    {
     "data": {
      "text/html": [
       "<div>\n",
       "<style scoped>\n",
       "    .dataframe tbody tr th:only-of-type {\n",
       "        vertical-align: middle;\n",
       "    }\n",
       "\n",
       "    .dataframe tbody tr th {\n",
       "        vertical-align: top;\n",
       "    }\n",
       "\n",
       "    .dataframe thead th {\n",
       "        text-align: right;\n",
       "    }\n",
       "</style>\n",
       "<table border=\"1\" class=\"dataframe\">\n",
       "  <thead>\n",
       "    <tr style=\"text-align: right;\">\n",
       "      <th></th>\n",
       "      <th>Sales</th>\n",
       "      <th>Temperature</th>\n",
       "      <th>Unemployment_Rate</th>\n",
       "      <th>Consumer_Index</th>\n",
       "    </tr>\n",
       "  </thead>\n",
       "  <tbody>\n",
       "    <tr>\n",
       "      <th>182</th>\n",
       "      <td>1953</td>\n",
       "      <td>316.8</td>\n",
       "      <td>5.3</td>\n",
       "      <td>107.3</td>\n",
       "    </tr>\n",
       "    <tr>\n",
       "      <th>46</th>\n",
       "      <td>1962</td>\n",
       "      <td>39.2</td>\n",
       "      <td>7.3</td>\n",
       "      <td>93.2</td>\n",
       "    </tr>\n",
       "    <tr>\n",
       "      <th>60</th>\n",
       "      <td>1797</td>\n",
       "      <td>38.6</td>\n",
       "      <td>7.6</td>\n",
       "      <td>100.5</td>\n",
       "    </tr>\n",
       "    <tr>\n",
       "      <th>53</th>\n",
       "      <td>1953</td>\n",
       "      <td>38.6</td>\n",
       "      <td>7.7</td>\n",
       "      <td>98.3</td>\n",
       "    </tr>\n",
       "    <tr>\n",
       "      <th>48</th>\n",
       "      <td>2025</td>\n",
       "      <td>37.2</td>\n",
       "      <td>7.7</td>\n",
       "      <td>92.9</td>\n",
       "    </tr>\n",
       "    <tr>\n",
       "      <th>...</th>\n",
       "      <td>...</td>\n",
       "      <td>...</td>\n",
       "      <td>...</td>\n",
       "      <td>...</td>\n",
       "    </tr>\n",
       "    <tr>\n",
       "      <th>133</th>\n",
       "      <td>1299</td>\n",
       "      <td>3.9</td>\n",
       "      <td>5.7</td>\n",
       "      <td>97.9</td>\n",
       "    </tr>\n",
       "    <tr>\n",
       "      <th>154</th>\n",
       "      <td>1224</td>\n",
       "      <td>3.4</td>\n",
       "      <td>6.2</td>\n",
       "      <td>96.0</td>\n",
       "    </tr>\n",
       "    <tr>\n",
       "      <th>135</th>\n",
       "      <td>1214</td>\n",
       "      <td>2.9</td>\n",
       "      <td>5.6</td>\n",
       "      <td>102.0</td>\n",
       "    </tr>\n",
       "    <tr>\n",
       "      <th>152</th>\n",
       "      <td>1110</td>\n",
       "      <td>2.8</td>\n",
       "      <td>5.1</td>\n",
       "      <td>104.3</td>\n",
       "    </tr>\n",
       "    <tr>\n",
       "      <th>138</th>\n",
       "      <td>1072</td>\n",
       "      <td>2.0</td>\n",
       "      <td>6.5</td>\n",
       "      <td>100.0</td>\n",
       "    </tr>\n",
       "  </tbody>\n",
       "</table>\n",
       "<p>192 rows × 4 columns</p>\n",
       "</div>"
      ],
      "text/plain": [
       "     Sales  Temperature  Unemployment_Rate  Consumer_Index\n",
       "182   1953        316.8                5.3           107.3\n",
       "46    1962         39.2                7.3            93.2\n",
       "60    1797         38.6                7.6           100.5\n",
       "53    1953         38.6                7.7            98.3\n",
       "48    2025         37.2                7.7            92.9\n",
       "..     ...          ...                ...             ...\n",
       "133   1299          3.9                5.7            97.9\n",
       "154   1224          3.4                6.2            96.0\n",
       "135   1214          2.9                5.6           102.0\n",
       "152   1110          2.8                5.1           104.3\n",
       "138   1072          2.0                6.5           100.0\n",
       "\n",
       "[192 rows x 4 columns]"
      ]
     },
     "execution_count": 209,
     "metadata": {},
     "output_type": "execute_result"
    }
   ],
   "source": [
    "data_no_time.sort_values(by=\"Temperature\", ascending=False)"
   ]
  },
  {
   "cell_type": "markdown",
   "id": "f38b831b-9824-4e38-a8b9-23e303549c62",
   "metadata": {},
   "source": [
    "<div class=\"alert alert-success\">\n",
    "    <b>Remarques</b><br>\n",
    "Il s'agit donc de deux indexes différents. Supprimons les.\n",
    "</div>"
   ]
  },
  {
   "cell_type": "markdown",
   "id": "dbad6d08-9d0f-4eda-9394-a580044f9d69",
   "metadata": {},
   "source": [
    "### Suppression des Outliers et Changements"
   ]
  },
  {
   "cell_type": "code",
   "execution_count": 210,
   "id": "0a9bb51d-fce6-4492-84bf-c1810d259d85",
   "metadata": {
    "tags": []
   },
   "outputs": [],
   "source": [
    "data_no_time = data_no_time.drop(index=[182, 87])"
   ]
  },
  {
   "cell_type": "code",
   "execution_count": 211,
   "id": "f5cf8af5-2d82-4e57-aec4-29b330f0fbde",
   "metadata": {
    "tags": []
   },
   "outputs": [
    {
     "data": {
      "image/png": "[encoded data removed]",
      "text/plain": [
       "<Figure size 700x600 with 1 Axes>"
      ]
     },
     "metadata": {},
     "output_type": "display_data"
    },
    {
     "data": {
      "image/png": "[encoded data removed]",
      "text/plain": [
       "<Figure size 700x600 with 1 Axes>"
      ]
     },
     "metadata": {},
     "output_type": "display_data"
    }
   ],
   "source": [
    "for col in [\"Temperature\", \"Consumer_Index\"]:\n",
    "    plt.figure(figsize=(7,6))\n",
    "    plt.subplot(3, 3, 3)\n",
    "    sns.boxplot(x=data_no_time[col])\n",
    "    plt.title(f'Boîte à moustaches de {col}')\n",
    "    plt.show()"
   ]
  },
  {
   "cell_type": "markdown",
   "id": "26de3341-efb2-4984-8540-1a10e4b90716",
   "metadata": {},
   "source": [
    "On observe que la distribution de l'indice de confiance des consommateurs est fortement concentrée autour de 100. Un outlier est également visible. Examinons-le de plus près."
   ]
  },
  {
   "cell_type": "code",
   "execution_count": 212,
   "id": "15f30f6d-3674-43f8-8f49-924886a0da76",
   "metadata": {
    "tags": []
   },
   "outputs": [
    {
     "data": {
      "text/html": [
       "<div>\n",
       "<style scoped>\n",
       "    .dataframe tbody tr th:only-of-type {\n",
       "        vertical-align: middle;\n",
       "    }\n",
       "\n",
       "    .dataframe tbody tr th {\n",
       "        vertical-align: top;\n",
       "    }\n",
       "\n",
       "    .dataframe thead th {\n",
       "        text-align: right;\n",
       "    }\n",
       "</style>\n",
       "<table border=\"1\" class=\"dataframe\">\n",
       "  <thead>\n",
       "    <tr style=\"text-align: right;\">\n",
       "      <th></th>\n",
       "      <th>Sales</th>\n",
       "      <th>Temperature</th>\n",
       "      <th>Unemployment_Rate</th>\n",
       "      <th>Consumer_Index</th>\n",
       "    </tr>\n",
       "  </thead>\n",
       "  <tbody>\n",
       "    <tr>\n",
       "      <th>175</th>\n",
       "      <td>2105</td>\n",
       "      <td>9.7</td>\n",
       "      <td>4.8</td>\n",
       "      <td>113.7</td>\n",
       "    </tr>\n",
       "    <tr>\n",
       "      <th>184</th>\n",
       "      <td>1966</td>\n",
       "      <td>15.8</td>\n",
       "      <td>5.5</td>\n",
       "      <td>110.3</td>\n",
       "    </tr>\n",
       "    <tr>\n",
       "      <th>157</th>\n",
       "      <td>1337</td>\n",
       "      <td>8.3</td>\n",
       "      <td>5.2</td>\n",
       "      <td>109.4</td>\n",
       "    </tr>\n",
       "    <tr>\n",
       "      <th>167</th>\n",
       "      <td>1682</td>\n",
       "      <td>10.2</td>\n",
       "      <td>5.8</td>\n",
       "      <td>108.6</td>\n",
       "    </tr>\n",
       "    <tr>\n",
       "      <th>187</th>\n",
       "      <td>1732</td>\n",
       "      <td>16.0</td>\n",
       "      <td>5.2</td>\n",
       "      <td>108.6</td>\n",
       "    </tr>\n",
       "    <tr>\n",
       "      <th>...</th>\n",
       "      <td>...</td>\n",
       "      <td>...</td>\n",
       "      <td>...</td>\n",
       "      <td>...</td>\n",
       "    </tr>\n",
       "    <tr>\n",
       "      <th>21</th>\n",
       "      <td>1246</td>\n",
       "      <td>28.7</td>\n",
       "      <td>8.3</td>\n",
       "      <td>92.4</td>\n",
       "    </tr>\n",
       "    <tr>\n",
       "      <th>47</th>\n",
       "      <td>2021</td>\n",
       "      <td>34.7</td>\n",
       "      <td>7.2</td>\n",
       "      <td>92.2</td>\n",
       "    </tr>\n",
       "    <tr>\n",
       "      <th>99</th>\n",
       "      <td>1740</td>\n",
       "      <td>20.3</td>\n",
       "      <td>6.9</td>\n",
       "      <td>91.6</td>\n",
       "    </tr>\n",
       "    <tr>\n",
       "      <th>3</th>\n",
       "      <td>1388</td>\n",
       "      <td>20.7</td>\n",
       "      <td>8.4</td>\n",
       "      <td>91.3</td>\n",
       "    </tr>\n",
       "    <tr>\n",
       "      <th>15</th>\n",
       "      <td>1121</td>\n",
       "      <td>28.1</td>\n",
       "      <td>7.3</td>\n",
       "      <td>90.5</td>\n",
       "    </tr>\n",
       "  </tbody>\n",
       "</table>\n",
       "<p>190 rows × 4 columns</p>\n",
       "</div>"
      ],
      "text/plain": [
       "     Sales  Temperature  Unemployment_Rate  Consumer_Index\n",
       "175   2105          9.7                4.8           113.7\n",
       "184   1966         15.8                5.5           110.3\n",
       "157   1337          8.3                5.2           109.4\n",
       "167   1682         10.2                5.8           108.6\n",
       "187   1732         16.0                5.2           108.6\n",
       "..     ...          ...                ...             ...\n",
       "21    1246         28.7                8.3            92.4\n",
       "47    2021         34.7                7.2            92.2\n",
       "99    1740         20.3                6.9            91.6\n",
       "3     1388         20.7                8.4            91.3\n",
       "15    1121         28.1                7.3            90.5\n",
       "\n",
       "[190 rows x 4 columns]"
      ]
     },
     "execution_count": 212,
     "metadata": {},
     "output_type": "execute_result"
    }
   ],
   "source": [
    "data_no_time.sort_values(by=\"Consumer_Index\", ascending=False)"
   ]
  },
  {
   "cell_type": "markdown",
   "id": "1e16b4c1-f8f7-45b3-af45-ebae2c4eee16",
   "metadata": {},
   "source": [
    "La boîte à moustaches met en évidence cet \"outlier\" en raison de l'écart relativement faible entre les valeurs de 184 et 175 (mais relativement haut pour la répartition des données de cette colonne), avec une différence de seulement 3,4 points. Je choisis de ne pas le supprimer, car cette valeur ne semble pas si aberrante et pourrait être utile pour le modèle. Les données réelles sont rarement parfaites, et il n'est pas toujours nécessaire d'éliminer toutes les valeurs considérées comme \"atypiques\"."
   ]
  },
  {
   "cell_type": "markdown",
   "id": "ec543c16-7f48-45ed-866f-dbf31a4661cf",
   "metadata": {},
   "source": [
    "### Analyse des statistiques"
   ]
  },
  {
   "cell_type": "code",
   "execution_count": 213,
   "id": "b88b5bea-59a1-42a9-9783-bdee4ba19b48",
   "metadata": {
    "tags": []
   },
   "outputs": [
    {
     "data": {
      "text/html": [
       "<div>\n",
       "<style scoped>\n",
       "    .dataframe tbody tr th:only-of-type {\n",
       "        vertical-align: middle;\n",
       "    }\n",
       "\n",
       "    .dataframe tbody tr th {\n",
       "        vertical-align: top;\n",
       "    }\n",
       "\n",
       "    .dataframe thead th {\n",
       "        text-align: right;\n",
       "    }\n",
       "</style>\n",
       "<table border=\"1\" class=\"dataframe\">\n",
       "  <thead>\n",
       "    <tr style=\"text-align: right;\">\n",
       "      <th></th>\n",
       "      <th>Sales</th>\n",
       "      <th>Temperature</th>\n",
       "      <th>Unemployment_Rate</th>\n",
       "      <th>Consumer_Index</th>\n",
       "    </tr>\n",
       "  </thead>\n",
       "  <tbody>\n",
       "    <tr>\n",
       "      <th>count</th>\n",
       "      <td>190.00</td>\n",
       "      <td>190.00</td>\n",
       "      <td>190.00</td>\n",
       "      <td>190.00</td>\n",
       "    </tr>\n",
       "    <tr>\n",
       "      <th>mean</th>\n",
       "      <td>1516.94</td>\n",
       "      <td>20.13</td>\n",
       "      <td>6.53</td>\n",
       "      <td>100.13</td>\n",
       "    </tr>\n",
       "    <tr>\n",
       "      <th>std</th>\n",
       "      <td>356.66</td>\n",
       "      <td>11.04</td>\n",
       "      <td>0.97</td>\n",
       "      <td>4.08</td>\n",
       "    </tr>\n",
       "    <tr>\n",
       "      <th>min</th>\n",
       "      <td>862.00</td>\n",
       "      <td>2.00</td>\n",
       "      <td>4.20</td>\n",
       "      <td>90.50</td>\n",
       "    </tr>\n",
       "    <tr>\n",
       "      <th>25%</th>\n",
       "      <td>1185.00</td>\n",
       "      <td>9.72</td>\n",
       "      <td>5.72</td>\n",
       "      <td>97.02</td>\n",
       "    </tr>\n",
       "    <tr>\n",
       "      <th>50%</th>\n",
       "      <td>1522.00</td>\n",
       "      <td>19.55</td>\n",
       "      <td>6.55</td>\n",
       "      <td>100.20</td>\n",
       "    </tr>\n",
       "    <tr>\n",
       "      <th>75%</th>\n",
       "      <td>1829.50</td>\n",
       "      <td>30.38</td>\n",
       "      <td>7.30</td>\n",
       "      <td>103.00</td>\n",
       "    </tr>\n",
       "    <tr>\n",
       "      <th>max</th>\n",
       "      <td>2198.00</td>\n",
       "      <td>39.20</td>\n",
       "      <td>8.70</td>\n",
       "      <td>113.70</td>\n",
       "    </tr>\n",
       "  </tbody>\n",
       "</table>\n",
       "</div>"
      ],
      "text/plain": [
       "         Sales  Temperature  Unemployment_Rate  Consumer_Index\n",
       "count   190.00       190.00             190.00          190.00\n",
       "mean   1516.94        20.13               6.53          100.13\n",
       "std     356.66        11.04               0.97            4.08\n",
       "min     862.00         2.00               4.20           90.50\n",
       "25%    1185.00         9.72               5.72           97.02\n",
       "50%    1522.00        19.55               6.55          100.20\n",
       "75%    1829.50        30.38               7.30          103.00\n",
       "max    2198.00        39.20               8.70          113.70"
      ]
     },
     "execution_count": 213,
     "metadata": {},
     "output_type": "execute_result"
    }
   ],
   "source": [
    "data_no_time.describe().round(2)"
   ]
  },
  {
   "cell_type": "markdown",
   "id": "b12d0017-0e77-42de-bf10-7ac981f4f273",
   "metadata": {},
   "source": [
    "On peut voir que les écarts-type et les moyennes de l'indexe de consommation et de la température paraissent plus <b>normaux</b>.<br>Nous obervons par exemple que l'écart-type de l'<b>index de consommation</b> est très faible, comme nous l'avions suggéré en haut (très centré autour de 100).<br>Nous observons également que les <b>temperatures</b> peuvent aller de 2° à 39°.<br>Et pour terminer, nous observons que les <b>ventes mensuelles</b> vont de 862 à 2198.Un écart-type de 356 indique que la majorité des valeurs se situent à environ 356 unités de la moyenne des ventes. Cela suggère une dispersion modérée des données."
   ]
  },
  {
   "cell_type": "code",
   "execution_count": 214,
   "id": "cc910085-4889-43e0-ab35-7f2915c9a15a",
   "metadata": {
    "tags": []
   },
   "outputs": [
    {
     "data": {
      "image/png": "[encoded data removed]",
      "text/plain": [
       "<Figure size 700x600 with 1 Axes>"
      ]
     },
     "metadata": {},
     "output_type": "display_data"
    }
   ],
   "source": [
    "plt.figure(figsize=(7,6))\n",
    "plt.subplot(3, 3, 3)\n",
    "sns.boxplot(x=data_no_time['Sales'])\n",
    "plt.title(f'Boîte à moustaches des Ventes')\n",
    "plt.show()"
   ]
  },
  {
   "cell_type": "markdown",
   "id": "7a058823-909b-4177-a6e0-5d0dd35cd23e",
   "metadata": {},
   "source": [
    "### Relations entre les ventes de Vélo et les Variables Explicatives"
   ]
  },
  {
   "cell_type": "code",
   "execution_count": 215,
   "id": "b32e4278-f2e6-415c-bd93-bf86dcfff419",
   "metadata": {
    "tags": []
   },
   "outputs": [
    {
     "data": {
      "image/png": "[encoded data removed]",
      "text/plain": [
       "<Figure size 600x500 with 2 Axes>"
      ]
     },
     "metadata": {},
     "output_type": "display_data"
    }
   ],
   "source": [
    "corr_matrix = data_no_time.corr()\n",
    "plt.figure(figsize=(6,5))\n",
    "sns.heatmap(corr_matrix, annot=True, fmt=\".2f\", cmap=\"viridis\")\n",
    "\n",
    "# Améliorer le graphique\n",
    "plt.title('Heatmap de Corrélation', fontsize=16, fontweight='bold')\n",
    "plt.xticks(rotation=35, ha='right', fontsize=10)  # Rotation et alignement des labels des axes x\n",
    "plt.yticks(rotation=0, fontsize=10)  # Rotation des labels des axes y\n",
    "\n",
    "plt.tight_layout()  # Ajuster les marges pour éviter que les labels ne soient coupés\n",
    "plt.show()"
   ]
  },
  {
   "cell_type": "markdown",
   "id": "49858784-0d70-4293-9232-37e8b569e68f",
   "metadata": {},
   "source": [
    "<div class=\"alert alert-success\">\n",
    "    <b>Remarques</b><br>\n",
    "On observe plusieurs corrélations ici.\n",
    "</div>"
   ]
  },
  {
   "cell_type": "markdown",
   "id": "02e71650-fe64-4dbc-9f7b-e57864591a96",
   "metadata": {},
   "source": [
    "<b>Plus les températures augmentent et/ou plus le taux de chômage est élevé, plus l'indice de consommation tend à baisser</b>, ce qui est compréhensible pour le taux de chômage. Cela est confirmé par les corrélations négatives entre l'indice de consommation et la température (-0,42), ainsi qu'entre l'indice de consommation et le taux de chômage (-0,59). En revanche, j'aurais eu tendance à dire que plus il y a de soleil, plus l'envie d'acheter est présente.<br><br>\n",
    "On remarque également cette faible <b>corrélation négative</b> (-0.25) entre le <b>taux de chomage et les ventes</b>, ce qui fait sens. Moins on a d'argent, moins on dépense.<br><br>\n",
    "Et qu'en est-il des corrélations positives ? La plus forte est celle entre la <b>température et le taux de chômage</b>, mais elle n'a <b>pas de signification</b> évidente. Il est important de rappeler qu'une corrélation ne signifie pas nécessairement une relation causale. Cette corrélation pourrait être due au fait que la température et le taux de chômage influencent tous deux l'indice de consommation. Cependant, dans la réalité, un taux de chômage élevé ne fait pas augmenter la température, et inversement, des températures élevées n'entraînent pas une hausse du chômage."
   ]
  },
  {
   "cell_type": "markdown",
   "id": "e35b5fea-01cf-4e2b-914b-863f453e3f29",
   "metadata": {},
   "source": [
    "#### Relations entre les temperatures, le taux de chômage et l'indice de consommation"
   ]
  },
  {
   "cell_type": "code",
   "execution_count": 216,
   "id": "92057e26-310e-4a37-bdcd-9a10f3683898",
   "metadata": {
    "tags": []
   },
   "outputs": [
    {
     "data": {
      "image/png": "[encoded data removed]",
      "text/plain": [
       "<Figure size 600x600 with 1 Axes>"
      ]
     },
     "metadata": {},
     "output_type": "display_data"
    }
   ],
   "source": [
    "plt.figure(figsize=(6,6))\n",
    "plt.scatter(data_no_time[\"Consumer_Index\"], data_no_time[\"Temperature\"], color=\"blue\")\n",
    "plt.title('Tendances des Ventes en fonction de la Température', fontsize=15, fontweight='bold')\n",
    "plt.xlabel('Indice de Consommation', fontsize=14)\n",
    "plt.ylabel('Température', fontsize=14)\n",
    "\n",
    "# Afficher le graphique\n",
    "plt.tight_layout()\n",
    "plt.show()"
   ]
  },
  {
   "cell_type": "markdown",
   "id": "a50c304d-6846-4357-a583-d3890e853d85",
   "metadata": {},
   "source": [
    "On dénote une <b>légère tendance</b>. Moins il fait chaud, plus l'indice de consommation augmente. Mais la tendance est très suggérée."
   ]
  },
  {
   "cell_type": "code",
   "execution_count": 217,
   "id": "a8baabd7-e8d0-42c9-a557-b7b1c9118b87",
   "metadata": {
    "tags": []
   },
   "outputs": [
    {
     "data": {
      "image/png": "[encoded data removed]",
      "text/plain": [
       "<Figure size 600x600 with 1 Axes>"
      ]
     },
     "metadata": {},
     "output_type": "display_data"
    }
   ],
   "source": [
    "plt.figure(figsize=(6,6))\n",
    "plt.scatter(data_no_time[\"Consumer_Index\"], data_no_time[\"Unemployment_Rate\"], color=\"blue\")\n",
    "plt.title('Tendances des Ventes en fonction du taux de chômage', fontsize=15, fontweight='bold')\n",
    "plt.xlabel('Indice de Consommation', fontsize=14)\n",
    "plt.ylabel('Taux de Chômage', fontsize=14)\n",
    "\n",
    "# Afficher le graphique\n",
    "plt.tight_layout()\n",
    "plt.show()"
   ]
  },
  {
   "cell_type": "markdown",
   "id": "f66ada66-f88d-4e15-b484-c60a765a9a6b",
   "metadata": {},
   "source": [
    "La <b>tendance</b> ici est plus <b>flagrante</b>, comme suggerait le graphique de corrélation. On peut voir clairement la relation qui se dessine entre les deux. Mais toujours des nuages de points très dispersées."
   ]
  },
  {
   "cell_type": "markdown",
   "id": "db84d122-6c01-402a-a534-fed516e43d42",
   "metadata": {},
   "source": [
    "## Partie 2: Modélisation et Analyse du Modèle"
   ]
  },
  {
   "cell_type": "markdown",
   "id": "fe489126-d3ee-4d2b-ab33-67ec5b7319a1",
   "metadata": {},
   "source": [
    "### Séparation Feature - Target"
   ]
  },
  {
   "cell_type": "code",
   "execution_count": 218,
   "id": "f755ee27-e732-4840-817e-2ed2cfd0e6f0",
   "metadata": {
    "tags": []
   },
   "outputs": [],
   "source": [
    "X = data_no_time[[\"Temperature\",\"Unemployment_Rate\",\"Consumer_Index\"]] #feature\n",
    "y = data_no_time[\"Sales\"] #target"
   ]
  },
  {
   "cell_type": "markdown",
   "id": "72a91cd1-2ce5-441b-aa2b-1441263c77a5",
   "metadata": {},
   "source": [
    "### Division des données en ensemble d'entrainement (Train dataset) et de test (Test dataset)"
   ]
  },
  {
   "cell_type": "code",
   "execution_count": 219,
   "id": "bf4e34b0-4410-48e9-b8b3-5d457ef89044",
   "metadata": {
    "tags": []
   },
   "outputs": [],
   "source": [
    "X_train, X_test, y_train, y_test = train_test_split(X, y, train_size=0.2, random_state=0)"
   ]
  },
  {
   "cell_type": "markdown",
   "id": "01ad2096-ce05-4fcb-9015-85c4439d9ddd",
   "metadata": {},
   "source": [
    "### Modèle Régression linéaire"
   ]
  },
  {
   "cell_type": "code",
   "execution_count": 220,
   "id": "e3f591ac-6622-4aa8-afe2-d09edfae6e86",
   "metadata": {
    "tags": []
   },
   "outputs": [],
   "source": [
    "model = LinearRegression()"
   ]
  },
  {
   "cell_type": "markdown",
   "id": "5c51edfb-24ce-4576-8e9e-869bb7e75050",
   "metadata": {},
   "source": [
    "### Entrainement du modèle avec l'ensemble d'entrainement"
   ]
  },
  {
   "cell_type": "code",
   "execution_count": 221,
   "id": "4b30451c-e877-4977-a813-d341c8d4ca67",
   "metadata": {
    "tags": []
   },
   "outputs": [
    {
     "data": {
      "text/html": [
       "<style>#sk-container-id-9 {color: black;background-color: white;}#sk-container-id-9 pre{padding: 0;}#sk-container-id-9 div.sk-toggleable {background-color: white;}#sk-container-id-9 label.sk-toggleable__label {cursor: pointer;display: block;width: 100%;margin-bottom: 0;padding: 0.3em;box-sizing: border-box;text-align: center;}#sk-container-id-9 label.sk-toggleable__label-arrow:before {content: \"▸\";float: left;margin-right: 0.25em;color: #696969;}#sk-container-id-9 label.sk-toggleable__label-arrow:hover:before {color: black;}#sk-container-id-9 div.sk-estimator:hover label.sk-toggleable__label-arrow:before {color: black;}#sk-container-id-9 div.sk-toggleable__content {max-height: 0;max-width: 0;overflow: hidden;text-align: left;background-color: #f0f8ff;}#sk-container-id-9 div.sk-toggleable__content pre {margin: 0.2em;color: black;border-radius: 0.25em;background-color: #f0f8ff;}#sk-container-id-9 input.sk-toggleable__control:checked~div.sk-toggleable__content {max-height: 200px;max-width: 100%;overflow: auto;}#sk-container-id-9 input.sk-toggleable__control:checked~label.sk-toggleable__label-arrow:before {content: \"▾\";}#sk-container-id-9 div.sk-estimator input.sk-toggleable__control:checked~label.sk-toggleable__label {background-color: #d4ebff;}#sk-container-id-9 div.sk-label input.sk-toggleable__control:checked~label.sk-toggleable__label {background-color: #d4ebff;}#sk-container-id-9 input.sk-hidden--visually {border: 0;clip: rect(1px 1px 1px 1px);clip: rect(1px, 1px, 1px, 1px);height: 1px;margin: -1px;overflow: hidden;padding: 0;position: absolute;width: 1px;}#sk-container-id-9 div.sk-estimator {font-family: monospace;background-color: #f0f8ff;border: 1px dotted black;border-radius: 0.25em;box-sizing: border-box;margin-bottom: 0.5em;}#sk-container-id-9 div.sk-estimator:hover {background-color: #d4ebff;}#sk-container-id-9 div.sk-parallel-item::after {content: \"\";width: 100%;border-bottom: 1px solid gray;flex-grow: 1;}#sk-container-id-9 div.sk-label:hover label.sk-toggleable__label {background-color: #d4ebff;}#sk-container-id-9 div.sk-serial::before {content: \"\";position: absolute;border-left: 1px solid gray;box-sizing: border-box;top: 0;bottom: 0;left: 50%;z-index: 0;}#sk-container-id-9 div.sk-serial {display: flex;flex-direction: column;align-items: center;background-color: white;padding-right: 0.2em;padding-left: 0.2em;position: relative;}#sk-container-id-9 div.sk-item {position: relative;z-index: 1;}#sk-container-id-9 div.sk-parallel {display: flex;align-items: stretch;justify-content: center;background-color: white;position: relative;}#sk-container-id-9 div.sk-item::before, #sk-container-id-9 div.sk-parallel-item::before {content: \"\";position: absolute;border-left: 1px solid gray;box-sizing: border-box;top: 0;bottom: 0;left: 50%;z-index: -1;}#sk-container-id-9 div.sk-parallel-item {display: flex;flex-direction: column;z-index: 1;position: relative;background-color: white;}#sk-container-id-9 div.sk-parallel-item:first-child::after {align-self: flex-end;width: 50%;}#sk-container-id-9 div.sk-parallel-item:last-child::after {align-self: flex-start;width: 50%;}#sk-container-id-9 div.sk-parallel-item:only-child::after {width: 0;}#sk-container-id-9 div.sk-dashed-wrapped {border: 1px dashed gray;margin: 0 0.4em 0.5em 0.4em;box-sizing: border-box;padding-bottom: 0.4em;background-color: white;}#sk-container-id-9 div.sk-label label {font-family: monospace;font-weight: bold;display: inline-block;line-height: 1.2em;}#sk-container-id-9 div.sk-label-container {text-align: center;}#sk-container-id-9 div.sk-container {/* jupyter's `normalize.less` sets `[hidden] { display: none; }` but bootstrap.min.css set `[hidden] { display: none !important; }` so we also need the `!important` here to be able to override the default hidden behavior on the sphinx rendered scikit-learn.org. See: https://github.com/scikit-learn/scikit-learn/issues/21755 */display: inline-block !important;position: relative;}#sk-container-id-9 div.sk-text-repr-fallback {display: none;}</style><div id=\"sk-container-id-9\" class=\"sk-top-container\"><div class=\"sk-text-repr-fallback\"><pre>LinearRegression()</pre><b>In a Jupyter environment, please rerun this cell to show the HTML representation or trust the notebook. <br />On GitHub, the HTML representation is unable to render, please try loading this page with nbviewer.org.</b></div><div class=\"sk-container\" hidden><div class=\"sk-item\"><div class=\"sk-estimator sk-toggleable\"><input class=\"sk-toggleable__control sk-hidden--visually\" id=\"sk-estimator-id-9\" type=\"checkbox\" checked><label for=\"sk-estimator-id-9\" class=\"sk-toggleable__label sk-toggleable__label-arrow\">LinearRegression</label><div class=\"sk-toggleable__content\"><pre>LinearRegression()</pre></div></div></div></div></div>"
      ],
      "text/plain": [
       "LinearRegression()"
      ]
     },
     "execution_count": 221,
     "metadata": {},
     "output_type": "execute_result"
    }
   ],
   "source": [
    "model.fit(X_train, y_train)"
   ]
  },
  {
   "cell_type": "markdown",
   "id": "d901a8c0-2019-4994-996c-5d34f1e87fc7",
   "metadata": {
    "tags": []
   },
   "source": [
    "### Evaluation --> Prédiction sur le test dataset"
   ]
  },
  {
   "cell_type": "code",
   "execution_count": 222,
   "id": "55385b56-21c1-4ce8-ba23-4bfd8f1561fe",
   "metadata": {
    "tags": []
   },
   "outputs": [],
   "source": [
    "y_pred = model.predict(X_test)"
   ]
  },
  {
   "cell_type": "code",
   "execution_count": 223,
   "id": "bd379cbe-78d8-446f-8f0a-e79bddf09baa",
   "metadata": {
    "tags": []
   },
   "outputs": [
    {
     "name": "stdout",
     "output_type": "stream",
     "text": [
      "R² : 3.88%\n"
     ]
    }
   ],
   "source": [
    "from math import sqrt\n",
    "\n",
    "r2 = r2_score(y_test, y_pred)\n",
    "\n",
    "print(f\"R² : {round(r2*100, 2)}%\")"
   ]
  },
  {
   "cell_type": "markdown",
   "id": "308aad74-81d7-4eb2-8aaf-a435e59bf0d7",
   "metadata": {},
   "source": [
    "Le coefficient de détermination est extremement bas. 3.88% ne permet pas de prédire les ventes par rapport aux \"variables explicatives\".<br>En d'autres termes, les variables indépendantes utilisées dans le modèle n'ont qu'une très faible capacité à prédire les ventes mensuelles."
   ]
  },
  {
   "cell_type": "code",
   "execution_count": 224,
   "id": "6c5851d5-f7cf-4f09-a432-da2e5394a52f",
   "metadata": {
    "tags": []
   },
   "outputs": [
    {
     "data": {
      "text/html": [
       "<div>\n",
       "<style scoped>\n",
       "    .dataframe tbody tr th:only-of-type {\n",
       "        vertical-align: middle;\n",
       "    }\n",
       "\n",
       "    .dataframe tbody tr th {\n",
       "        vertical-align: top;\n",
       "    }\n",
       "\n",
       "    .dataframe thead th {\n",
       "        text-align: right;\n",
       "    }\n",
       "</style>\n",
       "<table border=\"1\" class=\"dataframe\">\n",
       "  <thead>\n",
       "    <tr style=\"text-align: right;\">\n",
       "      <th></th>\n",
       "      <th>Valeurs réelles</th>\n",
       "      <th>Valeurs prédites</th>\n",
       "    </tr>\n",
       "  </thead>\n",
       "  <tbody>\n",
       "    <tr>\n",
       "      <th>0</th>\n",
       "      <td>1921</td>\n",
       "      <td>1533.84</td>\n",
       "    </tr>\n",
       "    <tr>\n",
       "      <th>1</th>\n",
       "      <td>1098</td>\n",
       "      <td>1476.93</td>\n",
       "    </tr>\n",
       "    <tr>\n",
       "      <th>2</th>\n",
       "      <td>1642</td>\n",
       "      <td>1411.72</td>\n",
       "    </tr>\n",
       "    <tr>\n",
       "      <th>3</th>\n",
       "      <td>1589</td>\n",
       "      <td>1456.88</td>\n",
       "    </tr>\n",
       "    <tr>\n",
       "      <th>4</th>\n",
       "      <td>1639</td>\n",
       "      <td>1498.37</td>\n",
       "    </tr>\n",
       "    <tr>\n",
       "      <th>...</th>\n",
       "      <td>...</td>\n",
       "      <td>...</td>\n",
       "    </tr>\n",
       "    <tr>\n",
       "      <th>147</th>\n",
       "      <td>1682</td>\n",
       "      <td>1596.79</td>\n",
       "    </tr>\n",
       "    <tr>\n",
       "      <th>148</th>\n",
       "      <td>1350</td>\n",
       "      <td>1384.28</td>\n",
       "    </tr>\n",
       "    <tr>\n",
       "      <th>149</th>\n",
       "      <td>1727</td>\n",
       "      <td>1369.10</td>\n",
       "    </tr>\n",
       "    <tr>\n",
       "      <th>150</th>\n",
       "      <td>1422</td>\n",
       "      <td>1299.33</td>\n",
       "    </tr>\n",
       "    <tr>\n",
       "      <th>151</th>\n",
       "      <td>2045</td>\n",
       "      <td>1474.21</td>\n",
       "    </tr>\n",
       "  </tbody>\n",
       "</table>\n",
       "<p>152 rows × 2 columns</p>\n",
       "</div>"
      ],
      "text/plain": [
       "     Valeurs réelles  Valeurs prédites\n",
       "0               1921           1533.84\n",
       "1               1098           1476.93\n",
       "2               1642           1411.72\n",
       "3               1589           1456.88\n",
       "4               1639           1498.37\n",
       "..               ...               ...\n",
       "147             1682           1596.79\n",
       "148             1350           1384.28\n",
       "149             1727           1369.10\n",
       "150             1422           1299.33\n",
       "151             2045           1474.21\n",
       "\n",
       "[152 rows x 2 columns]"
      ]
     },
     "execution_count": 224,
     "metadata": {},
     "output_type": "execute_result"
    }
   ],
   "source": [
    "comparaisons = pd.DataFrame({\"Valeurs réelles\" : y_test, \"Valeurs prédites\" : y_pred})\n",
    "comparaisons.reset_index(drop=True, inplace=True)\n",
    "comparaisons = comparaisons.map(lambda x: round(x, 2))\n",
    "comparaisons"
   ]
  },
  {
   "cell_type": "markdown",
   "id": "ba341f62-23a2-410d-a9b6-4e5900671fc8",
   "metadata": {},
   "source": [
    "On peut visualiser les erreurs au dessus dans le Dataframe des comparaisons. La majorité des des données sont assez loin des valeurs réelles à part certaines.<br><b>Plusieurs explications possibles</b>:<br>\n",
    "- La moyenne des ventes, et des températures constitut déjà une manque de précision pour le modèle. \n",
    "- La variation des ventes au cours des 15 dernières années pourrait expliquer pourquoi seulement ces variables explicatives ne suffisent pas à expliquer les ventes mensuelles. \n",
    "- Plus de variables indépendantes auraient pu être utilisées. (Promotions par exemple)"
   ]
  },
  {
   "cell_type": "markdown",
   "id": "d11ba0c9-652f-4c20-bfa3-c60632727fe0",
   "metadata": {},
   "source": [
    "### Coefficients du modèle"
   ]
  },
  {
   "cell_type": "code",
   "execution_count": 225,
   "id": "5c208caf-529c-4376-a200-2c2a56773853",
   "metadata": {
    "tags": []
   },
   "outputs": [
    {
     "name": "stdout",
     "output_type": "stream",
     "text": [
      "Coefficient :                    Coefficient\n",
      "Temperature           6.279926\n",
      "Unemployment_Rate   -38.656179\n",
      "Consumer_Index       20.806080\n"
     ]
    }
   ],
   "source": [
    "coefficients = pd.DataFrame(model.coef_, [\"Temperature\",\"Unemployment_Rate\",\"Consumer_Index\"], columns=[\"Coefficient\"])\n",
    "print(f'Coefficient : {coefficients}')"
   ]
  },
  {
   "cell_type": "markdown",
   "id": "f616a4a0-828b-43f9-86a9-72c556daea65",
   "metadata": {},
   "source": [
    "La question est demandée, mais si le modèle ne prédit pas bien les ventes, les coefficients ne devraient pas être de confiance. Si jamais il l'étaient, nous pourrions dire par exemple qu'un degré de plus reviendrait à augmenter les ventes d'environ 6 par mois en moyenne. A l'inverse, le taux de chomage baisse les ventes. Et, évidemment, l'indice de consommation en hausse directement lié aux ventes, augmente les ventes."
   ]
  },
  {
   "cell_type": "markdown",
   "id": "fab02404-482a-41ab-8e31-0707cf2cfde4",
   "metadata": {},
   "source": [
    "### Application du Modèle"
   ]
  },
  {
   "cell_type": "code",
   "execution_count": 228,
   "id": "215e7743-f616-4d38-842b-cc5ab104b1a3",
   "metadata": {
    "tags": []
   },
   "outputs": [
    {
     "name": "stdout",
     "output_type": "stream",
     "text": [
      "Prédiction du nombres de ventes : 1510.324586981945\n"
     ]
    }
   ],
   "source": [
    "# Créer un DataFrame pour les données de prédiction avec les mêmes colonnes\n",
    "nouvelles_donnees = pd.DataFrame([[20, 5, 100]], columns=[\"Temperature\",\"Unemployment_Rate\",\"Consumer_Index\"])\n",
    "\n",
    "# Prédire le prix de vente\n",
    "nombres_ventes = model.predict(nouvelles_donnees)\n",
    "print(\"Prédiction du nombres de ventes :\", nombres_ventes[0])"
   ]
  },
  {
   "cell_type": "code",
   "execution_count": 229,
   "id": "574949d0-3406-4dcc-8c09-a0e0fe41e23c",
   "metadata": {
    "tags": []
   },
   "outputs": [
    {
     "data": {
      "text/html": [
       "<div>\n",
       "<style scoped>\n",
       "    .dataframe tbody tr th:only-of-type {\n",
       "        vertical-align: middle;\n",
       "    }\n",
       "\n",
       "    .dataframe tbody tr th {\n",
       "        vertical-align: top;\n",
       "    }\n",
       "\n",
       "    .dataframe thead th {\n",
       "        text-align: right;\n",
       "    }\n",
       "</style>\n",
       "<table border=\"1\" class=\"dataframe\">\n",
       "  <thead>\n",
       "    <tr style=\"text-align: right;\">\n",
       "      <th></th>\n",
       "      <th>Sales</th>\n",
       "      <th>Temperature</th>\n",
       "      <th>Unemployment_Rate</th>\n",
       "      <th>Consumer_Index</th>\n",
       "    </tr>\n",
       "  </thead>\n",
       "  <tbody>\n",
       "    <tr>\n",
       "      <th>count</th>\n",
       "      <td>190.00</td>\n",
       "      <td>190.00</td>\n",
       "      <td>190.00</td>\n",
       "      <td>190.00</td>\n",
       "    </tr>\n",
       "    <tr>\n",
       "      <th>mean</th>\n",
       "      <td>1516.94</td>\n",
       "      <td>20.13</td>\n",
       "      <td>6.53</td>\n",
       "      <td>100.13</td>\n",
       "    </tr>\n",
       "    <tr>\n",
       "      <th>std</th>\n",
       "      <td>356.66</td>\n",
       "      <td>11.04</td>\n",
       "      <td>0.97</td>\n",
       "      <td>4.08</td>\n",
       "    </tr>\n",
       "    <tr>\n",
       "      <th>min</th>\n",
       "      <td>862.00</td>\n",
       "      <td>2.00</td>\n",
       "      <td>4.20</td>\n",
       "      <td>90.50</td>\n",
       "    </tr>\n",
       "    <tr>\n",
       "      <th>25%</th>\n",
       "      <td>1185.00</td>\n",
       "      <td>9.72</td>\n",
       "      <td>5.72</td>\n",
       "      <td>97.02</td>\n",
       "    </tr>\n",
       "    <tr>\n",
       "      <th>50%</th>\n",
       "      <td>1522.00</td>\n",
       "      <td>19.55</td>\n",
       "      <td>6.55</td>\n",
       "      <td>100.20</td>\n",
       "    </tr>\n",
       "    <tr>\n",
       "      <th>75%</th>\n",
       "      <td>1829.50</td>\n",
       "      <td>30.38</td>\n",
       "      <td>7.30</td>\n",
       "      <td>103.00</td>\n",
       "    </tr>\n",
       "    <tr>\n",
       "      <th>max</th>\n",
       "      <td>2198.00</td>\n",
       "      <td>39.20</td>\n",
       "      <td>8.70</td>\n",
       "      <td>113.70</td>\n",
       "    </tr>\n",
       "  </tbody>\n",
       "</table>\n",
       "</div>"
      ],
      "text/plain": [
       "         Sales  Temperature  Unemployment_Rate  Consumer_Index\n",
       "count   190.00       190.00             190.00          190.00\n",
       "mean   1516.94        20.13               6.53          100.13\n",
       "std     356.66        11.04               0.97            4.08\n",
       "min     862.00         2.00               4.20           90.50\n",
       "25%    1185.00         9.72               5.72           97.02\n",
       "50%    1522.00        19.55               6.55          100.20\n",
       "75%    1829.50        30.38               7.30          103.00\n",
       "max    2198.00        39.20               8.70          113.70"
      ]
     },
     "execution_count": 229,
     "metadata": {},
     "output_type": "execute_result"
    }
   ],
   "source": [
    "data_no_time.describe().round(2)"
   ]
  },
  {
   "cell_type": "markdown",
   "id": "c00d56e8-add1-4bbf-9c08-3f6b4dd18cc4",
   "metadata": {},
   "source": [
    "En examinant les statistiques de notre jeu de données :\n",
    "\n",
    "<b>Température</b> : Une température de 20°C se situe légèrement au-dessus de la médiane des valeurs observées (50%).<br>\n",
    "<b>Taux de chômage</b> : Un taux de chômage de 5% est inférieur au premier quartile des données, ce qui indique qu'il est en dessous de la majorité des valeurs observées, et ne s'approche pas de la médiane (6,5°).<br>\n",
    "<b>Indice de consommation</b> : Un indice de consommation de 100 se situe autour de la médiane des données, ce qui signifie qu'il est typique des valeurs centrales dans notre ensemble de données.<br>\n",
    "En ce qui concerne les ventes, une valeur de 1500 se trouve légèrement en dessous de la médiane des ventes observées. Bien que notre modèle ne soit pas parfait, cette prédiction est raisonnablement alignée avec les valeurs centrales de notre jeu de données. Ainsi, malgré les imperfections du modèle, la prédiction ne semble pas aberrante par rapport à la répartition des données historiques."
   ]
  },
  {
   "cell_type": "markdown",
   "id": "cb600a66-646b-41e3-855f-87268eda09b1",
   "metadata": {},
   "source": [
    "#### Tentative échouée"
   ]
  },
  {
   "cell_type": "markdown",
   "id": "35484751-40cf-4353-95d7-3bc58ed8140d",
   "metadata": {},
   "source": [
    "PS: J'ai voulu tester le modèle SARIMA, mais j'ai obtenu un score r2 de -110%. <b>Plusieurs raisons possibles:</b>\n",
    "- Toujours, les variables explicatives ne permettent toujours pas d'expliquer les ventes.\n",
    "- Je n'ai pas réussi à bien jauger les paramètres."
   ]
  },
  {
   "cell_type": "markdown",
   "id": "65f408f8-3b8e-4b65-bc91-cd90791dc739",
   "metadata": {},
   "source": [
    "### Conclusion"
   ]
  },
  {
   "cell_type": "markdown",
   "id": "b9e5f180-3fec-4ebb-8328-62a3849b010a",
   "metadata": {},
   "source": [
    "Nous pouvons convenir que le modèle a besoin d'être retravaillé, et que malheureusement, l'entreprise ne peut être en mesure de l'utiliser pour le moment. Mais le modèle a démontré une capacité à prédire certaines données, où à ne pas être trop loin des valeurs réelles. Je pense que l'entreprise devrait fournir plus de données d'une part, et rajouter des variables explicatives.\n",
    "Je conçois que l'entreprise souhaite prédire les ventes mensuelles, mais pour que le modèle soit aussi précis qur possible, il faudra fournir les données jour pour jour, avec les temperatures fluctuantes. "
   ]
  },
  {
   "cell_type": "markdown",
   "id": "a3284c98-2223-47eb-bc4a-ae0cacabaa4b",
   "metadata": {},
   "source": [
    "Nous pouvons conclure que le modèle actuel nécessite des ajustements avant qu'il ne soit utilisable de manière efficace pour l'entreprise. Bien que le modèle ait montré une certaine capacité à prédire les ventes avec une précision acceptable dans certains cas, il reste encore des écarts notables par rapport aux valeurs réelles.\n",
    "\n",
    "Pour améliorer la précision du modèle, voici quelques recommandations :\n",
    "\n",
    "Augmenter la Quantité de Données : L'entreprise devrait envisager de fournir un volume plus important de données historiques. Plus de données permettent au modèle d'apprendre des variations et des tendances plus complexes, améliorant ainsi la qualité des prédictions.\n",
    "\n",
    "Ajouter des Variables Explicatives : Il est également crucial d'incorporer des variables supplémentaires qui pourraient influencer les ventes. Par exemple, des facteurs tels que les promotions, les événements locaux, ou les données économiques supplémentaires pourraient améliorer la performance du modèle.\n",
    "\n",
    "Fréquence des Données : Bien que les données mensuelles soient utiles, les prédictions seraient potentiellement plus précises avec des données à une fréquence plus élevée, comme des données quotidiennes. Les températures fluctuantes et d'autres variables qui changent fréquemment pourraient être mieux capturées avec des données plus granuleuses. Cela permettrait au modèle de mieux saisir les variations saisonnières et les tendances à court terme.\n",
    "\n",
    "En résumé, bien que le modèle actuel soit un bon point de départ, il est essentiel d'enrichir les données et les variables explicatives pour améliorer sa précision. L'utilisation de données plus détaillées, telles que les données quotidiennes, pourrait également apporter des avantages significatifs."
   ]
  },
  {
   "cell_type": "code",
   "execution_count": null,
   "id": "f2f9de8d-21cb-4828-bc04-da5cde93454c",
   "metadata": {},
   "outputs": [],
   "source": []
  }
 ],
 "metadata": {
  "kernelspec": {
   "display_name": "Python 3 (ipykernel)",
   "language": "python",
   "name": "python3"
  },
  "language_info": {
   "codemirror_mode": {
    "name": "ipython",
    "version": 3
   },
   "file_extension": ".py",
   "mimetype": "text/x-python",
   "name": "python",
   "nbconvert_exporter": "python",
   "pygments_lexer": "ipython3",
   "version": "3.11.3"
  }
 },
 "nbformat": 4,
 "nbformat_minor": 5
}
